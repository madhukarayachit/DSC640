{
 "cells": [
  {
   "cell_type": "markdown",
   "metadata": {},
   "source": [
    "## Week 9&10 - Exercise 5.2\n",
    "Name: Madhukar Ayachit\n",
    "\n",
    "Date: 09 Feb 2022\n",
    "\n",
    "Class: DSC-640\n",
    "\n",
    "### Assignment: scatterplots, bubble charts, and density plots/maps "
   ]
  },
  {
   "cell_type": "code",
   "execution_count": 36,
   "metadata": {},
   "outputs": [],
   "source": [
    "## import required libraries\n",
    "import pandas as pd\n",
    "import numpy as np\n",
    "\n",
    "import matplotlib.pyplot as plt\n",
    "import matplotlib\n",
    "import plotly.graph_objects as go\n",
    "import plotly.express as px\n",
    "import seaborn as sns\n",
    "\n",
    "## for spatial chart\n",
    "#import geopandas as gpd\n",
    "#import geoplot as gplt\n",
    "#import geoplot.crs as gcrs\n",
    "\n",
    "import folium as flm\n",
    "\n",
    "\n",
    "import warnings\n",
    "warnings.filterwarnings(\"ignore\")\n",
    "\n",
    "## pip install geopandas\n",
    "## pip install plotly\n",
    "## conda install -c conda-forge geoplot   via command power shell in anaconda"
   ]
  },
  {
   "cell_type": "code",
   "execution_count": 37,
   "metadata": {},
   "outputs": [
    {
     "data": {
      "text/html": [
       "<div>\n",
       "<style scoped>\n",
       "    .dataframe tbody tr th:only-of-type {\n",
       "        vertical-align: middle;\n",
       "    }\n",
       "\n",
       "    .dataframe tbody tr th {\n",
       "        vertical-align: top;\n",
       "    }\n",
       "\n",
       "    .dataframe thead th {\n",
       "        text-align: right;\n",
       "    }\n",
       "</style>\n",
       "<table border=\"1\" class=\"dataframe\">\n",
       "  <thead>\n",
       "    <tr style=\"text-align: right;\">\n",
       "      <th></th>\n",
       "      <th>Name</th>\n",
       "      <th>G</th>\n",
       "      <th>MIN</th>\n",
       "      <th>PTS</th>\n",
       "      <th>FGM</th>\n",
       "      <th>FGA</th>\n",
       "      <th>FGP</th>\n",
       "      <th>FTM</th>\n",
       "      <th>FTA</th>\n",
       "      <th>FTP</th>\n",
       "      <th>...</th>\n",
       "      <th>3PA</th>\n",
       "      <th>3PP</th>\n",
       "      <th>ORB</th>\n",
       "      <th>DRB</th>\n",
       "      <th>TRB</th>\n",
       "      <th>AST</th>\n",
       "      <th>STL</th>\n",
       "      <th>BLK</th>\n",
       "      <th>TO</th>\n",
       "      <th>PF</th>\n",
       "    </tr>\n",
       "  </thead>\n",
       "  <tbody>\n",
       "    <tr>\n",
       "      <th>0</th>\n",
       "      <td>Dwyane Wade</td>\n",
       "      <td>79</td>\n",
       "      <td>38.6</td>\n",
       "      <td>30.2</td>\n",
       "      <td>10.8</td>\n",
       "      <td>22.0</td>\n",
       "      <td>0.491</td>\n",
       "      <td>7.5</td>\n",
       "      <td>9.8</td>\n",
       "      <td>0.765</td>\n",
       "      <td>...</td>\n",
       "      <td>3.5</td>\n",
       "      <td>0.317</td>\n",
       "      <td>1.1</td>\n",
       "      <td>3.9</td>\n",
       "      <td>5.0</td>\n",
       "      <td>7.5</td>\n",
       "      <td>2.2</td>\n",
       "      <td>1.3</td>\n",
       "      <td>3.4</td>\n",
       "      <td>2.3</td>\n",
       "    </tr>\n",
       "    <tr>\n",
       "      <th>1</th>\n",
       "      <td>LeBron James</td>\n",
       "      <td>81</td>\n",
       "      <td>37.7</td>\n",
       "      <td>28.4</td>\n",
       "      <td>9.7</td>\n",
       "      <td>19.9</td>\n",
       "      <td>0.489</td>\n",
       "      <td>7.3</td>\n",
       "      <td>9.4</td>\n",
       "      <td>0.780</td>\n",
       "      <td>...</td>\n",
       "      <td>4.7</td>\n",
       "      <td>0.344</td>\n",
       "      <td>1.3</td>\n",
       "      <td>6.3</td>\n",
       "      <td>7.6</td>\n",
       "      <td>7.2</td>\n",
       "      <td>1.7</td>\n",
       "      <td>1.1</td>\n",
       "      <td>3.0</td>\n",
       "      <td>1.7</td>\n",
       "    </tr>\n",
       "    <tr>\n",
       "      <th>2</th>\n",
       "      <td>Kobe Bryant</td>\n",
       "      <td>82</td>\n",
       "      <td>36.2</td>\n",
       "      <td>26.8</td>\n",
       "      <td>9.8</td>\n",
       "      <td>20.9</td>\n",
       "      <td>0.467</td>\n",
       "      <td>5.9</td>\n",
       "      <td>6.9</td>\n",
       "      <td>0.856</td>\n",
       "      <td>...</td>\n",
       "      <td>4.1</td>\n",
       "      <td>0.351</td>\n",
       "      <td>1.1</td>\n",
       "      <td>4.1</td>\n",
       "      <td>5.2</td>\n",
       "      <td>4.9</td>\n",
       "      <td>1.5</td>\n",
       "      <td>0.5</td>\n",
       "      <td>2.6</td>\n",
       "      <td>2.3</td>\n",
       "    </tr>\n",
       "    <tr>\n",
       "      <th>3</th>\n",
       "      <td>Dirk Nowitzki</td>\n",
       "      <td>81</td>\n",
       "      <td>37.7</td>\n",
       "      <td>25.9</td>\n",
       "      <td>9.6</td>\n",
       "      <td>20.0</td>\n",
       "      <td>0.479</td>\n",
       "      <td>6.0</td>\n",
       "      <td>6.7</td>\n",
       "      <td>0.890</td>\n",
       "      <td>...</td>\n",
       "      <td>2.1</td>\n",
       "      <td>0.359</td>\n",
       "      <td>1.1</td>\n",
       "      <td>7.3</td>\n",
       "      <td>8.4</td>\n",
       "      <td>2.4</td>\n",
       "      <td>0.8</td>\n",
       "      <td>0.8</td>\n",
       "      <td>1.9</td>\n",
       "      <td>2.2</td>\n",
       "    </tr>\n",
       "    <tr>\n",
       "      <th>4</th>\n",
       "      <td>Danny Granger</td>\n",
       "      <td>67</td>\n",
       "      <td>36.2</td>\n",
       "      <td>25.8</td>\n",
       "      <td>8.5</td>\n",
       "      <td>19.1</td>\n",
       "      <td>0.447</td>\n",
       "      <td>6.0</td>\n",
       "      <td>6.9</td>\n",
       "      <td>0.878</td>\n",
       "      <td>...</td>\n",
       "      <td>6.7</td>\n",
       "      <td>0.404</td>\n",
       "      <td>0.7</td>\n",
       "      <td>4.4</td>\n",
       "      <td>5.1</td>\n",
       "      <td>2.7</td>\n",
       "      <td>1.0</td>\n",
       "      <td>1.4</td>\n",
       "      <td>2.5</td>\n",
       "      <td>3.1</td>\n",
       "    </tr>\n",
       "  </tbody>\n",
       "</table>\n",
       "<p>5 rows × 21 columns</p>\n",
       "</div>"
      ],
      "text/plain": [
       "           Name     G   MIN   PTS   FGM   FGA    FGP  FTM  FTA    FTP  ...  \\\n",
       "0    Dwyane Wade   79  38.6  30.2  10.8  22.0  0.491  7.5  9.8  0.765  ...   \n",
       "1   LeBron James   81  37.7  28.4   9.7  19.9  0.489  7.3  9.4  0.780  ...   \n",
       "2    Kobe Bryant   82  36.2  26.8   9.8  20.9  0.467  5.9  6.9  0.856  ...   \n",
       "3  Dirk Nowitzki   81  37.7  25.9   9.6  20.0  0.479  6.0  6.7  0.890  ...   \n",
       "4  Danny Granger   67  36.2  25.8   8.5  19.1  0.447  6.0  6.9  0.878  ...   \n",
       "\n",
       "   3PA    3PP  ORB  DRB  TRB  AST  STL  BLK   TO   PF  \n",
       "0  3.5  0.317  1.1  3.9  5.0  7.5  2.2  1.3  3.4  2.3  \n",
       "1  4.7  0.344  1.3  6.3  7.6  7.2  1.7  1.1  3.0  1.7  \n",
       "2  4.1  0.351  1.1  4.1  5.2  4.9  1.5  0.5  2.6  2.3  \n",
       "3  2.1  0.359  1.1  7.3  8.4  2.4  0.8  0.8  1.9  2.2  \n",
       "4  6.7  0.404  0.7  4.4  5.1  2.7  1.0  1.4  2.5  3.1  \n",
       "\n",
       "[5 rows x 21 columns]"
      ]
     },
     "execution_count": 37,
     "metadata": {},
     "output_type": "execute_result"
    }
   ],
   "source": [
    "\n",
    "## read the data from csv file into a dataframe\n",
    "\n",
    "df1 = pd.read_csv('Data/ex5-2/ppg2008.csv', header = 0)\n",
    "df1_temp = df1\n",
    "\n",
    "df1.head()"
   ]
  },
  {
   "cell_type": "code",
   "execution_count": 38,
   "metadata": {},
   "outputs": [
    {
     "data": {
      "text/html": [
       "<div>\n",
       "<style scoped>\n",
       "    .dataframe tbody tr th:only-of-type {\n",
       "        vertical-align: middle;\n",
       "    }\n",
       "\n",
       "    .dataframe tbody tr th {\n",
       "        vertical-align: top;\n",
       "    }\n",
       "\n",
       "    .dataframe thead th {\n",
       "        text-align: right;\n",
       "    }\n",
       "</style>\n",
       "<table border=\"1\" class=\"dataframe\">\n",
       "  <thead>\n",
       "    <tr style=\"text-align: right;\">\n",
       "      <th></th>\n",
       "      <th>Address</th>\n",
       "      <th>City</th>\n",
       "      <th>State</th>\n",
       "      <th>Zip Code</th>\n",
       "      <th>Latitude</th>\n",
       "      <th>Longitude</th>\n",
       "    </tr>\n",
       "  </thead>\n",
       "  <tbody>\n",
       "    <tr>\n",
       "      <th>0</th>\n",
       "      <td>1205 N. Memorial Parkway</td>\n",
       "      <td>Huntsville</td>\n",
       "      <td>Alabama</td>\n",
       "      <td>35801-5930</td>\n",
       "      <td>34.743095</td>\n",
       "      <td>-86.600955</td>\n",
       "    </tr>\n",
       "    <tr>\n",
       "      <th>1</th>\n",
       "      <td>3650 Galleria Circle</td>\n",
       "      <td>Hoover</td>\n",
       "      <td>Alabama</td>\n",
       "      <td>35244-2346</td>\n",
       "      <td>33.377649</td>\n",
       "      <td>-86.812420</td>\n",
       "    </tr>\n",
       "    <tr>\n",
       "      <th>2</th>\n",
       "      <td>8251 Eastchase Parkway</td>\n",
       "      <td>Montgomery</td>\n",
       "      <td>Alabama</td>\n",
       "      <td>36117</td>\n",
       "      <td>32.363889</td>\n",
       "      <td>-86.150884</td>\n",
       "    </tr>\n",
       "    <tr>\n",
       "      <th>3</th>\n",
       "      <td>5225 Commercial Boulevard</td>\n",
       "      <td>Juneau</td>\n",
       "      <td>Alaska</td>\n",
       "      <td>99801-7210</td>\n",
       "      <td>58.359200</td>\n",
       "      <td>-134.483000</td>\n",
       "    </tr>\n",
       "    <tr>\n",
       "      <th>4</th>\n",
       "      <td>330 West Dimond Blvd</td>\n",
       "      <td>Anchorage</td>\n",
       "      <td>Alaska</td>\n",
       "      <td>99515-1950</td>\n",
       "      <td>61.143266</td>\n",
       "      <td>-149.884217</td>\n",
       "    </tr>\n",
       "  </tbody>\n",
       "</table>\n",
       "</div>"
      ],
      "text/plain": [
       "                     Address        City    State    Zip Code   Latitude  \\\n",
       "0   1205 N. Memorial Parkway  Huntsville  Alabama  35801-5930  34.743095   \n",
       "1       3650 Galleria Circle      Hoover  Alabama  35244-2346  33.377649   \n",
       "2     8251 Eastchase Parkway  Montgomery  Alabama       36117  32.363889   \n",
       "3  5225 Commercial Boulevard      Juneau   Alaska  99801-7210  58.359200   \n",
       "4       330 West Dimond Blvd   Anchorage   Alaska  99515-1950  61.143266   \n",
       "\n",
       "    Longitude  \n",
       "0  -86.600955  \n",
       "1  -86.812420  \n",
       "2  -86.150884  \n",
       "3 -134.483000  \n",
       "4 -149.884217  "
      ]
     },
     "execution_count": 38,
     "metadata": {},
     "output_type": "execute_result"
    }
   ],
   "source": [
    "## read the data from csv file into a dataframe\n",
    "\n",
    "df2 = pd.read_csv('Data/ex5-2/costcos-geocoded.csv')\n",
    "\n",
    "df2.head()"
   ]
  },
  {
   "cell_type": "code",
   "execution_count": 39,
   "metadata": {},
   "outputs": [
    {
     "data": {
      "text/html": [
       "<div>\n",
       "<style scoped>\n",
       "    .dataframe tbody tr th:only-of-type {\n",
       "        vertical-align: middle;\n",
       "    }\n",
       "\n",
       "    .dataframe tbody tr th {\n",
       "        vertical-align: top;\n",
       "    }\n",
       "\n",
       "    .dataframe thead th {\n",
       "        text-align: right;\n",
       "    }\n",
       "</style>\n",
       "<table border=\"1\" class=\"dataframe\">\n",
       "  <thead>\n",
       "    <tr style=\"text-align: right;\">\n",
       "      <th></th>\n",
       "      <th>G</th>\n",
       "      <th>MIN</th>\n",
       "      <th>PTS</th>\n",
       "      <th>FGM</th>\n",
       "      <th>FGA</th>\n",
       "      <th>FGP</th>\n",
       "      <th>FTM</th>\n",
       "      <th>FTA</th>\n",
       "      <th>FTP</th>\n",
       "      <th>3PM</th>\n",
       "      <th>3PA</th>\n",
       "      <th>3PP</th>\n",
       "      <th>ORB</th>\n",
       "      <th>DRB</th>\n",
       "      <th>TRB</th>\n",
       "      <th>AST</th>\n",
       "      <th>STL</th>\n",
       "      <th>BLK</th>\n",
       "      <th>TO</th>\n",
       "      <th>PF</th>\n",
       "    </tr>\n",
       "  </thead>\n",
       "  <tbody>\n",
       "    <tr>\n",
       "      <th>0</th>\n",
       "      <td>79</td>\n",
       "      <td>38.6</td>\n",
       "      <td>30.2</td>\n",
       "      <td>10.8</td>\n",
       "      <td>22.0</td>\n",
       "      <td>0.491</td>\n",
       "      <td>7.5</td>\n",
       "      <td>9.8</td>\n",
       "      <td>0.765</td>\n",
       "      <td>1.1</td>\n",
       "      <td>3.5</td>\n",
       "      <td>0.317</td>\n",
       "      <td>1.1</td>\n",
       "      <td>3.9</td>\n",
       "      <td>5.0</td>\n",
       "      <td>7.5</td>\n",
       "      <td>2.2</td>\n",
       "      <td>1.3</td>\n",
       "      <td>3.4</td>\n",
       "      <td>2.3</td>\n",
       "    </tr>\n",
       "    <tr>\n",
       "      <th>1</th>\n",
       "      <td>81</td>\n",
       "      <td>37.7</td>\n",
       "      <td>28.4</td>\n",
       "      <td>9.7</td>\n",
       "      <td>19.9</td>\n",
       "      <td>0.489</td>\n",
       "      <td>7.3</td>\n",
       "      <td>9.4</td>\n",
       "      <td>0.780</td>\n",
       "      <td>1.6</td>\n",
       "      <td>4.7</td>\n",
       "      <td>0.344</td>\n",
       "      <td>1.3</td>\n",
       "      <td>6.3</td>\n",
       "      <td>7.6</td>\n",
       "      <td>7.2</td>\n",
       "      <td>1.7</td>\n",
       "      <td>1.1</td>\n",
       "      <td>3.0</td>\n",
       "      <td>1.7</td>\n",
       "    </tr>\n",
       "    <tr>\n",
       "      <th>2</th>\n",
       "      <td>82</td>\n",
       "      <td>36.2</td>\n",
       "      <td>26.8</td>\n",
       "      <td>9.8</td>\n",
       "      <td>20.9</td>\n",
       "      <td>0.467</td>\n",
       "      <td>5.9</td>\n",
       "      <td>6.9</td>\n",
       "      <td>0.856</td>\n",
       "      <td>1.4</td>\n",
       "      <td>4.1</td>\n",
       "      <td>0.351</td>\n",
       "      <td>1.1</td>\n",
       "      <td>4.1</td>\n",
       "      <td>5.2</td>\n",
       "      <td>4.9</td>\n",
       "      <td>1.5</td>\n",
       "      <td>0.5</td>\n",
       "      <td>2.6</td>\n",
       "      <td>2.3</td>\n",
       "    </tr>\n",
       "    <tr>\n",
       "      <th>3</th>\n",
       "      <td>81</td>\n",
       "      <td>37.7</td>\n",
       "      <td>25.9</td>\n",
       "      <td>9.6</td>\n",
       "      <td>20.0</td>\n",
       "      <td>0.479</td>\n",
       "      <td>6.0</td>\n",
       "      <td>6.7</td>\n",
       "      <td>0.890</td>\n",
       "      <td>0.8</td>\n",
       "      <td>2.1</td>\n",
       "      <td>0.359</td>\n",
       "      <td>1.1</td>\n",
       "      <td>7.3</td>\n",
       "      <td>8.4</td>\n",
       "      <td>2.4</td>\n",
       "      <td>0.8</td>\n",
       "      <td>0.8</td>\n",
       "      <td>1.9</td>\n",
       "      <td>2.2</td>\n",
       "    </tr>\n",
       "    <tr>\n",
       "      <th>4</th>\n",
       "      <td>67</td>\n",
       "      <td>36.2</td>\n",
       "      <td>25.8</td>\n",
       "      <td>8.5</td>\n",
       "      <td>19.1</td>\n",
       "      <td>0.447</td>\n",
       "      <td>6.0</td>\n",
       "      <td>6.9</td>\n",
       "      <td>0.878</td>\n",
       "      <td>2.7</td>\n",
       "      <td>6.7</td>\n",
       "      <td>0.404</td>\n",
       "      <td>0.7</td>\n",
       "      <td>4.4</td>\n",
       "      <td>5.1</td>\n",
       "      <td>2.7</td>\n",
       "      <td>1.0</td>\n",
       "      <td>1.4</td>\n",
       "      <td>2.5</td>\n",
       "      <td>3.1</td>\n",
       "    </tr>\n",
       "  </tbody>\n",
       "</table>\n",
       "</div>"
      ],
      "text/plain": [
       "    G   MIN   PTS   FGM   FGA    FGP  FTM  FTA    FTP  3PM  3PA    3PP  ORB  \\\n",
       "0  79  38.6  30.2  10.8  22.0  0.491  7.5  9.8  0.765  1.1  3.5  0.317  1.1   \n",
       "1  81  37.7  28.4   9.7  19.9  0.489  7.3  9.4  0.780  1.6  4.7  0.344  1.3   \n",
       "2  82  36.2  26.8   9.8  20.9  0.467  5.9  6.9  0.856  1.4  4.1  0.351  1.1   \n",
       "3  81  37.7  25.9   9.6  20.0  0.479  6.0  6.7  0.890  0.8  2.1  0.359  1.1   \n",
       "4  67  36.2  25.8   8.5  19.1  0.447  6.0  6.9  0.878  2.7  6.7  0.404  0.7   \n",
       "\n",
       "   DRB  TRB  AST  STL  BLK   TO   PF  \n",
       "0  3.9  5.0  7.5  2.2  1.3  3.4  2.3  \n",
       "1  6.3  7.6  7.2  1.7  1.1  3.0  1.7  \n",
       "2  4.1  5.2  4.9  1.5  0.5  2.6  2.3  \n",
       "3  7.3  8.4  2.4  0.8  0.8  1.9  2.2  \n",
       "4  4.4  5.1  2.7  1.0  1.4  2.5  3.1  "
      ]
     },
     "execution_count": 39,
     "metadata": {},
     "output_type": "execute_result"
    }
   ],
   "source": [
    "## For Heatmap data - we will drop Name column and use the new temp dataframe for Heatmap creation\n",
    "\n",
    "df1_temp.drop(columns = ['Name  '], inplace = True)\n",
    "\n",
    "df1_temp.head()"
   ]
  },
  {
   "cell_type": "markdown",
   "metadata": {},
   "source": [
    "## Heatmap"
   ]
  },
  {
   "cell_type": "code",
   "execution_count": 40,
   "metadata": {},
   "outputs": [
    {
     "data": {
      "text/html": [
       "<div>\n",
       "<style scoped>\n",
       "    .dataframe tbody tr th:only-of-type {\n",
       "        vertical-align: middle;\n",
       "    }\n",
       "\n",
       "    .dataframe tbody tr th {\n",
       "        vertical-align: top;\n",
       "    }\n",
       "\n",
       "    .dataframe thead th {\n",
       "        text-align: right;\n",
       "    }\n",
       "</style>\n",
       "<table border=\"1\" class=\"dataframe\">\n",
       "  <thead>\n",
       "    <tr style=\"text-align: right;\">\n",
       "      <th></th>\n",
       "      <th>G</th>\n",
       "      <th>MIN</th>\n",
       "      <th>PTS</th>\n",
       "      <th>FGM</th>\n",
       "      <th>FGA</th>\n",
       "      <th>FGP</th>\n",
       "      <th>FTM</th>\n",
       "      <th>FTA</th>\n",
       "      <th>FTP</th>\n",
       "      <th>3PM</th>\n",
       "      <th>3PA</th>\n",
       "      <th>3PP</th>\n",
       "      <th>ORB</th>\n",
       "      <th>DRB</th>\n",
       "      <th>TRB</th>\n",
       "      <th>AST</th>\n",
       "      <th>STL</th>\n",
       "      <th>BLK</th>\n",
       "      <th>TO</th>\n",
       "      <th>PF</th>\n",
       "    </tr>\n",
       "  </thead>\n",
       "  <tbody>\n",
       "    <tr>\n",
       "      <th>G</th>\n",
       "      <td>1.000000</td>\n",
       "      <td>0.186866</td>\n",
       "      <td>0.063099</td>\n",
       "      <td>0.039922</td>\n",
       "      <td>-0.059581</td>\n",
       "      <td>0.180875</td>\n",
       "      <td>-0.011056</td>\n",
       "      <td>0.009983</td>\n",
       "      <td>0.039469</td>\n",
       "      <td>0.138762</td>\n",
       "      <td>0.106132</td>\n",
       "      <td>0.124935</td>\n",
       "      <td>0.054876</td>\n",
       "      <td>0.115330</td>\n",
       "      <td>0.095680</td>\n",
       "      <td>0.142441</td>\n",
       "      <td>-0.033838</td>\n",
       "      <td>0.125587</td>\n",
       "      <td>-0.051218</td>\n",
       "      <td>-0.028372</td>\n",
       "    </tr>\n",
       "    <tr>\n",
       "      <th>MIN</th>\n",
       "      <td>0.186866</td>\n",
       "      <td>1.000000</td>\n",
       "      <td>0.403883</td>\n",
       "      <td>0.297420</td>\n",
       "      <td>0.413101</td>\n",
       "      <td>-0.218011</td>\n",
       "      <td>0.265562</td>\n",
       "      <td>0.181878</td>\n",
       "      <td>0.223845</td>\n",
       "      <td>0.134413</td>\n",
       "      <td>0.130734</td>\n",
       "      <td>0.106795</td>\n",
       "      <td>-0.073281</td>\n",
       "      <td>0.049165</td>\n",
       "      <td>0.005783</td>\n",
       "      <td>0.275151</td>\n",
       "      <td>0.331295</td>\n",
       "      <td>-0.066443</td>\n",
       "      <td>0.316904</td>\n",
       "      <td>-0.387609</td>\n",
       "    </tr>\n",
       "    <tr>\n",
       "      <th>PTS</th>\n",
       "      <td>0.063099</td>\n",
       "      <td>0.403883</td>\n",
       "      <td>1.000000</td>\n",
       "      <td>0.852261</td>\n",
       "      <td>0.828392</td>\n",
       "      <td>0.067161</td>\n",
       "      <td>0.667786</td>\n",
       "      <td>0.611409</td>\n",
       "      <td>0.030490</td>\n",
       "      <td>0.028281</td>\n",
       "      <td>0.044990</td>\n",
       "      <td>0.007157</td>\n",
       "      <td>0.007552</td>\n",
       "      <td>0.249159</td>\n",
       "      <td>0.173261</td>\n",
       "      <td>0.220795</td>\n",
       "      <td>0.361697</td>\n",
       "      <td>0.236802</td>\n",
       "      <td>0.343304</td>\n",
       "      <td>-0.150233</td>\n",
       "    </tr>\n",
       "    <tr>\n",
       "      <th>FGM</th>\n",
       "      <td>0.039922</td>\n",
       "      <td>0.297420</td>\n",
       "      <td>0.852261</td>\n",
       "      <td>1.000000</td>\n",
       "      <td>0.871049</td>\n",
       "      <td>0.268118</td>\n",
       "      <td>0.281119</td>\n",
       "      <td>0.292160</td>\n",
       "      <td>-0.128330</td>\n",
       "      <td>-0.233191</td>\n",
       "      <td>-0.215467</td>\n",
       "      <td>-0.090980</td>\n",
       "      <td>0.230899</td>\n",
       "      <td>0.380277</td>\n",
       "      <td>0.344299</td>\n",
       "      <td>0.106198</td>\n",
       "      <td>0.217720</td>\n",
       "      <td>0.330224</td>\n",
       "      <td>0.140205</td>\n",
       "      <td>-0.117188</td>\n",
       "    </tr>\n",
       "    <tr>\n",
       "      <th>FGA</th>\n",
       "      <td>-0.059581</td>\n",
       "      <td>0.413101</td>\n",
       "      <td>0.828392</td>\n",
       "      <td>0.871049</td>\n",
       "      <td>1.000000</td>\n",
       "      <td>-0.233212</td>\n",
       "      <td>0.249641</td>\n",
       "      <td>0.173999</td>\n",
       "      <td>0.113445</td>\n",
       "      <td>0.097139</td>\n",
       "      <td>0.135048</td>\n",
       "      <td>-0.023221</td>\n",
       "      <td>-0.096734</td>\n",
       "      <td>0.076602</td>\n",
       "      <td>0.020818</td>\n",
       "      <td>0.172407</td>\n",
       "      <td>0.327577</td>\n",
       "      <td>-0.000694</td>\n",
       "      <td>0.157998</td>\n",
       "      <td>-0.235652</td>\n",
       "    </tr>\n",
       "    <tr>\n",
       "      <th>FGP</th>\n",
       "      <td>0.180875</td>\n",
       "      <td>-0.218011</td>\n",
       "      <td>0.067161</td>\n",
       "      <td>0.268118</td>\n",
       "      <td>-0.233212</td>\n",
       "      <td>1.000000</td>\n",
       "      <td>0.069158</td>\n",
       "      <td>0.254235</td>\n",
       "      <td>-0.524097</td>\n",
       "      <td>-0.637242</td>\n",
       "      <td>-0.673994</td>\n",
       "      <td>-0.161036</td>\n",
       "      <td>0.662932</td>\n",
       "      <td>0.614529</td>\n",
       "      <td>0.654599</td>\n",
       "      <td>-0.160528</td>\n",
       "      <td>-0.228928</td>\n",
       "      <td>0.675726</td>\n",
       "      <td>-0.016609</td>\n",
       "      <td>0.258301</td>\n",
       "    </tr>\n",
       "    <tr>\n",
       "      <th>FTM</th>\n",
       "      <td>-0.011056</td>\n",
       "      <td>0.265562</td>\n",
       "      <td>0.667786</td>\n",
       "      <td>0.281119</td>\n",
       "      <td>0.249641</td>\n",
       "      <td>0.069158</td>\n",
       "      <td>1.000000</td>\n",
       "      <td>0.946365</td>\n",
       "      <td>-0.032534</td>\n",
       "      <td>-0.144279</td>\n",
       "      <td>-0.130957</td>\n",
       "      <td>-0.018012</td>\n",
       "      <td>0.011582</td>\n",
       "      <td>0.240176</td>\n",
       "      <td>0.165459</td>\n",
       "      <td>0.231774</td>\n",
       "      <td>0.299572</td>\n",
       "      <td>0.234402</td>\n",
       "      <td>0.539411</td>\n",
       "      <td>0.032845</td>\n",
       "    </tr>\n",
       "    <tr>\n",
       "      <th>FTA</th>\n",
       "      <td>0.009983</td>\n",
       "      <td>0.181878</td>\n",
       "      <td>0.611409</td>\n",
       "      <td>0.292160</td>\n",
       "      <td>0.173999</td>\n",
       "      <td>0.254235</td>\n",
       "      <td>0.946365</td>\n",
       "      <td>1.000000</td>\n",
       "      <td>-0.334383</td>\n",
       "      <td>-0.285762</td>\n",
       "      <td>-0.267314</td>\n",
       "      <td>-0.208422</td>\n",
       "      <td>0.210608</td>\n",
       "      <td>0.396417</td>\n",
       "      <td>0.342049</td>\n",
       "      <td>0.155229</td>\n",
       "      <td>0.261716</td>\n",
       "      <td>0.421167</td>\n",
       "      <td>0.524913</td>\n",
       "      <td>0.115829</td>\n",
       "    </tr>\n",
       "    <tr>\n",
       "      <th>FTP</th>\n",
       "      <td>0.039469</td>\n",
       "      <td>0.223845</td>\n",
       "      <td>0.030490</td>\n",
       "      <td>-0.128330</td>\n",
       "      <td>0.113445</td>\n",
       "      <td>-0.524097</td>\n",
       "      <td>-0.032534</td>\n",
       "      <td>-0.334383</td>\n",
       "      <td>1.000000</td>\n",
       "      <td>0.529798</td>\n",
       "      <td>0.498598</td>\n",
       "      <td>0.604157</td>\n",
       "      <td>-0.615159</td>\n",
       "      <td>-0.530827</td>\n",
       "      <td>-0.579798</td>\n",
       "      <td>0.200501</td>\n",
       "      <td>0.067211</td>\n",
       "      <td>-0.541254</td>\n",
       "      <td>-0.024148</td>\n",
       "      <td>-0.254517</td>\n",
       "    </tr>\n",
       "    <tr>\n",
       "      <th>3PM</th>\n",
       "      <td>0.138762</td>\n",
       "      <td>0.134413</td>\n",
       "      <td>0.028281</td>\n",
       "      <td>-0.233191</td>\n",
       "      <td>0.097139</td>\n",
       "      <td>-0.637242</td>\n",
       "      <td>-0.144279</td>\n",
       "      <td>-0.285762</td>\n",
       "      <td>0.529798</td>\n",
       "      <td>1.000000</td>\n",
       "      <td>0.985723</td>\n",
       "      <td>0.311400</td>\n",
       "      <td>-0.637058</td>\n",
       "      <td>-0.586855</td>\n",
       "      <td>-0.628241</td>\n",
       "      <td>0.093318</td>\n",
       "      <td>0.164684</td>\n",
       "      <td>-0.488288</td>\n",
       "      <td>-0.105597</td>\n",
       "      <td>-0.254850</td>\n",
       "    </tr>\n",
       "    <tr>\n",
       "      <th>3PA</th>\n",
       "      <td>0.106132</td>\n",
       "      <td>0.130734</td>\n",
       "      <td>0.044990</td>\n",
       "      <td>-0.215467</td>\n",
       "      <td>0.135048</td>\n",
       "      <td>-0.673994</td>\n",
       "      <td>-0.130957</td>\n",
       "      <td>-0.267314</td>\n",
       "      <td>0.498598</td>\n",
       "      <td>0.985723</td>\n",
       "      <td>1.000000</td>\n",
       "      <td>0.284677</td>\n",
       "      <td>-0.653572</td>\n",
       "      <td>-0.611708</td>\n",
       "      <td>-0.650871</td>\n",
       "      <td>0.157827</td>\n",
       "      <td>0.240604</td>\n",
       "      <td>-0.517997</td>\n",
       "      <td>-0.059773</td>\n",
       "      <td>-0.271327</td>\n",
       "    </tr>\n",
       "    <tr>\n",
       "      <th>3PP</th>\n",
       "      <td>0.124935</td>\n",
       "      <td>0.106795</td>\n",
       "      <td>0.007157</td>\n",
       "      <td>-0.090980</td>\n",
       "      <td>-0.023221</td>\n",
       "      <td>-0.161036</td>\n",
       "      <td>-0.018012</td>\n",
       "      <td>-0.208422</td>\n",
       "      <td>0.604157</td>\n",
       "      <td>0.311400</td>\n",
       "      <td>0.284677</td>\n",
       "      <td>1.000000</td>\n",
       "      <td>-0.312046</td>\n",
       "      <td>-0.250711</td>\n",
       "      <td>-0.278481</td>\n",
       "      <td>0.035686</td>\n",
       "      <td>-0.042274</td>\n",
       "      <td>-0.256088</td>\n",
       "      <td>0.095333</td>\n",
       "      <td>-0.067368</td>\n",
       "    </tr>\n",
       "    <tr>\n",
       "      <th>ORB</th>\n",
       "      <td>0.054876</td>\n",
       "      <td>-0.073281</td>\n",
       "      <td>0.007552</td>\n",
       "      <td>0.230899</td>\n",
       "      <td>-0.096734</td>\n",
       "      <td>0.662932</td>\n",
       "      <td>0.011582</td>\n",
       "      <td>0.210608</td>\n",
       "      <td>-0.615159</td>\n",
       "      <td>-0.637058</td>\n",
       "      <td>-0.653572</td>\n",
       "      <td>-0.312046</td>\n",
       "      <td>1.000000</td>\n",
       "      <td>0.845901</td>\n",
       "      <td>0.934340</td>\n",
       "      <td>-0.455749</td>\n",
       "      <td>-0.328437</td>\n",
       "      <td>0.742341</td>\n",
       "      <td>-0.128525</td>\n",
       "      <td>0.411900</td>\n",
       "    </tr>\n",
       "    <tr>\n",
       "      <th>DRB</th>\n",
       "      <td>0.115330</td>\n",
       "      <td>0.049165</td>\n",
       "      <td>0.249159</td>\n",
       "      <td>0.380277</td>\n",
       "      <td>0.076602</td>\n",
       "      <td>0.614529</td>\n",
       "      <td>0.240176</td>\n",
       "      <td>0.396417</td>\n",
       "      <td>-0.530827</td>\n",
       "      <td>-0.586855</td>\n",
       "      <td>-0.611708</td>\n",
       "      <td>-0.250711</td>\n",
       "      <td>0.845901</td>\n",
       "      <td>1.000000</td>\n",
       "      <td>0.980148</td>\n",
       "      <td>-0.396333</td>\n",
       "      <td>-0.265006</td>\n",
       "      <td>0.772707</td>\n",
       "      <td>0.030853</td>\n",
       "      <td>0.430697</td>\n",
       "    </tr>\n",
       "    <tr>\n",
       "      <th>TRB</th>\n",
       "      <td>0.095680</td>\n",
       "      <td>0.005783</td>\n",
       "      <td>0.173261</td>\n",
       "      <td>0.344299</td>\n",
       "      <td>0.020818</td>\n",
       "      <td>0.654599</td>\n",
       "      <td>0.165459</td>\n",
       "      <td>0.342049</td>\n",
       "      <td>-0.579798</td>\n",
       "      <td>-0.628241</td>\n",
       "      <td>-0.650871</td>\n",
       "      <td>-0.278481</td>\n",
       "      <td>0.934340</td>\n",
       "      <td>0.980148</td>\n",
       "      <td>1.000000</td>\n",
       "      <td>-0.433463</td>\n",
       "      <td>-0.302661</td>\n",
       "      <td>0.790929</td>\n",
       "      <td>-0.028430</td>\n",
       "      <td>0.434759</td>\n",
       "    </tr>\n",
       "    <tr>\n",
       "      <th>AST</th>\n",
       "      <td>0.142441</td>\n",
       "      <td>0.275151</td>\n",
       "      <td>0.220795</td>\n",
       "      <td>0.106198</td>\n",
       "      <td>0.172407</td>\n",
       "      <td>-0.160528</td>\n",
       "      <td>0.231774</td>\n",
       "      <td>0.155229</td>\n",
       "      <td>0.200501</td>\n",
       "      <td>0.093318</td>\n",
       "      <td>0.157827</td>\n",
       "      <td>0.035686</td>\n",
       "      <td>-0.455749</td>\n",
       "      <td>-0.396333</td>\n",
       "      <td>-0.433463</td>\n",
       "      <td>1.000000</td>\n",
       "      <td>0.624654</td>\n",
       "      <td>-0.320528</td>\n",
       "      <td>0.500382</td>\n",
       "      <td>-0.430083</td>\n",
       "    </tr>\n",
       "    <tr>\n",
       "      <th>STL</th>\n",
       "      <td>-0.033838</td>\n",
       "      <td>0.331295</td>\n",
       "      <td>0.361697</td>\n",
       "      <td>0.217720</td>\n",
       "      <td>0.327577</td>\n",
       "      <td>-0.228928</td>\n",
       "      <td>0.299572</td>\n",
       "      <td>0.261716</td>\n",
       "      <td>0.067211</td>\n",
       "      <td>0.164684</td>\n",
       "      <td>0.240604</td>\n",
       "      <td>-0.042274</td>\n",
       "      <td>-0.328437</td>\n",
       "      <td>-0.265006</td>\n",
       "      <td>-0.302661</td>\n",
       "      <td>0.624654</td>\n",
       "      <td>1.000000</td>\n",
       "      <td>-0.263784</td>\n",
       "      <td>0.451524</td>\n",
       "      <td>-0.194909</td>\n",
       "    </tr>\n",
       "    <tr>\n",
       "      <th>BLK</th>\n",
       "      <td>0.125587</td>\n",
       "      <td>-0.066443</td>\n",
       "      <td>0.236802</td>\n",
       "      <td>0.330224</td>\n",
       "      <td>-0.000694</td>\n",
       "      <td>0.675726</td>\n",
       "      <td>0.234402</td>\n",
       "      <td>0.421167</td>\n",
       "      <td>-0.541254</td>\n",
       "      <td>-0.488288</td>\n",
       "      <td>-0.517997</td>\n",
       "      <td>-0.256088</td>\n",
       "      <td>0.742341</td>\n",
       "      <td>0.772707</td>\n",
       "      <td>0.790929</td>\n",
       "      <td>-0.320528</td>\n",
       "      <td>-0.263784</td>\n",
       "      <td>1.000000</td>\n",
       "      <td>0.116752</td>\n",
       "      <td>0.370618</td>\n",
       "    </tr>\n",
       "    <tr>\n",
       "      <th>TO</th>\n",
       "      <td>-0.051218</td>\n",
       "      <td>0.316904</td>\n",
       "      <td>0.343304</td>\n",
       "      <td>0.140205</td>\n",
       "      <td>0.157998</td>\n",
       "      <td>-0.016609</td>\n",
       "      <td>0.539411</td>\n",
       "      <td>0.524913</td>\n",
       "      <td>-0.024148</td>\n",
       "      <td>-0.105597</td>\n",
       "      <td>-0.059773</td>\n",
       "      <td>0.095333</td>\n",
       "      <td>-0.128525</td>\n",
       "      <td>0.030853</td>\n",
       "      <td>-0.028430</td>\n",
       "      <td>0.500382</td>\n",
       "      <td>0.451524</td>\n",
       "      <td>0.116752</td>\n",
       "      <td>1.000000</td>\n",
       "      <td>0.070297</td>\n",
       "    </tr>\n",
       "    <tr>\n",
       "      <th>PF</th>\n",
       "      <td>-0.028372</td>\n",
       "      <td>-0.387609</td>\n",
       "      <td>-0.150233</td>\n",
       "      <td>-0.117188</td>\n",
       "      <td>-0.235652</td>\n",
       "      <td>0.258301</td>\n",
       "      <td>0.032845</td>\n",
       "      <td>0.115829</td>\n",
       "      <td>-0.254517</td>\n",
       "      <td>-0.254850</td>\n",
       "      <td>-0.271327</td>\n",
       "      <td>-0.067368</td>\n",
       "      <td>0.411900</td>\n",
       "      <td>0.430697</td>\n",
       "      <td>0.434759</td>\n",
       "      <td>-0.430083</td>\n",
       "      <td>-0.194909</td>\n",
       "      <td>0.370618</td>\n",
       "      <td>0.070297</td>\n",
       "      <td>1.000000</td>\n",
       "    </tr>\n",
       "  </tbody>\n",
       "</table>\n",
       "</div>"
      ],
      "text/plain": [
       "            G       MIN       PTS       FGM       FGA       FGP       FTM  \\\n",
       "G    1.000000  0.186866  0.063099  0.039922 -0.059581  0.180875 -0.011056   \n",
       "MIN  0.186866  1.000000  0.403883  0.297420  0.413101 -0.218011  0.265562   \n",
       "PTS  0.063099  0.403883  1.000000  0.852261  0.828392  0.067161  0.667786   \n",
       "FGM  0.039922  0.297420  0.852261  1.000000  0.871049  0.268118  0.281119   \n",
       "FGA -0.059581  0.413101  0.828392  0.871049  1.000000 -0.233212  0.249641   \n",
       "FGP  0.180875 -0.218011  0.067161  0.268118 -0.233212  1.000000  0.069158   \n",
       "FTM -0.011056  0.265562  0.667786  0.281119  0.249641  0.069158  1.000000   \n",
       "FTA  0.009983  0.181878  0.611409  0.292160  0.173999  0.254235  0.946365   \n",
       "FTP  0.039469  0.223845  0.030490 -0.128330  0.113445 -0.524097 -0.032534   \n",
       "3PM  0.138762  0.134413  0.028281 -0.233191  0.097139 -0.637242 -0.144279   \n",
       "3PA  0.106132  0.130734  0.044990 -0.215467  0.135048 -0.673994 -0.130957   \n",
       "3PP  0.124935  0.106795  0.007157 -0.090980 -0.023221 -0.161036 -0.018012   \n",
       "ORB  0.054876 -0.073281  0.007552  0.230899 -0.096734  0.662932  0.011582   \n",
       "DRB  0.115330  0.049165  0.249159  0.380277  0.076602  0.614529  0.240176   \n",
       "TRB  0.095680  0.005783  0.173261  0.344299  0.020818  0.654599  0.165459   \n",
       "AST  0.142441  0.275151  0.220795  0.106198  0.172407 -0.160528  0.231774   \n",
       "STL -0.033838  0.331295  0.361697  0.217720  0.327577 -0.228928  0.299572   \n",
       "BLK  0.125587 -0.066443  0.236802  0.330224 -0.000694  0.675726  0.234402   \n",
       "TO  -0.051218  0.316904  0.343304  0.140205  0.157998 -0.016609  0.539411   \n",
       "PF  -0.028372 -0.387609 -0.150233 -0.117188 -0.235652  0.258301  0.032845   \n",
       "\n",
       "          FTA       FTP       3PM       3PA       3PP       ORB       DRB  \\\n",
       "G    0.009983  0.039469  0.138762  0.106132  0.124935  0.054876  0.115330   \n",
       "MIN  0.181878  0.223845  0.134413  0.130734  0.106795 -0.073281  0.049165   \n",
       "PTS  0.611409  0.030490  0.028281  0.044990  0.007157  0.007552  0.249159   \n",
       "FGM  0.292160 -0.128330 -0.233191 -0.215467 -0.090980  0.230899  0.380277   \n",
       "FGA  0.173999  0.113445  0.097139  0.135048 -0.023221 -0.096734  0.076602   \n",
       "FGP  0.254235 -0.524097 -0.637242 -0.673994 -0.161036  0.662932  0.614529   \n",
       "FTM  0.946365 -0.032534 -0.144279 -0.130957 -0.018012  0.011582  0.240176   \n",
       "FTA  1.000000 -0.334383 -0.285762 -0.267314 -0.208422  0.210608  0.396417   \n",
       "FTP -0.334383  1.000000  0.529798  0.498598  0.604157 -0.615159 -0.530827   \n",
       "3PM -0.285762  0.529798  1.000000  0.985723  0.311400 -0.637058 -0.586855   \n",
       "3PA -0.267314  0.498598  0.985723  1.000000  0.284677 -0.653572 -0.611708   \n",
       "3PP -0.208422  0.604157  0.311400  0.284677  1.000000 -0.312046 -0.250711   \n",
       "ORB  0.210608 -0.615159 -0.637058 -0.653572 -0.312046  1.000000  0.845901   \n",
       "DRB  0.396417 -0.530827 -0.586855 -0.611708 -0.250711  0.845901  1.000000   \n",
       "TRB  0.342049 -0.579798 -0.628241 -0.650871 -0.278481  0.934340  0.980148   \n",
       "AST  0.155229  0.200501  0.093318  0.157827  0.035686 -0.455749 -0.396333   \n",
       "STL  0.261716  0.067211  0.164684  0.240604 -0.042274 -0.328437 -0.265006   \n",
       "BLK  0.421167 -0.541254 -0.488288 -0.517997 -0.256088  0.742341  0.772707   \n",
       "TO   0.524913 -0.024148 -0.105597 -0.059773  0.095333 -0.128525  0.030853   \n",
       "PF   0.115829 -0.254517 -0.254850 -0.271327 -0.067368  0.411900  0.430697   \n",
       "\n",
       "          TRB       AST       STL       BLK        TO        PF  \n",
       "G    0.095680  0.142441 -0.033838  0.125587 -0.051218 -0.028372  \n",
       "MIN  0.005783  0.275151  0.331295 -0.066443  0.316904 -0.387609  \n",
       "PTS  0.173261  0.220795  0.361697  0.236802  0.343304 -0.150233  \n",
       "FGM  0.344299  0.106198  0.217720  0.330224  0.140205 -0.117188  \n",
       "FGA  0.020818  0.172407  0.327577 -0.000694  0.157998 -0.235652  \n",
       "FGP  0.654599 -0.160528 -0.228928  0.675726 -0.016609  0.258301  \n",
       "FTM  0.165459  0.231774  0.299572  0.234402  0.539411  0.032845  \n",
       "FTA  0.342049  0.155229  0.261716  0.421167  0.524913  0.115829  \n",
       "FTP -0.579798  0.200501  0.067211 -0.541254 -0.024148 -0.254517  \n",
       "3PM -0.628241  0.093318  0.164684 -0.488288 -0.105597 -0.254850  \n",
       "3PA -0.650871  0.157827  0.240604 -0.517997 -0.059773 -0.271327  \n",
       "3PP -0.278481  0.035686 -0.042274 -0.256088  0.095333 -0.067368  \n",
       "ORB  0.934340 -0.455749 -0.328437  0.742341 -0.128525  0.411900  \n",
       "DRB  0.980148 -0.396333 -0.265006  0.772707  0.030853  0.430697  \n",
       "TRB  1.000000 -0.433463 -0.302661  0.790929 -0.028430  0.434759  \n",
       "AST -0.433463  1.000000  0.624654 -0.320528  0.500382 -0.430083  \n",
       "STL -0.302661  0.624654  1.000000 -0.263784  0.451524 -0.194909  \n",
       "BLK  0.790929 -0.320528 -0.263784  1.000000  0.116752  0.370618  \n",
       "TO  -0.028430  0.500382  0.451524  0.116752  1.000000  0.070297  \n",
       "PF   0.434759 -0.430083 -0.194909  0.370618  0.070297  1.000000  "
      ]
     },
     "execution_count": 40,
     "metadata": {},
     "output_type": "execute_result"
    }
   ],
   "source": [
    "df1_temp.corr()"
   ]
  },
  {
   "cell_type": "code",
   "execution_count": 41,
   "metadata": {},
   "outputs": [
    {
     "data": {
      "application/vnd.plotly.v1+json": {
       "config": {
        "plotlyServerURL": "https://plot.ly"
       },
       "data": [
        {
         "coloraxis": "coloraxis",
         "hovertemplate": "x: %{x}<br>y: %{y}<br>color: %{z}<extra></extra>",
         "name": "0",
         "type": "heatmap",
         "x": [
          "G",
          "MIN",
          "PTS",
          "FGM",
          "FGA",
          "FGP",
          "FTM",
          "FTA",
          "FTP",
          "3PM",
          "3PA",
          "3PP",
          "ORB",
          "DRB",
          "TRB",
          "AST",
          "STL",
          "BLK",
          "TO",
          "PF"
         ],
         "xaxis": "x",
         "y": [
          "G",
          "MIN",
          "PTS",
          "FGM",
          "FGA",
          "FGP",
          "FTM",
          "FTA",
          "FTP",
          "3PM",
          "3PA",
          "3PP",
          "ORB",
          "DRB",
          "TRB",
          "AST",
          "STL",
          "BLK",
          "TO",
          "PF"
         ],
         "yaxis": "y",
         "z": [
          [
           1,
           0.1868660754978512,
           0.06309907502362859,
           0.039921954333608727,
           -0.05958050533089827,
           0.18087541413017255,
           -0.011055736442072707,
           0.009983184377396573,
           0.03946855469357156,
           0.13876173421605778,
           0.10613156675378918,
           0.12493486843783694,
           0.05487623028763552,
           0.11533032260314414,
           0.09567975836127261,
           0.14244090955647357,
           -0.03383761556557499,
           0.12558700846258058,
           -0.05121832091547124,
           -0.028372377881469894
          ],
          [
           0.1868660754978512,
           1,
           0.4038832845105591,
           0.29742008702655226,
           0.4131007766535303,
           -0.21801106736013365,
           0.2655620122614938,
           0.18187840729214388,
           0.22384508412890353,
           0.13441284948433682,
           0.1307340048043705,
           0.1067946735364012,
           -0.07328138518986904,
           0.04916501573134668,
           0.005782859244356887,
           0.27515056192298,
           0.3312949623633408,
           -0.06644297281556187,
           0.3169040648992993,
           -0.3876090168320948
          ],
          [
           0.06309907502362859,
           0.4038832845105591,
           1,
           0.8522605401884633,
           0.8283916577194319,
           0.06716060427232214,
           0.6677855538265622,
           0.611409229432251,
           0.030490125157028636,
           0.028281076688258182,
           0.044990234012468946,
           0.007157228057855418,
           0.0075519000249138725,
           0.24915867292711172,
           0.17326111911895967,
           0.22079512721547545,
           0.3616973995606359,
           0.2368024134383341,
           0.3433039121805475,
           -0.15023279334120243
          ],
          [
           0.039921954333608727,
           0.29742008702655226,
           0.8522605401884633,
           1,
           0.8710490149656311,
           0.26811777615850996,
           0.28111933358487184,
           0.2921597265213171,
           -0.12832992487385161,
           -0.23319114605734018,
           -0.21546737822390624,
           -0.09098044280910894,
           0.23089875503565474,
           0.3802769782537583,
           0.3442987993564014,
           0.10619794469698696,
           0.2177204211414009,
           0.330223851305533,
           0.14020493945531878,
           -0.11718791396205842
          ],
          [
           -0.05958050533089827,
           0.4131007766535303,
           0.8283916577194319,
           0.8710490149656311,
           1,
           -0.23321190445489265,
           0.24964095305802247,
           0.17399901876212104,
           0.11344473082527493,
           0.09713928678512675,
           0.1350482814624411,
           -0.02322092286517947,
           -0.09673444212658334,
           0.07660167947417762,
           0.020818173089000067,
           0.1724068181059041,
           0.32757732757907027,
           -0.0006941467484904223,
           0.1579977757862594,
           -0.23565217266180719
          ],
          [
           0.18087541413017255,
           -0.21801106736013365,
           0.06716060427232214,
           0.26811777615850996,
           -0.23321190445489265,
           1,
           0.06915820543456128,
           0.25423485807373963,
           -0.5240970394792257,
           -0.6372418019794551,
           -0.6739938421605077,
           -0.16103576338464756,
           0.6629322590222707,
           0.6145293719974788,
           0.6545991209135075,
           -0.1605283992644173,
           -0.2289276332433291,
           0.6757262484937764,
           -0.016608637041644447,
           0.2583010393432084
          ],
          [
           -0.011055736442072707,
           0.2655620122614938,
           0.6677855538265622,
           0.28111933358487184,
           0.24964095305802247,
           0.06915820543456128,
           1,
           0.9463653378274011,
           -0.03253444928878545,
           -0.1442794935557571,
           -0.13095748703852145,
           -0.018012301309636113,
           0.011582410709798641,
           0.24017570978644986,
           0.1654591492343542,
           0.231773896883134,
           0.29957239058215485,
           0.23440222259044785,
           0.5394112899634508,
           0.032845458243639894
          ],
          [
           0.009983184377396573,
           0.18187840729214388,
           0.611409229432251,
           0.2921597265213171,
           0.17399901876212104,
           0.25423485807373963,
           0.9463653378274011,
           1,
           -0.3343827020800476,
           -0.28576219643678974,
           -0.2673143178938503,
           -0.20842223836979878,
           0.21060830080234766,
           0.3964171883755596,
           0.3420487601789035,
           0.15522855589099818,
           0.2617159154497023,
           0.42116672436359553,
           0.52491293803187,
           0.11582903939119146
          ],
          [
           0.03946855469357156,
           0.22384508412890353,
           0.030490125157028636,
           -0.12832992487385161,
           0.11344473082527493,
           -0.5240970394792257,
           -0.03253444928878545,
           -0.3343827020800476,
           1,
           0.5297982844412645,
           0.49859782409742565,
           0.6041573272059684,
           -0.6151594830907867,
           -0.5308266677352342,
           -0.5797978497299372,
           0.20050094692935932,
           0.06721096591434121,
           -0.5412539600227896,
           -0.024147762804920425,
           -0.2545168176385765
          ],
          [
           0.13876173421605778,
           0.13441284948433682,
           0.028281076688258182,
           -0.23319114605734018,
           0.09713928678512675,
           -0.6372418019794551,
           -0.1442794935557571,
           -0.28576219643678974,
           0.5297982844412645,
           1,
           0.9857225106946768,
           0.3114004617453298,
           -0.6370581646274822,
           -0.5868550804265575,
           -0.6282408938142675,
           0.09331799855509912,
           0.16468364300165123,
           -0.4882877001717386,
           -0.10559659349245927,
           -0.2548500152672542
          ],
          [
           0.10613156675378918,
           0.1307340048043705,
           0.044990234012468946,
           -0.21546737822390624,
           0.1350482814624411,
           -0.6739938421605077,
           -0.13095748703852145,
           -0.2673143178938503,
           0.49859782409742565,
           0.9857225106946768,
           1,
           0.2846768648571552,
           -0.653572270961753,
           -0.6117083125594132,
           -0.6508711670016443,
           0.15782710108316447,
           0.2406041913634245,
           -0.5179966547704652,
           -0.059772551237782245,
           -0.2713270121327521
          ],
          [
           0.12493486843783694,
           0.1067946735364012,
           0.007157228057855418,
           -0.09098044280910894,
           -0.02322092286517947,
           -0.16103576338464756,
           -0.018012301309636113,
           -0.20842223836979878,
           0.6041573272059684,
           0.3114004617453298,
           0.2846768648571552,
           1,
           -0.3120456485378475,
           -0.2507111035852639,
           -0.27848060342040526,
           0.0356860067188278,
           -0.042273886614281955,
           -0.2560876512445696,
           0.09533252340653217,
           -0.06736764116498402
          ],
          [
           0.05487623028763552,
           -0.07328138518986904,
           0.0075519000249138725,
           0.23089875503565474,
           -0.09673444212658334,
           0.6629322590222707,
           0.011582410709798641,
           0.21060830080234766,
           -0.6151594830907867,
           -0.6370581646274822,
           -0.653572270961753,
           -0.3120456485378475,
           1,
           0.8459005275015732,
           0.9343402704217844,
           -0.45574868217375386,
           -0.3284372291756443,
           0.7423408739371142,
           -0.12852466775921934,
           0.4118997653522604
          ],
          [
           0.11533032260314414,
           0.04916501573134668,
           0.24915867292711172,
           0.3802769782537583,
           0.07660167947417762,
           0.6145293719974788,
           0.24017570978644986,
           0.3964171883755596,
           -0.5308266677352342,
           -0.5868550804265575,
           -0.6117083125594132,
           -0.2507111035852639,
           0.8459005275015732,
           1,
           0.9801480865136378,
           -0.396332978808143,
           -0.2650064221133856,
           0.7727074576479038,
           0.03085265141758624,
           0.4306966591969611
          ],
          [
           0.09567975836127261,
           0.005782859244356887,
           0.17326111911895967,
           0.3442987993564014,
           0.020818173089000067,
           0.6545991209135075,
           0.1654591492343542,
           0.3420487601789035,
           -0.5797978497299372,
           -0.6282408938142675,
           -0.6508711670016443,
           -0.27848060342040526,
           0.9343402704217844,
           0.9801480865136378,
           1,
           -0.4334633610832066,
           -0.3026608848784627,
           0.7909287770918777,
           -0.02843047357525628,
           0.4347591461032271
          ],
          [
           0.14244090955647357,
           0.27515056192298,
           0.22079512721547545,
           0.10619794469698696,
           0.1724068181059041,
           -0.1605283992644173,
           0.231773896883134,
           0.15522855589099818,
           0.20050094692935932,
           0.09331799855509912,
           0.15782710108316447,
           0.0356860067188278,
           -0.45574868217375386,
           -0.396332978808143,
           -0.4334633610832066,
           1,
           0.6246537350689835,
           -0.3205282783219342,
           0.5003816861932164,
           -0.4300831625006326
          ],
          [
           -0.03383761556557499,
           0.3312949623633408,
           0.3616973995606359,
           0.2177204211414009,
           0.32757732757907027,
           -0.2289276332433291,
           0.29957239058215485,
           0.2617159154497023,
           0.06721096591434121,
           0.16468364300165123,
           0.2406041913634245,
           -0.042273886614281955,
           -0.3284372291756443,
           -0.2650064221133856,
           -0.3026608848784627,
           0.6246537350689835,
           1,
           -0.26378353486968675,
           0.45152434202890707,
           -0.19490911839796526
          ],
          [
           0.12558700846258058,
           -0.06644297281556187,
           0.2368024134383341,
           0.330223851305533,
           -0.0006941467484904223,
           0.6757262484937764,
           0.23440222259044785,
           0.42116672436359553,
           -0.5412539600227896,
           -0.4882877001717386,
           -0.5179966547704652,
           -0.2560876512445696,
           0.7423408739371142,
           0.7727074576479038,
           0.7909287770918777,
           -0.3205282783219342,
           -0.26378353486968675,
           1,
           0.11675211848771384,
           0.3706175284416858
          ],
          [
           -0.05121832091547124,
           0.3169040648992993,
           0.3433039121805475,
           0.14020493945531878,
           0.1579977757862594,
           -0.016608637041644447,
           0.5394112899634508,
           0.52491293803187,
           -0.024147762804920425,
           -0.10559659349245927,
           -0.059772551237782245,
           0.09533252340653217,
           -0.12852466775921934,
           0.03085265141758624,
           -0.02843047357525628,
           0.5003816861932164,
           0.45152434202890707,
           0.11675211848771384,
           1,
           0.07029692166477695
          ],
          [
           -0.028372377881469894,
           -0.3876090168320948,
           -0.15023279334120243,
           -0.11718791396205842,
           -0.23565217266180719,
           0.2583010393432084,
           0.032845458243639894,
           0.11582903939119146,
           -0.2545168176385765,
           -0.2548500152672542,
           -0.2713270121327521,
           -0.06736764116498402,
           0.4118997653522604,
           0.4306966591969611,
           0.4347591461032271,
           -0.4300831625006326,
           -0.19490911839796526,
           0.3706175284416858,
           0.07029692166477695,
           1
          ]
         ]
        }
       ],
       "layout": {
        "autosize": false,
        "coloraxis": {
         "colorscale": [
          [
           0,
           "#0d0887"
          ],
          [
           0.1111111111111111,
           "#46039f"
          ],
          [
           0.2222222222222222,
           "#7201a8"
          ],
          [
           0.3333333333333333,
           "#9c179e"
          ],
          [
           0.4444444444444444,
           "#bd3786"
          ],
          [
           0.5555555555555556,
           "#d8576b"
          ],
          [
           0.6666666666666666,
           "#ed7953"
          ],
          [
           0.7777777777777778,
           "#fb9f3a"
          ],
          [
           0.8888888888888888,
           "#fdca26"
          ],
          [
           1,
           "#f0f921"
          ]
         ]
        },
        "height": 450,
        "template": {
         "data": {
          "bar": [
           {
            "error_x": {
             "color": "#2a3f5f"
            },
            "error_y": {
             "color": "#2a3f5f"
            },
            "marker": {
             "line": {
              "color": "#E5ECF6",
              "width": 0.5
             },
             "pattern": {
              "fillmode": "overlay",
              "size": 10,
              "solidity": 0.2
             }
            },
            "type": "bar"
           }
          ],
          "barpolar": [
           {
            "marker": {
             "line": {
              "color": "#E5ECF6",
              "width": 0.5
             },
             "pattern": {
              "fillmode": "overlay",
              "size": 10,
              "solidity": 0.2
             }
            },
            "type": "barpolar"
           }
          ],
          "carpet": [
           {
            "aaxis": {
             "endlinecolor": "#2a3f5f",
             "gridcolor": "white",
             "linecolor": "white",
             "minorgridcolor": "white",
             "startlinecolor": "#2a3f5f"
            },
            "baxis": {
             "endlinecolor": "#2a3f5f",
             "gridcolor": "white",
             "linecolor": "white",
             "minorgridcolor": "white",
             "startlinecolor": "#2a3f5f"
            },
            "type": "carpet"
           }
          ],
          "choropleth": [
           {
            "colorbar": {
             "outlinewidth": 0,
             "ticks": ""
            },
            "type": "choropleth"
           }
          ],
          "contour": [
           {
            "colorbar": {
             "outlinewidth": 0,
             "ticks": ""
            },
            "colorscale": [
             [
              0,
              "#0d0887"
             ],
             [
              0.1111111111111111,
              "#46039f"
             ],
             [
              0.2222222222222222,
              "#7201a8"
             ],
             [
              0.3333333333333333,
              "#9c179e"
             ],
             [
              0.4444444444444444,
              "#bd3786"
             ],
             [
              0.5555555555555556,
              "#d8576b"
             ],
             [
              0.6666666666666666,
              "#ed7953"
             ],
             [
              0.7777777777777778,
              "#fb9f3a"
             ],
             [
              0.8888888888888888,
              "#fdca26"
             ],
             [
              1,
              "#f0f921"
             ]
            ],
            "type": "contour"
           }
          ],
          "contourcarpet": [
           {
            "colorbar": {
             "outlinewidth": 0,
             "ticks": ""
            },
            "type": "contourcarpet"
           }
          ],
          "heatmap": [
           {
            "colorbar": {
             "outlinewidth": 0,
             "ticks": ""
            },
            "colorscale": [
             [
              0,
              "#0d0887"
             ],
             [
              0.1111111111111111,
              "#46039f"
             ],
             [
              0.2222222222222222,
              "#7201a8"
             ],
             [
              0.3333333333333333,
              "#9c179e"
             ],
             [
              0.4444444444444444,
              "#bd3786"
             ],
             [
              0.5555555555555556,
              "#d8576b"
             ],
             [
              0.6666666666666666,
              "#ed7953"
             ],
             [
              0.7777777777777778,
              "#fb9f3a"
             ],
             [
              0.8888888888888888,
              "#fdca26"
             ],
             [
              1,
              "#f0f921"
             ]
            ],
            "type": "heatmap"
           }
          ],
          "heatmapgl": [
           {
            "colorbar": {
             "outlinewidth": 0,
             "ticks": ""
            },
            "colorscale": [
             [
              0,
              "#0d0887"
             ],
             [
              0.1111111111111111,
              "#46039f"
             ],
             [
              0.2222222222222222,
              "#7201a8"
             ],
             [
              0.3333333333333333,
              "#9c179e"
             ],
             [
              0.4444444444444444,
              "#bd3786"
             ],
             [
              0.5555555555555556,
              "#d8576b"
             ],
             [
              0.6666666666666666,
              "#ed7953"
             ],
             [
              0.7777777777777778,
              "#fb9f3a"
             ],
             [
              0.8888888888888888,
              "#fdca26"
             ],
             [
              1,
              "#f0f921"
             ]
            ],
            "type": "heatmapgl"
           }
          ],
          "histogram": [
           {
            "marker": {
             "pattern": {
              "fillmode": "overlay",
              "size": 10,
              "solidity": 0.2
             }
            },
            "type": "histogram"
           }
          ],
          "histogram2d": [
           {
            "colorbar": {
             "outlinewidth": 0,
             "ticks": ""
            },
            "colorscale": [
             [
              0,
              "#0d0887"
             ],
             [
              0.1111111111111111,
              "#46039f"
             ],
             [
              0.2222222222222222,
              "#7201a8"
             ],
             [
              0.3333333333333333,
              "#9c179e"
             ],
             [
              0.4444444444444444,
              "#bd3786"
             ],
             [
              0.5555555555555556,
              "#d8576b"
             ],
             [
              0.6666666666666666,
              "#ed7953"
             ],
             [
              0.7777777777777778,
              "#fb9f3a"
             ],
             [
              0.8888888888888888,
              "#fdca26"
             ],
             [
              1,
              "#f0f921"
             ]
            ],
            "type": "histogram2d"
           }
          ],
          "histogram2dcontour": [
           {
            "colorbar": {
             "outlinewidth": 0,
             "ticks": ""
            },
            "colorscale": [
             [
              0,
              "#0d0887"
             ],
             [
              0.1111111111111111,
              "#46039f"
             ],
             [
              0.2222222222222222,
              "#7201a8"
             ],
             [
              0.3333333333333333,
              "#9c179e"
             ],
             [
              0.4444444444444444,
              "#bd3786"
             ],
             [
              0.5555555555555556,
              "#d8576b"
             ],
             [
              0.6666666666666666,
              "#ed7953"
             ],
             [
              0.7777777777777778,
              "#fb9f3a"
             ],
             [
              0.8888888888888888,
              "#fdca26"
             ],
             [
              1,
              "#f0f921"
             ]
            ],
            "type": "histogram2dcontour"
           }
          ],
          "mesh3d": [
           {
            "colorbar": {
             "outlinewidth": 0,
             "ticks": ""
            },
            "type": "mesh3d"
           }
          ],
          "parcoords": [
           {
            "line": {
             "colorbar": {
              "outlinewidth": 0,
              "ticks": ""
             }
            },
            "type": "parcoords"
           }
          ],
          "pie": [
           {
            "automargin": true,
            "type": "pie"
           }
          ],
          "scatter": [
           {
            "marker": {
             "colorbar": {
              "outlinewidth": 0,
              "ticks": ""
             }
            },
            "type": "scatter"
           }
          ],
          "scatter3d": [
           {
            "line": {
             "colorbar": {
              "outlinewidth": 0,
              "ticks": ""
             }
            },
            "marker": {
             "colorbar": {
              "outlinewidth": 0,
              "ticks": ""
             }
            },
            "type": "scatter3d"
           }
          ],
          "scattercarpet": [
           {
            "marker": {
             "colorbar": {
              "outlinewidth": 0,
              "ticks": ""
             }
            },
            "type": "scattercarpet"
           }
          ],
          "scattergeo": [
           {
            "marker": {
             "colorbar": {
              "outlinewidth": 0,
              "ticks": ""
             }
            },
            "type": "scattergeo"
           }
          ],
          "scattergl": [
           {
            "marker": {
             "colorbar": {
              "outlinewidth": 0,
              "ticks": ""
             }
            },
            "type": "scattergl"
           }
          ],
          "scattermapbox": [
           {
            "marker": {
             "colorbar": {
              "outlinewidth": 0,
              "ticks": ""
             }
            },
            "type": "scattermapbox"
           }
          ],
          "scatterpolar": [
           {
            "marker": {
             "colorbar": {
              "outlinewidth": 0,
              "ticks": ""
             }
            },
            "type": "scatterpolar"
           }
          ],
          "scatterpolargl": [
           {
            "marker": {
             "colorbar": {
              "outlinewidth": 0,
              "ticks": ""
             }
            },
            "type": "scatterpolargl"
           }
          ],
          "scatterternary": [
           {
            "marker": {
             "colorbar": {
              "outlinewidth": 0,
              "ticks": ""
             }
            },
            "type": "scatterternary"
           }
          ],
          "surface": [
           {
            "colorbar": {
             "outlinewidth": 0,
             "ticks": ""
            },
            "colorscale": [
             [
              0,
              "#0d0887"
             ],
             [
              0.1111111111111111,
              "#46039f"
             ],
             [
              0.2222222222222222,
              "#7201a8"
             ],
             [
              0.3333333333333333,
              "#9c179e"
             ],
             [
              0.4444444444444444,
              "#bd3786"
             ],
             [
              0.5555555555555556,
              "#d8576b"
             ],
             [
              0.6666666666666666,
              "#ed7953"
             ],
             [
              0.7777777777777778,
              "#fb9f3a"
             ],
             [
              0.8888888888888888,
              "#fdca26"
             ],
             [
              1,
              "#f0f921"
             ]
            ],
            "type": "surface"
           }
          ],
          "table": [
           {
            "cells": {
             "fill": {
              "color": "#EBF0F8"
             },
             "line": {
              "color": "white"
             }
            },
            "header": {
             "fill": {
              "color": "#C8D4E3"
             },
             "line": {
              "color": "white"
             }
            },
            "type": "table"
           }
          ]
         },
         "layout": {
          "annotationdefaults": {
           "arrowcolor": "#2a3f5f",
           "arrowhead": 0,
           "arrowwidth": 1
          },
          "autotypenumbers": "strict",
          "coloraxis": {
           "colorbar": {
            "outlinewidth": 0,
            "ticks": ""
           }
          },
          "colorscale": {
           "diverging": [
            [
             0,
             "#8e0152"
            ],
            [
             0.1,
             "#c51b7d"
            ],
            [
             0.2,
             "#de77ae"
            ],
            [
             0.3,
             "#f1b6da"
            ],
            [
             0.4,
             "#fde0ef"
            ],
            [
             0.5,
             "#f7f7f7"
            ],
            [
             0.6,
             "#e6f5d0"
            ],
            [
             0.7,
             "#b8e186"
            ],
            [
             0.8,
             "#7fbc41"
            ],
            [
             0.9,
             "#4d9221"
            ],
            [
             1,
             "#276419"
            ]
           ],
           "sequential": [
            [
             0,
             "#0d0887"
            ],
            [
             0.1111111111111111,
             "#46039f"
            ],
            [
             0.2222222222222222,
             "#7201a8"
            ],
            [
             0.3333333333333333,
             "#9c179e"
            ],
            [
             0.4444444444444444,
             "#bd3786"
            ],
            [
             0.5555555555555556,
             "#d8576b"
            ],
            [
             0.6666666666666666,
             "#ed7953"
            ],
            [
             0.7777777777777778,
             "#fb9f3a"
            ],
            [
             0.8888888888888888,
             "#fdca26"
            ],
            [
             1,
             "#f0f921"
            ]
           ],
           "sequentialminus": [
            [
             0,
             "#0d0887"
            ],
            [
             0.1111111111111111,
             "#46039f"
            ],
            [
             0.2222222222222222,
             "#7201a8"
            ],
            [
             0.3333333333333333,
             "#9c179e"
            ],
            [
             0.4444444444444444,
             "#bd3786"
            ],
            [
             0.5555555555555556,
             "#d8576b"
            ],
            [
             0.6666666666666666,
             "#ed7953"
            ],
            [
             0.7777777777777778,
             "#fb9f3a"
            ],
            [
             0.8888888888888888,
             "#fdca26"
            ],
            [
             1,
             "#f0f921"
            ]
           ]
          },
          "colorway": [
           "#636efa",
           "#EF553B",
           "#00cc96",
           "#ab63fa",
           "#FFA15A",
           "#19d3f3",
           "#FF6692",
           "#B6E880",
           "#FF97FF",
           "#FECB52"
          ],
          "font": {
           "color": "#2a3f5f"
          },
          "geo": {
           "bgcolor": "white",
           "lakecolor": "white",
           "landcolor": "#E5ECF6",
           "showlakes": true,
           "showland": true,
           "subunitcolor": "white"
          },
          "hoverlabel": {
           "align": "left"
          },
          "hovermode": "closest",
          "mapbox": {
           "style": "light"
          },
          "paper_bgcolor": "white",
          "plot_bgcolor": "#E5ECF6",
          "polar": {
           "angularaxis": {
            "gridcolor": "white",
            "linecolor": "white",
            "ticks": ""
           },
           "bgcolor": "#E5ECF6",
           "radialaxis": {
            "gridcolor": "white",
            "linecolor": "white",
            "ticks": ""
           }
          },
          "scene": {
           "xaxis": {
            "backgroundcolor": "#E5ECF6",
            "gridcolor": "white",
            "gridwidth": 2,
            "linecolor": "white",
            "showbackground": true,
            "ticks": "",
            "zerolinecolor": "white"
           },
           "yaxis": {
            "backgroundcolor": "#E5ECF6",
            "gridcolor": "white",
            "gridwidth": 2,
            "linecolor": "white",
            "showbackground": true,
            "ticks": "",
            "zerolinecolor": "white"
           },
           "zaxis": {
            "backgroundcolor": "#E5ECF6",
            "gridcolor": "white",
            "gridwidth": 2,
            "linecolor": "white",
            "showbackground": true,
            "ticks": "",
            "zerolinecolor": "white"
           }
          },
          "shapedefaults": {
           "line": {
            "color": "#2a3f5f"
           }
          },
          "ternary": {
           "aaxis": {
            "gridcolor": "white",
            "linecolor": "white",
            "ticks": ""
           },
           "baxis": {
            "gridcolor": "white",
            "linecolor": "white",
            "ticks": ""
           },
           "bgcolor": "#E5ECF6",
           "caxis": {
            "gridcolor": "white",
            "linecolor": "white",
            "ticks": ""
           }
          },
          "title": {
           "x": 0.05
          },
          "xaxis": {
           "automargin": true,
           "gridcolor": "white",
           "linecolor": "white",
           "ticks": "",
           "title": {
            "standoff": 15
           },
           "zerolinecolor": "white",
           "zerolinewidth": 2
          },
          "yaxis": {
           "automargin": true,
           "gridcolor": "white",
           "linecolor": "white",
           "ticks": "",
           "title": {
            "standoff": 15
           },
           "zerolinecolor": "white",
           "zerolinewidth": 2
          }
         }
        },
        "title": {
         "text": "Heatmap (correlations)"
        },
        "width": 550,
        "xaxis": {
         "anchor": "y",
         "constrain": "domain",
         "domain": [
          0,
          1
         ],
         "scaleanchor": "y"
        },
        "yaxis": {
         "anchor": "x",
         "autorange": "reversed",
         "constrain": "domain",
         "domain": [
          0,
          1
         ]
        }
       }
      },
      "text/html": [
       "<div>                            <div id=\"ab104e19-0572-4dd2-9b59-f93d9cfdfbb4\" class=\"plotly-graph-div\" style=\"height:450px; width:550px;\"></div>            <script type=\"text/javascript\">                require([\"plotly\"], function(Plotly) {                    window.PLOTLYENV=window.PLOTLYENV || {};                                    if (document.getElementById(\"ab104e19-0572-4dd2-9b59-f93d9cfdfbb4\")) {                    Plotly.newPlot(                        \"ab104e19-0572-4dd2-9b59-f93d9cfdfbb4\",                        [{\"coloraxis\":\"coloraxis\",\"name\":\"0\",\"x\":[\"G\",\"MIN\",\"PTS\",\"FGM\",\"FGA\",\"FGP\",\"FTM\",\"FTA\",\"FTP\",\"3PM\",\"3PA\",\"3PP\",\"ORB\",\"DRB\",\"TRB\",\"AST\",\"STL\",\"BLK\",\"TO\",\"PF\"],\"y\":[\"G\",\"MIN\",\"PTS\",\"FGM\",\"FGA\",\"FGP\",\"FTM\",\"FTA\",\"FTP\",\"3PM\",\"3PA\",\"3PP\",\"ORB\",\"DRB\",\"TRB\",\"AST\",\"STL\",\"BLK\",\"TO\",\"PF\"],\"z\":[[1.0,0.1868660754978512,0.06309907502362859,0.039921954333608727,-0.05958050533089827,0.18087541413017255,-0.011055736442072707,0.009983184377396573,0.03946855469357156,0.13876173421605778,0.10613156675378918,0.12493486843783694,0.05487623028763552,0.11533032260314414,0.09567975836127261,0.14244090955647357,-0.03383761556557499,0.12558700846258058,-0.05121832091547124,-0.028372377881469894],[0.1868660754978512,1.0,0.4038832845105591,0.29742008702655226,0.4131007766535303,-0.21801106736013365,0.2655620122614938,0.18187840729214388,0.22384508412890353,0.13441284948433682,0.1307340048043705,0.1067946735364012,-0.07328138518986904,0.04916501573134668,0.005782859244356887,0.27515056192298,0.3312949623633408,-0.06644297281556187,0.3169040648992993,-0.3876090168320948],[0.06309907502362859,0.4038832845105591,1.0,0.8522605401884633,0.8283916577194319,0.06716060427232214,0.6677855538265622,0.611409229432251,0.030490125157028636,0.028281076688258182,0.044990234012468946,0.007157228057855418,0.0075519000249138725,0.24915867292711172,0.17326111911895967,0.22079512721547545,0.3616973995606359,0.2368024134383341,0.3433039121805475,-0.15023279334120243],[0.039921954333608727,0.29742008702655226,0.8522605401884633,1.0,0.8710490149656311,0.26811777615850996,0.28111933358487184,0.2921597265213171,-0.12832992487385161,-0.23319114605734018,-0.21546737822390624,-0.09098044280910894,0.23089875503565474,0.3802769782537583,0.3442987993564014,0.10619794469698696,0.2177204211414009,0.330223851305533,0.14020493945531878,-0.11718791396205842],[-0.05958050533089827,0.4131007766535303,0.8283916577194319,0.8710490149656311,1.0,-0.23321190445489265,0.24964095305802247,0.17399901876212104,0.11344473082527493,0.09713928678512675,0.1350482814624411,-0.02322092286517947,-0.09673444212658334,0.07660167947417762,0.020818173089000067,0.1724068181059041,0.32757732757907027,-0.0006941467484904223,0.1579977757862594,-0.23565217266180719],[0.18087541413017255,-0.21801106736013365,0.06716060427232214,0.26811777615850996,-0.23321190445489265,1.0,0.06915820543456128,0.25423485807373963,-0.5240970394792257,-0.6372418019794551,-0.6739938421605077,-0.16103576338464756,0.6629322590222707,0.6145293719974788,0.6545991209135075,-0.1605283992644173,-0.2289276332433291,0.6757262484937764,-0.016608637041644447,0.2583010393432084],[-0.011055736442072707,0.2655620122614938,0.6677855538265622,0.28111933358487184,0.24964095305802247,0.06915820543456128,1.0,0.9463653378274011,-0.03253444928878545,-0.1442794935557571,-0.13095748703852145,-0.018012301309636113,0.011582410709798641,0.24017570978644986,0.1654591492343542,0.231773896883134,0.29957239058215485,0.23440222259044785,0.5394112899634508,0.032845458243639894],[0.009983184377396573,0.18187840729214388,0.611409229432251,0.2921597265213171,0.17399901876212104,0.25423485807373963,0.9463653378274011,1.0,-0.3343827020800476,-0.28576219643678974,-0.2673143178938503,-0.20842223836979878,0.21060830080234766,0.3964171883755596,0.3420487601789035,0.15522855589099818,0.2617159154497023,0.42116672436359553,0.52491293803187,0.11582903939119146],[0.03946855469357156,0.22384508412890353,0.030490125157028636,-0.12832992487385161,0.11344473082527493,-0.5240970394792257,-0.03253444928878545,-0.3343827020800476,1.0,0.5297982844412645,0.49859782409742565,0.6041573272059684,-0.6151594830907867,-0.5308266677352342,-0.5797978497299372,0.20050094692935932,0.06721096591434121,-0.5412539600227896,-0.024147762804920425,-0.2545168176385765],[0.13876173421605778,0.13441284948433682,0.028281076688258182,-0.23319114605734018,0.09713928678512675,-0.6372418019794551,-0.1442794935557571,-0.28576219643678974,0.5297982844412645,1.0,0.9857225106946768,0.3114004617453298,-0.6370581646274822,-0.5868550804265575,-0.6282408938142675,0.09331799855509912,0.16468364300165123,-0.4882877001717386,-0.10559659349245927,-0.2548500152672542],[0.10613156675378918,0.1307340048043705,0.044990234012468946,-0.21546737822390624,0.1350482814624411,-0.6739938421605077,-0.13095748703852145,-0.2673143178938503,0.49859782409742565,0.9857225106946768,1.0,0.2846768648571552,-0.653572270961753,-0.6117083125594132,-0.6508711670016443,0.15782710108316447,0.2406041913634245,-0.5179966547704652,-0.059772551237782245,-0.2713270121327521],[0.12493486843783694,0.1067946735364012,0.007157228057855418,-0.09098044280910894,-0.02322092286517947,-0.16103576338464756,-0.018012301309636113,-0.20842223836979878,0.6041573272059684,0.3114004617453298,0.2846768648571552,1.0,-0.3120456485378475,-0.2507111035852639,-0.27848060342040526,0.0356860067188278,-0.042273886614281955,-0.2560876512445696,0.09533252340653217,-0.06736764116498402],[0.05487623028763552,-0.07328138518986904,0.0075519000249138725,0.23089875503565474,-0.09673444212658334,0.6629322590222707,0.011582410709798641,0.21060830080234766,-0.6151594830907867,-0.6370581646274822,-0.653572270961753,-0.3120456485378475,1.0,0.8459005275015732,0.9343402704217844,-0.45574868217375386,-0.3284372291756443,0.7423408739371142,-0.12852466775921934,0.4118997653522604],[0.11533032260314414,0.04916501573134668,0.24915867292711172,0.3802769782537583,0.07660167947417762,0.6145293719974788,0.24017570978644986,0.3964171883755596,-0.5308266677352342,-0.5868550804265575,-0.6117083125594132,-0.2507111035852639,0.8459005275015732,1.0,0.9801480865136378,-0.396332978808143,-0.2650064221133856,0.7727074576479038,0.03085265141758624,0.4306966591969611],[0.09567975836127261,0.005782859244356887,0.17326111911895967,0.3442987993564014,0.020818173089000067,0.6545991209135075,0.1654591492343542,0.3420487601789035,-0.5797978497299372,-0.6282408938142675,-0.6508711670016443,-0.27848060342040526,0.9343402704217844,0.9801480865136378,1.0,-0.4334633610832066,-0.3026608848784627,0.7909287770918777,-0.02843047357525628,0.4347591461032271],[0.14244090955647357,0.27515056192298,0.22079512721547545,0.10619794469698696,0.1724068181059041,-0.1605283992644173,0.231773896883134,0.15522855589099818,0.20050094692935932,0.09331799855509912,0.15782710108316447,0.0356860067188278,-0.45574868217375386,-0.396332978808143,-0.4334633610832066,1.0,0.6246537350689835,-0.3205282783219342,0.5003816861932164,-0.4300831625006326],[-0.03383761556557499,0.3312949623633408,0.3616973995606359,0.2177204211414009,0.32757732757907027,-0.2289276332433291,0.29957239058215485,0.2617159154497023,0.06721096591434121,0.16468364300165123,0.2406041913634245,-0.042273886614281955,-0.3284372291756443,-0.2650064221133856,-0.3026608848784627,0.6246537350689835,1.0,-0.26378353486968675,0.45152434202890707,-0.19490911839796526],[0.12558700846258058,-0.06644297281556187,0.2368024134383341,0.330223851305533,-0.0006941467484904223,0.6757262484937764,0.23440222259044785,0.42116672436359553,-0.5412539600227896,-0.4882877001717386,-0.5179966547704652,-0.2560876512445696,0.7423408739371142,0.7727074576479038,0.7909287770918777,-0.3205282783219342,-0.26378353486968675,1.0,0.11675211848771384,0.3706175284416858],[-0.05121832091547124,0.3169040648992993,0.3433039121805475,0.14020493945531878,0.1579977757862594,-0.016608637041644447,0.5394112899634508,0.52491293803187,-0.024147762804920425,-0.10559659349245927,-0.059772551237782245,0.09533252340653217,-0.12852466775921934,0.03085265141758624,-0.02843047357525628,0.5003816861932164,0.45152434202890707,0.11675211848771384,1.0,0.07029692166477695],[-0.028372377881469894,-0.3876090168320948,-0.15023279334120243,-0.11718791396205842,-0.23565217266180719,0.2583010393432084,0.032845458243639894,0.11582903939119146,-0.2545168176385765,-0.2548500152672542,-0.2713270121327521,-0.06736764116498402,0.4118997653522604,0.4306966591969611,0.4347591461032271,-0.4300831625006326,-0.19490911839796526,0.3706175284416858,0.07029692166477695,1.0]],\"type\":\"heatmap\",\"xaxis\":\"x\",\"yaxis\":\"y\",\"hovertemplate\":\"x: %{x}<br>y: %{y}<br>color: %{z}<extra></extra>\"}],                        {\"template\":{\"data\":{\"bar\":[{\"error_x\":{\"color\":\"#2a3f5f\"},\"error_y\":{\"color\":\"#2a3f5f\"},\"marker\":{\"line\":{\"color\":\"#E5ECF6\",\"width\":0.5},\"pattern\":{\"fillmode\":\"overlay\",\"size\":10,\"solidity\":0.2}},\"type\":\"bar\"}],\"barpolar\":[{\"marker\":{\"line\":{\"color\":\"#E5ECF6\",\"width\":0.5},\"pattern\":{\"fillmode\":\"overlay\",\"size\":10,\"solidity\":0.2}},\"type\":\"barpolar\"}],\"carpet\":[{\"aaxis\":{\"endlinecolor\":\"#2a3f5f\",\"gridcolor\":\"white\",\"linecolor\":\"white\",\"minorgridcolor\":\"white\",\"startlinecolor\":\"#2a3f5f\"},\"baxis\":{\"endlinecolor\":\"#2a3f5f\",\"gridcolor\":\"white\",\"linecolor\":\"white\",\"minorgridcolor\":\"white\",\"startlinecolor\":\"#2a3f5f\"},\"type\":\"carpet\"}],\"choropleth\":[{\"colorbar\":{\"outlinewidth\":0,\"ticks\":\"\"},\"type\":\"choropleth\"}],\"contour\":[{\"colorbar\":{\"outlinewidth\":0,\"ticks\":\"\"},\"colorscale\":[[0.0,\"#0d0887\"],[0.1111111111111111,\"#46039f\"],[0.2222222222222222,\"#7201a8\"],[0.3333333333333333,\"#9c179e\"],[0.4444444444444444,\"#bd3786\"],[0.5555555555555556,\"#d8576b\"],[0.6666666666666666,\"#ed7953\"],[0.7777777777777778,\"#fb9f3a\"],[0.8888888888888888,\"#fdca26\"],[1.0,\"#f0f921\"]],\"type\":\"contour\"}],\"contourcarpet\":[{\"colorbar\":{\"outlinewidth\":0,\"ticks\":\"\"},\"type\":\"contourcarpet\"}],\"heatmap\":[{\"colorbar\":{\"outlinewidth\":0,\"ticks\":\"\"},\"colorscale\":[[0.0,\"#0d0887\"],[0.1111111111111111,\"#46039f\"],[0.2222222222222222,\"#7201a8\"],[0.3333333333333333,\"#9c179e\"],[0.4444444444444444,\"#bd3786\"],[0.5555555555555556,\"#d8576b\"],[0.6666666666666666,\"#ed7953\"],[0.7777777777777778,\"#fb9f3a\"],[0.8888888888888888,\"#fdca26\"],[1.0,\"#f0f921\"]],\"type\":\"heatmap\"}],\"heatmapgl\":[{\"colorbar\":{\"outlinewidth\":0,\"ticks\":\"\"},\"colorscale\":[[0.0,\"#0d0887\"],[0.1111111111111111,\"#46039f\"],[0.2222222222222222,\"#7201a8\"],[0.3333333333333333,\"#9c179e\"],[0.4444444444444444,\"#bd3786\"],[0.5555555555555556,\"#d8576b\"],[0.6666666666666666,\"#ed7953\"],[0.7777777777777778,\"#fb9f3a\"],[0.8888888888888888,\"#fdca26\"],[1.0,\"#f0f921\"]],\"type\":\"heatmapgl\"}],\"histogram\":[{\"marker\":{\"pattern\":{\"fillmode\":\"overlay\",\"size\":10,\"solidity\":0.2}},\"type\":\"histogram\"}],\"histogram2d\":[{\"colorbar\":{\"outlinewidth\":0,\"ticks\":\"\"},\"colorscale\":[[0.0,\"#0d0887\"],[0.1111111111111111,\"#46039f\"],[0.2222222222222222,\"#7201a8\"],[0.3333333333333333,\"#9c179e\"],[0.4444444444444444,\"#bd3786\"],[0.5555555555555556,\"#d8576b\"],[0.6666666666666666,\"#ed7953\"],[0.7777777777777778,\"#fb9f3a\"],[0.8888888888888888,\"#fdca26\"],[1.0,\"#f0f921\"]],\"type\":\"histogram2d\"}],\"histogram2dcontour\":[{\"colorbar\":{\"outlinewidth\":0,\"ticks\":\"\"},\"colorscale\":[[0.0,\"#0d0887\"],[0.1111111111111111,\"#46039f\"],[0.2222222222222222,\"#7201a8\"],[0.3333333333333333,\"#9c179e\"],[0.4444444444444444,\"#bd3786\"],[0.5555555555555556,\"#d8576b\"],[0.6666666666666666,\"#ed7953\"],[0.7777777777777778,\"#fb9f3a\"],[0.8888888888888888,\"#fdca26\"],[1.0,\"#f0f921\"]],\"type\":\"histogram2dcontour\"}],\"mesh3d\":[{\"colorbar\":{\"outlinewidth\":0,\"ticks\":\"\"},\"type\":\"mesh3d\"}],\"parcoords\":[{\"line\":{\"colorbar\":{\"outlinewidth\":0,\"ticks\":\"\"}},\"type\":\"parcoords\"}],\"pie\":[{\"automargin\":true,\"type\":\"pie\"}],\"scatter\":[{\"marker\":{\"colorbar\":{\"outlinewidth\":0,\"ticks\":\"\"}},\"type\":\"scatter\"}],\"scatter3d\":[{\"line\":{\"colorbar\":{\"outlinewidth\":0,\"ticks\":\"\"}},\"marker\":{\"colorbar\":{\"outlinewidth\":0,\"ticks\":\"\"}},\"type\":\"scatter3d\"}],\"scattercarpet\":[{\"marker\":{\"colorbar\":{\"outlinewidth\":0,\"ticks\":\"\"}},\"type\":\"scattercarpet\"}],\"scattergeo\":[{\"marker\":{\"colorbar\":{\"outlinewidth\":0,\"ticks\":\"\"}},\"type\":\"scattergeo\"}],\"scattergl\":[{\"marker\":{\"colorbar\":{\"outlinewidth\":0,\"ticks\":\"\"}},\"type\":\"scattergl\"}],\"scattermapbox\":[{\"marker\":{\"colorbar\":{\"outlinewidth\":0,\"ticks\":\"\"}},\"type\":\"scattermapbox\"}],\"scatterpolar\":[{\"marker\":{\"colorbar\":{\"outlinewidth\":0,\"ticks\":\"\"}},\"type\":\"scatterpolar\"}],\"scatterpolargl\":[{\"marker\":{\"colorbar\":{\"outlinewidth\":0,\"ticks\":\"\"}},\"type\":\"scatterpolargl\"}],\"scatterternary\":[{\"marker\":{\"colorbar\":{\"outlinewidth\":0,\"ticks\":\"\"}},\"type\":\"scatterternary\"}],\"surface\":[{\"colorbar\":{\"outlinewidth\":0,\"ticks\":\"\"},\"colorscale\":[[0.0,\"#0d0887\"],[0.1111111111111111,\"#46039f\"],[0.2222222222222222,\"#7201a8\"],[0.3333333333333333,\"#9c179e\"],[0.4444444444444444,\"#bd3786\"],[0.5555555555555556,\"#d8576b\"],[0.6666666666666666,\"#ed7953\"],[0.7777777777777778,\"#fb9f3a\"],[0.8888888888888888,\"#fdca26\"],[1.0,\"#f0f921\"]],\"type\":\"surface\"}],\"table\":[{\"cells\":{\"fill\":{\"color\":\"#EBF0F8\"},\"line\":{\"color\":\"white\"}},\"header\":{\"fill\":{\"color\":\"#C8D4E3\"},\"line\":{\"color\":\"white\"}},\"type\":\"table\"}]},\"layout\":{\"annotationdefaults\":{\"arrowcolor\":\"#2a3f5f\",\"arrowhead\":0,\"arrowwidth\":1},\"autotypenumbers\":\"strict\",\"coloraxis\":{\"colorbar\":{\"outlinewidth\":0,\"ticks\":\"\"}},\"colorscale\":{\"diverging\":[[0,\"#8e0152\"],[0.1,\"#c51b7d\"],[0.2,\"#de77ae\"],[0.3,\"#f1b6da\"],[0.4,\"#fde0ef\"],[0.5,\"#f7f7f7\"],[0.6,\"#e6f5d0\"],[0.7,\"#b8e186\"],[0.8,\"#7fbc41\"],[0.9,\"#4d9221\"],[1,\"#276419\"]],\"sequential\":[[0.0,\"#0d0887\"],[0.1111111111111111,\"#46039f\"],[0.2222222222222222,\"#7201a8\"],[0.3333333333333333,\"#9c179e\"],[0.4444444444444444,\"#bd3786\"],[0.5555555555555556,\"#d8576b\"],[0.6666666666666666,\"#ed7953\"],[0.7777777777777778,\"#fb9f3a\"],[0.8888888888888888,\"#fdca26\"],[1.0,\"#f0f921\"]],\"sequentialminus\":[[0.0,\"#0d0887\"],[0.1111111111111111,\"#46039f\"],[0.2222222222222222,\"#7201a8\"],[0.3333333333333333,\"#9c179e\"],[0.4444444444444444,\"#bd3786\"],[0.5555555555555556,\"#d8576b\"],[0.6666666666666666,\"#ed7953\"],[0.7777777777777778,\"#fb9f3a\"],[0.8888888888888888,\"#fdca26\"],[1.0,\"#f0f921\"]]},\"colorway\":[\"#636efa\",\"#EF553B\",\"#00cc96\",\"#ab63fa\",\"#FFA15A\",\"#19d3f3\",\"#FF6692\",\"#B6E880\",\"#FF97FF\",\"#FECB52\"],\"font\":{\"color\":\"#2a3f5f\"},\"geo\":{\"bgcolor\":\"white\",\"lakecolor\":\"white\",\"landcolor\":\"#E5ECF6\",\"showlakes\":true,\"showland\":true,\"subunitcolor\":\"white\"},\"hoverlabel\":{\"align\":\"left\"},\"hovermode\":\"closest\",\"mapbox\":{\"style\":\"light\"},\"paper_bgcolor\":\"white\",\"plot_bgcolor\":\"#E5ECF6\",\"polar\":{\"angularaxis\":{\"gridcolor\":\"white\",\"linecolor\":\"white\",\"ticks\":\"\"},\"bgcolor\":\"#E5ECF6\",\"radialaxis\":{\"gridcolor\":\"white\",\"linecolor\":\"white\",\"ticks\":\"\"}},\"scene\":{\"xaxis\":{\"backgroundcolor\":\"#E5ECF6\",\"gridcolor\":\"white\",\"gridwidth\":2,\"linecolor\":\"white\",\"showbackground\":true,\"ticks\":\"\",\"zerolinecolor\":\"white\"},\"yaxis\":{\"backgroundcolor\":\"#E5ECF6\",\"gridcolor\":\"white\",\"gridwidth\":2,\"linecolor\":\"white\",\"showbackground\":true,\"ticks\":\"\",\"zerolinecolor\":\"white\"},\"zaxis\":{\"backgroundcolor\":\"#E5ECF6\",\"gridcolor\":\"white\",\"gridwidth\":2,\"linecolor\":\"white\",\"showbackground\":true,\"ticks\":\"\",\"zerolinecolor\":\"white\"}},\"shapedefaults\":{\"line\":{\"color\":\"#2a3f5f\"}},\"ternary\":{\"aaxis\":{\"gridcolor\":\"white\",\"linecolor\":\"white\",\"ticks\":\"\"},\"baxis\":{\"gridcolor\":\"white\",\"linecolor\":\"white\",\"ticks\":\"\"},\"bgcolor\":\"#E5ECF6\",\"caxis\":{\"gridcolor\":\"white\",\"linecolor\":\"white\",\"ticks\":\"\"}},\"title\":{\"x\":0.05},\"xaxis\":{\"automargin\":true,\"gridcolor\":\"white\",\"linecolor\":\"white\",\"ticks\":\"\",\"title\":{\"standoff\":15},\"zerolinecolor\":\"white\",\"zerolinewidth\":2},\"yaxis\":{\"automargin\":true,\"gridcolor\":\"white\",\"linecolor\":\"white\",\"ticks\":\"\",\"title\":{\"standoff\":15},\"zerolinecolor\":\"white\",\"zerolinewidth\":2}}},\"xaxis\":{\"anchor\":\"y\",\"domain\":[0.0,1.0],\"scaleanchor\":\"y\",\"constrain\":\"domain\"},\"yaxis\":{\"anchor\":\"x\",\"domain\":[0.0,1.0],\"autorange\":\"reversed\",\"constrain\":\"domain\"},\"coloraxis\":{\"colorscale\":[[0.0,\"#0d0887\"],[0.1111111111111111,\"#46039f\"],[0.2222222222222222,\"#7201a8\"],[0.3333333333333333,\"#9c179e\"],[0.4444444444444444,\"#bd3786\"],[0.5555555555555556,\"#d8576b\"],[0.6666666666666666,\"#ed7953\"],[0.7777777777777778,\"#fb9f3a\"],[0.8888888888888888,\"#fdca26\"],[1.0,\"#f0f921\"]]},\"title\":{\"text\":\"Heatmap (correlations)\"},\"autosize\":false,\"width\":550,\"height\":450},                        {\"responsive\": true}                    ).then(function(){\n",
       "                            \n",
       "var gd = document.getElementById('ab104e19-0572-4dd2-9b59-f93d9cfdfbb4');\n",
       "var x = new MutationObserver(function (mutations, observer) {{\n",
       "        var display = window.getComputedStyle(gd).display;\n",
       "        if (!display || display === 'none') {{\n",
       "            console.log([gd, 'removed!']);\n",
       "            Plotly.purge(gd);\n",
       "            observer.disconnect();\n",
       "        }}\n",
       "}});\n",
       "\n",
       "// Listen for the removal of the full notebook cells\n",
       "var notebookContainer = gd.closest('#notebook-container');\n",
       "if (notebookContainer) {{\n",
       "    x.observe(notebookContainer, {childList: true});\n",
       "}}\n",
       "\n",
       "// Listen for the clearing of the current output cell\n",
       "var outputEl = gd.closest('.output');\n",
       "if (outputEl) {{\n",
       "    x.observe(outputEl, {childList: true});\n",
       "}}\n",
       "\n",
       "                        })                };                });            </script>        </div>"
      ]
     },
     "metadata": {},
     "output_type": "display_data"
    }
   ],
   "source": [
    "fig = px.imshow(df1_temp.corr(), title = \"Heatmap (correlations)\")\n",
    "\n",
    "fig.update_layout(\n",
    "    autosize=False,\n",
    "    width=550,\n",
    "    height=450)\n",
    "\n",
    "fig.show()"
   ]
  },
  {
   "cell_type": "markdown",
   "metadata": {},
   "source": [
    "## Spatial chart"
   ]
  },
  {
   "cell_type": "code",
   "execution_count": 46,
   "metadata": {
    "scrolled": true
   },
   "outputs": [
    {
     "data": {
      "text/html": [
       "<div style=\"width:100%;\"><div style=\"position:relative;width:100%;height:0;padding-bottom:60%;\"><span style=\"color:#565656\">Make this Notebook Trusted to load map: File -> Trust Notebook</span><iframe src=\"about:blank\" style=\"position:absolute;width:100%;height:100%;left:0;top:0;border:none !important;\" data-html=%3C%21DOCTYPE%20html%3E%0A%3Chead%3E%20%20%20%20%0A%20%20%20%20%3Cmeta%20http-equiv%3D%22content-type%22%20content%3D%22text/html%3B%20charset%3DUTF-8%22%20/%3E%0A%20%20%20%20%0A%20%20%20%20%20%20%20%20%3Cscript%3E%0A%20%20%20%20%20%20%20%20%20%20%20%20L_NO_TOUCH%20%3D%20false%3B%0A%20%20%20%20%20%20%20%20%20%20%20%20L_DISABLE_3D%20%3D%20false%3B%0A%20%20%20%20%20%20%20%20%3C/script%3E%0A%20%20%20%20%0A%20%20%20%20%3Cstyle%3Ehtml%2C%20body%20%7Bwidth%3A%20100%25%3Bheight%3A%20100%25%3Bmargin%3A%200%3Bpadding%3A%200%3B%7D%3C/style%3E%0A%20%20%20%20%3Cstyle%3E%23map%20%7Bposition%3Aabsolute%3Btop%3A0%3Bbottom%3A0%3Bright%3A0%3Bleft%3A0%3B%7D%3C/style%3E%0A%20%20%20%20%3Cscript%20src%3D%22https%3A//cdn.jsdelivr.net/npm/leaflet%401.6.0/dist/leaflet.js%22%3E%3C/script%3E%0A%20%20%20%20%3Cscript%20src%3D%22https%3A//code.jquery.com/jquery-1.12.4.min.js%22%3E%3C/script%3E%0A%20%20%20%20%3Cscript%20src%3D%22https%3A//maxcdn.bootstrapcdn.com/bootstrap/3.2.0/js/bootstrap.min.js%22%3E%3C/script%3E%0A%20%20%20%20%3Cscript%20src%3D%22https%3A//cdnjs.cloudflare.com/ajax/libs/Leaflet.awesome-markers/2.0.2/leaflet.awesome-markers.js%22%3E%3C/script%3E%0A%20%20%20%20%3Clink%20rel%3D%22stylesheet%22%20href%3D%22https%3A//cdn.jsdelivr.net/npm/leaflet%401.6.0/dist/leaflet.css%22/%3E%0A%20%20%20%20%3Clink%20rel%3D%22stylesheet%22%20href%3D%22https%3A//maxcdn.bootstrapcdn.com/bootstrap/3.2.0/css/bootstrap.min.css%22/%3E%0A%20%20%20%20%3Clink%20rel%3D%22stylesheet%22%20href%3D%22https%3A//maxcdn.bootstrapcdn.com/bootstrap/3.2.0/css/bootstrap-theme.min.css%22/%3E%0A%20%20%20%20%3Clink%20rel%3D%22stylesheet%22%20href%3D%22https%3A//maxcdn.bootstrapcdn.com/font-awesome/4.6.3/css/font-awesome.min.css%22/%3E%0A%20%20%20%20%3Clink%20rel%3D%22stylesheet%22%20href%3D%22https%3A//cdnjs.cloudflare.com/ajax/libs/Leaflet.awesome-markers/2.0.2/leaflet.awesome-markers.css%22/%3E%0A%20%20%20%20%3Clink%20rel%3D%22stylesheet%22%20href%3D%22https%3A//cdn.jsdelivr.net/gh/python-visualization/folium/folium/templates/leaflet.awesome.rotate.min.css%22/%3E%0A%20%20%20%20%0A%20%20%20%20%20%20%20%20%20%20%20%20%3Cmeta%20name%3D%22viewport%22%20content%3D%22width%3Ddevice-width%2C%0A%20%20%20%20%20%20%20%20%20%20%20%20%20%20%20%20initial-scale%3D1.0%2C%20maximum-scale%3D1.0%2C%20user-scalable%3Dno%22%20/%3E%0A%20%20%20%20%20%20%20%20%20%20%20%20%3Cstyle%3E%0A%20%20%20%20%20%20%20%20%20%20%20%20%20%20%20%20%23map_a3a1577cd814474abd11aa3471b7e15c%20%7B%0A%20%20%20%20%20%20%20%20%20%20%20%20%20%20%20%20%20%20%20%20position%3A%20relative%3B%0A%20%20%20%20%20%20%20%20%20%20%20%20%20%20%20%20%20%20%20%20width%3A%20100.0%25%3B%0A%20%20%20%20%20%20%20%20%20%20%20%20%20%20%20%20%20%20%20%20height%3A%20100.0%25%3B%0A%20%20%20%20%20%20%20%20%20%20%20%20%20%20%20%20%20%20%20%20left%3A%200.0%25%3B%0A%20%20%20%20%20%20%20%20%20%20%20%20%20%20%20%20%20%20%20%20top%3A%200.0%25%3B%0A%20%20%20%20%20%20%20%20%20%20%20%20%20%20%20%20%7D%0A%20%20%20%20%20%20%20%20%20%20%20%20%3C/style%3E%0A%20%20%20%20%20%20%20%20%0A%3C/head%3E%0A%3Cbody%3E%20%20%20%20%0A%20%20%20%20%0A%20%20%20%20%20%20%20%20%20%20%20%20%3Cdiv%20class%3D%22folium-map%22%20id%3D%22map_a3a1577cd814474abd11aa3471b7e15c%22%20%3E%3C/div%3E%0A%20%20%20%20%20%20%20%20%0A%3C/body%3E%0A%3Cscript%3E%20%20%20%20%0A%20%20%20%20%0A%20%20%20%20%20%20%20%20%20%20%20%20var%20map_a3a1577cd814474abd11aa3471b7e15c%20%3D%20L.map%28%0A%20%20%20%20%20%20%20%20%20%20%20%20%20%20%20%20%22map_a3a1577cd814474abd11aa3471b7e15c%22%2C%0A%20%20%20%20%20%20%20%20%20%20%20%20%20%20%20%20%7B%0A%20%20%20%20%20%20%20%20%20%20%20%20%20%20%20%20%20%20%20%20center%3A%20%5B40.0%2C%20-95.0%5D%2C%0A%20%20%20%20%20%20%20%20%20%20%20%20%20%20%20%20%20%20%20%20crs%3A%20L.CRS.EPSG3857%2C%0A%20%20%20%20%20%20%20%20%20%20%20%20%20%20%20%20%20%20%20%20zoom%3A%204%2C%0A%20%20%20%20%20%20%20%20%20%20%20%20%20%20%20%20%20%20%20%20zoomControl%3A%20true%2C%0A%20%20%20%20%20%20%20%20%20%20%20%20%20%20%20%20%20%20%20%20preferCanvas%3A%20false%2C%0A%20%20%20%20%20%20%20%20%20%20%20%20%20%20%20%20%7D%0A%20%20%20%20%20%20%20%20%20%20%20%20%29%3B%0A%0A%20%20%20%20%20%20%20%20%20%20%20%20%0A%0A%20%20%20%20%20%20%20%20%0A%20%20%20%20%0A%20%20%20%20%20%20%20%20%20%20%20%20var%20tile_layer_4a9dd3351e3a4bf18e160c9f48e3d213%20%3D%20L.tileLayer%28%0A%20%20%20%20%20%20%20%20%20%20%20%20%20%20%20%20%22https%3A//%7Bs%7D.tile.openstreetmap.org/%7Bz%7D/%7Bx%7D/%7By%7D.png%22%2C%0A%20%20%20%20%20%20%20%20%20%20%20%20%20%20%20%20%7B%22attribution%22%3A%20%22Data%20by%20%5Cu0026copy%3B%20%5Cu003ca%20href%3D%5C%22http%3A//openstreetmap.org%5C%22%5Cu003eOpenStreetMap%5Cu003c/a%5Cu003e%2C%20under%20%5Cu003ca%20href%3D%5C%22http%3A//www.openstreetmap.org/copyright%5C%22%5Cu003eODbL%5Cu003c/a%5Cu003e.%22%2C%20%22detectRetina%22%3A%20false%2C%20%22maxNativeZoom%22%3A%2018%2C%20%22maxZoom%22%3A%2018%2C%20%22minZoom%22%3A%200%2C%20%22noWrap%22%3A%20false%2C%20%22opacity%22%3A%201%2C%20%22subdomains%22%3A%20%22abc%22%2C%20%22tms%22%3A%20false%7D%0A%20%20%20%20%20%20%20%20%20%20%20%20%29.addTo%28map_a3a1577cd814474abd11aa3471b7e15c%29%3B%0A%20%20%20%20%20%20%20%20%0A%20%20%20%20%0A%20%20%20%20%20%20%20%20%20%20%20%20var%20marker_2db674ea02374f3c96c806f68e75c6a8%20%3D%20L.marker%28%0A%20%20%20%20%20%20%20%20%20%20%20%20%20%20%20%20%5B34.743094899999996%2C%20-86.6009553%5D%2C%0A%20%20%20%20%20%20%20%20%20%20%20%20%20%20%20%20%7B%7D%0A%20%20%20%20%20%20%20%20%20%20%20%20%29.addTo%28map_a3a1577cd814474abd11aa3471b7e15c%29%3B%0A%20%20%20%20%20%20%20%20%0A%20%20%20%20%0A%20%20%20%20%20%20%20%20%20%20%20%20var%20marker_52a1b64225654f3088818a8852435e92%20%3D%20L.marker%28%0A%20%20%20%20%20%20%20%20%20%20%20%20%20%20%20%20%5B33.377649%2C%20-86.81241999999999%5D%2C%0A%20%20%20%20%20%20%20%20%20%20%20%20%20%20%20%20%7B%7D%0A%20%20%20%20%20%20%20%20%20%20%20%20%29.addTo%28map_a3a1577cd814474abd11aa3471b7e15c%29%3B%0A%20%20%20%20%20%20%20%20%0A%20%20%20%20%0A%20%20%20%20%20%20%20%20%20%20%20%20var%20marker_0d69e1b05c324421a830b71471de3220%20%3D%20L.marker%28%0A%20%20%20%20%20%20%20%20%20%20%20%20%20%20%20%20%5B32.363889%2C%20-86.15088399999999%5D%2C%0A%20%20%20%20%20%20%20%20%20%20%20%20%20%20%20%20%7B%7D%0A%20%20%20%20%20%20%20%20%20%20%20%20%29.addTo%28map_a3a1577cd814474abd11aa3471b7e15c%29%3B%0A%20%20%20%20%20%20%20%20%0A%20%20%20%20%0A%20%20%20%20%20%20%20%20%20%20%20%20var%20marker_67b8cc57e3f345e3a48a814e52c9ae1e%20%3D%20L.marker%28%0A%20%20%20%20%20%20%20%20%20%20%20%20%20%20%20%20%5B58.3592%2C%20-134.483%5D%2C%0A%20%20%20%20%20%20%20%20%20%20%20%20%20%20%20%20%7B%7D%0A%20%20%20%20%20%20%20%20%20%20%20%20%29.addTo%28map_a3a1577cd814474abd11aa3471b7e15c%29%3B%0A%20%20%20%20%20%20%20%20%0A%20%20%20%20%0A%20%20%20%20%20%20%20%20%20%20%20%20var%20marker_1775c7d2a3ae4d37bb4a17e544fbb166%20%3D%20L.marker%28%0A%20%20%20%20%20%20%20%20%20%20%20%20%20%20%20%20%5B61.143266000000004%2C%20-149.884217%5D%2C%0A%20%20%20%20%20%20%20%20%20%20%20%20%20%20%20%20%7B%7D%0A%20%20%20%20%20%20%20%20%20%20%20%20%29.addTo%28map_a3a1577cd814474abd11aa3471b7e15c%29%3B%0A%20%20%20%20%20%20%20%20%0A%20%20%20%20%0A%20%20%20%20%20%20%20%20%20%20%20%20var%20marker_f9a83ab51b0841599ef714ca3250ebbc%20%3D%20L.marker%28%0A%20%20%20%20%20%20%20%20%20%20%20%20%20%20%20%20%5B61.210815000000004%2C%20-149.804337%5D%2C%0A%20%20%20%20%20%20%20%20%20%20%20%20%20%20%20%20%7B%7D%0A%20%20%20%20%20%20%20%20%20%20%20%20%29.addTo%28map_a3a1577cd814474abd11aa3471b7e15c%29%3B%0A%20%20%20%20%20%20%20%20%0A%20%20%20%20%0A%20%20%20%20%20%20%20%20%20%20%20%20var%20marker_110ea36f208b4849855eaf9f3de2df76%20%3D%20L.marker%28%0A%20%20%20%20%20%20%20%20%20%20%20%20%20%20%20%20%5B34.548992999999996%2C%20-112.3954274%5D%2C%0A%20%20%20%20%20%20%20%20%20%20%20%20%20%20%20%20%7B%7D%0A%20%20%20%20%20%20%20%20%20%20%20%20%29.addTo%28map_a3a1577cd814474abd11aa3471b7e15c%29%3B%0A%20%20%20%20%20%20%20%20%0A%20%20%20%20%0A%20%20%20%20%20%20%20%20%20%20%20%20var%20marker_20c5eb86e42f449685f0cb696d1a445d%20%3D%20L.marker%28%0A%20%20%20%20%20%20%20%20%20%20%20%20%20%20%20%20%5B32.326217699999994%2C%20-111.0491606%5D%2C%0A%20%20%20%20%20%20%20%20%20%20%20%20%20%20%20%20%7B%7D%0A%20%20%20%20%20%20%20%20%20%20%20%20%29.addTo%28map_a3a1577cd814474abd11aa3471b7e15c%29%3B%0A%20%20%20%20%20%20%20%20%0A%20%20%20%20%0A%20%20%20%20%20%20%20%20%20%20%20%20var%20marker_6f9803f3d9ca4a07a8a4de1352d2f2c1%20%3D%20L.marker%28%0A%20%20%20%20%20%20%20%20%20%20%20%20%20%20%20%20%5B32.2522189%2C%20-110.859554%5D%2C%0A%20%20%20%20%20%20%20%20%20%20%20%20%20%20%20%20%7B%7D%0A%20%20%20%20%20%20%20%20%20%20%20%20%29.addTo%28map_a3a1577cd814474abd11aa3471b7e15c%29%3B%0A%20%20%20%20%20%20%20%20%0A%20%20%20%20%0A%20%20%20%20%20%20%20%20%20%20%20%20var%20marker_dd85d62d7f5143f2afdccb040f42b704%20%3D%20L.marker%28%0A%20%20%20%20%20%20%20%20%20%20%20%20%20%20%20%20%5B33.643277000000005%2C%20-112.233474%5D%2C%0A%20%20%20%20%20%20%20%20%20%20%20%20%20%20%20%20%7B%7D%0A%20%20%20%20%20%20%20%20%20%20%20%20%29.addTo%28map_a3a1577cd814474abd11aa3471b7e15c%29%3B%0A%20%20%20%20%20%20%20%20%0A%20%20%20%20%0A%20%20%20%20%20%20%20%20%20%20%20%20var%20marker_90016c34cdf64fc38d3f83a435b0086a%20%3D%20L.marker%28%0A%20%20%20%20%20%20%20%20%20%20%20%20%20%20%20%20%5B33.296095%2C%20-111.74564699999999%5D%2C%0A%20%20%20%20%20%20%20%20%20%20%20%20%20%20%20%20%7B%7D%0A%20%20%20%20%20%20%20%20%20%20%20%20%29.addTo%28map_a3a1577cd814474abd11aa3471b7e15c%29%3B%0A%20%20%20%20%20%20%20%20%0A%20%20%20%20%0A%20%20%20%20%20%20%20%20%20%20%20%20var%20marker_a379f36c54a44456862429eaf3acdf2d%20%3D%20L.marker%28%0A%20%20%20%20%20%20%20%20%20%20%20%20%20%20%20%20%5B33.347289%2C%20-111.96186200000001%5D%2C%0A%20%20%20%20%20%20%20%20%20%20%20%20%20%20%20%20%7B%7D%0A%20%20%20%20%20%20%20%20%20%20%20%20%29.addTo%28map_a3a1577cd814474abd11aa3471b7e15c%29%3B%0A%20%20%20%20%20%20%20%20%0A%20%20%20%20%0A%20%20%20%20%20%20%20%20%20%20%20%20var%20marker_03ef349148054b8f90fb8a2841dde854%20%3D%20L.marker%28%0A%20%20%20%20%20%20%20%20%20%20%20%20%20%20%20%20%5B33.624134399999996%2C%20-111.90191180000001%5D%2C%0A%20%20%20%20%20%20%20%20%20%20%20%20%20%20%20%20%7B%7D%0A%20%20%20%20%20%20%20%20%20%20%20%20%29.addTo%28map_a3a1577cd814474abd11aa3471b7e15c%29%3B%0A%20%20%20%20%20%20%20%20%0A%20%20%20%20%0A%20%20%20%20%20%20%20%20%20%20%20%20var%20marker_a9eec45c13ed47d5863a85bb7036c241%20%3D%20L.marker%28%0A%20%20%20%20%20%20%20%20%20%20%20%20%20%20%20%20%5B33.376244%2C%20-111.84076499999999%5D%2C%0A%20%20%20%20%20%20%20%20%20%20%20%20%20%20%20%20%7B%7D%0A%20%20%20%20%20%20%20%20%20%20%20%20%29.addTo%28map_a3a1577cd814474abd11aa3471b7e15c%29%3B%0A%20%20%20%20%20%20%20%20%0A%20%20%20%20%0A%20%20%20%20%20%20%20%20%20%20%20%20var%20marker_f39c4187cddd490ab7beb7c51435923a%20%3D%20L.marker%28%0A%20%20%20%20%20%20%20%20%20%20%20%20%20%20%20%20%5B33.293696000000004%2C%20-111.89950900000001%5D%2C%0A%20%20%20%20%20%20%20%20%20%20%20%20%20%20%20%20%7B%7D%0A%20%20%20%20%20%20%20%20%20%20%20%20%29.addTo%28map_a3a1577cd814474abd11aa3471b7e15c%29%3B%0A%20%20%20%20%20%20%20%20%0A%20%20%20%20%0A%20%20%20%20%20%20%20%20%20%20%20%20var%20marker_2c58070c2ae5410191c5aa5d725c5c0d%20%3D%20L.marker%28%0A%20%20%20%20%20%20%20%20%20%20%20%20%20%20%20%20%5B33.3886808%2C%20-111.6675437%5D%2C%0A%20%20%20%20%20%20%20%20%20%20%20%20%20%20%20%20%7B%7D%0A%20%20%20%20%20%20%20%20%20%20%20%20%29.addTo%28map_a3a1577cd814474abd11aa3471b7e15c%29%3B%0A%20%20%20%20%20%20%20%20%0A%20%20%20%20%0A%20%20%20%20%20%20%20%20%20%20%20%20var%20marker_514d165d55634f98bf7982cfd0de8897%20%3D%20L.marker%28%0A%20%20%20%20%20%20%20%20%20%20%20%20%20%20%20%20%5B33.670943%2C%20-112.028124%5D%2C%0A%20%20%20%20%20%20%20%20%20%20%20%20%20%20%20%20%7B%7D%0A%20%20%20%20%20%20%20%20%20%20%20%20%29.addTo%28map_a3a1577cd814474abd11aa3471b7e15c%29%3B%0A%20%20%20%20%20%20%20%20%0A%20%20%20%20%0A%20%20%20%20%20%20%20%20%20%20%20%20var%20marker_7187ebd8abbe4fa2a5438acb3a1b8bcd%20%3D%20L.marker%28%0A%20%20%20%20%20%20%20%20%20%20%20%20%20%20%20%20%5B33.659688%2C%20-112.11584099999999%5D%2C%0A%20%20%20%20%20%20%20%20%20%20%20%20%20%20%20%20%7B%7D%0A%20%20%20%20%20%20%20%20%20%20%20%20%29.addTo%28map_a3a1577cd814474abd11aa3471b7e15c%29%3B%0A%20%20%20%20%20%20%20%20%0A%20%20%20%20%0A%20%20%20%20%20%20%20%20%20%20%20%20var%20marker_9c287675a0d24477a33c6a32354de8bd%20%3D%20L.marker%28%0A%20%20%20%20%20%20%20%20%20%20%20%20%20%20%20%20%5B33.49179%2C%20-112.12837900000001%5D%2C%0A%20%20%20%20%20%20%20%20%20%20%20%20%20%20%20%20%7B%7D%0A%20%20%20%20%20%20%20%20%20%20%20%20%29.addTo%28map_a3a1577cd814474abd11aa3471b7e15c%29%3B%0A%20%20%20%20%20%20%20%20%0A%20%20%20%20%0A%20%20%20%20%20%20%20%20%20%20%20%20var%20marker_b69e3fc919694803a927dd75f8627c4e%20%3D%20L.marker%28%0A%20%20%20%20%20%20%20%20%20%20%20%20%20%20%20%20%5B33.5206919%2C%20-112.09518899999999%5D%2C%0A%20%20%20%20%20%20%20%20%20%20%20%20%20%20%20%20%7B%7D%0A%20%20%20%20%20%20%20%20%20%20%20%20%29.addTo%28map_a3a1577cd814474abd11aa3471b7e15c%29%3B%0A%20%20%20%20%20%20%20%20%0A%20%20%20%20%0A%20%20%20%20%20%20%20%20%20%20%20%20var%20marker_dc2de5cb4c524a7eac8aaffebba7bbf4%20%3D%20L.marker%28%0A%20%20%20%20%20%20%20%20%20%20%20%20%20%20%20%20%5B33.473335%2C%20-111.98553100000001%5D%2C%0A%20%20%20%20%20%20%20%20%20%20%20%20%20%20%20%20%7B%7D%0A%20%20%20%20%20%20%20%20%20%20%20%20%29.addTo%28map_a3a1577cd814474abd11aa3471b7e15c%29%3B%0A%20%20%20%20%20%20%20%20%0A%20%20%20%20%0A%20%20%20%20%20%20%20%20%20%20%20%20var%20marker_f8c44bee47d2478a84552bae5c23f909%20%3D%20L.marker%28%0A%20%20%20%20%20%20%20%20%20%20%20%20%20%20%20%20%5B33.467156%2C%20-112.274404%5D%2C%0A%20%20%20%20%20%20%20%20%20%20%20%20%20%20%20%20%7B%7D%0A%20%20%20%20%20%20%20%20%20%20%20%20%29.addTo%28map_a3a1577cd814474abd11aa3471b7e15c%29%3B%0A%20%20%20%20%20%20%20%20%0A%20%20%20%20%0A%20%20%20%20%20%20%20%20%20%20%20%20var%20marker_4f406f1cbd954a10ad20dd20a5e37725%20%3D%20L.marker%28%0A%20%20%20%20%20%20%20%20%20%20%20%20%20%20%20%20%5B33.600961%2C%20-111.98379299999999%5D%2C%0A%20%20%20%20%20%20%20%20%20%20%20%20%20%20%20%20%7B%7D%0A%20%20%20%20%20%20%20%20%20%20%20%20%29.addTo%28map_a3a1577cd814474abd11aa3471b7e15c%29%3B%0A%20%20%20%20%20%20%20%20%0A%20%20%20%20%0A%20%20%20%20%20%20%20%20%20%20%20%20var%20marker_d411be4cef524b8598c7bd0855e516a8%20%3D%20L.marker%28%0A%20%20%20%20%20%20%20%20%20%20%20%20%20%20%20%20%5B32.7789832%2C%20-117.1269067%5D%2C%0A%20%20%20%20%20%20%20%20%20%20%20%20%20%20%20%20%7B%7D%0A%20%20%20%20%20%20%20%20%20%20%20%20%29.addTo%28map_a3a1577cd814474abd11aa3471b7e15c%29%3B%0A%20%20%20%20%20%20%20%20%0A%20%20%20%20%0A%20%20%20%20%20%20%20%20%20%20%20%20var%20marker_28ea70aaf64546d792a8a1fd213d7c07%20%3D%20L.marker%28%0A%20%20%20%20%20%20%20%20%20%20%20%20%20%20%20%20%5B40.586449%2C%20-122.345675%5D%2C%0A%20%20%20%20%20%20%20%20%20%20%20%20%20%20%20%20%7B%7D%0A%20%20%20%20%20%20%20%20%20%20%20%20%29.addTo%28map_a3a1577cd814474abd11aa3471b7e15c%29%3B%0A%20%20%20%20%20%20%20%20%0A%20%20%20%20%0A%20%20%20%20%20%20%20%20%20%20%20%20var%20marker_0e0cbee583774713a0c5a50b97c3bf62%20%3D%20L.marker%28%0A%20%20%20%20%20%20%20%20%20%20%20%20%20%20%20%20%5B39.7214025%2C%20-121.8096578%5D%2C%0A%20%20%20%20%20%20%20%20%20%20%20%20%20%20%20%20%7B%7D%0A%20%20%20%20%20%20%20%20%20%20%20%20%29.addTo%28map_a3a1577cd814474abd11aa3471b7e15c%29%3B%0A%20%20%20%20%20%20%20%20%0A%20%20%20%20%0A%20%20%20%20%20%20%20%20%20%20%20%20var%20marker_1b75f94bc0824be6be1896001675fa45%20%3D%20L.marker%28%0A%20%20%20%20%20%20%20%20%20%20%20%20%20%20%20%20%5B38.4677597%2C%20-121.41540690000001%5D%2C%0A%20%20%20%20%20%20%20%20%20%20%20%20%20%20%20%20%7B%7D%0A%20%20%20%20%20%20%20%20%20%20%20%20%29.addTo%28map_a3a1577cd814474abd11aa3471b7e15c%29%3B%0A%20%20%20%20%20%20%20%20%0A%20%20%20%20%0A%20%20%20%20%20%20%20%20%20%20%20%20var%20marker_32ebec1cdc0542629ce92874e24e3f7d%20%3D%20L.marker%28%0A%20%20%20%20%20%20%20%20%20%20%20%20%20%20%20%20%5B38.597139%2C%20-121.452409%5D%2C%0A%20%20%20%20%20%20%20%20%20%20%20%20%20%20%20%20%7B%7D%0A%20%20%20%20%20%20%20%20%20%20%20%20%29.addTo%28map_a3a1577cd814474abd11aa3471b7e15c%29%3B%0A%20%20%20%20%20%20%20%20%0A%20%20%20%20%0A%20%20%20%20%20%20%20%20%20%20%20%20var%20marker_ef5fd01d98244f8e8c1df4d9011bb093%20%3D%20L.marker%28%0A%20%20%20%20%20%20%20%20%20%20%20%20%20%20%20%20%5B38.6699409%2C%20-121.7259571%5D%2C%0A%20%20%20%20%20%20%20%20%20%20%20%20%20%20%20%20%7B%7D%0A%20%20%20%20%20%20%20%20%20%20%20%20%29.addTo%28map_a3a1577cd814474abd11aa3471b7e15c%29%3B%0A%20%20%20%20%20%20%20%20%0A%20%20%20%20%0A%20%20%20%20%20%20%20%20%20%20%20%20var%20marker_7b2e501c1a7545d2ad7896feb1b97f76%20%3D%20L.marker%28%0A%20%20%20%20%20%20%20%20%20%20%20%20%20%20%20%20%5B38.588195%2C%20-121.263769%5D%2C%0A%20%20%20%20%20%20%20%20%20%20%20%20%20%20%20%20%7B%7D%0A%20%20%20%20%20%20%20%20%20%20%20%20%29.addTo%28map_a3a1577cd814474abd11aa3471b7e15c%29%3B%0A%20%20%20%20%20%20%20%20%0A%20%20%20%20%0A%20%20%20%20%20%20%20%20%20%20%20%20var%20marker_a21c7ee28370476c9295a1925c78cf40%20%3D%20L.marker%28%0A%20%20%20%20%20%20%20%20%20%20%20%20%20%20%20%20%5B38.780609999999996%2C%20-121.267423%5D%2C%0A%20%20%20%20%20%20%20%20%20%20%20%20%20%20%20%20%7B%7D%0A%20%20%20%20%20%20%20%20%20%20%20%20%29.addTo%28map_a3a1577cd814474abd11aa3471b7e15c%29%3B%0A%20%20%20%20%20%20%20%20%0A%20%20%20%20%0A%20%20%20%20%20%20%20%20%20%20%20%20var%20marker_149de5a12cfd43db911f74db9b4e55cb%20%3D%20L.marker%28%0A%20%20%20%20%20%20%20%20%20%20%20%20%20%20%20%20%5B38.645206%2C%20-121.10959799999999%5D%2C%0A%20%20%20%20%20%20%20%20%20%20%20%20%20%20%20%20%7B%7D%0A%20%20%20%20%20%20%20%20%20%20%20%20%29.addTo%28map_a3a1577cd814474abd11aa3471b7e15c%29%3B%0A%20%20%20%20%20%20%20%20%0A%20%20%20%20%0A%20%20%20%20%20%20%20%20%20%20%20%20var%20marker_d65ad0bfa3b44f41b1f302e9e88ceed9%20%3D%20L.marker%28%0A%20%20%20%20%20%20%20%20%20%20%20%20%20%20%20%20%5B38.6903%2C%20-121.29858999999999%5D%2C%0A%20%20%20%20%20%20%20%20%20%20%20%20%20%20%20%20%7B%7D%0A%20%20%20%20%20%20%20%20%20%20%20%20%29.addTo%28map_a3a1577cd814474abd11aa3471b7e15c%29%3B%0A%20%20%20%20%20%20%20%20%0A%20%20%20%20%0A%20%20%20%20%20%20%20%20%20%20%20%20var%20marker_80f33ad7731e4c70a0d0cf6d5d601eed%20%3D%20L.marker%28%0A%20%20%20%20%20%20%20%20%20%20%20%20%20%20%20%20%5B40.7919385%2C%20-124.1825438%5D%2C%0A%20%20%20%20%20%20%20%20%20%20%20%20%20%20%20%20%7B%7D%0A%20%20%20%20%20%20%20%20%20%20%20%20%29.addTo%28map_a3a1577cd814474abd11aa3471b7e15c%29%3B%0A%20%20%20%20%20%20%20%20%0A%20%20%20%20%0A%20%20%20%20%20%20%20%20%20%20%20%20var%20marker_f0c4339684a04111a1cf20225e1e6dec%20%3D%20L.marker%28%0A%20%20%20%20%20%20%20%20%20%20%20%20%20%20%20%20%5B38.420456200000004%2C%20-122.7134804%5D%2C%0A%20%20%20%20%20%20%20%20%20%20%20%20%20%20%20%20%7B%7D%0A%20%20%20%20%20%20%20%20%20%20%20%20%29.addTo%28map_a3a1577cd814474abd11aa3471b7e15c%29%3B%0A%20%20%20%20%20%20%20%20%0A%20%20%20%20%0A%20%20%20%20%20%20%20%20%20%20%20%20var%20marker_4c27cdac4fd9481c9d5072e91fcdecd0%20%3D%20L.marker%28%0A%20%20%20%20%20%20%20%20%20%20%20%20%20%20%20%20%5B37.7003612%2C%20-121.06713859999999%5D%2C%0A%20%20%20%20%20%20%20%20%20%20%20%20%20%20%20%20%7B%7D%0A%20%20%20%20%20%20%20%20%20%20%20%20%29.addTo%28map_a3a1577cd814474abd11aa3471b7e15c%29%3B%0A%20%20%20%20%20%20%20%20%0A%20%20%20%20%0A%20%20%20%20%20%20%20%20%20%20%20%20var%20marker_0a525bbc34bd4891be787cc42505415e%20%3D%20L.marker%28%0A%20%20%20%20%20%20%20%20%20%20%20%20%20%20%20%20%5B37.3019943%2C%20-120.49400120000001%5D%2C%0A%20%20%20%20%20%20%20%20%20%20%20%20%20%20%20%20%7B%7D%0A%20%20%20%20%20%20%20%20%20%20%20%20%29.addTo%28map_a3a1577cd814474abd11aa3471b7e15c%29%3B%0A%20%20%20%20%20%20%20%20%0A%20%20%20%20%0A%20%20%20%20%20%20%20%20%20%20%20%20var%20marker_c0ce3ae3c3d241bf801d97bcab91f9bf%20%3D%20L.marker%28%0A%20%20%20%20%20%20%20%20%20%20%20%20%20%20%20%20%5B37.784874%2C%20-121.26001399999998%5D%2C%0A%20%20%20%20%20%20%20%20%20%20%20%20%20%20%20%20%7B%7D%0A%20%20%20%20%20%20%20%20%20%20%20%20%29.addTo%28map_a3a1577cd814474abd11aa3471b7e15c%29%3B%0A%20%20%20%20%20%20%20%20%0A%20%20%20%20%0A%20%20%20%20%20%20%20%20%20%20%20%20var%20marker_76f9a4272196475caed4920da44dd3c0%20%3D%20L.marker%28%0A%20%20%20%20%20%20%20%20%20%20%20%20%20%20%20%20%5B38.018791%2C%20-121.29275700000001%5D%2C%0A%20%20%20%20%20%20%20%20%20%20%20%20%20%20%20%20%7B%7D%0A%20%20%20%20%20%20%20%20%20%20%20%20%29.addTo%28map_a3a1577cd814474abd11aa3471b7e15c%29%3B%0A%20%20%20%20%20%20%20%20%0A%20%20%20%20%0A%20%20%20%20%20%20%20%20%20%20%20%20var%20marker_ffea6ccb911a4ea4a936ec2aabd09130%20%3D%20L.marker%28%0A%20%20%20%20%20%20%20%20%20%20%20%20%20%20%20%20%5B37.3886293%2C%20-121.8829132%5D%2C%0A%20%20%20%20%20%20%20%20%20%20%20%20%20%20%20%20%7B%7D%0A%20%20%20%20%20%20%20%20%20%20%20%20%29.addTo%28map_a3a1577cd814474abd11aa3471b7e15c%29%3B%0A%20%20%20%20%20%20%20%20%0A%20%20%20%20%0A%20%20%20%20%20%20%20%20%20%20%20%20var%20marker_3739294b8dd64be4a7d8c34c48640120%20%3D%20L.marker%28%0A%20%20%20%20%20%20%20%20%20%20%20%20%20%20%20%20%5B37.253214%2C%20-121.879999%5D%2C%0A%20%20%20%20%20%20%20%20%20%20%20%20%20%20%20%20%7B%7D%0A%20%20%20%20%20%20%20%20%20%20%20%20%29.addTo%28map_a3a1577cd814474abd11aa3471b7e15c%29%3B%0A%20%20%20%20%20%20%20%20%0A%20%20%20%20%0A%20%20%20%20%20%20%20%20%20%20%20%20var%20marker_c12dfadd5c2442a89b3820974b975ae9%20%3D%20L.marker%28%0A%20%20%20%20%20%20%20%20%20%20%20%20%20%20%20%20%5B37.309657%2C%20-121.85157099999999%5D%2C%0A%20%20%20%20%20%20%20%20%20%20%20%20%20%20%20%20%7B%7D%0A%20%20%20%20%20%20%20%20%20%20%20%20%29.addTo%28map_a3a1577cd814474abd11aa3471b7e15c%29%3B%0A%20%20%20%20%20%20%20%20%0A%20%20%20%20%0A%20%20%20%20%20%20%20%20%20%20%20%20var%20marker_1d1f1f491f8944bf89462bb0f0a486e2%20%3D%20L.marker%28%0A%20%20%20%20%20%20%20%20%20%20%20%20%20%20%20%20%5B36.985104%2C%20-122.033615%5D%2C%0A%20%20%20%20%20%20%20%20%20%20%20%20%20%20%20%20%7B%7D%0A%20%20%20%20%20%20%20%20%20%20%20%20%29.addTo%28map_a3a1577cd814474abd11aa3471b7e15c%29%3B%0A%20%20%20%20%20%20%20%20%0A%20%20%20%20%0A%20%20%20%20%20%20%20%20%20%20%20%20var%20marker_c8fa81243be24fdda1f631b7972139e6%20%3D%20L.marker%28%0A%20%20%20%20%20%20%20%20%20%20%20%20%20%20%20%20%5B37.357021%2C%20-121.93884299999999%5D%2C%0A%20%20%20%20%20%20%20%20%20%20%20%20%20%20%20%20%7B%7D%0A%20%20%20%20%20%20%20%20%20%20%20%20%29.addTo%28map_a3a1577cd814474abd11aa3471b7e15c%29%3B%0A%20%20%20%20%20%20%20%20%0A%20%20%20%20%0A%20%20%20%20%20%20%20%20%20%20%20%20var%20marker_d546ea6999ce4930b08fe414cdab8b4f%20%3D%20L.marker%28%0A%20%20%20%20%20%20%20%20%20%20%20%20%20%20%20%20%5B38.087238%2C%20-122.551076%5D%2C%0A%20%20%20%20%20%20%20%20%20%20%20%20%20%20%20%20%7B%7D%0A%20%20%20%20%20%20%20%20%20%20%20%20%29.addTo%28map_a3a1577cd814474abd11aa3471b7e15c%29%3B%0A%20%20%20%20%20%20%20%20%0A%20%20%20%20%0A%20%20%20%20%20%20%20%20%20%20%20%20var%20marker_962a7016646d490791ab7603b9267c4b%20%3D%20L.marker%28%0A%20%20%20%20%20%20%20%20%20%20%20%20%20%20%20%20%5B37.898773999999996%2C%20-122.320125%5D%2C%0A%20%20%20%20%20%20%20%20%20%20%20%20%20%20%20%20%7B%7D%0A%20%20%20%20%20%20%20%20%20%20%20%20%29.addTo%28map_a3a1577cd814474abd11aa3471b7e15c%29%3B%0A%20%20%20%20%20%20%20%20%0A%20%20%20%20%0A%20%20%20%20%20%20%20%20%20%20%20%20var%20marker_dafacb41e68049f097e960cebea5c630%20%3D%20L.marker%28%0A%20%20%20%20%20%20%20%20%20%20%20%20%20%20%20%20%5B38.133192%2C%20-122.21374499999999%5D%2C%0A%20%20%20%20%20%20%20%20%20%20%20%20%20%20%20%20%7B%7D%0A%20%20%20%20%20%20%20%20%20%20%20%20%29.addTo%28map_a3a1577cd814474abd11aa3471b7e15c%29%3B%0A%20%20%20%20%20%20%20%20%0A%20%20%20%20%0A%20%20%20%20%20%20%20%20%20%20%20%20var%20marker_dbec03776e7d4d2eaa062ee79a6783fe%20%3D%20L.marker%28%0A%20%20%20%20%20%20%20%20%20%20%20%20%20%20%20%20%5B38.215406%2C%20-122.14491100000001%5D%2C%0A%20%20%20%20%20%20%20%20%20%20%20%20%20%20%20%20%7B%7D%0A%20%20%20%20%20%20%20%20%20%20%20%20%29.addTo%28map_a3a1577cd814474abd11aa3471b7e15c%29%3B%0A%20%20%20%20%20%20%20%20%0A%20%20%20%20%0A%20%20%20%20%20%20%20%20%20%20%20%20var%20marker_52fe9123234644aea347cdd54e3c5ae3%20%3D%20L.marker%28%0A%20%20%20%20%20%20%20%20%20%20%20%20%20%20%20%20%5B37.718174100000006%2C%20-122.1809332%5D%2C%0A%20%20%20%20%20%20%20%20%20%20%20%20%20%20%20%20%7B%7D%0A%20%20%20%20%20%20%20%20%20%20%20%20%29.addTo%28map_a3a1577cd814474abd11aa3471b7e15c%29%3B%0A%20%20%20%20%20%20%20%20%0A%20%20%20%20%0A%20%20%20%20%20%20%20%20%20%20%20%20var%20marker_96fec0d53a3b463e84ffd5096b85dce8%20%3D%20L.marker%28%0A%20%20%20%20%20%20%20%20%20%20%20%20%20%20%20%20%5B37.702588%2C%20-121.812265%5D%2C%0A%20%20%20%20%20%20%20%20%20%20%20%20%20%20%20%20%7B%7D%0A%20%20%20%20%20%20%20%20%20%20%20%20%29.addTo%28map_a3a1577cd814474abd11aa3471b7e15c%29%3B%0A%20%20%20%20%20%20%20%20%0A%20%20%20%20%0A%20%20%20%20%20%20%20%20%20%20%20%20var%20marker_c6f92cb5302f40059f02d9b2cb7b3523%20%3D%20L.marker%28%0A%20%20%20%20%20%20%20%20%20%20%20%20%20%20%20%20%5B37.667516%2C%20-122.10278000000001%5D%2C%0A%20%20%20%20%20%20%20%20%20%20%20%20%20%20%20%20%7B%7D%0A%20%20%20%20%20%20%20%20%20%20%20%20%29.addTo%28map_a3a1577cd814474abd11aa3471b7e15c%29%3B%0A%20%20%20%20%20%20%20%20%0A%20%20%20%20%0A%20%20%20%20%20%20%20%20%20%20%20%20var%20marker_e743f3610aea42b49dfc672ce797f563%20%3D%20L.marker%28%0A%20%20%20%20%20%20%20%20%20%20%20%20%20%20%20%20%5B37.503123200000005%2C%20-121.9748814%5D%2C%0A%20%20%20%20%20%20%20%20%20%20%20%20%20%20%20%20%7B%7D%0A%20%20%20%20%20%20%20%20%20%20%20%20%29.addTo%28map_a3a1577cd814474abd11aa3471b7e15c%29%3B%0A%20%20%20%20%20%20%20%20%0A%20%20%20%20%0A%20%20%20%20%20%20%20%20%20%20%20%20var%20marker_f18e8b01ec934d679c681a14ba39d233%20%3D%20L.marker%28%0A%20%20%20%20%20%20%20%20%20%20%20%20%20%20%20%20%5B37.78259%2C%20-121.972853%5D%2C%0A%20%20%20%20%20%20%20%20%20%20%20%20%20%20%20%20%7B%7D%0A%20%20%20%20%20%20%20%20%20%20%20%20%29.addTo%28map_a3a1577cd814474abd11aa3471b7e15c%29%3B%0A%20%20%20%20%20%20%20%20%0A%20%20%20%20%0A%20%20%20%20%20%20%20%20%20%20%20%20var%20marker_fbb9655dee664407a69900679a861f72%20%3D%20L.marker%28%0A%20%20%20%20%20%20%20%20%20%20%20%20%20%20%20%20%5B38.009119%2C%20-121.83790400000001%5D%2C%0A%20%20%20%20%20%20%20%20%20%20%20%20%20%20%20%20%7B%7D%0A%20%20%20%20%20%20%20%20%20%20%20%20%29.addTo%28map_a3a1577cd814474abd11aa3471b7e15c%29%3B%0A%20%20%20%20%20%20%20%20%0A%20%20%20%20%0A%20%20%20%20%20%20%20%20%20%20%20%20var%20marker_46a795e0991b4475aa738f0d1864a87f%20%3D%20L.marker%28%0A%20%20%20%20%20%20%20%20%20%20%20%20%20%20%20%20%5B37.561366%2C%20-122.275144%5D%2C%0A%20%20%20%20%20%20%20%20%20%20%20%20%20%20%20%20%7B%7D%0A%20%20%20%20%20%20%20%20%20%20%20%20%29.addTo%28map_a3a1577cd814474abd11aa3471b7e15c%29%3B%0A%20%20%20%20%20%20%20%20%0A%20%20%20%20%0A%20%20%20%20%20%20%20%20%20%20%20%20var%20marker_ae2a8ae56b0545518a34f7db1b2c320a%20%3D%20L.marker%28%0A%20%20%20%20%20%20%20%20%20%20%20%20%20%20%20%20%5B37.770488%2C%20-122.411106%5D%2C%0A%20%20%20%20%20%20%20%20%20%20%20%20%20%20%20%20%7B%7D%0A%20%20%20%20%20%20%20%20%20%20%20%20%29.addTo%28map_a3a1577cd814474abd11aa3471b7e15c%29%3B%0A%20%20%20%20%20%20%20%20%0A%20%20%20%20%0A%20%20%20%20%20%20%20%20%20%20%20%20var%20marker_220de38057ed4efdac48b4fc3e67c88c%20%3D%20L.marker%28%0A%20%20%20%20%20%20%20%20%20%20%20%20%20%20%20%20%5B37.372027%2C%20-121.99477900000001%5D%2C%0A%20%20%20%20%20%20%20%20%20%20%20%20%20%20%20%20%7B%7D%0A%20%20%20%20%20%20%20%20%20%20%20%20%29.addTo%28map_a3a1577cd814474abd11aa3471b7e15c%29%3B%0A%20%20%20%20%20%20%20%20%0A%20%20%20%20%0A%20%20%20%20%20%20%20%20%20%20%20%20var%20marker_458d8d8244cb44c6b31c047c24729bca%20%3D%20L.marker%28%0A%20%20%20%20%20%20%20%20%20%20%20%20%20%20%20%20%5B37.64223079999999%2C%20-122.4010744%5D%2C%0A%20%20%20%20%20%20%20%20%20%20%20%20%20%20%20%20%7B%7D%0A%20%20%20%20%20%20%20%20%20%20%20%20%29.addTo%28map_a3a1577cd814474abd11aa3471b7e15c%29%3B%0A%20%20%20%20%20%20%20%20%0A%20%20%20%20%0A%20%20%20%20%20%20%20%20%20%20%20%20var%20marker_8b5bfa613e524503b2dc69884883c657%20%3D%20L.marker%28%0A%20%20%20%20%20%20%20%20%20%20%20%20%20%20%20%20%5B37.6654356%2C%20-122.44908570000001%5D%2C%0A%20%20%20%20%20%20%20%20%20%20%20%20%20%20%20%20%7B%7D%0A%20%20%20%20%20%20%20%20%20%20%20%20%29.addTo%28map_a3a1577cd814474abd11aa3471b7e15c%29%3B%0A%20%20%20%20%20%20%20%20%0A%20%20%20%20%0A%20%20%20%20%20%20%20%20%20%20%20%20var%20marker_c265dc0352884e0299fd7f8536eff6e3%20%3D%20L.marker%28%0A%20%20%20%20%20%20%20%20%20%20%20%20%20%20%20%20%5B37.420676%2C%20-122.09506100000002%5D%2C%0A%20%20%20%20%20%20%20%20%20%20%20%20%20%20%20%20%7B%7D%0A%20%20%20%20%20%20%20%20%20%20%20%20%29.addTo%28map_a3a1577cd814474abd11aa3471b7e15c%29%3B%0A%20%20%20%20%20%20%20%20%0A%20%20%20%20%0A%20%20%20%20%20%20%20%20%20%20%20%20var%20marker_e24d7c8772a34b75b54c569f24eb0e62%20%3D%20L.marker%28%0A%20%20%20%20%20%20%20%20%20%20%20%20%20%20%20%20%5B36.617070500000004%2C%20-121.8474767%5D%2C%0A%20%20%20%20%20%20%20%20%20%20%20%20%20%20%20%20%7B%7D%0A%20%20%20%20%20%20%20%20%20%20%20%20%29.addTo%28map_a3a1577cd814474abd11aa3471b7e15c%29%3B%0A%20%20%20%20%20%20%20%20%0A%20%20%20%20%0A%20%20%20%20%20%20%20%20%20%20%20%20var%20marker_bf3ec976a21e4631a954ca84b14cf81c%20%3D%20L.marker%28%0A%20%20%20%20%20%20%20%20%20%20%20%20%20%20%20%20%5B36.703939%2C%20-121.668608%5D%2C%0A%20%20%20%20%20%20%20%20%20%20%20%20%20%20%20%20%7B%7D%0A%20%20%20%20%20%20%20%20%20%20%20%20%29.addTo%28map_a3a1577cd814474abd11aa3471b7e15c%29%3B%0A%20%20%20%20%20%20%20%20%0A%20%20%20%20%0A%20%20%20%20%20%20%20%20%20%20%20%20var%20marker_3f9d754b115844b296b1c0cd186cf21b%20%3D%20L.marker%28%0A%20%20%20%20%20%20%20%20%20%20%20%20%20%20%20%20%5B36.80989%2C%20-119.874081%5D%2C%0A%20%20%20%20%20%20%20%20%20%20%20%20%20%20%20%20%7B%7D%0A%20%20%20%20%20%20%20%20%20%20%20%20%29.addTo%28map_a3a1577cd814474abd11aa3471b7e15c%29%3B%0A%20%20%20%20%20%20%20%20%0A%20%20%20%20%0A%20%20%20%20%20%20%20%20%20%20%20%20var%20marker_f76b7b6b76e44b52a69b214c9acc19fc%20%3D%20L.marker%28%0A%20%20%20%20%20%20%20%20%20%20%20%20%20%20%20%20%5B36.792187%2C%20-119.71434199999999%5D%2C%0A%20%20%20%20%20%20%20%20%20%20%20%20%20%20%20%20%7B%7D%0A%20%20%20%20%20%20%20%20%20%20%20%20%29.addTo%28map_a3a1577cd814474abd11aa3471b7e15c%29%3B%0A%20%20%20%20%20%20%20%20%0A%20%20%20%20%0A%20%20%20%20%20%20%20%20%20%20%20%20var%20marker_0e1ab179e1004ba2a62fed220070c397%20%3D%20L.marker%28%0A%20%20%20%20%20%20%20%20%20%20%20%20%20%20%20%20%5B34.66129%2C%20-118.15142900000001%5D%2C%0A%20%20%20%20%20%20%20%20%20%20%20%20%20%20%20%20%7B%7D%0A%20%20%20%20%20%20%20%20%20%20%20%20%29.addTo%28map_a3a1577cd814474abd11aa3471b7e15c%29%3B%0A%20%20%20%20%20%20%20%20%0A%20%20%20%20%0A%20%20%20%20%20%20%20%20%20%20%20%20var%20marker_ad180f814a9849eb9e39051ed34b4709%20%3D%20L.marker%28%0A%20%20%20%20%20%20%20%20%20%20%20%20%20%20%20%20%5B34.936541%2C%20-120.42083999999998%5D%2C%0A%20%20%20%20%20%20%20%20%20%20%20%20%20%20%20%20%7B%7D%0A%20%20%20%20%20%20%20%20%20%20%20%20%29.addTo%28map_a3a1577cd814474abd11aa3471b7e15c%29%3B%0A%20%20%20%20%20%20%20%20%0A%20%20%20%20%0A%20%20%20%20%20%20%20%20%20%20%20%20var%20marker_8668cb680cb14e8f91aeb7c10da92b78%20%3D%20L.marker%28%0A%20%20%20%20%20%20%20%20%20%20%20%20%20%20%20%20%5B35.251917%2C%20-120.69101299999998%5D%2C%0A%20%20%20%20%20%20%20%20%20%20%20%20%20%20%20%20%7B%7D%0A%20%20%20%20%20%20%20%20%20%20%20%20%29.addTo%28map_a3a1577cd814474abd11aa3471b7e15c%29%3B%0A%20%20%20%20%20%20%20%20%0A%20%20%20%20%0A%20%20%20%20%20%20%20%20%20%20%20%20var%20marker_9438bda8ab0e4df0896ce4621e95e45a%20%3D%20L.marker%28%0A%20%20%20%20%20%20%20%20%20%20%20%20%20%20%20%20%5B36.292806%2C%20-119.30663799999999%5D%2C%0A%20%20%20%20%20%20%20%20%20%20%20%20%20%20%20%20%7B%7D%0A%20%20%20%20%20%20%20%20%20%20%20%20%29.addTo%28map_a3a1577cd814474abd11aa3471b7e15c%29%3B%0A%20%20%20%20%20%20%20%20%0A%20%20%20%20%0A%20%20%20%20%20%20%20%20%20%20%20%20var%20marker_9b15b39845684b69b844c3ebb3795ad5%20%3D%20L.marker%28%0A%20%20%20%20%20%20%20%20%20%20%20%20%20%20%20%20%5B34.427890000000005%2C%20-119.874572%5D%2C%0A%20%20%20%20%20%20%20%20%20%20%20%20%20%20%20%20%7B%7D%0A%20%20%20%20%20%20%20%20%20%20%20%20%29.addTo%28map_a3a1577cd814474abd11aa3471b7e15c%29%3B%0A%20%20%20%20%20%20%20%20%0A%20%20%20%20%0A%20%20%20%20%20%20%20%20%20%20%20%20var%20marker_ac4a61e4ec4b4169a1fafe7584ed4a27%20%3D%20L.marker%28%0A%20%20%20%20%20%20%20%20%20%20%20%20%20%20%20%20%5B34.2251071%2C%20-119.14856699999999%5D%2C%0A%20%20%20%20%20%20%20%20%20%20%20%20%20%20%20%20%7B%7D%0A%20%20%20%20%20%20%20%20%20%20%20%20%29.addTo%28map_a3a1577cd814474abd11aa3471b7e15c%29%3B%0A%20%20%20%20%20%20%20%20%0A%20%20%20%20%0A%20%20%20%20%20%20%20%20%20%20%20%20var%20marker_462096a8f01c45dc902a00ac8aa77b05%20%3D%20L.marker%28%0A%20%20%20%20%20%20%20%20%20%20%20%20%20%20%20%20%5B33.87567%2C%20-117.74385%5D%2C%0A%20%20%20%20%20%20%20%20%20%20%20%20%20%20%20%20%7B%7D%0A%20%20%20%20%20%20%20%20%20%20%20%20%29.addTo%28map_a3a1577cd814474abd11aa3471b7e15c%29%3B%0A%20%20%20%20%20%20%20%20%0A%20%20%20%20%0A%20%20%20%20%20%20%20%20%20%20%20%20var%20marker_e5f6b626c55540e89849a635893434a2%20%3D%20L.marker%28%0A%20%20%20%20%20%20%20%20%20%20%20%20%20%20%20%20%5B33.8899732%2C%20-117.5208947%5D%2C%0A%20%20%20%20%20%20%20%20%20%20%20%20%20%20%20%20%7B%7D%0A%20%20%20%20%20%20%20%20%20%20%20%20%29.addTo%28map_a3a1577cd814474abd11aa3471b7e15c%29%3B%0A%20%20%20%20%20%20%20%20%0A%20%20%20%20%0A%20%20%20%20%20%20%20%20%20%20%20%20var%20marker_5e8b19667f0646a4847e99bc352c9bd7%20%3D%20L.marker%28%0A%20%20%20%20%20%20%20%20%20%20%20%20%20%20%20%20%5B33.773511%2C%20-117.940271%5D%2C%0A%20%20%20%20%20%20%20%20%20%20%20%20%20%20%20%20%7B%7D%0A%20%20%20%20%20%20%20%20%20%20%20%20%29.addTo%28map_a3a1577cd814474abd11aa3471b7e15c%29%3B%0A%20%20%20%20%20%20%20%20%0A%20%20%20%20%0A%20%20%20%20%20%20%20%20%20%20%20%20var%20marker_a1377bb37446478eaa62a104e6916dfc%20%3D%20L.marker%28%0A%20%20%20%20%20%20%20%20%20%20%20%20%20%20%20%20%5B33.862449%2C%20-117.92211%5D%2C%0A%20%20%20%20%20%20%20%20%20%20%20%20%20%20%20%20%7B%7D%0A%20%20%20%20%20%20%20%20%20%20%20%20%29.addTo%28map_a3a1577cd814474abd11aa3471b7e15c%29%3B%0A%20%20%20%20%20%20%20%20%0A%20%20%20%20%0A%20%20%20%20%20%20%20%20%20%20%20%20var%20marker_4d532813743148b49499d7c743b15915%20%3D%20L.marker%28%0A%20%20%20%20%20%20%20%20%20%20%20%20%20%20%20%20%5B33.7282%2C%20-117.79629399999999%5D%2C%0A%20%20%20%20%20%20%20%20%20%20%20%20%20%20%20%20%7B%7D%0A%20%20%20%20%20%20%20%20%20%20%20%20%29.addTo%28map_a3a1577cd814474abd11aa3471b7e15c%29%3B%0A%20%20%20%20%20%20%20%20%0A%20%20%20%20%0A%20%20%20%20%20%20%20%20%20%20%20%20var%20marker_731d0647517940e28ecf7855f5a3b0f9%20%3D%20L.marker%28%0A%20%20%20%20%20%20%20%20%20%20%20%20%20%20%20%20%5B33.699689%2C%20-117.82261799999999%5D%2C%0A%20%20%20%20%20%20%20%20%20%20%20%20%20%20%20%20%7B%7D%0A%20%20%20%20%20%20%20%20%20%20%20%20%29.addTo%28map_a3a1577cd814474abd11aa3471b7e15c%29%3B%0A%20%20%20%20%20%20%20%20%0A%20%20%20%20%0A%20%20%20%20%20%20%20%20%20%20%20%20var%20marker_399d35ae819241198e69e36c98cc9cd0%20%3D%20L.marker%28%0A%20%20%20%20%20%20%20%20%20%20%20%20%20%20%20%20%5B33.703448%2C%20-117.931978%5D%2C%0A%20%20%20%20%20%20%20%20%20%20%20%20%20%20%20%20%7B%7D%0A%20%20%20%20%20%20%20%20%20%20%20%20%29.addTo%28map_a3a1577cd814474abd11aa3471b7e15c%29%3B%0A%20%20%20%20%20%20%20%20%0A%20%20%20%20%0A%20%20%20%20%20%20%20%20%20%20%20%20var%20marker_7f66faba01b6473f874cf88ea0fd96ec%20%3D%20L.marker%28%0A%20%20%20%20%20%20%20%20%20%20%20%20%20%20%20%20%5B33.5569565%2C%20-117.67887579999999%5D%2C%0A%20%20%20%20%20%20%20%20%20%20%20%20%20%20%20%20%7B%7D%0A%20%20%20%20%20%20%20%20%20%20%20%20%29.addTo%28map_a3a1577cd814474abd11aa3471b7e15c%29%3B%0A%20%20%20%20%20%20%20%20%0A%20%20%20%20%0A%20%20%20%20%20%20%20%20%20%20%20%20var%20marker_0f060f60522e42518489e4162710adc6%20%3D%20L.marker%28%0A%20%20%20%20%20%20%20%20%20%20%20%20%20%20%20%20%5B33.469498%2C%20-117.677697%5D%2C%0A%20%20%20%20%20%20%20%20%20%20%20%20%20%20%20%20%7B%7D%0A%20%20%20%20%20%20%20%20%20%20%20%20%29.addTo%28map_a3a1577cd814474abd11aa3471b7e15c%29%3B%0A%20%20%20%20%20%20%20%20%0A%20%20%20%20%0A%20%20%20%20%20%20%20%20%20%20%20%20var%20marker_5fb9e9f016284f9ab61c0d92a7760b3e%20%3D%20L.marker%28%0A%20%20%20%20%20%20%20%20%20%20%20%20%20%20%20%20%5B33.657000599999996%2C%20-117.7397337%5D%2C%0A%20%20%20%20%20%20%20%20%20%20%20%20%20%20%20%20%7B%7D%0A%20%20%20%20%20%20%20%20%20%20%20%20%29.addTo%28map_a3a1577cd814474abd11aa3471b7e15c%29%3B%0A%20%20%20%20%20%20%20%20%0A%20%20%20%20%0A%20%20%20%20%20%20%20%20%20%20%20%20var%20marker_92725a38124143748efe5cedec8d1728%20%3D%20L.marker%28%0A%20%20%20%20%20%20%20%20%20%20%20%20%20%20%20%20%5B33.935555%2C%20-117.276579%5D%2C%0A%20%20%20%20%20%20%20%20%20%20%20%20%20%20%20%20%7B%7D%0A%20%20%20%20%20%20%20%20%20%20%20%20%29.addTo%28map_a3a1577cd814474abd11aa3471b7e15c%29%3B%0A%20%20%20%20%20%20%20%20%0A%20%20%20%20%0A%20%20%20%20%20%20%20%20%20%20%20%20var%20marker_f598e1c9019e4eb49594dc2aed032475%20%3D%20L.marker%28%0A%20%20%20%20%20%20%20%20%20%20%20%20%20%20%20%20%5B33.696337%2C%20-117.33918200000001%5D%2C%0A%20%20%20%20%20%20%20%20%20%20%20%20%20%20%20%20%7B%7D%0A%20%20%20%20%20%20%20%20%20%20%20%20%29.addTo%28map_a3a1577cd814474abd11aa3471b7e15c%29%3B%0A%20%20%20%20%20%20%20%20%0A%20%20%20%20%0A%20%20%20%20%20%20%20%20%20%20%20%20var%20marker_3c803bceae38449e8e03023311c90b89%20%3D%20L.marker%28%0A%20%20%20%20%20%20%20%20%20%20%20%20%20%20%20%20%5B34.068044%2C%20-117.263077%5D%2C%0A%20%20%20%20%20%20%20%20%20%20%20%20%20%20%20%20%7B%7D%0A%20%20%20%20%20%20%20%20%20%20%20%20%29.addTo%28map_a3a1577cd814474abd11aa3471b7e15c%29%3B%0A%20%20%20%20%20%20%20%20%0A%20%20%20%20%0A%20%20%20%20%20%20%20%20%20%20%20%20var%20marker_1922ff9b78e94832b98a18445f42f5a1%20%3D%20L.marker%28%0A%20%20%20%20%20%20%20%20%20%20%20%20%20%20%20%20%5B34.5155574%2C%20-117.31964280000001%5D%2C%0A%20%20%20%20%20%20%20%20%20%20%20%20%20%20%20%20%7B%7D%0A%20%20%20%20%20%20%20%20%20%20%20%20%29.addTo%28map_a3a1577cd814474abd11aa3471b7e15c%29%3B%0A%20%20%20%20%20%20%20%20%0A%20%20%20%20%0A%20%20%20%20%20%20%20%20%20%20%20%20var%20marker_40b00493570b498fac04c31cdb38e3a2%20%3D%20L.marker%28%0A%20%20%20%20%20%20%20%20%20%20%20%20%20%20%20%20%5B32.8152064%2C%20-115.5700028%5D%2C%0A%20%20%20%20%20%20%20%20%20%20%20%20%20%20%20%20%7B%7D%0A%20%20%20%20%20%20%20%20%20%20%20%20%29.addTo%28map_a3a1577cd814474abd11aa3471b7e15c%29%3B%0A%20%20%20%20%20%20%20%20%0A%20%20%20%20%0A%20%20%20%20%20%20%20%20%20%20%20%20var%20marker_578ea200728a4dee8a4351afada511a8%20%3D%20L.marker%28%0A%20%20%20%20%20%20%20%20%20%20%20%20%20%20%20%20%5B33.79963920000001%2C%20-116.3819564%5D%2C%0A%20%20%20%20%20%20%20%20%20%20%20%20%20%20%20%20%7B%7D%0A%20%20%20%20%20%20%20%20%20%20%20%20%29.addTo%28map_a3a1577cd814474abd11aa3471b7e15c%29%3B%0A%20%20%20%20%20%20%20%20%0A%20%20%20%20%0A%20%20%20%20%20%20%20%20%20%20%20%20var%20marker_459d2927cf864de680013487913933fd%20%3D%20L.marker%28%0A%20%20%20%20%20%20%20%20%20%20%20%20%20%20%20%20%5B32.987241%2C%20-117.077675%5D%2C%0A%20%20%20%20%20%20%20%20%20%20%20%20%20%20%20%20%7B%7D%0A%20%20%20%20%20%20%20%20%20%20%20%20%29.addTo%28map_a3a1577cd814474abd11aa3471b7e15c%29%3B%0A%20%20%20%20%20%20%20%20%0A%20%20%20%20%0A%20%20%20%20%20%20%20%20%20%20%20%20var%20marker_6f5ff4ab1425437ea4973d577fc34238%20%3D%20L.marker%28%0A%20%20%20%20%20%20%20%20%20%20%20%20%20%20%20%20%5B32.712739%2C%20-117.11613%5D%2C%0A%20%20%20%20%20%20%20%20%20%20%20%20%20%20%20%20%7B%7D%0A%20%20%20%20%20%20%20%20%20%20%20%20%29.addTo%28map_a3a1577cd814474abd11aa3471b7e15c%29%3B%0A%20%20%20%20%20%20%20%20%0A%20%20%20%20%0A%20%20%20%20%20%20%20%20%20%20%20%20var%20marker_412ade0c46844895b480b7f4db2d7bcd%20%3D%20L.marker%28%0A%20%20%20%20%20%20%20%20%20%20%20%20%20%20%20%20%5B33.1879309%2C%20-117.2767568%5D%2C%0A%20%20%20%20%20%20%20%20%20%20%20%20%20%20%20%20%7B%7D%0A%20%20%20%20%20%20%20%20%20%20%20%20%29.addTo%28map_a3a1577cd814474abd11aa3471b7e15c%29%3B%0A%20%20%20%20%20%20%20%20%0A%20%20%20%20%0A%20%20%20%20%20%20%20%20%20%20%20%20var%20marker_af9f7058439c475a9ae1e653ecd68659%20%3D%20L.marker%28%0A%20%20%20%20%20%20%20%20%20%20%20%20%20%20%20%20%5B32.840641999999995%2C%20-116.987356%5D%2C%0A%20%20%20%20%20%20%20%20%20%20%20%20%20%20%20%20%7B%7D%0A%20%20%20%20%20%20%20%20%20%20%20%20%29.addTo%28map_a3a1577cd814474abd11aa3471b7e15c%29%3B%0A%20%20%20%20%20%20%20%20%0A%20%20%20%20%0A%20%20%20%20%20%20%20%20%20%20%20%20var%20marker_2026e106112a48e49bd4e191a37f9383%20%3D%20L.marker%28%0A%20%20%20%20%20%20%20%20%20%20%20%20%20%20%20%20%5B32.93649%2C%20-117.033125%5D%2C%0A%20%20%20%20%20%20%20%20%20%20%20%20%20%20%20%20%7B%7D%0A%20%20%20%20%20%20%20%20%20%20%20%20%29.addTo%28map_a3a1577cd814474abd11aa3471b7e15c%29%3B%0A%20%20%20%20%20%20%20%20%0A%20%20%20%20%0A%20%20%20%20%20%20%20%20%20%20%20%20var%20marker_5c6a30c0d2424eb48aba2098d614517c%20%3D%20L.marker%28%0A%20%20%20%20%20%20%20%20%20%20%20%20%20%20%20%20%5B33.1201381%2C%20-117.3165503%5D%2C%0A%20%20%20%20%20%20%20%20%20%20%20%20%20%20%20%20%7B%7D%0A%20%20%20%20%20%20%20%20%20%20%20%20%29.addTo%28map_a3a1577cd814474abd11aa3471b7e15c%29%3B%0A%20%20%20%20%20%20%20%20%0A%20%20%20%20%0A%20%20%20%20%20%20%20%20%20%20%20%20var%20marker_0ce47cf1e5994a138d587e649b37d1ef%20%3D%20L.marker%28%0A%20%20%20%20%20%20%20%20%20%20%20%20%20%20%20%20%5B32.773971%2C%20-117.024305%5D%2C%0A%20%20%20%20%20%20%20%20%20%20%20%20%20%20%20%20%7B%7D%0A%20%20%20%20%20%20%20%20%20%20%20%20%29.addTo%28map_a3a1577cd814474abd11aa3471b7e15c%29%3B%0A%20%20%20%20%20%20%20%20%0A%20%20%20%20%0A%20%20%20%20%20%20%20%20%20%20%20%20var%20marker_b0f70994c7ff457aa4ac24ab837e8eef%20%3D%20L.marker%28%0A%20%20%20%20%20%20%20%20%20%20%20%20%20%20%20%20%5B32.608954499999996%2C%20-117.08095259999999%5D%2C%0A%20%20%20%20%20%20%20%20%20%20%20%20%20%20%20%20%7B%7D%0A%20%20%20%20%20%20%20%20%20%20%20%20%29.addTo%28map_a3a1577cd814474abd11aa3471b7e15c%29%3B%0A%20%20%20%20%20%20%20%20%0A%20%20%20%20%0A%20%20%20%20%20%20%20%20%20%20%20%20var%20marker_844ceab8b58d49e1852fdb99e0abac0c%20%3D%20L.marker%28%0A%20%20%20%20%20%20%20%20%20%20%20%20%20%20%20%20%5B32.637276%2C%20-117.022199%5D%2C%0A%20%20%20%20%20%20%20%20%20%20%20%20%20%20%20%20%7B%7D%0A%20%20%20%20%20%20%20%20%20%20%20%20%29.addTo%28map_a3a1577cd814474abd11aa3471b7e15c%29%3B%0A%20%20%20%20%20%20%20%20%0A%20%20%20%20%0A%20%20%20%20%20%20%20%20%20%20%20%20var%20marker_4305dec714bf45d1a4d0a0e6728d5def%20%3D%20L.marker%28%0A%20%20%20%20%20%20%20%20%20%20%20%20%20%20%20%20%5B34.089515000000006%2C%20-118.148531%5D%2C%0A%20%20%20%20%20%20%20%20%20%20%20%20%20%20%20%20%7B%7D%0A%20%20%20%20%20%20%20%20%20%20%20%20%29.addTo%28map_a3a1577cd814474abd11aa3471b7e15c%29%3B%0A%20%20%20%20%20%20%20%20%0A%20%20%20%20%0A%20%20%20%20%20%20%20%20%20%20%20%20var%20marker_292a5deab96b4ee0bdd75e6c2eb75837%20%3D%20L.marker%28%0A%20%20%20%20%20%20%20%20%20%20%20%20%20%20%20%20%5B34.112139%2C%20-117.82633%5D%2C%0A%20%20%20%20%20%20%20%20%20%20%20%20%20%20%20%20%7B%7D%0A%20%20%20%20%20%20%20%20%20%20%20%20%29.addTo%28map_a3a1577cd814474abd11aa3471b7e15c%29%3B%0A%20%20%20%20%20%20%20%20%0A%20%20%20%20%0A%20%20%20%20%20%20%20%20%20%20%20%20var%20marker_b21cb2b3e08946898737e1338972aad9%20%3D%20L.marker%28%0A%20%20%20%20%20%20%20%20%20%20%20%20%20%20%20%20%5B34.083039%2C%20-117.690661%5D%2C%0A%20%20%20%20%20%20%20%20%20%20%20%20%20%20%20%20%7B%7D%0A%20%20%20%20%20%20%20%20%20%20%20%20%29.addTo%28map_a3a1577cd814474abd11aa3471b7e15c%29%3B%0A%20%20%20%20%20%20%20%20%0A%20%20%20%20%0A%20%20%20%20%20%20%20%20%20%20%20%20var%20marker_c796b5c294b04cbb84542c7e07d383b1%20%3D%20L.marker%28%0A%20%20%20%20%20%20%20%20%20%20%20%20%20%20%20%20%5B33.994075%2C%20-117.92200000000001%5D%2C%0A%20%20%20%20%20%20%20%20%20%20%20%20%20%20%20%20%7B%7D%0A%20%20%20%20%20%20%20%20%20%20%20%20%29.addTo%28map_a3a1577cd814474abd11aa3471b7e15c%29%3B%0A%20%20%20%20%20%20%20%20%0A%20%20%20%20%0A%20%20%20%20%20%20%20%20%20%20%20%20var%20marker_3146ffbee7574150af41aa5c289a94be%20%3D%20L.marker%28%0A%20%20%20%20%20%20%20%20%20%20%20%20%20%20%20%20%5B34.078576%2C%20-117.54827140000002%5D%2C%0A%20%20%20%20%20%20%20%20%20%20%20%20%20%20%20%20%7B%7D%0A%20%20%20%20%20%20%20%20%20%20%20%20%29.addTo%28map_a3a1577cd814474abd11aa3471b7e15c%29%3B%0A%20%20%20%20%20%20%20%20%0A%20%20%20%20%0A%20%20%20%20%20%20%20%20%20%20%20%20var%20marker_c1cbcaeafa2648b1a612fc071e81af6d%20%3D%20L.marker%28%0A%20%20%20%20%20%20%20%20%20%20%20%20%20%20%20%20%5B34.014463%2C%20-117.74181499999999%5D%2C%0A%20%20%20%20%20%20%20%20%20%20%20%20%20%20%20%20%7B%7D%0A%20%20%20%20%20%20%20%20%20%20%20%20%29.addTo%28map_a3a1577cd814474abd11aa3471b7e15c%29%3B%0A%20%20%20%20%20%20%20%20%0A%20%20%20%20%0A%20%20%20%20%20%20%20%20%20%20%20%20var%20marker_e889f942f07d47fd86e41fdf2727ca63%20%3D%20L.marker%28%0A%20%20%20%20%20%20%20%20%20%20%20%20%20%20%20%20%5B34.131982%2C%20-117.92568100000001%5D%2C%0A%20%20%20%20%20%20%20%20%20%20%20%20%20%20%20%20%7B%7D%0A%20%20%20%20%20%20%20%20%20%20%20%20%29.addTo%28map_a3a1577cd814474abd11aa3471b7e15c%29%3B%0A%20%20%20%20%20%20%20%20%0A%20%20%20%20%0A%20%20%20%20%20%20%20%20%20%20%20%20var%20marker_c8a57152bdc348a09466d80c46e6c65d%20%3D%20L.marker%28%0A%20%20%20%20%20%20%20%20%20%20%20%20%20%20%20%20%5B34.185739%2C%20-118.324045%5D%2C%0A%20%20%20%20%20%20%20%20%20%20%20%20%20%20%20%20%7B%7D%0A%20%20%20%20%20%20%20%20%20%20%20%20%29.addTo%28map_a3a1577cd814474abd11aa3471b7e15c%29%3B%0A%20%20%20%20%20%20%20%20%0A%20%20%20%20%0A%20%20%20%20%20%20%20%20%20%20%20%20var%20marker_21396d9f7a0e457db7d04e78e3d79198%20%3D%20L.marker%28%0A%20%20%20%20%20%20%20%20%20%20%20%20%20%20%20%20%5B34.181613%2C%20-118.46401000000002%5D%2C%0A%20%20%20%20%20%20%20%20%20%20%20%20%20%20%20%20%7B%7D%0A%20%20%20%20%20%20%20%20%20%20%20%20%29.addTo%28map_a3a1577cd814474abd11aa3471b7e15c%29%3B%0A%20%20%20%20%20%20%20%20%0A%20%20%20%20%0A%20%20%20%20%20%20%20%20%20%20%20%20var%20marker_f8065cba6797418cb8344052e28382a7%20%3D%20L.marker%28%0A%20%20%20%20%20%20%20%20%20%20%20%20%20%20%20%20%5B34.4027129%2C%20-118.4550432%5D%2C%0A%20%20%20%20%20%20%20%20%20%20%20%20%20%20%20%20%7B%7D%0A%20%20%20%20%20%20%20%20%20%20%20%20%29.addTo%28map_a3a1577cd814474abd11aa3471b7e15c%29%3B%0A%20%20%20%20%20%20%20%20%0A%20%20%20%20%0A%20%20%20%20%20%20%20%20%20%20%20%20var%20marker_5d41b98dab3744d697434b77cdb1c5b1%20%3D%20L.marker%28%0A%20%20%20%20%20%20%20%20%20%20%20%20%20%20%20%20%5B34.152307%2C%20-118.79713100000001%5D%2C%0A%20%20%20%20%20%20%20%20%20%20%20%20%20%20%20%20%7B%7D%0A%20%20%20%20%20%20%20%20%20%20%20%20%29.addTo%28map_a3a1577cd814474abd11aa3471b7e15c%29%3B%0A%20%20%20%20%20%20%20%20%0A%20%20%20%20%0A%20%20%20%20%20%20%20%20%20%20%20%20var%20marker_48e809244e60460dbc187fdc7ea232ef%20%3D%20L.marker%28%0A%20%20%20%20%20%20%20%20%20%20%20%20%20%20%20%20%5B34.230765000000005%2C%20-118.551069%5D%2C%0A%20%20%20%20%20%20%20%20%20%20%20%20%20%20%20%20%7B%7D%0A%20%20%20%20%20%20%20%20%20%20%20%20%29.addTo%28map_a3a1577cd814474abd11aa3471b7e15c%29%3B%0A%20%20%20%20%20%20%20%20%0A%20%20%20%20%0A%20%20%20%20%20%20%20%20%20%20%20%20var%20marker_2b3df96aad9245eb835b14d6e160132c%20%3D%20L.marker%28%0A%20%20%20%20%20%20%20%20%20%20%20%20%20%20%20%20%5B34.218644%2C%20-118.59611899999999%5D%2C%0A%20%20%20%20%20%20%20%20%20%20%20%20%20%20%20%20%7B%7D%0A%20%20%20%20%20%20%20%20%20%20%20%20%29.addTo%28map_a3a1577cd814474abd11aa3471b7e15c%29%3B%0A%20%20%20%20%20%20%20%20%0A%20%20%20%20%0A%20%20%20%20%20%20%20%20%20%20%20%20var%20marker_98717b58cb3247cd8d84161d12e75b71%20%3D%20L.marker%28%0A%20%20%20%20%20%20%20%20%20%20%20%20%20%20%20%20%5B33.804317299999994%2C%20-118.166725%5D%2C%0A%20%20%20%20%20%20%20%20%20%20%20%20%20%20%20%20%7B%7D%0A%20%20%20%20%20%20%20%20%20%20%20%20%29.addTo%28map_a3a1577cd814474abd11aa3471b7e15c%29%3B%0A%20%20%20%20%20%20%20%20%0A%20%20%20%20%0A%20%20%20%20%20%20%20%20%20%20%20%20var%20marker_44d6d158bdf0494bac52e959baccee52%20%3D%20L.marker%28%0A%20%20%20%20%20%20%20%20%20%20%20%20%20%20%20%20%5B33.850463%2C%20-118.136453%5D%2C%0A%20%20%20%20%20%20%20%20%20%20%20%20%20%20%20%20%7B%7D%0A%20%20%20%20%20%20%20%20%20%20%20%20%29.addTo%28map_a3a1577cd814474abd11aa3471b7e15c%29%3B%0A%20%20%20%20%20%20%20%20%0A%20%20%20%20%0A%20%20%20%20%20%20%20%20%20%20%20%20var%20marker_7406931f24fe4586bc858d044e905292%20%3D%20L.marker%28%0A%20%20%20%20%20%20%20%20%20%20%20%20%20%20%20%20%5B33.919958%2C%20-118.102519%5D%2C%0A%20%20%20%20%20%20%20%20%20%20%20%20%20%20%20%20%7B%7D%0A%20%20%20%20%20%20%20%20%20%20%20%20%29.addTo%28map_a3a1577cd814474abd11aa3471b7e15c%29%3B%0A%20%20%20%20%20%20%20%20%0A%20%20%20%20%0A%20%20%20%20%20%20%20%20%20%20%20%20var%20marker_f091de75ef7845a0bb92278181407f86%20%3D%20L.marker%28%0A%20%20%20%20%20%20%20%20%20%20%20%20%20%20%20%20%5B34.032917%2C%20-118.09746299999999%5D%2C%0A%20%20%20%20%20%20%20%20%20%20%20%20%20%20%20%20%7B%7D%0A%20%20%20%20%20%20%20%20%20%20%20%20%29.addTo%28map_a3a1577cd814474abd11aa3471b7e15c%29%3B%0A%20%20%20%20%20%20%20%20%0A%20%20%20%20%0A%20%20%20%20%20%20%20%20%20%20%20%20var%20marker_1271f838424a4344bee51b652ded87f1%20%3D%20L.marker%28%0A%20%20%20%20%20%20%20%20%20%20%20%20%20%20%20%20%5B33.932029%2C%20-117.96978600000001%5D%2C%0A%20%20%20%20%20%20%20%20%20%20%20%20%20%20%20%20%7B%7D%0A%20%20%20%20%20%20%20%20%20%20%20%20%29.addTo%28map_a3a1577cd814474abd11aa3471b7e15c%29%3B%0A%20%20%20%20%20%20%20%20%0A%20%20%20%20%0A%20%20%20%20%20%20%20%20%20%20%20%20var%20marker_50790ae5d05a4eed844c806bc5bd5a9d%20%3D%20L.marker%28%0A%20%20%20%20%20%20%20%20%20%20%20%20%20%20%20%20%5B33.800813%2C%20-118.34993%5D%2C%0A%20%20%20%20%20%20%20%20%20%20%20%20%20%20%20%20%7B%7D%0A%20%20%20%20%20%20%20%20%20%20%20%20%29.addTo%28map_a3a1577cd814474abd11aa3471b7e15c%29%3B%0A%20%20%20%20%20%20%20%20%0A%20%20%20%20%0A%20%20%20%20%20%20%20%20%20%20%20%20var%20marker_d70fe0d818564c7c9efa145c62200582%20%3D%20L.marker%28%0A%20%20%20%20%20%20%20%20%20%20%20%20%20%20%20%20%5B33.943257%2C%20-118.33385600000001%5D%2C%0A%20%20%20%20%20%20%20%20%20%20%20%20%20%20%20%20%7B%7D%0A%20%20%20%20%20%20%20%20%20%20%20%20%29.addTo%28map_a3a1577cd814474abd11aa3471b7e15c%29%3B%0A%20%20%20%20%20%20%20%20%0A%20%20%20%20%0A%20%20%20%20%20%20%20%20%20%20%20%20var%20marker_2d7fe6916b264a5494355ce75c569abc%20%3D%20L.marker%28%0A%20%20%20%20%20%20%20%20%20%20%20%20%20%20%20%20%5B33.992576%2C%20-118.446821%5D%2C%0A%20%20%20%20%20%20%20%20%20%20%20%20%20%20%20%20%7B%7D%0A%20%20%20%20%20%20%20%20%20%20%20%20%29.addTo%28map_a3a1577cd814474abd11aa3471b7e15c%29%3B%0A%20%20%20%20%20%20%20%20%0A%20%20%20%20%0A%20%20%20%20%20%20%20%20%20%20%20%20var%20marker_405ebfa60e5f40169ceefcdd097b9ae0%20%3D%20L.marker%28%0A%20%20%20%20%20%20%20%20%20%20%20%20%20%20%20%20%5B33.898804999999996%2C%20-118.372745%5D%2C%0A%20%20%20%20%20%20%20%20%20%20%20%20%20%20%20%20%7B%7D%0A%20%20%20%20%20%20%20%20%20%20%20%20%29.addTo%28map_a3a1577cd814474abd11aa3471b7e15c%29%3B%0A%20%20%20%20%20%20%20%20%0A%20%20%20%20%0A%20%20%20%20%20%20%20%20%20%20%20%20var%20marker_c310aae7d3e7489abfbbe0913f61cd01%20%3D%20L.marker%28%0A%20%20%20%20%20%20%20%20%20%20%20%20%20%20%20%20%5B34.1285583%2C%20-118.26367959999999%5D%2C%0A%20%20%20%20%20%20%20%20%20%20%20%20%20%20%20%20%7B%7D%0A%20%20%20%20%20%20%20%20%20%20%20%20%29.addTo%28map_a3a1577cd814474abd11aa3471b7e15c%29%3B%0A%20%20%20%20%20%20%20%20%0A%20%20%20%20%0A%20%20%20%20%20%20%20%20%20%20%20%20var%20marker_fd23aef438ab43b0b58beee0f2801c30%20%3D%20L.marker%28%0A%20%20%20%20%20%20%20%20%20%20%20%20%20%20%20%20%5B38.3506756%2C%20-121.98177079999999%5D%2C%0A%20%20%20%20%20%20%20%20%20%20%20%20%20%20%20%20%7B%7D%0A%20%20%20%20%20%20%20%20%20%20%20%20%29.addTo%28map_a3a1577cd814474abd11aa3471b7e15c%29%3B%0A%20%20%20%20%20%20%20%20%0A%20%20%20%20%0A%20%20%20%20%20%20%20%20%20%20%20%20var%20marker_b115adf95626414ca55391afc883b3d2%20%3D%20L.marker%28%0A%20%20%20%20%20%20%20%20%20%20%20%20%20%20%20%20%5B37.519131%2C%20-120.888552%5D%2C%0A%20%20%20%20%20%20%20%20%20%20%20%20%20%20%20%20%7B%7D%0A%20%20%20%20%20%20%20%20%20%20%20%20%29.addTo%28map_a3a1577cd814474abd11aa3471b7e15c%29%3B%0A%20%20%20%20%20%20%20%20%0A%20%20%20%20%0A%20%20%20%20%20%20%20%20%20%20%20%20var%20marker_950dfd574a664143a186c0f17c44614e%20%3D%20L.marker%28%0A%20%20%20%20%20%20%20%20%20%20%20%20%20%20%20%20%5B37.7510679%2C%20-121.47509099999999%5D%2C%0A%20%20%20%20%20%20%20%20%20%20%20%20%20%20%20%20%7B%7D%0A%20%20%20%20%20%20%20%20%20%20%20%20%29.addTo%28map_a3a1577cd814474abd11aa3471b7e15c%29%3B%0A%20%20%20%20%20%20%20%20%0A%20%20%20%20%0A%20%20%20%20%20%20%20%20%20%20%20%20var%20marker_4b7ee8122ddf4447aacfba320c488733%20%3D%20L.marker%28%0A%20%20%20%20%20%20%20%20%20%20%20%20%20%20%20%20%5B37.008207%2C%20-121.55644699999999%5D%2C%0A%20%20%20%20%20%20%20%20%20%20%20%20%20%20%20%20%7B%7D%0A%20%20%20%20%20%20%20%20%20%20%20%20%29.addTo%28map_a3a1577cd814474abd11aa3471b7e15c%29%3B%0A%20%20%20%20%20%20%20%20%0A%20%20%20%20%0A%20%20%20%20%20%20%20%20%20%20%20%20var%20marker_64753c79fba94381b1efe98fd43d69d9%20%3D%20L.marker%28%0A%20%20%20%20%20%20%20%20%20%20%20%20%20%20%20%20%5B38.352725899999996%2C%20-122.717092%5D%2C%0A%20%20%20%20%20%20%20%20%20%20%20%20%20%20%20%20%7B%7D%0A%20%20%20%20%20%20%20%20%20%20%20%20%29.addTo%28map_a3a1577cd814474abd11aa3471b7e15c%29%3B%0A%20%20%20%20%20%20%20%20%0A%20%20%20%20%0A%20%20%20%20%20%20%20%20%20%20%20%20var%20marker_fad16ad312ef47d8a237f35bcf111bfb%20%3D%20L.marker%28%0A%20%20%20%20%20%20%20%20%20%20%20%20%20%20%20%20%5B37.616322100000005%2C%20-122.08895090000001%5D%2C%0A%20%20%20%20%20%20%20%20%20%20%20%20%20%20%20%20%7B%7D%0A%20%20%20%20%20%20%20%20%20%20%20%20%29.addTo%28map_a3a1577cd814474abd11aa3471b7e15c%29%3B%0A%20%20%20%20%20%20%20%20%0A%20%20%20%20%0A%20%20%20%20%20%20%20%20%20%20%20%20var%20marker_81f68bdf1843498abb312250488d341d%20%3D%20L.marker%28%0A%20%20%20%20%20%20%20%20%20%20%20%20%20%20%20%20%5B37.478656%2C%20-122.216527%5D%2C%0A%20%20%20%20%20%20%20%20%20%20%20%20%20%20%20%20%7B%7D%0A%20%20%20%20%20%20%20%20%20%20%20%20%29.addTo%28map_a3a1577cd814474abd11aa3471b7e15c%29%3B%0A%20%20%20%20%20%20%20%20%0A%20%20%20%20%0A%20%20%20%20%20%20%20%20%20%20%20%20var%20marker_58bab335502c455a8b076e9753dfac9e%20%3D%20L.marker%28%0A%20%20%20%20%20%20%20%20%20%20%20%20%20%20%20%20%5B36.839426%2C%20-119.78773999999999%5D%2C%0A%20%20%20%20%20%20%20%20%20%20%20%20%20%20%20%20%7B%7D%0A%20%20%20%20%20%20%20%20%20%20%20%20%29.addTo%28map_a3a1577cd814474abd11aa3471b7e15c%29%3B%0A%20%20%20%20%20%20%20%20%0A%20%20%20%20%0A%20%20%20%20%20%20%20%20%20%20%20%20var%20marker_30f6fc7487bd43dba5ccff17afd5da79%20%3D%20L.marker%28%0A%20%20%20%20%20%20%20%20%20%20%20%20%20%20%20%20%5B35.297271%2C%20-119.058275%5D%2C%0A%20%20%20%20%20%20%20%20%20%20%20%20%20%20%20%20%7B%7D%0A%20%20%20%20%20%20%20%20%20%20%20%20%29.addTo%28map_a3a1577cd814474abd11aa3471b7e15c%29%3B%0A%20%20%20%20%20%20%20%20%0A%20%20%20%20%0A%20%20%20%20%20%20%20%20%20%20%20%20var%20marker_853846f7f46c4f5c8362ef6c9a6f7d1f%20%3D%20L.marker%28%0A%20%20%20%20%20%20%20%20%20%20%20%20%20%20%20%20%5B35.384837%2C%20-119.048452%5D%2C%0A%20%20%20%20%20%20%20%20%20%20%20%20%20%20%20%20%7B%7D%0A%20%20%20%20%20%20%20%20%20%20%20%20%29.addTo%28map_a3a1577cd814474abd11aa3471b7e15c%29%3B%0A%20%20%20%20%20%20%20%20%0A%20%20%20%20%0A%20%20%20%20%20%20%20%20%20%20%20%20var%20marker_451e0cfbf11547c09c81130d33f06d6b%20%3D%20L.marker%28%0A%20%20%20%20%20%20%20%20%20%20%20%20%20%20%20%20%5B33.567617999999996%2C%20-117.71157099999999%5D%2C%0A%20%20%20%20%20%20%20%20%20%20%20%20%20%20%20%20%7B%7D%0A%20%20%20%20%20%20%20%20%20%20%20%20%29.addTo%28map_a3a1577cd814474abd11aa3471b7e15c%29%3B%0A%20%20%20%20%20%20%20%20%0A%20%20%20%20%0A%20%20%20%20%20%20%20%20%20%20%20%20var%20marker_3a0aec8e94c2478eab8e9f8a6a62c2d9%20%3D%20L.marker%28%0A%20%20%20%20%20%20%20%20%20%20%20%20%20%20%20%20%5B33.521227%2C%20-117.154362%5D%2C%0A%20%20%20%20%20%20%20%20%20%20%20%20%20%20%20%20%7B%7D%0A%20%20%20%20%20%20%20%20%20%20%20%20%29.addTo%28map_a3a1577cd814474abd11aa3471b7e15c%29%3B%0A%20%20%20%20%20%20%20%20%0A%20%20%20%20%0A%20%20%20%20%20%20%20%20%20%20%20%20var%20marker_d8fdd8c1f0e54f0e8ba35d9da5c43521%20%3D%20L.marker%28%0A%20%20%20%20%20%20%20%20%20%20%20%20%20%20%20%20%5B34.137557%2C%20-117.442672%5D%2C%0A%20%20%20%20%20%20%20%20%20%20%20%20%20%20%20%20%7B%7D%0A%20%20%20%20%20%20%20%20%20%20%20%20%29.addTo%28map_a3a1577cd814474abd11aa3471b7e15c%29%3B%0A%20%20%20%20%20%20%20%20%0A%20%20%20%20%0A%20%20%20%20%20%20%20%20%20%20%20%20var%20marker_a160690dcc264895ab3688229ee38996%20%3D%20L.marker%28%0A%20%20%20%20%20%20%20%20%20%20%20%20%20%20%20%20%5B33.704896000000005%2C%20-116.272801%5D%2C%0A%20%20%20%20%20%20%20%20%20%20%20%20%20%20%20%20%7B%7D%0A%20%20%20%20%20%20%20%20%20%20%20%20%29.addTo%28map_a3a1577cd814474abd11aa3471b7e15c%29%3B%0A%20%20%20%20%20%20%20%20%0A%20%20%20%20%0A%20%20%20%20%20%20%20%20%20%20%20%20var%20marker_6094b964545d4a1699138f80c986b9a5%20%3D%20L.marker%28%0A%20%20%20%20%20%20%20%20%20%20%20%20%20%20%20%20%5B32.823495799999996%2C%20-117.22828510000001%5D%2C%0A%20%20%20%20%20%20%20%20%20%20%20%20%20%20%20%20%7B%7D%0A%20%20%20%20%20%20%20%20%20%20%20%20%29.addTo%28map_a3a1577cd814474abd11aa3471b7e15c%29%3B%0A%20%20%20%20%20%20%20%20%0A%20%20%20%20%0A%20%20%20%20%20%20%20%20%20%20%20%20var%20marker_fe143270d03447f0aaa31ce3386f48c8%20%3D%20L.marker%28%0A%20%20%20%20%20%20%20%20%20%20%20%20%20%20%20%20%5B32.816251%2C%20-117.153631%5D%2C%0A%20%20%20%20%20%20%20%20%20%20%20%20%20%20%20%20%7B%7D%0A%20%20%20%20%20%20%20%20%20%20%20%20%29.addTo%28map_a3a1577cd814474abd11aa3471b7e15c%29%3B%0A%20%20%20%20%20%20%20%20%0A%20%20%20%20%0A%20%20%20%20%20%20%20%20%20%20%20%20var%20marker_1b681bd124cf46b39bfd7cdcaf8e0669%20%3D%20L.marker%28%0A%20%20%20%20%20%20%20%20%20%20%20%20%20%20%20%20%5B34.272589399999994%2C%20-118.4276271%5D%2C%0A%20%20%20%20%20%20%20%20%20%20%20%20%20%20%20%20%7B%7D%0A%20%20%20%20%20%20%20%20%20%20%20%20%29.addTo%28map_a3a1577cd814474abd11aa3471b7e15c%29%3B%0A%20%20%20%20%20%20%20%20%0A%20%20%20%20%0A%20%20%20%20%20%20%20%20%20%20%20%20var%20marker_858670af554a4e41816a8bca766ff37d%20%3D%20L.marker%28%0A%20%20%20%20%20%20%20%20%20%20%20%20%20%20%20%20%5B33.803183399999995%2C%20-118.038976%5D%2C%0A%20%20%20%20%20%20%20%20%20%20%20%20%20%20%20%20%7B%7D%0A%20%20%20%20%20%20%20%20%20%20%20%20%29.addTo%28map_a3a1577cd814474abd11aa3471b7e15c%29%3B%0A%20%20%20%20%20%20%20%20%0A%20%20%20%20%0A%20%20%20%20%20%20%20%20%20%20%20%20var%20marker_fea765ae0678433c9b53332aeb3665c7%20%3D%20L.marker%28%0A%20%20%20%20%20%20%20%20%20%20%20%20%20%20%20%20%5B33.918618%2C%20-118.342576%5D%2C%0A%20%20%20%20%20%20%20%20%20%20%20%20%20%20%20%20%7B%7D%0A%20%20%20%20%20%20%20%20%20%20%20%20%29.addTo%28map_a3a1577cd814474abd11aa3471b7e15c%29%3B%0A%20%20%20%20%20%20%20%20%0A%20%20%20%20%0A%20%20%20%20%20%20%20%20%20%20%20%20var%20marker_893a6fc1a2c24228bb345414d1eeaf18%20%3D%20L.marker%28%0A%20%20%20%20%20%20%20%20%20%20%20%20%20%20%20%20%5B33.994758600000004%2C%20-118.14306140000001%5D%2C%0A%20%20%20%20%20%20%20%20%20%20%20%20%20%20%20%20%7B%7D%0A%20%20%20%20%20%20%20%20%20%20%20%20%29.addTo%28map_a3a1577cd814474abd11aa3471b7e15c%29%3B%0A%20%20%20%20%20%20%20%20%0A%20%20%20%20%0A%20%20%20%20%20%20%20%20%20%20%20%20var%20marker_e99e8eb0565240379dca0ca814150379%20%3D%20L.marker%28%0A%20%20%20%20%20%20%20%20%20%20%20%20%20%20%20%20%5B39.64338720000001%2C%20-106.8885487%5D%2C%0A%20%20%20%20%20%20%20%20%20%20%20%20%20%20%20%20%7B%7D%0A%20%20%20%20%20%20%20%20%20%20%20%20%29.addTo%28map_a3a1577cd814474abd11aa3471b7e15c%29%3B%0A%20%20%20%20%20%20%20%20%0A%20%20%20%20%0A%20%20%20%20%20%20%20%20%20%20%20%20var%20marker_ab172f948ab44c00b90974d59b1de984%20%3D%20L.marker%28%0A%20%20%20%20%20%20%20%20%20%20%20%20%20%20%20%20%5B38.892736%2C%20-104.71771%5D%2C%0A%20%20%20%20%20%20%20%20%20%20%20%20%20%20%20%20%7B%7D%0A%20%20%20%20%20%20%20%20%20%20%20%20%29.addTo%28map_a3a1577cd814474abd11aa3471b7e15c%29%3B%0A%20%20%20%20%20%20%20%20%0A%20%20%20%20%0A%20%20%20%20%20%20%20%20%20%20%20%20var%20marker_3b108270abb04200b84dab866fa548e5%20%3D%20L.marker%28%0A%20%20%20%20%20%20%20%20%20%20%20%20%20%20%20%20%5B39.5580896%2C%20-104.7758852%5D%2C%0A%20%20%20%20%20%20%20%20%20%20%20%20%20%20%20%20%7B%7D%0A%20%20%20%20%20%20%20%20%20%20%20%20%29.addTo%28map_a3a1577cd814474abd11aa3471b7e15c%29%3B%0A%20%20%20%20%20%20%20%20%0A%20%20%20%20%0A%20%20%20%20%20%20%20%20%20%20%20%20var%20marker_2a813241defe4f45a3d9063f00212146%20%3D%20L.marker%28%0A%20%20%20%20%20%20%20%20%20%20%20%20%20%20%20%20%5B39.561203000000006%2C%20-104.874753%5D%2C%0A%20%20%20%20%20%20%20%20%20%20%20%20%20%20%20%20%7B%7D%0A%20%20%20%20%20%20%20%20%20%20%20%20%29.addTo%28map_a3a1577cd814474abd11aa3471b7e15c%29%3B%0A%20%20%20%20%20%20%20%20%0A%20%20%20%20%0A%20%20%20%20%20%20%20%20%20%20%20%20var%20marker_1da77582ba00488db1beb66bc3f4105b%20%3D%20L.marker%28%0A%20%20%20%20%20%20%20%20%20%20%20%20%20%20%20%20%5B39.638284999999996%2C%20-105.082856%5D%2C%0A%20%20%20%20%20%20%20%20%20%20%20%20%20%20%20%20%7B%7D%0A%20%20%20%20%20%20%20%20%20%20%20%20%29.addTo%28map_a3a1577cd814474abd11aa3471b7e15c%29%3B%0A%20%20%20%20%20%20%20%20%0A%20%20%20%20%0A%20%20%20%20%20%20%20%20%20%20%20%20var%20marker_76c8d9287e894007a22321c94e38afd1%20%3D%20L.marker%28%0A%20%20%20%20%20%20%20%20%20%20%20%20%20%20%20%20%5B39.644445000000005%2C%20-105.006451%5D%2C%0A%20%20%20%20%20%20%20%20%20%20%20%20%20%20%20%20%7B%7D%0A%20%20%20%20%20%20%20%20%20%20%20%20%29.addTo%28map_a3a1577cd814474abd11aa3471b7e15c%29%3B%0A%20%20%20%20%20%20%20%20%0A%20%20%20%20%0A%20%20%20%20%20%20%20%20%20%20%20%20var%20marker_d6e8d5a706eb40068a0ae401dc0623ef%20%3D%20L.marker%28%0A%20%20%20%20%20%20%20%20%20%20%20%20%20%20%20%20%5B39.862237%2C%20-105.0661949%5D%2C%0A%20%20%20%20%20%20%20%20%20%20%20%20%20%20%20%20%7B%7D%0A%20%20%20%20%20%20%20%20%20%20%20%20%29.addTo%28map_a3a1577cd814474abd11aa3471b7e15c%29%3B%0A%20%20%20%20%20%20%20%20%0A%20%20%20%20%0A%20%20%20%20%20%20%20%20%20%20%20%20var%20marker_2fe4093b7f4d4df396633868b3bfc34e%20%3D%20L.marker%28%0A%20%20%20%20%20%20%20%20%20%20%20%20%20%20%20%20%5B39.9576167%2C%20-105.16992979999999%5D%2C%0A%20%20%20%20%20%20%20%20%20%20%20%20%20%20%20%20%7B%7D%0A%20%20%20%20%20%20%20%20%20%20%20%20%29.addTo%28map_a3a1577cd814474abd11aa3471b7e15c%29%3B%0A%20%20%20%20%20%20%20%20%0A%20%20%20%20%0A%20%20%20%20%20%20%20%20%20%20%20%20var%20marker_d8b6ffbf0e894740acecee1e52d2e557%20%3D%20L.marker%28%0A%20%20%20%20%20%20%20%20%20%20%20%20%20%20%20%20%5B39.991358%2C%20-104.98316299999999%5D%2C%0A%20%20%20%20%20%20%20%20%20%20%20%20%20%20%20%20%7B%7D%0A%20%20%20%20%20%20%20%20%20%20%20%20%29.addTo%28map_a3a1577cd814474abd11aa3471b7e15c%29%3B%0A%20%20%20%20%20%20%20%20%0A%20%20%20%20%0A%20%20%20%20%20%20%20%20%20%20%20%20var%20marker_64c001db43f3476e98e3c97218549c4b%20%3D%20L.marker%28%0A%20%20%20%20%20%20%20%20%20%20%20%20%20%20%20%20%5B39.690471%2C%20-104.86808%5D%2C%0A%20%20%20%20%20%20%20%20%20%20%20%20%20%20%20%20%7B%7D%0A%20%20%20%20%20%20%20%20%20%20%20%20%29.addTo%28map_a3a1577cd814474abd11aa3471b7e15c%29%3B%0A%20%20%20%20%20%20%20%20%0A%20%20%20%20%0A%20%20%20%20%20%20%20%20%20%20%20%20var%20marker_0895e6cd05cc4cacafd7c9835cd1fda6%20%3D%20L.marker%28%0A%20%20%20%20%20%20%20%20%20%20%20%20%20%20%20%20%5B39.790074%2C%20-105.082637%5D%2C%0A%20%20%20%20%20%20%20%20%20%20%20%20%20%20%20%20%7B%7D%0A%20%20%20%20%20%20%20%20%20%20%20%20%29.addTo%28map_a3a1577cd814474abd11aa3471b7e15c%29%3B%0A%20%20%20%20%20%20%20%20%0A%20%20%20%20%0A%20%20%20%20%20%20%20%20%20%20%20%20var%20marker_a59cf8bc45c842cb9eb0854129d3aa33%20%3D%20L.marker%28%0A%20%20%20%20%20%20%20%20%20%20%20%20%20%20%20%20%5B38.9037505%2C%20-104.81721359999999%5D%2C%0A%20%20%20%20%20%20%20%20%20%20%20%20%20%20%20%20%7B%7D%0A%20%20%20%20%20%20%20%20%20%20%20%20%29.addTo%28map_a3a1577cd814474abd11aa3471b7e15c%29%3B%0A%20%20%20%20%20%20%20%20%0A%20%20%20%20%0A%20%20%20%20%20%20%20%20%20%20%20%20var%20marker_a4651b4ae5db4e4d963fcef5d8fbd8fe%20%3D%20L.marker%28%0A%20%20%20%20%20%20%20%20%20%20%20%20%20%20%20%20%5B41.091945700000004%2C%20-73.4515808%5D%2C%0A%20%20%20%20%20%20%20%20%20%20%20%20%20%20%20%20%7B%7D%0A%20%20%20%20%20%20%20%20%20%20%20%20%29.addTo%28map_a3a1577cd814474abd11aa3471b7e15c%29%3B%0A%20%20%20%20%20%20%20%20%0A%20%20%20%20%0A%20%20%20%20%20%20%20%20%20%20%20%20var%20marker_d3756c485cda45be872ee08afea5b6fc%20%3D%20L.marker%28%0A%20%20%20%20%20%20%20%20%20%20%20%20%20%20%20%20%5B41.4422731%2C%20-73.40512790000001%5D%2C%0A%20%20%20%20%20%20%20%20%20%20%20%20%20%20%20%20%7B%7D%0A%20%20%20%20%20%20%20%20%20%20%20%20%29.addTo%28map_a3a1577cd814474abd11aa3471b7e15c%29%3B%0A%20%20%20%20%20%20%20%20%0A%20%20%20%20%0A%20%20%20%20%20%20%20%20%20%20%20%20var%20marker_e93e8167d0934503b7fdf86ee019c580%20%3D%20L.marker%28%0A%20%20%20%20%20%20%20%20%20%20%20%20%20%20%20%20%5B41.542671999999996%2C%20-72.96866750000001%5D%2C%0A%20%20%20%20%20%20%20%20%20%20%20%20%20%20%20%20%7B%7D%0A%20%20%20%20%20%20%20%20%20%20%20%20%29.addTo%28map_a3a1577cd814474abd11aa3471b7e15c%29%3B%0A%20%20%20%20%20%20%20%20%0A%20%20%20%20%0A%20%20%20%20%20%20%20%20%20%20%20%20var%20marker_bd651ae56103478bbca8e19f5b3d238d%20%3D%20L.marker%28%0A%20%20%20%20%20%20%20%20%20%20%20%20%20%20%20%20%5B41.249660999999996%2C%20-73.023977%5D%2C%0A%20%20%20%20%20%20%20%20%20%20%20%20%20%20%20%20%7B%7D%0A%20%20%20%20%20%20%20%20%20%20%20%20%29.addTo%28map_a3a1577cd814474abd11aa3471b7e15c%29%3B%0A%20%20%20%20%20%20%20%20%0A%20%20%20%20%0A%20%20%20%20%20%20%20%20%20%20%20%20var%20marker_fd136288377e4b05ac1421c84dc44467%20%3D%20L.marker%28%0A%20%20%20%20%20%20%20%20%20%20%20%20%20%20%20%20%5B41.9936047%2C%20-72.5754399%5D%2C%0A%20%20%20%20%20%20%20%20%20%20%20%20%20%20%20%20%7B%7D%0A%20%20%20%20%20%20%20%20%20%20%20%20%29.addTo%28map_a3a1577cd814474abd11aa3471b7e15c%29%3B%0A%20%20%20%20%20%20%20%20%0A%20%20%20%20%0A%20%20%20%20%20%20%20%20%20%20%20%20var%20marker_8268c6f2e1524d53a99c6f8746c78e78%20%3D%20L.marker%28%0A%20%20%20%20%20%20%20%20%20%20%20%20%20%20%20%20%5B39.677735999999996%2C%20-75.64737%5D%2C%0A%20%20%20%20%20%20%20%20%20%20%20%20%20%20%20%20%7B%7D%0A%20%20%20%20%20%20%20%20%20%20%20%20%29.addTo%28map_a3a1577cd814474abd11aa3471b7e15c%29%3B%0A%20%20%20%20%20%20%20%20%0A%20%20%20%20%0A%20%20%20%20%20%20%20%20%20%20%20%20var%20marker_f8b8c5151fe342dca41522b4e88b8be8%20%3D%20L.marker%28%0A%20%20%20%20%20%20%20%20%20%20%20%20%20%20%20%20%5B26.411955%2C%20-80.1008839%5D%2C%0A%20%20%20%20%20%20%20%20%20%20%20%20%20%20%20%20%7B%7D%0A%20%20%20%20%20%20%20%20%20%20%20%20%29.addTo%28map_a3a1577cd814474abd11aa3471b7e15c%29%3B%0A%20%20%20%20%20%20%20%20%0A%20%20%20%20%0A%20%20%20%20%20%20%20%20%20%20%20%20var%20marker_adecf612f6904e44b7e3b67139fed4b2%20%3D%20L.marker%28%0A%20%20%20%20%20%20%20%20%20%20%20%20%20%20%20%20%5B26.220259999999996%2C%20-81.77492%5D%2C%0A%20%20%20%20%20%20%20%20%20%20%20%20%20%20%20%20%7B%7D%0A%20%20%20%20%20%20%20%20%20%20%20%20%29.addTo%28map_a3a1577cd814474abd11aa3471b7e15c%29%3B%0A%20%20%20%20%20%20%20%20%0A%20%20%20%20%0A%20%20%20%20%20%20%20%20%20%20%20%20var%20marker_d1da7c9c6c5f47559d8e7e6f5244bf49%20%3D%20L.marker%28%0A%20%20%20%20%20%20%20%20%20%20%20%20%20%20%20%20%5B26.489631%2C%20-81.785933%5D%2C%0A%20%20%20%20%20%20%20%20%20%20%20%20%20%20%20%20%7B%7D%0A%20%20%20%20%20%20%20%20%20%20%20%20%29.addTo%28map_a3a1577cd814474abd11aa3471b7e15c%29%3B%0A%20%20%20%20%20%20%20%20%0A%20%20%20%20%0A%20%20%20%20%20%20%20%20%20%20%20%20var%20marker_bee59c50405a4123a611f3a98e9c4295%20%3D%20L.marker%28%0A%20%20%20%20%20%20%20%20%20%20%20%20%20%20%20%20%5B26.544446999999998%2C%20-81.8742089%5D%2C%0A%20%20%20%20%20%20%20%20%20%20%20%20%20%20%20%20%7B%7D%0A%20%20%20%20%20%20%20%20%20%20%20%20%29.addTo%28map_a3a1577cd814474abd11aa3471b7e15c%29%3B%0A%20%20%20%20%20%20%20%20%0A%20%20%20%20%0A%20%20%20%20%20%20%20%20%20%20%20%20var%20marker_9f74db313d7a45ed982945689e1b69f6%20%3D%20L.marker%28%0A%20%20%20%20%20%20%20%20%20%20%20%20%20%20%20%20%5B27.921490999999996%2C%20-82.330936%5D%2C%0A%20%20%20%20%20%20%20%20%20%20%20%20%20%20%20%20%7B%7D%0A%20%20%20%20%20%20%20%20%20%20%20%20%29.addTo%28map_a3a1577cd814474abd11aa3471b7e15c%29%3B%0A%20%20%20%20%20%20%20%20%0A%20%20%20%20%0A%20%20%20%20%20%20%20%20%20%20%20%20var%20marker_4fff03ba198a492184bdd2972dd5e6d5%20%3D%20L.marker%28%0A%20%20%20%20%20%20%20%20%20%20%20%20%20%20%20%20%5B26.5872905%2C%20-80.0726927%5D%2C%0A%20%20%20%20%20%20%20%20%20%20%20%20%20%20%20%20%7B%7D%0A%20%20%20%20%20%20%20%20%20%20%20%20%29.addTo%28map_a3a1577cd814474abd11aa3471b7e15c%29%3B%0A%20%20%20%20%20%20%20%20%0A%20%20%20%20%0A%20%20%20%20%20%20%20%20%20%20%20%20var%20marker_fcf6ea3bc3bc46d6a2ec9ca93c72403b%20%3D%20L.marker%28%0A%20%20%20%20%20%20%20%20%20%20%20%20%20%20%20%20%5B26.681031400000002%2C%20-80.2195563%5D%2C%0A%20%20%20%20%20%20%20%20%20%20%20%20%20%20%20%20%7B%7D%0A%20%20%20%20%20%20%20%20%20%20%20%20%29.addTo%28map_a3a1577cd814474abd11aa3471b7e15c%29%3B%0A%20%20%20%20%20%20%20%20%0A%20%20%20%20%0A%20%20%20%20%20%20%20%20%20%20%20%20var%20marker_e2d96dd962bb45499b9d3125cf2814c9%20%3D%20L.marker%28%0A%20%20%20%20%20%20%20%20%20%20%20%20%20%20%20%20%5B26.808351899999998%2C%20-80.0879667%5D%2C%0A%20%20%20%20%20%20%20%20%20%20%20%20%20%20%20%20%7B%7D%0A%20%20%20%20%20%20%20%20%20%20%20%20%29.addTo%28map_a3a1577cd814474abd11aa3471b7e15c%29%3B%0A%20%20%20%20%20%20%20%20%0A%20%20%20%20%0A%20%20%20%20%20%20%20%20%20%20%20%20var%20marker_5baa210434d04f4885e8449eec0f16a4%20%3D%20L.marker%28%0A%20%20%20%20%20%20%20%20%20%20%20%20%20%20%20%20%5B26.096903899999997%2C%20-80.2509582%5D%2C%0A%20%20%20%20%20%20%20%20%20%20%20%20%20%20%20%20%7B%7D%0A%20%20%20%20%20%20%20%20%20%20%20%20%29.addTo%28map_a3a1577cd814474abd11aa3471b7e15c%29%3B%0A%20%20%20%20%20%20%20%20%0A%20%20%20%20%0A%20%20%20%20%20%20%20%20%20%20%20%20var%20marker_0d1410cef8c64e04ba19491f82cdf0ea%20%3D%20L.marker%28%0A%20%20%20%20%20%20%20%20%20%20%20%20%20%20%20%20%5B25.655668%2C%20-80.41206899999999%5D%2C%0A%20%20%20%20%20%20%20%20%20%20%20%20%20%20%20%20%7B%7D%0A%20%20%20%20%20%20%20%20%20%20%20%20%29.addTo%28map_a3a1577cd814474abd11aa3471b7e15c%29%3B%0A%20%20%20%20%20%20%20%20%0A%20%20%20%20%0A%20%20%20%20%20%20%20%20%20%20%20%20var%20marker_436dea0f925747be9d250410f4284241%20%3D%20L.marker%28%0A%20%20%20%20%20%20%20%20%20%20%20%20%20%20%20%20%5B25.909564000000003%2C%20-80.156203%5D%2C%0A%20%20%20%20%20%20%20%20%20%20%20%20%20%20%20%20%7B%7D%0A%20%20%20%20%20%20%20%20%20%20%20%20%29.addTo%28map_a3a1577cd814474abd11aa3471b7e15c%29%3B%0A%20%20%20%20%20%20%20%20%0A%20%20%20%20%0A%20%20%20%20%20%20%20%20%20%20%20%20var%20marker_f09a72900bae477eb61b0be9228fd06f%20%3D%20L.marker%28%0A%20%20%20%20%20%20%20%20%20%20%20%20%20%20%20%20%5B25.774109%2C%20-80.330536%5D%2C%0A%20%20%20%20%20%20%20%20%20%20%20%20%20%20%20%20%7B%7D%0A%20%20%20%20%20%20%20%20%20%20%20%20%29.addTo%28map_a3a1577cd814474abd11aa3471b7e15c%29%3B%0A%20%20%20%20%20%20%20%20%0A%20%20%20%20%0A%20%20%20%20%20%20%20%20%20%20%20%20var%20marker_1dcde291c26f448a94eb1efcd2ea3b02%20%3D%20L.marker%28%0A%20%20%20%20%20%20%20%20%20%20%20%20%20%20%20%20%5B26.273566%2C%20-80.148255%5D%2C%0A%20%20%20%20%20%20%20%20%20%20%20%20%20%20%20%20%7B%7D%0A%20%20%20%20%20%20%20%20%20%20%20%20%29.addTo%28map_a3a1577cd814474abd11aa3471b7e15c%29%3B%0A%20%20%20%20%20%20%20%20%0A%20%20%20%20%0A%20%20%20%20%20%20%20%20%20%20%20%20var%20marker_810262cfee4a421689db0102581bb94c%20%3D%20L.marker%28%0A%20%20%20%20%20%20%20%20%20%20%20%20%20%20%20%20%5B26.009617000000002%2C%20-80.360331%5D%2C%0A%20%20%20%20%20%20%20%20%20%20%20%20%20%20%20%20%7B%7D%0A%20%20%20%20%20%20%20%20%20%20%20%20%29.addTo%28map_a3a1577cd814474abd11aa3471b7e15c%29%3B%0A%20%20%20%20%20%20%20%20%0A%20%20%20%20%0A%20%20%20%20%20%20%20%20%20%20%20%20var%20marker_88449e4c72de4136a51f77ed632f099e%20%3D%20L.marker%28%0A%20%20%20%20%20%20%20%20%20%20%20%20%20%20%20%20%5B25.923451%2C%20-80.29870600000001%5D%2C%0A%20%20%20%20%20%20%20%20%20%20%20%20%20%20%20%20%7B%7D%0A%20%20%20%20%20%20%20%20%20%20%20%20%29.addTo%28map_a3a1577cd814474abd11aa3471b7e15c%29%3B%0A%20%20%20%20%20%20%20%20%0A%20%20%20%20%0A%20%20%20%20%20%20%20%20%20%20%20%20var%20marker_7b0a743391d9401195fc9ea5b57518bc%20%3D%20L.marker%28%0A%20%20%20%20%20%20%20%20%20%20%20%20%20%20%20%20%5B28.404252000000003%2C%20-81.40671%5D%2C%0A%20%20%20%20%20%20%20%20%20%20%20%20%20%20%20%20%7B%7D%0A%20%20%20%20%20%20%20%20%20%20%20%20%29.addTo%28map_a3a1577cd814474abd11aa3471b7e15c%29%3B%0A%20%20%20%20%20%20%20%20%0A%20%20%20%20%0A%20%20%20%20%20%20%20%20%20%20%20%20var%20marker_146166f333cd445c87402402599eb2da%20%3D%20L.marker%28%0A%20%20%20%20%20%20%20%20%20%20%20%20%20%20%20%20%5B28.59907%2C%20-81.30024%5D%2C%0A%20%20%20%20%20%20%20%20%20%20%20%20%20%20%20%20%7B%7D%0A%20%20%20%20%20%20%20%20%20%20%20%20%29.addTo%28map_a3a1577cd814474abd11aa3471b7e15c%29%3B%0A%20%20%20%20%20%20%20%20%0A%20%20%20%20%0A%20%20%20%20%20%20%20%20%20%20%20%20var%20marker_c02f9a0e94344d28b27d118dea923173%20%3D%20L.marker%28%0A%20%20%20%20%20%20%20%20%20%20%20%20%20%20%20%20%5B28.661867200000003%2C%20-81.4176945%5D%2C%0A%20%20%20%20%20%20%20%20%20%20%20%20%20%20%20%20%7B%7D%0A%20%20%20%20%20%20%20%20%20%20%20%20%29.addTo%28map_a3a1577cd814474abd11aa3471b7e15c%29%3B%0A%20%20%20%20%20%20%20%20%0A%20%20%20%20%0A%20%20%20%20%20%20%20%20%20%20%20%20var%20marker_f73b22ab3a604d1cba6be96aae730fdb%20%3D%20L.marker%28%0A%20%20%20%20%20%20%20%20%20%20%20%20%20%20%20%20%5B30.4606461%2C%20-84.2124709%5D%2C%0A%20%20%20%20%20%20%20%20%20%20%20%20%20%20%20%20%7B%7D%0A%20%20%20%20%20%20%20%20%20%20%20%20%29.addTo%28map_a3a1577cd814474abd11aa3471b7e15c%29%3B%0A%20%20%20%20%20%20%20%20%0A%20%20%20%20%0A%20%20%20%20%20%20%20%20%20%20%20%20var%20marker_fa5b6fb0a6b24dbdae2581151179e929%20%3D%20L.marker%28%0A%20%20%20%20%20%20%20%20%20%20%20%20%20%20%20%20%5B30.252071%2C%20-81.533776%5D%2C%0A%20%20%20%20%20%20%20%20%20%20%20%20%20%20%20%20%7B%7D%0A%20%20%20%20%20%20%20%20%20%20%20%20%29.addTo%28map_a3a1577cd814474abd11aa3471b7e15c%29%3B%0A%20%20%20%20%20%20%20%20%0A%20%20%20%20%0A%20%20%20%20%20%20%20%20%20%20%20%20var%20marker_65c3e90d11964af8a94f4884f2edcecb%20%3D%20L.marker%28%0A%20%20%20%20%20%20%20%20%20%20%20%20%20%20%20%20%5B27.9604528%2C%20-82.7275752%5D%2C%0A%20%20%20%20%20%20%20%20%20%20%20%20%20%20%20%20%7B%7D%0A%20%20%20%20%20%20%20%20%20%20%20%20%29.addTo%28map_a3a1577cd814474abd11aa3471b7e15c%29%3B%0A%20%20%20%20%20%20%20%20%0A%20%20%20%20%0A%20%20%20%20%20%20%20%20%20%20%20%20var%20marker_00267808058e4f55b64034e09177bdeb%20%3D%20L.marker%28%0A%20%20%20%20%20%20%20%20%20%20%20%20%20%20%20%20%5B34.932647700000004%2C%20-85.2547988%5D%2C%0A%20%20%20%20%20%20%20%20%20%20%20%20%20%20%20%20%7B%7D%0A%20%20%20%20%20%20%20%20%20%20%20%20%29.addTo%28map_a3a1577cd814474abd11aa3471b7e15c%29%3B%0A%20%20%20%20%20%20%20%20%0A%20%20%20%20%0A%20%20%20%20%20%20%20%20%20%20%20%20var%20marker_fb731988fc544d1c80a105d7bf781d3b%20%3D%20L.marker%28%0A%20%20%20%20%20%20%20%20%20%20%20%20%20%20%20%20%5B34.0620378%2C%20-83.9943156%5D%2C%0A%20%20%20%20%20%20%20%20%20%20%20%20%20%20%20%20%7B%7D%0A%20%20%20%20%20%20%20%20%20%20%20%20%29.addTo%28map_a3a1577cd814474abd11aa3471b7e15c%29%3B%0A%20%20%20%20%20%20%20%20%0A%20%20%20%20%0A%20%20%20%20%20%20%20%20%20%20%20%20var%20marker_55afaa606ce4428497c3a479e30fbf4e%20%3D%20L.marker%28%0A%20%20%20%20%20%20%20%20%20%20%20%20%20%20%20%20%5B33.8816153%2C%20-84.46943590000001%5D%2C%0A%20%20%20%20%20%20%20%20%20%20%20%20%20%20%20%20%7B%7D%0A%20%20%20%20%20%20%20%20%20%20%20%20%29.addTo%28map_a3a1577cd814474abd11aa3471b7e15c%29%3B%0A%20%20%20%20%20%20%20%20%0A%20%20%20%20%0A%20%20%20%20%20%20%20%20%20%20%20%20var%20marker_0b5a1989b90a43a0b23659e06cbed552%20%3D%20L.marker%28%0A%20%20%20%20%20%20%20%20%20%20%20%20%20%20%20%20%5B33.927816%2C%20-84.352462%5D%2C%0A%20%20%20%20%20%20%20%20%20%20%20%20%20%20%20%20%7B%7D%0A%20%20%20%20%20%20%20%20%20%20%20%20%29.addTo%28map_a3a1577cd814474abd11aa3471b7e15c%29%3B%0A%20%20%20%20%20%20%20%20%0A%20%20%20%20%0A%20%20%20%20%20%20%20%20%20%20%20%20var%20marker_a4527b49221646b2ae306acd292d23be%20%3D%20L.marker%28%0A%20%20%20%20%20%20%20%20%20%20%20%20%20%20%20%20%5B33.572052%2C%20-84.333989%5D%2C%0A%20%20%20%20%20%20%20%20%20%20%20%20%20%20%20%20%7B%7D%0A%20%20%20%20%20%20%20%20%20%20%20%20%29.addTo%28map_a3a1577cd814474abd11aa3471b7e15c%29%3B%0A%20%20%20%20%20%20%20%20%0A%20%20%20%20%0A%20%20%20%20%20%20%20%20%20%20%20%20var%20marker_2e8e5528aed940c5bcc62bbd14901412%20%3D%20L.marker%28%0A%20%20%20%20%20%20%20%20%20%20%20%20%20%20%20%20%5B34.009217799999995%2C%20-84.5686483%5D%2C%0A%20%20%20%20%20%20%20%20%20%20%20%20%20%20%20%20%7B%7D%0A%20%20%20%20%20%20%20%20%20%20%20%20%29.addTo%28map_a3a1577cd814474abd11aa3471b7e15c%29%3B%0A%20%20%20%20%20%20%20%20%0A%20%20%20%20%0A%20%20%20%20%20%20%20%20%20%20%20%20var%20marker_79690e3bffcc4c1db656303ca4000551%20%3D%20L.marker%28%0A%20%20%20%20%20%20%20%20%20%20%20%20%20%20%20%20%5B33.947764%2C%20-84.143039%5D%2C%0A%20%20%20%20%20%20%20%20%20%20%20%20%20%20%20%20%7B%7D%0A%20%20%20%20%20%20%20%20%20%20%20%20%29.addTo%28map_a3a1577cd814474abd11aa3471b7e15c%29%3B%0A%20%20%20%20%20%20%20%20%0A%20%20%20%20%0A%20%20%20%20%20%20%20%20%20%20%20%20var%20marker_78e7ae6f654445f69f2434940cb71186%20%3D%20L.marker%28%0A%20%20%20%20%20%20%20%20%20%20%20%20%20%20%20%20%5B34.090513%2C%20-84.277902%5D%2C%0A%20%20%20%20%20%20%20%20%20%20%20%20%20%20%20%20%7B%7D%0A%20%20%20%20%20%20%20%20%20%20%20%20%29.addTo%28map_a3a1577cd814474abd11aa3471b7e15c%29%3B%0A%20%20%20%20%20%20%20%20%0A%20%20%20%20%0A%20%20%20%20%20%20%20%20%20%20%20%20var%20marker_50b957e36ccd47638dee11cb3e5f425a%20%3D%20L.marker%28%0A%20%20%20%20%20%20%20%20%20%20%20%20%20%20%20%20%5B33.8709805%2C%20-84.33502829999999%5D%2C%0A%20%20%20%20%20%20%20%20%20%20%20%20%20%20%20%20%7B%7D%0A%20%20%20%20%20%20%20%20%20%20%20%20%29.addTo%28map_a3a1577cd814474abd11aa3471b7e15c%29%3B%0A%20%20%20%20%20%20%20%20%0A%20%20%20%20%0A%20%20%20%20%20%20%20%20%20%20%20%20var%20marker_f60fb054d36445e6a99272b06b29cfc4%20%3D%20L.marker%28%0A%20%20%20%20%20%20%20%20%20%20%20%20%20%20%20%20%5B19.687344%2C%20-156.017457%5D%2C%0A%20%20%20%20%20%20%20%20%20%20%20%20%20%20%20%20%7B%7D%0A%20%20%20%20%20%20%20%20%20%20%20%20%29.addTo%28map_a3a1577cd814474abd11aa3471b7e15c%29%3B%0A%20%20%20%20%20%20%20%20%0A%20%20%20%20%0A%20%20%20%20%20%20%20%20%20%20%20%20var%20marker_3f68501470264249804ebc7a9e29f3b0%20%3D%20L.marker%28%0A%20%20%20%20%20%20%20%20%20%20%20%20%20%20%20%20%5B21.282117%2C%20-157.7119219%5D%2C%0A%20%20%20%20%20%20%20%20%20%20%20%20%20%20%20%20%7B%7D%0A%20%20%20%20%20%20%20%20%20%20%20%20%29.addTo%28map_a3a1577cd814474abd11aa3471b7e15c%29%3B%0A%20%20%20%20%20%20%20%20%0A%20%20%20%20%0A%20%20%20%20%20%20%20%20%20%20%20%20var%20marker_b6a5f3a586c3476c93a87bf789a3db7d%20%3D%20L.marker%28%0A%20%20%20%20%20%20%20%20%20%20%20%20%20%20%20%20%5B21.418893100000002%2C%20-158.00638480000003%5D%2C%0A%20%20%20%20%20%20%20%20%20%20%20%20%20%20%20%20%7B%7D%0A%20%20%20%20%20%20%20%20%20%20%20%20%29.addTo%28map_a3a1577cd814474abd11aa3471b7e15c%29%3B%0A%20%20%20%20%20%20%20%20%0A%20%20%20%20%0A%20%20%20%20%20%20%20%20%20%20%20%20var%20marker_1626c1daa61f4a4f8f305f52435d5b0f%20%3D%20L.marker%28%0A%20%20%20%20%20%20%20%20%20%20%20%20%20%20%20%20%5B21.966535500000003%2C%20-159.3799149%5D%2C%0A%20%20%20%20%20%20%20%20%20%20%20%20%20%20%20%20%7B%7D%0A%20%20%20%20%20%20%20%20%20%20%20%20%29.addTo%28map_a3a1577cd814474abd11aa3471b7e15c%29%3B%0A%20%20%20%20%20%20%20%20%0A%20%20%20%20%0A%20%20%20%20%20%20%20%20%20%20%20%20var%20marker_db5f5c78d1f743c68e259a669ca68271%20%3D%20L.marker%28%0A%20%20%20%20%20%20%20%20%20%20%20%20%20%20%20%20%5B20.887082%2C%20-156.45136399999998%5D%2C%0A%20%20%20%20%20%20%20%20%20%20%20%20%20%20%20%20%7B%7D%0A%20%20%20%20%20%20%20%20%20%20%20%20%29.addTo%28map_a3a1577cd814474abd11aa3471b7e15c%29%3B%0A%20%20%20%20%20%20%20%20%0A%20%20%20%20%0A%20%20%20%20%20%20%20%20%20%20%20%20var%20marker_7bd0ac0d61e447c9a2793bcf2dabe5eb%20%3D%20L.marker%28%0A%20%20%20%20%20%20%20%20%20%20%20%20%20%20%20%20%5B21.3272958%2C%20-158.08810830000002%5D%2C%0A%20%20%20%20%20%20%20%20%20%20%20%20%20%20%20%20%7B%7D%0A%20%20%20%20%20%20%20%20%20%20%20%20%29.addTo%28map_a3a1577cd814474abd11aa3471b7e15c%29%3B%0A%20%20%20%20%20%20%20%20%0A%20%20%20%20%0A%20%20%20%20%20%20%20%20%20%20%20%20var%20marker_da4fa112645245a28713337bb68a765d%20%3D%20L.marker%28%0A%20%20%20%20%20%20%20%20%20%20%20%20%20%20%20%20%5B21.318473899999997%2C%20-157.870711%5D%2C%0A%20%20%20%20%20%20%20%20%20%20%20%20%20%20%20%20%7B%7D%0A%20%20%20%20%20%20%20%20%20%20%20%20%29.addTo%28map_a3a1577cd814474abd11aa3471b7e15c%29%3B%0A%20%20%20%20%20%20%20%20%0A%20%20%20%20%0A%20%20%20%20%20%20%20%20%20%20%20%20var%20marker_a5e0a59ece8c4770994b9aa8e3a76a86%20%3D%20L.marker%28%0A%20%20%20%20%20%20%20%20%20%20%20%20%20%20%20%20%5B47.7080223%2C%20-116.7819023%5D%2C%0A%20%20%20%20%20%20%20%20%20%20%20%20%20%20%20%20%7B%7D%0A%20%20%20%20%20%20%20%20%20%20%20%20%29.addTo%28map_a3a1577cd814474abd11aa3471b7e15c%29%3B%0A%20%20%20%20%20%20%20%20%0A%20%20%20%20%0A%20%20%20%20%20%20%20%20%20%20%20%20var%20marker_bf3c10dec0804c25a2689aecda54d336%20%3D%20L.marker%28%0A%20%20%20%20%20%20%20%20%20%20%20%20%20%20%20%20%5B43.585487%2C%20-116.27668600000001%5D%2C%0A%20%20%20%20%20%20%20%20%20%20%20%20%20%20%20%20%7B%7D%0A%20%20%20%20%20%20%20%20%20%20%20%20%29.addTo%28map_a3a1577cd814474abd11aa3471b7e15c%29%3B%0A%20%20%20%20%20%20%20%20%0A%20%20%20%20%0A%20%20%20%20%20%20%20%20%20%20%20%20var%20marker_fb3879cde57f4996ac6bbaa5baef7f32%20%3D%20L.marker%28%0A%20%20%20%20%20%20%20%20%20%20%20%20%20%20%20%20%5B43.615175%2C%20-116.59278400000001%5D%2C%0A%20%20%20%20%20%20%20%20%20%20%20%20%20%20%20%20%7B%7D%0A%20%20%20%20%20%20%20%20%20%20%20%20%29.addTo%28map_a3a1577cd814474abd11aa3471b7e15c%29%3B%0A%20%20%20%20%20%20%20%20%0A%20%20%20%20%0A%20%20%20%20%20%20%20%20%20%20%20%20var%20marker_70b85cfff953462cb58cb3e95366df44%20%3D%20L.marker%28%0A%20%20%20%20%20%20%20%20%20%20%20%20%20%20%20%20%5B42.591998%2C%20-114.46563950000001%5D%2C%0A%20%20%20%20%20%20%20%20%20%20%20%20%20%20%20%20%7B%7D%0A%20%20%20%20%20%20%20%20%20%20%20%20%29.addTo%28map_a3a1577cd814474abd11aa3471b7e15c%29%3B%0A%20%20%20%20%20%20%20%20%0A%20%20%20%20%0A%20%20%20%20%20%20%20%20%20%20%20%20var%20marker_a34ae1c92f8c40e1b52a298be88b5221%20%3D%20L.marker%28%0A%20%20%20%20%20%20%20%20%20%20%20%20%20%20%20%20%5B42.905739000000004%2C%20-112.46893100000001%5D%2C%0A%20%20%20%20%20%20%20%20%20%20%20%20%20%20%20%20%7B%7D%0A%20%20%20%20%20%20%20%20%20%20%20%20%29.addTo%28map_a3a1577cd814474abd11aa3471b7e15c%29%3B%0A%20%20%20%20%20%20%20%20%0A%20%20%20%20%0A%20%20%20%20%20%20%20%20%20%20%20%20var%20marker_f9faafee409248f5b38e8ef8e2d1cee2%20%3D%20L.marker%28%0A%20%20%20%20%20%20%20%20%20%20%20%20%20%20%20%20%5B42.014665%2C%20-87.7815541%5D%2C%0A%20%20%20%20%20%20%20%20%20%20%20%20%20%20%20%20%7B%7D%0A%20%20%20%20%20%20%20%20%20%20%20%20%29.addTo%28map_a3a1577cd814474abd11aa3471b7e15c%29%3B%0A%20%20%20%20%20%20%20%20%0A%20%20%20%20%0A%20%20%20%20%20%20%20%20%20%20%20%20var%20marker_e12b3a499e2f4828a753e23c780d9f5c%20%3D%20L.marker%28%0A%20%20%20%20%20%20%20%20%20%20%20%20%20%20%20%20%5B41.7600708%2C%20-87.7418497%5D%2C%0A%20%20%20%20%20%20%20%20%20%20%20%20%20%20%20%20%7B%7D%0A%20%20%20%20%20%20%20%20%20%20%20%20%29.addTo%28map_a3a1577cd814474abd11aa3471b7e15c%29%3B%0A%20%20%20%20%20%20%20%20%0A%20%20%20%20%0A%20%20%20%20%20%20%20%20%20%20%20%20var%20marker_cfb28120582b47949c8192c4e593d4ad%20%3D%20L.marker%28%0A%20%20%20%20%20%20%20%20%20%20%20%20%20%20%20%20%5B41.929772899999996%2C%20-87.67704470000001%5D%2C%0A%20%20%20%20%20%20%20%20%20%20%20%20%20%20%20%20%7B%7D%0A%20%20%20%20%20%20%20%20%20%20%20%20%29.addTo%28map_a3a1577cd814474abd11aa3471b7e15c%29%3B%0A%20%20%20%20%20%20%20%20%0A%20%20%20%20%0A%20%20%20%20%20%20%20%20%20%20%20%20var%20marker_c756c0eb61d04e4fa76272fa92442bee%20%3D%20L.marker%28%0A%20%20%20%20%20%20%20%20%20%20%20%20%20%20%20%20%5B41.845569%2C%20-87.964888%5D%2C%0A%20%20%20%20%20%20%20%20%20%20%20%20%20%20%20%20%7B%7D%0A%20%20%20%20%20%20%20%20%20%20%20%20%29.addTo%28map_a3a1577cd814474abd11aa3471b7e15c%29%3B%0A%20%20%20%20%20%20%20%20%0A%20%20%20%20%0A%20%20%20%20%20%20%20%20%20%20%20%20var%20marker_850d42249fd6496492244906dc4e5181%20%3D%20L.marker%28%0A%20%20%20%20%20%20%20%20%20%20%20%20%20%20%20%20%5B41.6011911%2C%20-87.86182559999999%5D%2C%0A%20%20%20%20%20%20%20%20%20%20%20%20%20%20%20%20%7B%7D%0A%20%20%20%20%20%20%20%20%20%20%20%20%29.addTo%28map_a3a1577cd814474abd11aa3471b7e15c%29%3B%0A%20%20%20%20%20%20%20%20%0A%20%20%20%20%0A%20%20%20%20%20%20%20%20%20%20%20%20var%20marker_ff5e55c7ebe947808a00a641154a910d%20%3D%20L.marker%28%0A%20%20%20%20%20%20%20%20%20%20%20%20%20%20%20%20%5B42.0565401%2C%20-88.0449252%5D%2C%0A%20%20%20%20%20%20%20%20%20%20%20%20%20%20%20%20%7B%7D%0A%20%20%20%20%20%20%20%20%20%20%20%20%29.addTo%28map_a3a1577cd814474abd11aa3471b7e15c%29%3B%0A%20%20%20%20%20%20%20%20%0A%20%20%20%20%0A%20%20%20%20%20%20%20%20%20%20%20%20var%20marker_cb48a4f708354d45a0dae80961ab9af8%20%3D%20L.marker%28%0A%20%20%20%20%20%20%20%20%20%20%20%20%20%20%20%20%5B42.178880799999995%2C%20-88.3387302%5D%2C%0A%20%20%20%20%20%20%20%20%20%20%20%20%20%20%20%20%7B%7D%0A%20%20%20%20%20%20%20%20%20%20%20%20%29.addTo%28map_a3a1577cd814474abd11aa3471b7e15c%29%3B%0A%20%20%20%20%20%20%20%20%0A%20%20%20%20%0A%20%20%20%20%20%20%20%20%20%20%20%20var%20marker_8aff0081ecd24a9a9999bf4c1ded5271%20%3D%20L.marker%28%0A%20%20%20%20%20%20%20%20%20%20%20%20%20%20%20%20%5B41.939683200000005%2C%20-88.1323182%5D%2C%0A%20%20%20%20%20%20%20%20%20%20%20%20%20%20%20%20%7B%7D%0A%20%20%20%20%20%20%20%20%20%20%20%20%29.addTo%28map_a3a1577cd814474abd11aa3471b7e15c%29%3B%0A%20%20%20%20%20%20%20%20%0A%20%20%20%20%0A%20%20%20%20%20%20%20%20%20%20%20%20var%20marker_1428fb5d5df042ffa301e2e1f785bf50%20%3D%20L.marker%28%0A%20%20%20%20%20%20%20%20%20%20%20%20%20%20%20%20%5B42.187135%2C%20-88.093412%5D%2C%0A%20%20%20%20%20%20%20%20%20%20%20%20%20%20%20%20%7B%7D%0A%20%20%20%20%20%20%20%20%20%20%20%20%29.addTo%28map_a3a1577cd814474abd11aa3471b7e15c%29%3B%0A%20%20%20%20%20%20%20%20%0A%20%20%20%20%0A%20%20%20%20%20%20%20%20%20%20%20%20var%20marker_693552ce8d8b4ab9ac864e07c619bae7%20%3D%20L.marker%28%0A%20%20%20%20%20%20%20%20%20%20%20%20%20%20%20%20%5B41.744338799999994%2C%20-88.2058422%5D%2C%0A%20%20%20%20%20%20%20%20%20%20%20%20%20%20%20%20%7B%7D%0A%20%20%20%20%20%20%20%20%20%20%20%20%29.addTo%28map_a3a1577cd814474abd11aa3471b7e15c%29%3B%0A%20%20%20%20%20%20%20%20%0A%20%20%20%20%0A%20%20%20%20%20%20%20%20%20%20%20%20var%20marker_916b71bba41b43f1b7c0a386170b49c9%20%3D%20L.marker%28%0A%20%20%20%20%20%20%20%20%20%20%20%20%20%20%20%20%5B41.7265993%2C%20-88.03255659999999%5D%2C%0A%20%20%20%20%20%20%20%20%20%20%20%20%20%20%20%20%7B%7D%0A%20%20%20%20%20%20%20%20%20%20%20%20%29.addTo%28map_a3a1577cd814474abd11aa3471b7e15c%29%3B%0A%20%20%20%20%20%20%20%20%0A%20%20%20%20%0A%20%20%20%20%20%20%20%20%20%20%20%20var%20marker_ad5c05510d624bd78d628bf7fa9e62f6%20%3D%20L.marker%28%0A%20%20%20%20%20%20%20%20%20%20%20%20%20%20%20%20%5B41.9073026%2C%20-88.34001909999999%5D%2C%0A%20%20%20%20%20%20%20%20%20%20%20%20%20%20%20%20%7B%7D%0A%20%20%20%20%20%20%20%20%20%20%20%20%29.addTo%28map_a3a1577cd814474abd11aa3471b7e15c%29%3B%0A%20%20%20%20%20%20%20%20%0A%20%20%20%20%0A%20%20%20%20%20%20%20%20%20%20%20%20var%20marker_f1db8d67e28e4626a05a9e0fad0959b2%20%3D%20L.marker%28%0A%20%20%20%20%20%20%20%20%20%20%20%20%20%20%20%20%5B41.9091302%2C%20-87.8367543%5D%2C%0A%20%20%20%20%20%20%20%20%20%20%20%20%20%20%20%20%7B%7D%0A%20%20%20%20%20%20%20%20%20%20%20%20%29.addTo%28map_a3a1577cd814474abd11aa3471b7e15c%29%3B%0A%20%20%20%20%20%20%20%20%0A%20%20%20%20%0A%20%20%20%20%20%20%20%20%20%20%20%20var%20marker_a01ece2d8f374e3bb81f46fded805c74%20%3D%20L.marker%28%0A%20%20%20%20%20%20%20%20%20%20%20%20%20%20%20%20%5B42.0831646%2C%20-87.9332458%5D%2C%0A%20%20%20%20%20%20%20%20%20%20%20%20%20%20%20%20%7B%7D%0A%20%20%20%20%20%20%20%20%20%20%20%20%29.addTo%28map_a3a1577cd814474abd11aa3471b7e15c%29%3B%0A%20%20%20%20%20%20%20%20%0A%20%20%20%20%0A%20%20%20%20%20%20%20%20%20%20%20%20var%20marker_a2f3b2ad9dac402383d139d7a3365804%20%3D%20L.marker%28%0A%20%20%20%20%20%20%20%20%20%20%20%20%20%20%20%20%5B42.240048%2C%20-87.90571609999999%5D%2C%0A%20%20%20%20%20%20%20%20%20%20%20%20%20%20%20%20%7B%7D%0A%20%20%20%20%20%20%20%20%20%20%20%20%29.addTo%28map_a3a1577cd814474abd11aa3471b7e15c%29%3B%0A%20%20%20%20%20%20%20%20%0A%20%20%20%20%0A%20%20%20%20%20%20%20%20%20%20%20%20var%20marker_fc7414e765f741fdba5efc58217248f7%20%3D%20L.marker%28%0A%20%20%20%20%20%20%20%20%20%20%20%20%20%20%20%20%5B42.1090138%2C%20-87.8214507%5D%2C%0A%20%20%20%20%20%20%20%20%20%20%20%20%20%20%20%20%7B%7D%0A%20%20%20%20%20%20%20%20%20%20%20%20%29.addTo%28map_a3a1577cd814474abd11aa3471b7e15c%29%3B%0A%20%20%20%20%20%20%20%20%0A%20%20%20%20%0A%20%20%20%20%20%20%20%20%20%20%20%20var%20marker_f47329f1b45544a3acef33d462ade3cf%20%3D%20L.marker%28%0A%20%20%20%20%20%20%20%20%20%20%20%20%20%20%20%20%5B41.4738435%2C%20-87.3218679%5D%2C%0A%20%20%20%20%20%20%20%20%20%20%20%20%20%20%20%20%7B%7D%0A%20%20%20%20%20%20%20%20%20%20%20%20%29.addTo%28map_a3a1577cd814474abd11aa3471b7e15c%29%3B%0A%20%20%20%20%20%20%20%20%0A%20%20%20%20%0A%20%20%20%20%20%20%20%20%20%20%20%20var%20marker_0183f46831224617a33398a46395539c%20%3D%20L.marker%28%0A%20%20%20%20%20%20%20%20%20%20%20%20%20%20%20%20%5B39.916734999999996%2C%20-86.22622700000001%5D%2C%0A%20%20%20%20%20%20%20%20%20%20%20%20%20%20%20%20%7B%7D%0A%20%20%20%20%20%20%20%20%20%20%20%20%29.addTo%28map_a3a1577cd814474abd11aa3471b7e15c%29%3B%0A%20%20%20%20%20%20%20%20%0A%20%20%20%20%0A%20%20%20%20%20%20%20%20%20%20%20%20var%20marker_27185b4ed006458dbc50ac323ce3ac2a%20%3D%20L.marker%28%0A%20%20%20%20%20%20%20%20%20%20%20%20%20%20%20%20%5B39.913779%2C%20-86.06179300000001%5D%2C%0A%20%20%20%20%20%20%20%20%20%20%20%20%20%20%20%20%7B%7D%0A%20%20%20%20%20%20%20%20%20%20%20%20%29.addTo%28map_a3a1577cd814474abd11aa3471b7e15c%29%3B%0A%20%20%20%20%20%20%20%20%0A%20%20%20%20%0A%20%20%20%20%20%20%20%20%20%20%20%20var%20marker_8f224494c784490b8dc8645072278dc1%20%3D%20L.marker%28%0A%20%20%20%20%20%20%20%20%20%20%20%20%20%20%20%20%5B41.562810999999996%2C%20-93.804976%5D%2C%0A%20%20%20%20%20%20%20%20%20%20%20%20%20%20%20%20%7B%7D%0A%20%20%20%20%20%20%20%20%20%20%20%20%29.addTo%28map_a3a1577cd814474abd11aa3471b7e15c%29%3B%0A%20%20%20%20%20%20%20%20%0A%20%20%20%20%0A%20%20%20%20%20%20%20%20%20%20%20%20var%20marker_936afbee9e6b4fdc9f632556f285c1f3%20%3D%20L.marker%28%0A%20%20%20%20%20%20%20%20%20%20%20%20%20%20%20%20%5B38.95885%2C%20-94.733002%5D%2C%0A%20%20%20%20%20%20%20%20%20%20%20%20%20%20%20%20%7B%7D%0A%20%20%20%20%20%20%20%20%20%20%20%20%29.addTo%28map_a3a1577cd814474abd11aa3471b7e15c%29%3B%0A%20%20%20%20%20%20%20%20%0A%20%20%20%20%0A%20%20%20%20%20%20%20%20%20%20%20%20var%20marker_582081f21a784ecbbe023d8f64072258%20%3D%20L.marker%28%0A%20%20%20%20%20%20%20%20%20%20%20%20%20%20%20%20%5B38.906906%2C%20-94.670999%5D%2C%0A%20%20%20%20%20%20%20%20%20%20%20%20%20%20%20%20%7B%7D%0A%20%20%20%20%20%20%20%20%20%20%20%20%29.addTo%28map_a3a1577cd814474abd11aa3471b7e15c%29%3B%0A%20%20%20%20%20%20%20%20%0A%20%20%20%20%0A%20%20%20%20%20%20%20%20%20%20%20%20var%20marker_e51f170475224e83b6162ae772cc4875%20%3D%20L.marker%28%0A%20%20%20%20%20%20%20%20%20%20%20%20%20%20%20%20%5B38.316367299999996%2C%20-85.57286409999999%5D%2C%0A%20%20%20%20%20%20%20%20%20%20%20%20%20%20%20%20%7B%7D%0A%20%20%20%20%20%20%20%20%20%20%20%20%29.addTo%28map_a3a1577cd814474abd11aa3471b7e15c%29%3B%0A%20%20%20%20%20%20%20%20%0A%20%20%20%20%0A%20%20%20%20%20%20%20%20%20%20%20%20var%20marker_7e1cd6d1941f48c28e75525042cb3bc0%20%3D%20L.marker%28%0A%20%20%20%20%20%20%20%20%20%20%20%20%20%20%20%20%5B38.973144500000004%2C%20-76.8160858%5D%2C%0A%20%20%20%20%20%20%20%20%20%20%20%20%20%20%20%20%7B%7D%0A%20%20%20%20%20%20%20%20%20%20%20%20%29.addTo%28map_a3a1577cd814474abd11aa3471b7e15c%29%3B%0A%20%20%20%20%20%20%20%20%0A%20%20%20%20%0A%20%20%20%20%20%20%20%20%20%20%20%20var%20marker_ff6a592e237444ea835890279e3a0f95%20%3D%20L.marker%28%0A%20%20%20%20%20%20%20%20%20%20%20%20%20%20%20%20%5B39.4018344%2C%20-77.40753640000001%5D%2C%0A%20%20%20%20%20%20%20%20%20%20%20%20%20%20%20%20%7B%7D%0A%20%20%20%20%20%20%20%20%20%20%20%20%29.addTo%28map_a3a1577cd814474abd11aa3471b7e15c%29%3B%0A%20%20%20%20%20%20%20%20%0A%20%20%20%20%0A%20%20%20%20%20%20%20%20%20%20%20%20var%20marker_0d16cecf93b042f89e83b04892d09308%20%3D%20L.marker%28%0A%20%20%20%20%20%20%20%20%20%20%20%20%20%20%20%20%5B39.358195%2C%20-76.444565%5D%2C%0A%20%20%20%20%20%20%20%20%20%20%20%20%20%20%20%20%7B%7D%0A%20%20%20%20%20%20%20%20%20%20%20%20%29.addTo%28map_a3a1577cd814474abd11aa3471b7e15c%29%3B%0A%20%20%20%20%20%20%20%20%0A%20%20%20%20%0A%20%20%20%20%20%20%20%20%20%20%20%20var%20marker_2f9744e7afa24ae38e962c69b3164166%20%3D%20L.marker%28%0A%20%20%20%20%20%20%20%20%20%20%20%20%20%20%20%20%5B39.15582%2C%20-76.730744%5D%2C%0A%20%20%20%20%20%20%20%20%20%20%20%20%20%20%20%20%7B%7D%0A%20%20%20%20%20%20%20%20%20%20%20%20%29.addTo%28map_a3a1577cd814474abd11aa3471b7e15c%29%3B%0A%20%20%20%20%20%20%20%20%0A%20%20%20%20%0A%20%20%20%20%20%20%20%20%20%20%20%20var%20marker_3c581cf204224404a166f5ac6e2864de%20%3D%20L.marker%28%0A%20%20%20%20%20%20%20%20%20%20%20%20%20%20%20%20%5B39.186369%2C%20-76.793645%5D%2C%0A%20%20%20%20%20%20%20%20%20%20%20%20%20%20%20%20%7B%7D%0A%20%20%20%20%20%20%20%20%20%20%20%20%29.addTo%28map_a3a1577cd814474abd11aa3471b7e15c%29%3B%0A%20%20%20%20%20%20%20%20%0A%20%20%20%20%0A%20%20%20%20%20%20%20%20%20%20%20%20var%20marker_031d2690a71e4b2b8e2936c00d75db8e%20%3D%20L.marker%28%0A%20%20%20%20%20%20%20%20%20%20%20%20%20%20%20%20%5B39.2035401%2C%20-76.5939428%5D%2C%0A%20%20%20%20%20%20%20%20%20%20%20%20%20%20%20%20%7B%7D%0A%20%20%20%20%20%20%20%20%20%20%20%20%29.addTo%28map_a3a1577cd814474abd11aa3471b7e15c%29%3B%0A%20%20%20%20%20%20%20%20%0A%20%20%20%20%0A%20%20%20%20%20%20%20%20%20%20%20%20var%20marker_4a6b50dfb2b94126a5b191aa5669f689%20%3D%20L.marker%28%0A%20%20%20%20%20%20%20%20%20%20%20%20%20%20%20%20%5B39.155646000000004%2C%20-77.214124%5D%2C%0A%20%20%20%20%20%20%20%20%20%20%20%20%20%20%20%20%7B%7D%0A%20%20%20%20%20%20%20%20%20%20%20%20%29.addTo%28map_a3a1577cd814474abd11aa3471b7e15c%29%3B%0A%20%20%20%20%20%20%20%20%0A%20%20%20%20%0A%20%20%20%20%20%20%20%20%20%20%20%20var%20marker_3fb174e318ea4594a3d9c6f45cb7194d%20%3D%20L.marker%28%0A%20%20%20%20%20%20%20%20%20%20%20%20%20%20%20%20%5B37.228312%2C%20-77.39030009999999%5D%2C%0A%20%20%20%20%20%20%20%20%20%20%20%20%20%20%20%20%7B%7D%0A%20%20%20%20%20%20%20%20%20%20%20%20%29.addTo%28map_a3a1577cd814474abd11aa3471b7e15c%29%3B%0A%20%20%20%20%20%20%20%20%0A%20%20%20%20%0A%20%20%20%20%20%20%20%20%20%20%20%20var%20marker_b4273917e0cb4076b17a6f3b77908d54%20%3D%20L.marker%28%0A%20%20%20%20%20%20%20%20%20%20%20%20%20%20%20%20%5B38.6645584%2C%20-76.8747015%5D%2C%0A%20%20%20%20%20%20%20%20%20%20%20%20%20%20%20%20%7B%7D%0A%20%20%20%20%20%20%20%20%20%20%20%20%29.addTo%28map_a3a1577cd814474abd11aa3471b7e15c%29%3B%0A%20%20%20%20%20%20%20%20%0A%20%20%20%20%0A%20%20%20%20%20%20%20%20%20%20%20%20var%20marker_b7a614ede55344bd8eb81d352f0d540a%20%3D%20L.marker%28%0A%20%20%20%20%20%20%20%20%20%20%20%20%20%20%20%20%5B42.395066%2C%20-71.265264%5D%2C%0A%20%20%20%20%20%20%20%20%20%20%20%20%20%20%20%20%7B%7D%0A%20%20%20%20%20%20%20%20%20%20%20%20%29.addTo%28map_a3a1577cd814474abd11aa3471b7e15c%29%3B%0A%20%20%20%20%20%20%20%20%0A%20%20%20%20%0A%20%20%20%20%20%20%20%20%20%20%20%20var%20marker_515416ffe5ef4868a69a1e18a178fb01%20%3D%20L.marker%28%0A%20%20%20%20%20%20%20%20%20%20%20%20%20%20%20%20%5B42.136598%2C%20-71.066458%5D%2C%0A%20%20%20%20%20%20%20%20%20%20%20%20%20%20%20%20%7B%7D%0A%20%20%20%20%20%20%20%20%20%20%20%20%29.addTo%28map_a3a1577cd814474abd11aa3471b7e15c%29%3B%0A%20%20%20%20%20%20%20%20%0A%20%20%20%20%0A%20%20%20%20%20%20%20%20%20%20%20%20var%20marker_dbc10917b2204b84a586020fab821751%20%3D%20L.marker%28%0A%20%20%20%20%20%20%20%20%20%20%20%20%20%20%20%20%5B42.230996000000005%2C%20-71.17497%5D%2C%0A%20%20%20%20%20%20%20%20%20%20%20%20%20%20%20%20%7B%7D%0A%20%20%20%20%20%20%20%20%20%20%20%20%29.addTo%28map_a3a1577cd814474abd11aa3471b7e15c%29%3B%0A%20%20%20%20%20%20%20%20%0A%20%20%20%20%0A%20%20%20%20%20%20%20%20%20%20%20%20var%20marker_296bc9b4b1ad4ec3bcdd1e1bda2e1f3d%20%3D%20L.marker%28%0A%20%20%20%20%20%20%20%20%20%20%20%20%20%20%20%20%5B37.226693%2C%20-77.401371%5D%2C%0A%20%20%20%20%20%20%20%20%20%20%20%20%20%20%20%20%7B%7D%0A%20%20%20%20%20%20%20%20%20%20%20%20%29.addTo%28map_a3a1577cd814474abd11aa3471b7e15c%29%3B%0A%20%20%20%20%20%20%20%20%0A%20%20%20%20%0A%20%20%20%20%20%20%20%20%20%20%20%20var%20marker_77796f5552d04cb0b0cd0483a9cafdaa%20%3D%20L.marker%28%0A%20%20%20%20%20%20%20%20%20%20%20%20%20%20%20%20%5B42.13216%2C%20-72.620485%5D%2C%0A%20%20%20%20%20%20%20%20%20%20%20%20%20%20%20%20%7B%7D%0A%20%20%20%20%20%20%20%20%20%20%20%20%29.addTo%28map_a3a1577cd814474abd11aa3471b7e15c%29%3B%0A%20%20%20%20%20%20%20%20%0A%20%20%20%20%0A%20%20%20%20%20%20%20%20%20%20%20%20var%20marker_1076a13254ce49cc89365de88895dc5b%20%3D%20L.marker%28%0A%20%20%20%20%20%20%20%20%20%20%20%20%20%20%20%20%5B42.4017251%2C%20-71.06952640000002%5D%2C%0A%20%20%20%20%20%20%20%20%20%20%20%20%20%20%20%20%7B%7D%0A%20%20%20%20%20%20%20%20%20%20%20%20%29.addTo%28map_a3a1577cd814474abd11aa3471b7e15c%29%3B%0A%20%20%20%20%20%20%20%20%0A%20%20%20%20%0A%20%20%20%20%20%20%20%20%20%20%20%20var%20marker_e30d94d6d7c34196a4523147baa38b97%20%3D%20L.marker%28%0A%20%20%20%20%20%20%20%20%20%20%20%20%20%20%20%20%5B42.910564%2C%20-85.542713%5D%2C%0A%20%20%20%20%20%20%20%20%20%20%20%20%20%20%20%20%7B%7D%0A%20%20%20%20%20%20%20%20%20%20%20%20%29.addTo%28map_a3a1577cd814474abd11aa3471b7e15c%29%3B%0A%20%20%20%20%20%20%20%20%0A%20%20%20%20%0A%20%20%20%20%20%20%20%20%20%20%20%20var%20marker_1b4a67ffbc33486bb5987327e4ee59e6%20%3D%20L.marker%28%0A%20%20%20%20%20%20%20%20%20%20%20%20%20%20%20%20%5B42.875818%2C%20-85.76385%5D%2C%0A%20%20%20%20%20%20%20%20%20%20%20%20%20%20%20%20%7B%7D%0A%20%20%20%20%20%20%20%20%20%20%20%20%29.addTo%28map_a3a1577cd814474abd11aa3471b7e15c%29%3B%0A%20%20%20%20%20%20%20%20%0A%20%20%20%20%0A%20%20%20%20%20%20%20%20%20%20%20%20var%20marker_6b4ec44c75e14fe4a0fe413da87e3255%20%3D%20L.marker%28%0A%20%20%20%20%20%20%20%20%20%20%20%20%20%20%20%20%5B42.7070854%2C%20-83.2963467%5D%2C%0A%20%20%20%20%20%20%20%20%20%20%20%20%20%20%20%20%7B%7D%0A%20%20%20%20%20%20%20%20%20%20%20%20%29.addTo%28map_a3a1577cd814474abd11aa3471b7e15c%29%3B%0A%20%20%20%20%20%20%20%20%0A%20%20%20%20%0A%20%20%20%20%20%20%20%20%20%20%20%20var%20marker_5fb757e36455455d98e1b5f7227abb89%20%3D%20L.marker%28%0A%20%20%20%20%20%20%20%20%20%20%20%20%20%20%20%20%5B42.6295851%2C%20-82.98076999999999%5D%2C%0A%20%20%20%20%20%20%20%20%20%20%20%20%20%20%20%20%7B%7D%0A%20%20%20%20%20%20%20%20%20%20%20%20%29.addTo%28map_a3a1577cd814474abd11aa3471b7e15c%29%3B%0A%20%20%20%20%20%20%20%20%0A%20%20%20%20%0A%20%20%20%20%20%20%20%20%20%20%20%20var%20marker_59691d82b50e414f9b2a944a294de249%20%3D%20L.marker%28%0A%20%20%20%20%20%20%20%20%20%20%20%20%20%20%20%20%5B42.606916%2C%20-83.293322%5D%2C%0A%20%20%20%20%20%20%20%20%20%20%20%20%20%20%20%20%7B%7D%0A%20%20%20%20%20%20%20%20%20%20%20%20%29.addTo%28map_a3a1577cd814474abd11aa3471b7e15c%29%3B%0A%20%20%20%20%20%20%20%20%0A%20%20%20%20%0A%20%20%20%20%20%20%20%20%20%20%20%20var%20marker_db96f2f36a7a4bcb88554b2a04f9d2d8%20%3D%20L.marker%28%0A%20%20%20%20%20%20%20%20%20%20%20%20%20%20%20%20%5B42.432885%2C%20-83.430471%5D%2C%0A%20%20%20%20%20%20%20%20%20%20%20%20%20%20%20%20%7B%7D%0A%20%20%20%20%20%20%20%20%20%20%20%20%29.addTo%28map_a3a1577cd814474abd11aa3471b7e15c%29%3B%0A%20%20%20%20%20%20%20%20%0A%20%20%20%20%0A%20%20%20%20%20%20%20%20%20%20%20%20var%20marker_38a3a79e3cc24de69558bac82eb16407%20%3D%20L.marker%28%0A%20%20%20%20%20%20%20%20%20%20%20%20%20%20%20%20%5B42.3813419%2C%20-83.332026%5D%2C%0A%20%20%20%20%20%20%20%20%20%20%20%20%20%20%20%20%7B%7D%0A%20%20%20%20%20%20%20%20%20%20%20%20%29.addTo%28map_a3a1577cd814474abd11aa3471b7e15c%29%3B%0A%20%20%20%20%20%20%20%20%0A%20%20%20%20%0A%20%20%20%20%20%20%20%20%20%20%20%20var%20marker_e3ff5ab3c9294a3a8c4262ade037362b%20%3D%20L.marker%28%0A%20%20%20%20%20%20%20%20%20%20%20%20%20%20%20%20%5B42.5044786%2C%20-83.7594455%5D%2C%0A%20%20%20%20%20%20%20%20%20%20%20%20%20%20%20%20%7B%7D%0A%20%20%20%20%20%20%20%20%20%20%20%20%29.addTo%28map_a3a1577cd814474abd11aa3471b7e15c%29%3B%0A%20%20%20%20%20%20%20%20%0A%20%20%20%20%0A%20%20%20%20%20%20%20%20%20%20%20%20var%20marker_1d2c847c8e9249a482db819939b069ea%20%3D%20L.marker%28%0A%20%20%20%20%20%20%20%20%20%20%20%20%20%20%20%20%5B42.5161919%2C%20-83.117129%5D%2C%0A%20%20%20%20%20%20%20%20%20%20%20%20%20%20%20%20%7B%7D%0A%20%20%20%20%20%20%20%20%20%20%20%20%29.addTo%28map_a3a1577cd814474abd11aa3471b7e15c%29%3B%0A%20%20%20%20%20%20%20%20%0A%20%20%20%20%0A%20%20%20%20%20%20%20%20%20%20%20%20var%20marker_dcada8bc5e314e67ab836a35b2873dd4%20%3D%20L.marker%28%0A%20%20%20%20%20%20%20%20%20%20%20%20%20%20%20%20%5B42.4959314%2C%20-82.9371897%5D%2C%0A%20%20%20%20%20%20%20%20%20%20%20%20%20%20%20%20%7B%7D%0A%20%20%20%20%20%20%20%20%20%20%20%20%29.addTo%28map_a3a1577cd814474abd11aa3471b7e15c%29%3B%0A%20%20%20%20%20%20%20%20%0A%20%20%20%20%0A%20%20%20%20%20%20%20%20%20%20%20%20var%20marker_fb714aede319488c991fe2f1806ca466%20%3D%20L.marker%28%0A%20%20%20%20%20%20%20%20%20%20%20%20%20%20%20%20%5B42.534006%2C%20-83.444799%5D%2C%0A%20%20%20%20%20%20%20%20%20%20%20%20%20%20%20%20%7B%7D%0A%20%20%20%20%20%20%20%20%20%20%20%20%29.addTo%28map_a3a1577cd814474abd11aa3471b7e15c%29%3B%0A%20%20%20%20%20%20%20%20%0A%20%20%20%20%0A%20%20%20%20%20%20%20%20%20%20%20%20var%20marker_ffb5127199f54601b853378d2f155a96%20%3D%20L.marker%28%0A%20%20%20%20%20%20%20%20%20%20%20%20%20%20%20%20%5B45.198543799999996%2C%20-93.3502188%5D%2C%0A%20%20%20%20%20%20%20%20%20%20%20%20%20%20%20%20%7B%7D%0A%20%20%20%20%20%20%20%20%20%20%20%20%29.addTo%28map_a3a1577cd814474abd11aa3471b7e15c%29%3B%0A%20%20%20%20%20%20%20%20%0A%20%20%20%20%0A%20%20%20%20%20%20%20%20%20%20%20%20var%20marker_b31ea82507324a5b887b08f53d44490a%20%3D%20L.marker%28%0A%20%20%20%20%20%20%20%20%20%20%20%20%20%20%20%20%5B44.967625399999996%2C%20-93.3495534%5D%2C%0A%20%20%20%20%20%20%20%20%20%20%20%20%20%20%20%20%7B%7D%0A%20%20%20%20%20%20%20%20%20%20%20%20%29.addTo%28map_a3a1577cd814474abd11aa3471b7e15c%29%3B%0A%20%20%20%20%20%20%20%20%0A%20%20%20%20%0A%20%20%20%20%20%20%20%20%20%20%20%20var%20marker_44b6fc043b3c45b4b1ba7402e239762d%20%3D%20L.marker%28%0A%20%20%20%20%20%20%20%20%20%20%20%20%20%20%20%20%5B45.09298%2C%20-93.424382%5D%2C%0A%20%20%20%20%20%20%20%20%20%20%20%20%20%20%20%20%7B%7D%0A%20%20%20%20%20%20%20%20%20%20%20%20%29.addTo%28map_a3a1577cd814474abd11aa3471b7e15c%29%3B%0A%20%20%20%20%20%20%20%20%0A%20%20%20%20%0A%20%20%20%20%20%20%20%20%20%20%20%20var%20marker_5a47720ba8634bbcb31df100e4ef99ac%20%3D%20L.marker%28%0A%20%20%20%20%20%20%20%20%20%20%20%20%20%20%20%20%5B44.8603208%2C%20-93.4358767%5D%2C%0A%20%20%20%20%20%20%20%20%20%20%20%20%20%20%20%20%7B%7D%0A%20%20%20%20%20%20%20%20%20%20%20%20%29.addTo%28map_a3a1577cd814474abd11aa3471b7e15c%29%3B%0A%20%20%20%20%20%20%20%20%0A%20%20%20%20%0A%20%20%20%20%20%20%20%20%20%20%20%20var%20marker_0a09b875204f49bc8f12b5c6894eb011%20%3D%20L.marker%28%0A%20%20%20%20%20%20%20%20%20%20%20%20%20%20%20%20%5B45.029375%2C%20-93.039964%5D%2C%0A%20%20%20%20%20%20%20%20%20%20%20%20%20%20%20%20%7B%7D%0A%20%20%20%20%20%20%20%20%20%20%20%20%29.addTo%28map_a3a1577cd814474abd11aa3471b7e15c%29%3B%0A%20%20%20%20%20%20%20%20%0A%20%20%20%20%0A%20%20%20%20%20%20%20%20%20%20%20%20var%20marker_8fb34b2839874f1397d81e156fe409e6%20%3D%20L.marker%28%0A%20%20%20%20%20%20%20%20%20%20%20%20%20%20%20%20%5B44.7481179%2C%20-93.2934839%5D%2C%0A%20%20%20%20%20%20%20%20%20%20%20%20%20%20%20%20%7B%7D%0A%20%20%20%20%20%20%20%20%20%20%20%20%29.addTo%28map_a3a1577cd814474abd11aa3471b7e15c%29%3B%0A%20%20%20%20%20%20%20%20%0A%20%20%20%20%0A%20%20%20%20%20%20%20%20%20%20%20%20var%20marker_6cb44c95a6ce498ea52ab9a4df3804fa%20%3D%20L.marker%28%0A%20%20%20%20%20%20%20%20%20%20%20%20%20%20%20%20%5B39.0682148%2C%20-94.5815625%5D%2C%0A%20%20%20%20%20%20%20%20%20%20%20%20%20%20%20%20%7B%7D%0A%20%20%20%20%20%20%20%20%20%20%20%20%29.addTo%28map_a3a1577cd814474abd11aa3471b7e15c%29%3B%0A%20%20%20%20%20%20%20%20%0A%20%20%20%20%0A%20%20%20%20%20%20%20%20%20%20%20%20var%20marker_5d65dd6797d54c60adc5a499af062915%20%3D%20L.marker%28%0A%20%20%20%20%20%20%20%20%20%20%20%20%20%20%20%20%5B39.037203399999996%2C%20-94.3551426%5D%2C%0A%20%20%20%20%20%20%20%20%20%20%20%20%20%20%20%20%7B%7D%0A%20%20%20%20%20%20%20%20%20%20%20%20%29.addTo%28map_a3a1577cd814474abd11aa3471b7e15c%29%3B%0A%20%20%20%20%20%20%20%20%0A%20%20%20%20%0A%20%20%20%20%20%20%20%20%20%20%20%20var%20marker_632c0a2b6c164ae098ebf926839e7c6c%20%3D%20L.marker%28%0A%20%20%20%20%20%20%20%20%20%20%20%20%20%20%20%20%5B38.797261999999996%2C%20-90.607339%5D%2C%0A%20%20%20%20%20%20%20%20%20%20%20%20%20%20%20%20%7B%7D%0A%20%20%20%20%20%20%20%20%20%20%20%20%29.addTo%28map_a3a1577cd814474abd11aa3471b7e15c%29%3B%0A%20%20%20%20%20%20%20%20%0A%20%20%20%20%0A%20%20%20%20%20%20%20%20%20%20%20%20var%20marker_63918502d56a419fba12548e413df0a3%20%3D%20L.marker%28%0A%20%20%20%20%20%20%20%20%20%20%20%20%20%20%20%20%5B38.506797999999996%2C%20-90.3408851%5D%2C%0A%20%20%20%20%20%20%20%20%20%20%20%20%20%20%20%20%7B%7D%0A%20%20%20%20%20%20%20%20%20%20%20%20%29.addTo%28map_a3a1577cd814474abd11aa3471b7e15c%29%3B%0A%20%20%20%20%20%20%20%20%0A%20%20%20%20%0A%20%20%20%20%20%20%20%20%20%20%20%20var%20marker_a81f2831811645889e38ef0be67a7f64%20%3D%20L.marker%28%0A%20%20%20%20%20%20%20%20%20%20%20%20%20%20%20%20%5B38.597951%2C%20-90.506914%5D%2C%0A%20%20%20%20%20%20%20%20%20%20%20%20%20%20%20%20%7B%7D%0A%20%20%20%20%20%20%20%20%20%20%20%20%29.addTo%28map_a3a1577cd814474abd11aa3471b7e15c%29%3B%0A%20%20%20%20%20%20%20%20%0A%20%20%20%20%0A%20%20%20%20%20%20%20%20%20%20%20%20var%20marker_60090eb51fc04649b5b49214d5a67e70%20%3D%20L.marker%28%0A%20%20%20%20%20%20%20%20%20%20%20%20%20%20%20%20%5B48.174177%2C%20-114.29897%5D%2C%0A%20%20%20%20%20%20%20%20%20%20%20%20%20%20%20%20%7B%7D%0A%20%20%20%20%20%20%20%20%20%20%20%20%29.addTo%28map_a3a1577cd814474abd11aa3471b7e15c%29%3B%0A%20%20%20%20%20%20%20%20%0A%20%20%20%20%0A%20%20%20%20%20%20%20%20%20%20%20%20var%20marker_8e4ca152ef5649b5bb22914fc80b5e32%20%3D%20L.marker%28%0A%20%20%20%20%20%20%20%20%20%20%20%20%20%20%20%20%5B46.89293%2C%20-114.03735800000001%5D%2C%0A%20%20%20%20%20%20%20%20%20%20%20%20%20%20%20%20%7B%7D%0A%20%20%20%20%20%20%20%20%20%20%20%20%29.addTo%28map_a3a1577cd814474abd11aa3471b7e15c%29%3B%0A%20%20%20%20%20%20%20%20%0A%20%20%20%20%0A%20%20%20%20%20%20%20%20%20%20%20%20var%20marker_4f28129ba0b243168ec77cca0d3fae42%20%3D%20L.marker%28%0A%20%20%20%20%20%20%20%20%20%20%20%20%20%20%20%20%5B45.71334%2C%20-111.07065300000001%5D%2C%0A%20%20%20%20%20%20%20%20%20%20%20%20%20%20%20%20%7B%7D%0A%20%20%20%20%20%20%20%20%20%20%20%20%29.addTo%28map_a3a1577cd814474abd11aa3471b7e15c%29%3B%0A%20%20%20%20%20%20%20%20%0A%20%20%20%20%0A%20%20%20%20%20%20%20%20%20%20%20%20var%20marker_3a4b310f48884c11acf8a23fab78cbf5%20%3D%20L.marker%28%0A%20%20%20%20%20%20%20%20%20%20%20%20%20%20%20%20%5B46.616615%2C%20-112.0049737%5D%2C%0A%20%20%20%20%20%20%20%20%20%20%20%20%20%20%20%20%7B%7D%0A%20%20%20%20%20%20%20%20%20%20%20%20%29.addTo%28map_a3a1577cd814474abd11aa3471b7e15c%29%3B%0A%20%20%20%20%20%20%20%20%0A%20%20%20%20%0A%20%20%20%20%20%20%20%20%20%20%20%20var%20marker_849a60c0e4a44668835dd741eaa990a2%20%3D%20L.marker%28%0A%20%20%20%20%20%20%20%20%20%20%20%20%20%20%20%20%5B45.755016299999994%2C%20-108.5727142%5D%2C%0A%20%20%20%20%20%20%20%20%20%20%20%20%20%20%20%20%7B%7D%0A%20%20%20%20%20%20%20%20%20%20%20%20%29.addTo%28map_a3a1577cd814474abd11aa3471b7e15c%29%3B%0A%20%20%20%20%20%20%20%20%0A%20%20%20%20%0A%20%20%20%20%20%20%20%20%20%20%20%20var%20marker_b00a038c5fb14847ba35be6b25dc6be7%20%3D%20L.marker%28%0A%20%20%20%20%20%20%20%20%20%20%20%20%20%20%20%20%5B41.265223999999996%2C%20-96.10534%5D%2C%0A%20%20%20%20%20%20%20%20%20%20%20%20%20%20%20%20%7B%7D%0A%20%20%20%20%20%20%20%20%20%20%20%20%29.addTo%28map_a3a1577cd814474abd11aa3471b7e15c%29%3B%0A%20%20%20%20%20%20%20%20%0A%20%20%20%20%0A%20%20%20%20%20%20%20%20%20%20%20%20var%20marker_958e66bc69554902b65699e05d190d1b%20%3D%20L.marker%28%0A%20%20%20%20%20%20%20%20%20%20%20%20%20%20%20%20%5B39.1123484%2C%20-119.8451288%5D%2C%0A%20%20%20%20%20%20%20%20%20%20%20%20%20%20%20%20%7B%7D%0A%20%20%20%20%20%20%20%20%20%20%20%20%29.addTo%28map_a3a1577cd814474abd11aa3471b7e15c%29%3B%0A%20%20%20%20%20%20%20%20%0A%20%20%20%20%0A%20%20%20%20%20%20%20%20%20%20%20%20var%20marker_fae4abafae004d719edba71a8ec9aa57%20%3D%20L.marker%28%0A%20%20%20%20%20%20%20%20%20%20%20%20%20%20%20%20%5B39.503102%2C%20-119.785095%5D%2C%0A%20%20%20%20%20%20%20%20%20%20%20%20%20%20%20%20%7B%7D%0A%20%20%20%20%20%20%20%20%20%20%20%20%29.addTo%28map_a3a1577cd814474abd11aa3471b7e15c%29%3B%0A%20%20%20%20%20%20%20%20%0A%20%20%20%20%0A%20%20%20%20%20%20%20%20%20%20%20%20var%20marker_e7f53b80df604a76be53815af01be665%20%3D%20L.marker%28%0A%20%20%20%20%20%20%20%20%20%20%20%20%20%20%20%20%5B39.579204%2C%20-119.73879199999999%5D%2C%0A%20%20%20%20%20%20%20%20%20%20%20%20%20%20%20%20%7B%7D%0A%20%20%20%20%20%20%20%20%20%20%20%20%29.addTo%28map_a3a1577cd814474abd11aa3471b7e15c%29%3B%0A%20%20%20%20%20%20%20%20%0A%20%20%20%20%0A%20%20%20%20%20%20%20%20%20%20%20%20var%20marker_ed551c7d76fa46e5934ef71ed7ade45b%20%3D%20L.marker%28%0A%20%20%20%20%20%20%20%20%20%20%20%20%20%20%20%20%5B36.1633476%2C%20-115.3318905%5D%2C%0A%20%20%20%20%20%20%20%20%20%20%20%20%20%20%20%20%7B%7D%0A%20%20%20%20%20%20%20%20%20%20%20%20%29.addTo%28map_a3a1577cd814474abd11aa3471b7e15c%29%3B%0A%20%20%20%20%20%20%20%20%0A%20%20%20%20%0A%20%20%20%20%20%20%20%20%20%20%20%20var%20marker_4598977ce15249c29359fb043364e398%20%3D%20L.marker%28%0A%20%20%20%20%20%20%20%20%20%20%20%20%20%20%20%20%5B36.278946000000005%2C%20-115.209445%5D%2C%0A%20%20%20%20%20%20%20%20%20%20%20%20%20%20%20%20%7B%7D%0A%20%20%20%20%20%20%20%20%20%20%20%20%29.addTo%28map_a3a1577cd814474abd11aa3471b7e15c%29%3B%0A%20%20%20%20%20%20%20%20%0A%20%20%20%20%0A%20%20%20%20%20%20%20%20%20%20%20%20var%20marker_c28a910bec7947938b1d9ccb7987f8ef%20%3D%20L.marker%28%0A%20%20%20%20%20%20%20%20%20%20%20%20%20%20%20%20%5B36.172128799999996%2C%20-115.1608236%5D%2C%0A%20%20%20%20%20%20%20%20%20%20%20%20%20%20%20%20%7B%7D%0A%20%20%20%20%20%20%20%20%20%20%20%20%29.addTo%28map_a3a1577cd814474abd11aa3471b7e15c%29%3B%0A%20%20%20%20%20%20%20%20%0A%20%20%20%20%0A%20%20%20%20%20%20%20%20%20%20%20%20var%20marker_ee526f31d4b945b982bc784d85271042%20%3D%20L.marker%28%0A%20%20%20%20%20%20%20%20%20%20%20%20%20%20%20%20%5B36.06985%2C%20-115.03716599999998%5D%2C%0A%20%20%20%20%20%20%20%20%20%20%20%20%20%20%20%20%7B%7D%0A%20%20%20%20%20%20%20%20%20%20%20%20%29.addTo%28map_a3a1577cd814474abd11aa3471b7e15c%29%3B%0A%20%20%20%20%20%20%20%20%0A%20%20%20%20%0A%20%20%20%20%20%20%20%20%20%20%20%20var%20marker_cd54016da06f47f8bd0a6039931398cc%20%3D%20L.marker%28%0A%20%20%20%20%20%20%20%20%20%20%20%20%20%20%20%20%5B42.7023%2C%20-71.443126%5D%2C%0A%20%20%20%20%20%20%20%20%20%20%20%20%20%20%20%20%7B%7D%0A%20%20%20%20%20%20%20%20%20%20%20%20%29.addTo%28map_a3a1577cd814474abd11aa3471b7e15c%29%3B%0A%20%20%20%20%20%20%20%20%0A%20%20%20%20%0A%20%20%20%20%20%20%20%20%20%20%20%20var%20marker_92abed2d3d604b37beda4401a6afa2fe%20%3D%20L.marker%28%0A%20%20%20%20%20%20%20%20%20%20%20%20%20%20%20%20%5B40.5317305%2C%20-74.37662370000001%5D%2C%0A%20%20%20%20%20%20%20%20%20%20%20%20%20%20%20%20%7B%7D%0A%20%20%20%20%20%20%20%20%20%20%20%20%29.addTo%28map_a3a1577cd814474abd11aa3471b7e15c%29%3B%0A%20%20%20%20%20%20%20%20%0A%20%20%20%20%0A%20%20%20%20%20%20%20%20%20%20%20%20var%20marker_628ab28b2b9545d1a9782ca9e41df981%20%3D%20L.marker%28%0A%20%20%20%20%20%20%20%20%20%20%20%20%20%20%20%20%5B40.5644881%2C%20-74.55530809999999%5D%2C%0A%20%20%20%20%20%20%20%20%20%20%20%20%20%20%20%20%7B%7D%0A%20%20%20%20%20%20%20%20%20%20%20%20%29.addTo%28map_a3a1577cd814474abd11aa3471b7e15c%29%3B%0A%20%20%20%20%20%20%20%20%0A%20%20%20%20%0A%20%20%20%20%20%20%20%20%20%20%20%20var%20marker_03cab7ee6fdc4b3a8eb4d405205d69dd%20%3D%20L.marker%28%0A%20%20%20%20%20%20%20%20%20%20%20%20%20%20%20%20%5B40.0547573%2C%20-74.1563178%5D%2C%0A%20%20%20%20%20%20%20%20%20%20%20%20%20%20%20%20%7B%7D%0A%20%20%20%20%20%20%20%20%20%20%20%20%29.addTo%28map_a3a1577cd814474abd11aa3471b7e15c%29%3B%0A%20%20%20%20%20%20%20%20%0A%20%20%20%20%0A%20%20%20%20%20%20%20%20%20%20%20%20var%20marker_ce000c0af1284b899815f43ec390b995%20%3D%20L.marker%28%0A%20%20%20%20%20%20%20%20%20%20%20%20%20%20%20%20%5B39.950586799999996%2C%20-74.87611319999999%5D%2C%0A%20%20%20%20%20%20%20%20%20%20%20%20%20%20%20%20%7B%7D%0A%20%20%20%20%20%20%20%20%20%20%20%20%29.addTo%28map_a3a1577cd814474abd11aa3471b7e15c%29%3B%0A%20%20%20%20%20%20%20%20%0A%20%20%20%20%0A%20%20%20%20%20%20%20%20%20%20%20%20var%20marker_2e9c8528032545b78e7f1bdbf88dfb60%20%3D%20L.marker%28%0A%20%20%20%20%20%20%20%20%20%20%20%20%20%20%20%20%5B39.707209999999996%2C%20-74.287661%5D%2C%0A%20%20%20%20%20%20%20%20%20%20%20%20%20%20%20%20%7B%7D%0A%20%20%20%20%20%20%20%20%20%20%20%20%29.addTo%28map_a3a1577cd814474abd11aa3471b7e15c%29%3B%0A%20%20%20%20%20%20%20%20%0A%20%20%20%20%0A%20%20%20%20%20%20%20%20%20%20%20%20var%20marker_6b140f2d6a2d4a87972b186e27e91a75%20%3D%20L.marker%28%0A%20%20%20%20%20%20%20%20%20%20%20%20%20%20%20%20%5B40.80968529999999%2C%20-74.381266%5D%2C%0A%20%20%20%20%20%20%20%20%20%20%20%20%20%20%20%20%7B%7D%0A%20%20%20%20%20%20%20%20%20%20%20%20%29.addTo%28map_a3a1577cd814474abd11aa3471b7e15c%29%3B%0A%20%20%20%20%20%20%20%20%0A%20%20%20%20%0A%20%20%20%20%20%20%20%20%20%20%20%20var%20marker_e00bfc0540d74de6b6394c61c07608d6%20%3D%20L.marker%28%0A%20%20%20%20%20%20%20%20%20%20%20%20%20%20%20%20%5B40.906896%2C%20-74.569445%5D%2C%0A%20%20%20%20%20%20%20%20%20%20%20%20%20%20%20%20%7B%7D%0A%20%20%20%20%20%20%20%20%20%20%20%20%29.addTo%28map_a3a1577cd814474abd11aa3471b7e15c%29%3B%0A%20%20%20%20%20%20%20%20%0A%20%20%20%20%0A%20%20%20%20%20%20%20%20%20%20%20%20var%20marker_6674e39141ba419da1c7285521f3a12c%20%3D%20L.marker%28%0A%20%20%20%20%20%20%20%20%20%20%20%20%20%20%20%20%5B40.4194098%2C%20-74.17051359999999%5D%2C%0A%20%20%20%20%20%20%20%20%20%20%20%20%20%20%20%20%7B%7D%0A%20%20%20%20%20%20%20%20%20%20%20%20%29.addTo%28map_a3a1577cd814474abd11aa3471b7e15c%29%3B%0A%20%20%20%20%20%20%20%20%0A%20%20%20%20%0A%20%20%20%20%20%20%20%20%20%20%20%20var%20marker_8efbef12ddc14e0d898f5bdeb877e3d4%20%3D%20L.marker%28%0A%20%20%20%20%20%20%20%20%20%20%20%20%20%20%20%20%5B40.876239%2C%20-74.038818%5D%2C%0A%20%20%20%20%20%20%20%20%20%20%20%20%20%20%20%20%7B%7D%0A%20%20%20%20%20%20%20%20%20%20%20%20%29.addTo%28map_a3a1577cd814474abd11aa3471b7e15c%29%3B%0A%20%20%20%20%20%20%20%20%0A%20%20%20%20%0A%20%20%20%20%20%20%20%20%20%20%20%20var%20marker_7f406c9ede5446a4af905470f50fd8b9%20%3D%20L.marker%28%0A%20%20%20%20%20%20%20%20%20%20%20%20%20%20%20%20%5B40.88724129999999%2C%20-74.2541309%5D%2C%0A%20%20%20%20%20%20%20%20%20%20%20%20%20%20%20%20%7B%7D%0A%20%20%20%20%20%20%20%20%20%20%20%20%29.addTo%28map_a3a1577cd814474abd11aa3471b7e15c%29%3B%0A%20%20%20%20%20%20%20%20%0A%20%20%20%20%0A%20%20%20%20%20%20%20%20%20%20%20%20var%20marker_64a07de308cf451081238f1e1d67b6cf%20%3D%20L.marker%28%0A%20%20%20%20%20%20%20%20%20%20%20%20%20%20%20%20%5B40.6931%2C%20-74.2873%5D%2C%0A%20%20%20%20%20%20%20%20%20%20%20%20%20%20%20%20%7B%7D%0A%20%20%20%20%20%20%20%20%20%20%20%20%29.addTo%28map_a3a1577cd814474abd11aa3471b7e15c%29%3B%0A%20%20%20%20%20%20%20%20%0A%20%20%20%20%0A%20%20%20%20%20%20%20%20%20%20%20%20var%20marker_b147c96a3a384e90a71b79361b6931af%20%3D%20L.marker%28%0A%20%20%20%20%20%20%20%20%20%20%20%20%20%20%20%20%5B40.830625%2C%20-74.1366964%5D%2C%0A%20%20%20%20%20%20%20%20%20%20%20%20%20%20%20%20%7B%7D%0A%20%20%20%20%20%20%20%20%20%20%20%20%29.addTo%28map_a3a1577cd814474abd11aa3471b7e15c%29%3B%0A%20%20%20%20%20%20%20%20%0A%20%20%20%20%0A%20%20%20%20%20%20%20%20%20%20%20%20var%20marker_6aead32cd3d441debdbf01154de6f1f1%20%3D%20L.marker%28%0A%20%20%20%20%20%20%20%20%20%20%20%20%20%20%20%20%5B35.068225%2C%20-106.53038500000001%5D%2C%0A%20%20%20%20%20%20%20%20%20%20%20%20%20%20%20%20%7B%7D%0A%20%20%20%20%20%20%20%20%20%20%20%20%29.addTo%28map_a3a1577cd814474abd11aa3471b7e15c%29%3B%0A%20%20%20%20%20%20%20%20%0A%20%20%20%20%0A%20%20%20%20%20%20%20%20%20%20%20%20var%20marker_3be3a784be0e406c83d5c6103619ca96%20%3D%20L.marker%28%0A%20%20%20%20%20%20%20%20%20%20%20%20%20%20%20%20%5B35.19547%2C%20-106.66139%5D%2C%0A%20%20%20%20%20%20%20%20%20%20%20%20%20%20%20%20%7B%7D%0A%20%20%20%20%20%20%20%20%20%20%20%20%29.addTo%28map_a3a1577cd814474abd11aa3471b7e15c%29%3B%0A%20%20%20%20%20%20%20%20%0A%20%20%20%20%0A%20%20%20%20%20%20%20%20%20%20%20%20var%20marker_66bfa1495d2241f3a9b4488ee55f08f8%20%3D%20L.marker%28%0A%20%20%20%20%20%20%20%20%20%20%20%20%20%20%20%20%5B35.136386%2C%20-106.614209%5D%2C%0A%20%20%20%20%20%20%20%20%20%20%20%20%20%20%20%20%7B%7D%0A%20%20%20%20%20%20%20%20%20%20%20%20%29.addTo%28map_a3a1577cd814474abd11aa3471b7e15c%29%3B%0A%20%20%20%20%20%20%20%20%0A%20%20%20%20%0A%20%20%20%20%20%20%20%20%20%20%20%20var%20marker_51f05c894fa046d7a7170d63234d9f5e%20%3D%20L.marker%28%0A%20%20%20%20%20%20%20%20%20%20%20%20%20%20%20%20%5B40.862057%2C%20-73.130236%5D%2C%0A%20%20%20%20%20%20%20%20%20%20%20%20%20%20%20%20%7B%7D%0A%20%20%20%20%20%20%20%20%20%20%20%20%29.addTo%28map_a3a1577cd814474abd11aa3471b7e15c%29%3B%0A%20%20%20%20%20%20%20%20%0A%20%20%20%20%0A%20%20%20%20%20%20%20%20%20%20%20%20var%20marker_d2de43ab120244779ae4ad0196697068%20%3D%20L.marker%28%0A%20%20%20%20%20%20%20%20%20%20%20%20%20%20%20%20%5B40.757604%2C%20-73.42063399999999%5D%2C%0A%20%20%20%20%20%20%20%20%20%20%20%20%20%20%20%20%7B%7D%0A%20%20%20%20%20%20%20%20%20%20%20%20%29.addTo%28map_a3a1577cd814474abd11aa3471b7e15c%29%3B%0A%20%20%20%20%20%20%20%20%0A%20%20%20%20%0A%20%20%20%20%20%20%20%20%20%20%20%20var%20marker_b77036ad4cc8484f966b77400424840f%20%3D%20L.marker%28%0A%20%20%20%20%20%20%20%20%20%20%20%20%20%20%20%20%5B40.773266%2C%20-73.050016%5D%2C%0A%20%20%20%20%20%20%20%20%20%20%20%20%20%20%20%20%7B%7D%0A%20%20%20%20%20%20%20%20%20%20%20%20%29.addTo%28map_a3a1577cd814474abd11aa3471b7e15c%29%3B%0A%20%20%20%20%20%20%20%20%0A%20%20%20%20%0A%20%20%20%20%20%20%20%20%20%20%20%20var%20marker_61ad064b37524dc9bad5e94703a378b0%20%3D%20L.marker%28%0A%20%20%20%20%20%20%20%20%20%20%20%20%20%20%20%20%5B40.806752200000005%2C%20-73.2865925%5D%2C%0A%20%20%20%20%20%20%20%20%20%20%20%20%20%20%20%20%7B%7D%0A%20%20%20%20%20%20%20%20%20%20%20%20%29.addTo%28map_a3a1577cd814474abd11aa3471b7e15c%29%3B%0A%20%20%20%20%20%20%20%20%0A%20%20%20%20%0A%20%20%20%20%20%20%20%20%20%20%20%20var%20marker_a27e3cd6bf1349bc9ff89d74013a347b%20%3D%20L.marker%28%0A%20%20%20%20%20%20%20%20%20%20%20%20%20%20%20%20%5B40.743347%2C%20-73.601117%5D%2C%0A%20%20%20%20%20%20%20%20%20%20%20%20%20%20%20%20%7B%7D%0A%20%20%20%20%20%20%20%20%20%20%20%20%29.addTo%28map_a3a1577cd814474abd11aa3471b7e15c%29%3B%0A%20%20%20%20%20%20%20%20%0A%20%20%20%20%0A%20%20%20%20%20%20%20%20%20%20%20%20var%20marker_fa4b286234944c408868571f897e6117%20%3D%20L.marker%28%0A%20%20%20%20%20%20%20%20%20%20%20%20%20%20%20%20%5B40.630782399999994%2C%20-73.7398576%5D%2C%0A%20%20%20%20%20%20%20%20%20%20%20%20%20%20%20%20%7B%7D%0A%20%20%20%20%20%20%20%20%20%20%20%20%29.addTo%28map_a3a1577cd814474abd11aa3471b7e15c%29%3B%0A%20%20%20%20%20%20%20%20%0A%20%20%20%20%0A%20%20%20%20%20%20%20%20%20%20%20%20var%20marker_05a66cffe31c40f38a11b988e5c3b4f4%20%3D%20L.marker%28%0A%20%20%20%20%20%20%20%20%20%20%20%20%20%20%20%20%5B40.6554813%2C%20-74.00907420000001%5D%2C%0A%20%20%20%20%20%20%20%20%20%20%20%20%20%20%20%20%7B%7D%0A%20%20%20%20%20%20%20%20%20%20%20%20%29.addTo%28map_a3a1577cd814474abd11aa3471b7e15c%29%3B%0A%20%20%20%20%20%20%20%20%0A%20%20%20%20%0A%20%20%20%20%20%20%20%20%20%20%20%20var%20marker_4ac7a4d302014d64b3eed852cbad3cb2%20%3D%20L.marker%28%0A%20%20%20%20%20%20%20%20%20%20%20%20%20%20%20%20%5B40.7673216%2C%20-73.9375771%5D%2C%0A%20%20%20%20%20%20%20%20%20%20%20%20%20%20%20%20%7B%7D%0A%20%20%20%20%20%20%20%20%20%20%20%20%29.addTo%28map_a3a1577cd814474abd11aa3471b7e15c%29%3B%0A%20%20%20%20%20%20%20%20%0A%20%20%20%20%0A%20%20%20%20%20%20%20%20%20%20%20%20var%20marker_ea4a64d8d24d41dfa8952e7d352e878c%20%3D%20L.marker%28%0A%20%20%20%20%20%20%20%20%20%20%20%20%20%20%20%20%5B41.107253%2C%20-74.025274%5D%2C%0A%20%20%20%20%20%20%20%20%20%20%20%20%20%20%20%20%7B%7D%0A%20%20%20%20%20%20%20%20%20%20%20%20%29.addTo%28map_a3a1577cd814474abd11aa3471b7e15c%29%3B%0A%20%20%20%20%20%20%20%20%0A%20%20%20%20%0A%20%20%20%20%20%20%20%20%20%20%20%20var%20marker_6111599acc264253b73426955cd38747%20%3D%20L.marker%28%0A%20%20%20%20%20%20%20%20%20%20%20%20%20%20%20%20%5B40.896403%2C%20-73.7938571%5D%2C%0A%20%20%20%20%20%20%20%20%20%20%20%20%20%20%20%20%7B%7D%0A%20%20%20%20%20%20%20%20%20%20%20%20%29.addTo%28map_a3a1577cd814474abd11aa3471b7e15c%29%3B%0A%20%20%20%20%20%20%20%20%0A%20%20%20%20%0A%20%20%20%20%20%20%20%20%20%20%20%20var%20marker_2a3634e675b848b989c4117122e431b4%20%3D%20L.marker%28%0A%20%20%20%20%20%20%20%20%20%20%20%20%20%20%20%20%5B40.9749617%2C%20-73.86129050000001%5D%2C%0A%20%20%20%20%20%20%20%20%20%20%20%20%20%20%20%20%7B%7D%0A%20%20%20%20%20%20%20%20%20%20%20%20%29.addTo%28map_a3a1577cd814474abd11aa3471b7e15c%29%3B%0A%20%20%20%20%20%20%20%20%0A%20%20%20%20%0A%20%20%20%20%20%20%20%20%20%20%20%20var%20marker_6ad5c97544c0433f9f3c92621d5bd10e%20%3D%20L.marker%28%0A%20%20%20%20%20%20%20%20%20%20%20%20%20%20%20%20%5B40.57268%2C%20-74.168663%5D%2C%0A%20%20%20%20%20%20%20%20%20%20%20%20%20%20%20%20%7B%7D%0A%20%20%20%20%20%20%20%20%20%20%20%20%29.addTo%28map_a3a1577cd814474abd11aa3471b7e15c%29%3B%0A%20%20%20%20%20%20%20%20%0A%20%20%20%20%0A%20%20%20%20%20%20%20%20%20%20%20%20var%20marker_51339080a9cc460a9e7ebeceebdc142e%20%3D%20L.marker%28%0A%20%20%20%20%20%20%20%20%20%20%20%20%20%20%20%20%5B40.7333304%2C%20-73.86357170000001%5D%2C%0A%20%20%20%20%20%20%20%20%20%20%20%20%20%20%20%20%7B%7D%0A%20%20%20%20%20%20%20%20%20%20%20%20%29.addTo%28map_a3a1577cd814474abd11aa3471b7e15c%29%3B%0A%20%20%20%20%20%20%20%20%0A%20%20%20%20%0A%20%20%20%20%20%20%20%20%20%20%20%20var%20marker_4a3ecd65a5194c498ee71e1b5e10a0cc%20%3D%20L.marker%28%0A%20%20%20%20%20%20%20%20%20%20%20%20%20%20%20%20%5B40.997205%2C%20-73.66156099999999%5D%2C%0A%20%20%20%20%20%20%20%20%20%20%20%20%20%20%20%20%7B%7D%0A%20%20%20%20%20%20%20%20%20%20%20%20%29.addTo%28map_a3a1577cd814474abd11aa3471b7e15c%29%3B%0A%20%20%20%20%20%20%20%20%0A%20%20%20%20%0A%20%20%20%20%20%20%20%20%20%20%20%20var%20marker_8d1fb553dbe546bcb4fcaffa7d5f9d3f%20%3D%20L.marker%28%0A%20%20%20%20%20%20%20%20%20%20%20%20%20%20%20%20%5B40.7953918%2C%20-73.93185159999999%5D%2C%0A%20%20%20%20%20%20%20%20%20%20%20%20%20%20%20%20%7B%7D%0A%20%20%20%20%20%20%20%20%20%20%20%20%29.addTo%28map_a3a1577cd814474abd11aa3471b7e15c%29%3B%0A%20%20%20%20%20%20%20%20%0A%20%20%20%20%0A%20%20%20%20%20%20%20%20%20%20%20%20var%20marker_95028014f2d944d4b1e66671a8a6988f%20%3D%20L.marker%28%0A%20%20%20%20%20%20%20%20%20%20%20%20%20%20%20%20%5B34.247172799999994%2C%20-77.87389959999999%5D%2C%0A%20%20%20%20%20%20%20%20%20%20%20%20%20%20%20%20%7B%7D%0A%20%20%20%20%20%20%20%20%20%20%20%20%29.addTo%28map_a3a1577cd814474abd11aa3471b7e15c%29%3B%0A%20%20%20%20%20%20%20%20%0A%20%20%20%20%0A%20%20%20%20%20%20%20%20%20%20%20%20var%20marker_87c76c7ab54a48eab05b0afd5ceac7bc%20%3D%20L.marker%28%0A%20%20%20%20%20%20%20%20%20%20%20%20%20%20%20%20%5B35.162075%2C%20-80.88395799999999%5D%2C%0A%20%20%20%20%20%20%20%20%20%20%20%20%20%20%20%20%7B%7D%0A%20%20%20%20%20%20%20%20%20%20%20%20%29.addTo%28map_a3a1577cd814474abd11aa3471b7e15c%29%3B%0A%20%20%20%20%20%20%20%20%0A%20%20%20%20%0A%20%20%20%20%20%20%20%20%20%20%20%20var%20marker_d2e6ad117bdc4f3f923fd68110355e74%20%3D%20L.marker%28%0A%20%20%20%20%20%20%20%20%20%20%20%20%20%20%20%20%5B35.130096%2C%20-80.70474200000001%5D%2C%0A%20%20%20%20%20%20%20%20%20%20%20%20%20%20%20%20%7B%7D%0A%20%20%20%20%20%20%20%20%20%20%20%20%29.addTo%28map_a3a1577cd814474abd11aa3471b7e15c%29%3B%0A%20%20%20%20%20%20%20%20%0A%20%20%20%20%0A%20%20%20%20%20%20%20%20%20%20%20%20var%20marker_09f3d74f11e84943801d431ea8d584c3%20%3D%20L.marker%28%0A%20%20%20%20%20%20%20%20%20%20%20%20%20%20%20%20%5B36.028911%2C%20-78.914527%5D%2C%0A%20%20%20%20%20%20%20%20%20%20%20%20%20%20%20%20%7B%7D%0A%20%20%20%20%20%20%20%20%20%20%20%20%29.addTo%28map_a3a1577cd814474abd11aa3471b7e15c%29%3B%0A%20%20%20%20%20%20%20%20%0A%20%20%20%20%0A%20%20%20%20%20%20%20%20%20%20%20%20var%20marker_31078c6076374e24860e3adeba3503cb%20%3D%20L.marker%28%0A%20%20%20%20%20%20%20%20%20%20%20%20%20%20%20%20%5B35.818255%2C%20-78.622315%5D%2C%0A%20%20%20%20%20%20%20%20%20%20%20%20%20%20%20%20%7B%7D%0A%20%20%20%20%20%20%20%20%20%20%20%20%29.addTo%28map_a3a1577cd814474abd11aa3471b7e15c%29%3B%0A%20%20%20%20%20%20%20%20%0A%20%20%20%20%0A%20%20%20%20%20%20%20%20%20%20%20%20var%20marker_4f77fbf2d00940c7b83307cdc93a232e%20%3D%20L.marker%28%0A%20%20%20%20%20%20%20%20%20%20%20%20%20%20%20%20%5B36.058064%2C%20-79.883838%5D%2C%0A%20%20%20%20%20%20%20%20%20%20%20%20%20%20%20%20%7B%7D%0A%20%20%20%20%20%20%20%20%20%20%20%20%29.addTo%28map_a3a1577cd814474abd11aa3471b7e15c%29%3B%0A%20%20%20%20%20%20%20%20%0A%20%20%20%20%0A%20%20%20%20%20%20%20%20%20%20%20%20var%20marker_91f9dbcc9a7641c685dad8bf946e4b42%20%3D%20L.marker%28%0A%20%20%20%20%20%20%20%20%20%20%20%20%20%20%20%20%5B36.064731%2C%20-80.317952%5D%2C%0A%20%20%20%20%20%20%20%20%20%20%20%20%20%20%20%20%7B%7D%0A%20%20%20%20%20%20%20%20%20%20%20%20%29.addTo%28map_a3a1577cd814474abd11aa3471b7e15c%29%3B%0A%20%20%20%20%20%20%20%20%0A%20%20%20%20%0A%20%20%20%20%20%20%20%20%20%20%20%20var%20marker_db2d4902f2e042fda387bc5677546753%20%3D%20L.marker%28%0A%20%20%20%20%20%20%20%20%20%20%20%20%20%20%20%20%5B39.2956999%2C%20-84.3032%5D%2C%0A%20%20%20%20%20%20%20%20%20%20%20%20%20%20%20%20%7B%7D%0A%20%20%20%20%20%20%20%20%20%20%20%20%29.addTo%28map_a3a1577cd814474abd11aa3471b7e15c%29%3B%0A%20%20%20%20%20%20%20%20%0A%20%20%20%20%0A%20%20%20%20%20%20%20%20%20%20%20%20var%20marker_0b18286c630d4eb98afb2e89bcf21dac%20%3D%20L.marker%28%0A%20%20%20%20%20%20%20%20%20%20%20%20%20%20%20%20%5B39.288171999999996%2C%20-84.4510214%5D%2C%0A%20%20%20%20%20%20%20%20%20%20%20%20%20%20%20%20%7B%7D%0A%20%20%20%20%20%20%20%20%20%20%20%20%29.addTo%28map_a3a1577cd814474abd11aa3471b7e15c%29%3B%0A%20%20%20%20%20%20%20%20%0A%20%20%20%20%0A%20%20%20%20%20%20%20%20%20%20%20%20var%20marker_52fd0d571da64d278bf6a7d1e3884085%20%3D%20L.marker%28%0A%20%20%20%20%20%20%20%20%20%20%20%20%20%20%20%20%5B41.524169799999996%2C%20-81.4467262%5D%2C%0A%20%20%20%20%20%20%20%20%20%20%20%20%20%20%20%20%7B%7D%0A%20%20%20%20%20%20%20%20%20%20%20%20%29.addTo%28map_a3a1577cd814474abd11aa3471b7e15c%29%3B%0A%20%20%20%20%20%20%20%20%0A%20%20%20%20%0A%20%20%20%20%20%20%20%20%20%20%20%20var%20marker_dd9f38a7ccc241ea9e2788bb8df23862%20%3D%20L.marker%28%0A%20%20%20%20%20%20%20%20%20%20%20%20%20%20%20%20%5B41.677335799999994%2C%20-83.6241301%5D%2C%0A%20%20%20%20%20%20%20%20%20%20%20%20%20%20%20%20%7B%7D%0A%20%20%20%20%20%20%20%20%20%20%20%20%29.addTo%28map_a3a1577cd814474abd11aa3471b7e15c%29%3B%0A%20%20%20%20%20%20%20%20%0A%20%20%20%20%0A%20%20%20%20%20%20%20%20%20%20%20%20var%20marker_21c5781c1a064642bd05fed0cfb4bf06%20%3D%20L.marker%28%0A%20%20%20%20%20%20%20%20%20%20%20%20%20%20%20%20%5B40.150574%2C%20-82.976965%5D%2C%0A%20%20%20%20%20%20%20%20%20%20%20%20%20%20%20%20%7B%7D%0A%20%20%20%20%20%20%20%20%20%20%20%20%29.addTo%28map_a3a1577cd814474abd11aa3471b7e15c%29%3B%0A%20%20%20%20%20%20%20%20%0A%20%20%20%20%0A%20%20%20%20%20%20%20%20%20%20%20%20var%20marker_da873e5d41214169bbec3c93501eadc9%20%3D%20L.marker%28%0A%20%20%20%20%20%20%20%20%20%20%20%20%20%20%20%20%5B41.31307929999999%2C%20-81.8162777%5D%2C%0A%20%20%20%20%20%20%20%20%20%20%20%20%20%20%20%20%7B%7D%0A%20%20%20%20%20%20%20%20%20%20%20%20%29.addTo%28map_a3a1577cd814474abd11aa3471b7e15c%29%3B%0A%20%20%20%20%20%20%20%20%0A%20%20%20%20%0A%20%20%20%20%20%20%20%20%20%20%20%20var%20marker_cf46afd7ba03408b94041e43f3177944%20%3D%20L.marker%28%0A%20%20%20%20%20%20%20%20%20%20%20%20%20%20%20%20%5B41.461881%2C%20-82.012682%5D%2C%0A%20%20%20%20%20%20%20%20%20%20%20%20%20%20%20%20%7B%7D%0A%20%20%20%20%20%20%20%20%20%20%20%20%29.addTo%28map_a3a1577cd814474abd11aa3471b7e15c%29%3B%0A%20%20%20%20%20%20%20%20%0A%20%20%20%20%0A%20%20%20%20%20%20%20%20%20%20%20%20var%20marker_f5d707079df14e658c882d79005c37fd%20%3D%20L.marker%28%0A%20%20%20%20%20%20%20%20%20%20%20%20%20%20%20%20%5B44.057266999999996%2C%20-121.26761599999999%5D%2C%0A%20%20%20%20%20%20%20%20%20%20%20%20%20%20%20%20%7B%7D%0A%20%20%20%20%20%20%20%20%20%20%20%20%29.addTo%28map_a3a1577cd814474abd11aa3471b7e15c%29%3B%0A%20%20%20%20%20%20%20%20%0A%20%20%20%20%0A%20%20%20%20%20%20%20%20%20%20%20%20var%20marker_62591d91dc9949f593245d98a23b48ac%20%3D%20L.marker%28%0A%20%20%20%20%20%20%20%20%20%20%20%20%20%20%20%20%5B42.368775899999996%2C%20-122.858378%5D%2C%0A%20%20%20%20%20%20%20%20%20%20%20%20%20%20%20%20%7B%7D%0A%20%20%20%20%20%20%20%20%20%20%20%20%29.addTo%28map_a3a1577cd814474abd11aa3471b7e15c%29%3B%0A%20%20%20%20%20%20%20%20%0A%20%20%20%20%0A%20%20%20%20%20%20%20%20%20%20%20%20var%20marker_23bbbedf74dc413888428ae2f25130b4%20%3D%20L.marker%28%0A%20%20%20%20%20%20%20%20%20%20%20%20%20%20%20%20%5B44.089117%2C%20-123.06635%5D%2C%0A%20%20%20%20%20%20%20%20%20%20%20%20%20%20%20%20%7B%7D%0A%20%20%20%20%20%20%20%20%20%20%20%20%29.addTo%28map_a3a1577cd814474abd11aa3471b7e15c%29%3B%0A%20%20%20%20%20%20%20%20%0A%20%20%20%20%0A%20%20%20%20%20%20%20%20%20%20%20%20var%20marker_3e77749bfefd4b13806322321b18acf0%20%3D%20L.marker%28%0A%20%20%20%20%20%20%20%20%20%20%20%20%20%20%20%20%5B44.6391268%2C%20-123.06581399999999%5D%2C%0A%20%20%20%20%20%20%20%20%20%20%20%20%20%20%20%20%7B%7D%0A%20%20%20%20%20%20%20%20%20%20%20%20%29.addTo%28map_a3a1577cd814474abd11aa3471b7e15c%29%3B%0A%20%20%20%20%20%20%20%20%0A%20%20%20%20%0A%20%20%20%20%20%20%20%20%20%20%20%20var%20marker_c01a77a48b2d4012b7e5670cc2415f5a%20%3D%20L.marker%28%0A%20%20%20%20%20%20%20%20%20%20%20%20%20%20%20%20%5B44.918976%2C%20-122.995309%5D%2C%0A%20%20%20%20%20%20%20%20%20%20%20%20%20%20%20%20%7B%7D%0A%20%20%20%20%20%20%20%20%20%20%20%20%29.addTo%28map_a3a1577cd814474abd11aa3471b7e15c%29%3B%0A%20%20%20%20%20%20%20%20%0A%20%20%20%20%0A%20%20%20%20%20%20%20%20%20%20%20%20var%20marker_4286a3af6b634b7a99d3408c5b202c14%20%3D%20L.marker%28%0A%20%20%20%20%20%20%20%20%20%20%20%20%20%20%20%20%5B45.559288%2C%20-122.523747%5D%2C%0A%20%20%20%20%20%20%20%20%20%20%20%20%20%20%20%20%7B%7D%0A%20%20%20%20%20%20%20%20%20%20%20%20%29.addTo%28map_a3a1577cd814474abd11aa3471b7e15c%29%3B%0A%20%20%20%20%20%20%20%20%0A%20%20%20%20%0A%20%20%20%20%20%20%20%20%20%20%20%20var%20marker_51fc1a83eb724a35a1590a16b53c399d%20%3D%20L.marker%28%0A%20%20%20%20%20%20%20%20%20%20%20%20%20%20%20%20%5B45.4367116%2C%20-122.75647959999999%5D%2C%0A%20%20%20%20%20%20%20%20%20%20%20%20%20%20%20%20%7B%7D%0A%20%20%20%20%20%20%20%20%20%20%20%20%29.addTo%28map_a3a1577cd814474abd11aa3471b7e15c%29%3B%0A%20%20%20%20%20%20%20%20%0A%20%20%20%20%0A%20%20%20%20%20%20%20%20%20%20%20%20var%20marker_77d3aa5068a54940988d18a5cebceca9%20%3D%20L.marker%28%0A%20%20%20%20%20%20%20%20%20%20%20%20%20%20%20%20%5B45.535709000000004%2C%20-122.9355%5D%2C%0A%20%20%20%20%20%20%20%20%20%20%20%20%20%20%20%20%7B%7D%0A%20%20%20%20%20%20%20%20%20%20%20%20%29.addTo%28map_a3a1577cd814474abd11aa3471b7e15c%29%3B%0A%20%20%20%20%20%20%20%20%0A%20%20%20%20%0A%20%20%20%20%20%20%20%20%20%20%20%20var%20marker_9fd9bc675f8d4b8cbea54a1555c53179%20%3D%20L.marker%28%0A%20%20%20%20%20%20%20%20%20%20%20%20%20%20%20%20%5B45.332949%2C%20-122.76409299999999%5D%2C%0A%20%20%20%20%20%20%20%20%20%20%20%20%20%20%20%20%7B%7D%0A%20%20%20%20%20%20%20%20%20%20%20%20%29.addTo%28map_a3a1577cd814474abd11aa3471b7e15c%29%3B%0A%20%20%20%20%20%20%20%20%0A%20%20%20%20%0A%20%20%20%20%20%20%20%20%20%20%20%20var%20marker_2fc47c10e07e4aeea638c971745dfb3d%20%3D%20L.marker%28%0A%20%20%20%20%20%20%20%20%20%20%20%20%20%20%20%20%5B45.429738%2C%20-122.571376%5D%2C%0A%20%20%20%20%20%20%20%20%20%20%20%20%20%20%20%20%7B%7D%0A%20%20%20%20%20%20%20%20%20%20%20%20%29.addTo%28map_a3a1577cd814474abd11aa3471b7e15c%29%3B%0A%20%20%20%20%20%20%20%20%0A%20%20%20%20%0A%20%20%20%20%20%20%20%20%20%20%20%20var%20marker_7d974b6f6f9f4b06ab8c1e69c6843f9c%20%3D%20L.marker%28%0A%20%20%20%20%20%20%20%20%20%20%20%20%20%20%20%20%5B45.509085%2C%20-122.84191899999999%5D%2C%0A%20%20%20%20%20%20%20%20%20%20%20%20%20%20%20%20%7B%7D%0A%20%20%20%20%20%20%20%20%20%20%20%20%29.addTo%28map_a3a1577cd814474abd11aa3471b7e15c%29%3B%0A%20%20%20%20%20%20%20%20%0A%20%20%20%20%0A%20%20%20%20%20%20%20%20%20%20%20%20var%20marker_985a0ad73a3643498a743ae5dc00e925%20%3D%20L.marker%28%0A%20%20%20%20%20%20%20%20%20%20%20%20%20%20%20%20%5B43.259025799999996%2C%20-123.3513746%5D%2C%0A%20%20%20%20%20%20%20%20%20%20%20%20%20%20%20%20%7B%7D%0A%20%20%20%20%20%20%20%20%20%20%20%20%29.addTo%28map_a3a1577cd814474abd11aa3471b7e15c%29%3B%0A%20%20%20%20%20%20%20%20%0A%20%20%20%20%0A%20%20%20%20%20%20%20%20%20%20%20%20var%20marker_2937c7a939e648328db5d9c86333438e%20%3D%20L.marker%28%0A%20%20%20%20%20%20%20%20%20%20%20%20%20%20%20%20%5B46.1472442%2C%20-123.91740359999999%5D%2C%0A%20%20%20%20%20%20%20%20%20%20%20%20%20%20%20%20%7B%7D%0A%20%20%20%20%20%20%20%20%20%20%20%20%29.addTo%28map_a3a1577cd814474abd11aa3471b7e15c%29%3B%0A%20%20%20%20%20%20%20%20%0A%20%20%20%20%0A%20%20%20%20%20%20%20%20%20%20%20%20var%20marker_3a2c5c7810a94ea1beca18b501089239%20%3D%20L.marker%28%0A%20%20%20%20%20%20%20%20%20%20%20%20%20%20%20%20%5B40.2391985%2C%20-75.2351214%5D%2C%0A%20%20%20%20%20%20%20%20%20%20%20%20%20%20%20%20%7B%7D%0A%20%20%20%20%20%20%20%20%20%20%20%20%29.addTo%28map_a3a1577cd814474abd11aa3471b7e15c%29%3B%0A%20%20%20%20%20%20%20%20%0A%20%20%20%20%0A%20%20%20%20%20%20%20%20%20%20%20%20var%20marker_7b6c3b69a0b1408ab2844dde24205d69%20%3D%20L.marker%28%0A%20%20%20%20%20%20%20%20%20%20%20%20%20%20%20%20%5B40.091369%2C%20-75.385931%5D%2C%0A%20%20%20%20%20%20%20%20%20%20%20%20%20%20%20%20%7B%7D%0A%20%20%20%20%20%20%20%20%20%20%20%20%29.addTo%28map_a3a1577cd814474abd11aa3471b7e15c%29%3B%0A%20%20%20%20%20%20%20%20%0A%20%20%20%20%0A%20%20%20%20%20%20%20%20%20%20%20%20var%20marker_54b49005910743189cccc7c2ac1b0736%20%3D%20L.marker%28%0A%20%20%20%20%20%20%20%20%20%20%20%20%20%20%20%20%5B40.052357%2C%20-76.256924%5D%2C%0A%20%20%20%20%20%20%20%20%20%20%20%20%20%20%20%20%7B%7D%0A%20%20%20%20%20%20%20%20%20%20%20%20%29.addTo%28map_a3a1577cd814474abd11aa3471b7e15c%29%3B%0A%20%20%20%20%20%20%20%20%0A%20%20%20%20%0A%20%20%20%20%20%20%20%20%20%20%20%20var%20marker_cc63f69cffed4a69b6eb787605edd28b%20%3D%20L.marker%28%0A%20%20%20%20%20%20%20%20%20%20%20%20%20%20%20%20%5B40.3098913%2C%20-76.79965059999999%5D%2C%0A%20%20%20%20%20%20%20%20%20%20%20%20%20%20%20%20%7B%7D%0A%20%20%20%20%20%20%20%20%20%20%20%20%29.addTo%28map_a3a1577cd814474abd11aa3471b7e15c%29%3B%0A%20%20%20%20%20%20%20%20%0A%20%20%20%20%0A%20%20%20%20%20%20%20%20%20%20%20%20var%20marker_768b6585ed97457788e64bb05f1186ba%20%3D%20L.marker%28%0A%20%20%20%20%20%20%20%20%20%20%20%20%20%20%20%20%5B40.691215%2C%20-80.107991%5D%2C%0A%20%20%20%20%20%20%20%20%20%20%20%20%20%20%20%20%7B%7D%0A%20%20%20%20%20%20%20%20%20%20%20%20%29.addTo%28map_a3a1577cd814474abd11aa3471b7e15c%29%3B%0A%20%20%20%20%20%20%20%20%0A%20%20%20%20%0A%20%20%20%20%20%20%20%20%20%20%20%20var%20marker_09e070491ea944459d82a40e72358eb9%20%3D%20L.marker%28%0A%20%20%20%20%20%20%20%20%20%20%20%20%20%20%20%20%5B40.406792200000005%2C%20-79.9195722%5D%2C%0A%20%20%20%20%20%20%20%20%20%20%20%20%20%20%20%20%7B%7D%0A%20%20%20%20%20%20%20%20%20%20%20%20%29.addTo%28map_a3a1577cd814474abd11aa3471b7e15c%29%3B%0A%20%20%20%20%20%20%20%20%0A%20%20%20%20%0A%20%20%20%20%20%20%20%20%20%20%20%20var%20marker_e7ce1e9251ee487c9306066cfc6f39ce%20%3D%20L.marker%28%0A%20%20%20%20%20%20%20%20%20%20%20%20%20%20%20%20%5B40.4581284%2C%20-80.1671087%5D%2C%0A%20%20%20%20%20%20%20%20%20%20%20%20%20%20%20%20%7B%7D%0A%20%20%20%20%20%20%20%20%20%20%20%20%29.addTo%28map_a3a1577cd814474abd11aa3471b7e15c%29%3B%0A%20%20%20%20%20%20%20%20%0A%20%20%20%20%0A%20%20%20%20%20%20%20%20%20%20%20%20var%20marker_a8f5793a14a94a02ba8fe92b8ed0e4f6%20%3D%20L.marker%28%0A%20%20%20%20%20%20%20%20%20%20%20%20%20%20%20%20%5B34.83608579999999%2C%20-82.311008%5D%2C%0A%20%20%20%20%20%20%20%20%20%20%20%20%20%20%20%20%7B%7D%0A%20%20%20%20%20%20%20%20%20%20%20%20%29.addTo%28map_a3a1577cd814474abd11aa3471b7e15c%29%3B%0A%20%20%20%20%20%20%20%20%0A%20%20%20%20%0A%20%20%20%20%20%20%20%20%20%20%20%20var%20marker_e65679eb2cda47d8a02a24280eaff25c%20%3D%20L.marker%28%0A%20%20%20%20%20%20%20%20%20%20%20%20%20%20%20%20%5B33.705698%2C%20-78.915906%5D%2C%0A%20%20%20%20%20%20%20%20%20%20%20%20%20%20%20%20%7B%7D%0A%20%20%20%20%20%20%20%20%20%20%20%20%29.addTo%28map_a3a1577cd814474abd11aa3471b7e15c%29%3B%0A%20%20%20%20%20%20%20%20%0A%20%20%20%20%0A%20%20%20%20%20%20%20%20%20%20%20%20var%20marker_4309b6ae4fff4fe489d110d306f114ff%20%3D%20L.marker%28%0A%20%20%20%20%20%20%20%20%20%20%20%20%20%20%20%20%5B32.7953856%2C%20-80.03696540000001%5D%2C%0A%20%20%20%20%20%20%20%20%20%20%20%20%20%20%20%20%7B%7D%0A%20%20%20%20%20%20%20%20%20%20%20%20%29.addTo%28map_a3a1577cd814474abd11aa3471b7e15c%29%3B%0A%20%20%20%20%20%20%20%20%0A%20%20%20%20%0A%20%20%20%20%20%20%20%20%20%20%20%20var%20marker_af27b770a29a4ee3924c49d2e7e85fad%20%3D%20L.marker%28%0A%20%20%20%20%20%20%20%20%20%20%20%20%20%20%20%20%5B34.9370256%2C%20-81.9906978%5D%2C%0A%20%20%20%20%20%20%20%20%20%20%20%20%20%20%20%20%7B%7D%0A%20%20%20%20%20%20%20%20%20%20%20%20%29.addTo%28map_a3a1577cd814474abd11aa3471b7e15c%29%3B%0A%20%20%20%20%20%20%20%20%0A%20%20%20%20%0A%20%20%20%20%20%20%20%20%20%20%20%20var%20marker_01e1d6e9dc924a92a6bac33c79575d23%20%3D%20L.marker%28%0A%20%20%20%20%20%20%20%20%20%20%20%20%20%20%20%20%5B35.046563899999995%2C%20-89.7972209%5D%2C%0A%20%20%20%20%20%20%20%20%20%20%20%20%20%20%20%20%7B%7D%0A%20%20%20%20%20%20%20%20%20%20%20%20%29.addTo%28map_a3a1577cd814474abd11aa3471b7e15c%29%3B%0A%20%20%20%20%20%20%20%20%0A%20%20%20%20%0A%20%20%20%20%20%20%20%20%20%20%20%20var%20marker_58e8bc8716124eb3930ec8be3eb4d8c9%20%3D%20L.marker%28%0A%20%20%20%20%20%20%20%20%20%20%20%20%20%20%20%20%5B35.192040000000006%2C%20-89.794989%5D%2C%0A%20%20%20%20%20%20%20%20%20%20%20%20%20%20%20%20%7B%7D%0A%20%20%20%20%20%20%20%20%20%20%20%20%29.addTo%28map_a3a1577cd814474abd11aa3471b7e15c%29%3B%0A%20%20%20%20%20%20%20%20%0A%20%20%20%20%0A%20%20%20%20%20%20%20%20%20%20%20%20var%20marker_148472cbe1784a48a28840ffaa986794%20%3D%20L.marker%28%0A%20%20%20%20%20%20%20%20%20%20%20%20%20%20%20%20%5B36.1392669%2C%20-86.885891%5D%2C%0A%20%20%20%20%20%20%20%20%20%20%20%20%20%20%20%20%7B%7D%0A%20%20%20%20%20%20%20%20%20%20%20%20%29.addTo%28map_a3a1577cd814474abd11aa3471b7e15c%29%3B%0A%20%20%20%20%20%20%20%20%0A%20%20%20%20%0A%20%20%20%20%20%20%20%20%20%20%20%20var%20marker_35bb2049807e460f9574bc7870c06335%20%3D%20L.marker%28%0A%20%20%20%20%20%20%20%20%20%20%20%20%20%20%20%20%5B35.963436%2C%20-86.818149%5D%2C%0A%20%20%20%20%20%20%20%20%20%20%20%20%20%20%20%20%7B%7D%0A%20%20%20%20%20%20%20%20%20%20%20%20%29.addTo%28map_a3a1577cd814474abd11aa3471b7e15c%29%3B%0A%20%20%20%20%20%20%20%20%0A%20%20%20%20%0A%20%20%20%20%20%20%20%20%20%20%20%20var%20marker_7364336b6915451ebed674e07e7ae96c%20%3D%20L.marker%28%0A%20%20%20%20%20%20%20%20%20%20%20%20%20%20%20%20%5B30.3968644%2C%20-97.7456423%5D%2C%0A%20%20%20%20%20%20%20%20%20%20%20%20%20%20%20%20%7B%7D%0A%20%20%20%20%20%20%20%20%20%20%20%20%29.addTo%28map_a3a1577cd814474abd11aa3471b7e15c%29%3B%0A%20%20%20%20%20%20%20%20%0A%20%20%20%20%0A%20%20%20%20%20%20%20%20%20%20%20%20var%20marker_e20dc991cd064c619c9b32a0b9599b2f%20%3D%20L.marker%28%0A%20%20%20%20%20%20%20%20%20%20%20%20%20%20%20%20%5B29.576287%2C%20-98.59715600000001%5D%2C%0A%20%20%20%20%20%20%20%20%20%20%20%20%20%20%20%20%7B%7D%0A%20%20%20%20%20%20%20%20%20%20%20%20%29.addTo%28map_a3a1577cd814474abd11aa3471b7e15c%29%3B%0A%20%20%20%20%20%20%20%20%0A%20%20%20%20%0A%20%20%20%20%20%20%20%20%20%20%20%20var%20marker_e4c7619d201b4d8093b82034517609e4%20%3D%20L.marker%28%0A%20%20%20%20%20%20%20%20%20%20%20%20%20%20%20%20%5B29.598390999999996%2C%20-98.27791500000001%5D%2C%0A%20%20%20%20%20%20%20%20%20%20%20%20%20%20%20%20%7B%7D%0A%20%20%20%20%20%20%20%20%20%20%20%20%29.addTo%28map_a3a1577cd814474abd11aa3471b7e15c%29%3B%0A%20%20%20%20%20%20%20%20%0A%20%20%20%20%0A%20%20%20%20%20%20%20%20%20%20%20%20var%20marker_0571a14feee742d786922ccad304cb1b%20%3D%20L.marker%28%0A%20%20%20%20%20%20%20%20%20%20%20%20%20%20%20%20%5B29.9536092%2C%20-95.54681090000001%5D%2C%0A%20%20%20%20%20%20%20%20%20%20%20%20%20%20%20%20%7B%7D%0A%20%20%20%20%20%20%20%20%20%20%20%20%29.addTo%28map_a3a1577cd814474abd11aa3471b7e15c%29%3B%0A%20%20%20%20%20%20%20%20%0A%20%20%20%20%0A%20%20%20%20%20%20%20%20%20%20%20%20var%20marker_6814c7ccb7cd47bc8d55822ed95b2323%20%3D%20L.marker%28%0A%20%20%20%20%20%20%20%20%20%20%20%20%20%20%20%20%5B29.787754999999997%2C%20-95.529263%5D%2C%0A%20%20%20%20%20%20%20%20%20%20%20%20%20%20%20%20%7B%7D%0A%20%20%20%20%20%20%20%20%20%20%20%20%29.addTo%28map_a3a1577cd814474abd11aa3471b7e15c%29%3B%0A%20%20%20%20%20%20%20%20%0A%20%20%20%20%0A%20%20%20%20%20%20%20%20%20%20%20%20var%20marker_508363d410064a059fc65a88393aedf1%20%3D%20L.marker%28%0A%20%20%20%20%20%20%20%20%20%20%20%20%20%20%20%20%5B29.732782899999997%2C%20-95.43895649999999%5D%2C%0A%20%20%20%20%20%20%20%20%20%20%20%20%20%20%20%20%7B%7D%0A%20%20%20%20%20%20%20%20%20%20%20%20%29.addTo%28map_a3a1577cd814474abd11aa3471b7e15c%29%3B%0A%20%20%20%20%20%20%20%20%0A%20%20%20%20%0A%20%20%20%20%20%20%20%20%20%20%20%20var%20marker_6e603327d2d44cbe94f8666421670799%20%3D%20L.marker%28%0A%20%20%20%20%20%20%20%20%20%20%20%20%20%20%20%20%5B32.6775654%2C%20-97.4087829%5D%2C%0A%20%20%20%20%20%20%20%20%20%20%20%20%20%20%20%20%7B%7D%0A%20%20%20%20%20%20%20%20%20%20%20%20%29.addTo%28map_a3a1577cd814474abd11aa3471b7e15c%29%3B%0A%20%20%20%20%20%20%20%20%0A%20%20%20%20%0A%20%20%20%20%20%20%20%20%20%20%20%20var%20marker_59bbec61d8c34bfdab7f5a2fd974113e%20%3D%20L.marker%28%0A%20%20%20%20%20%20%20%20%20%20%20%20%20%20%20%20%5B32.9419217%2C%20-97.1121332%5D%2C%0A%20%20%20%20%20%20%20%20%20%20%20%20%20%20%20%20%7B%7D%0A%20%20%20%20%20%20%20%20%20%20%20%20%29.addTo%28map_a3a1577cd814474abd11aa3471b7e15c%29%3B%0A%20%20%20%20%20%20%20%20%0A%20%20%20%20%0A%20%20%20%20%20%20%20%20%20%20%20%20var%20marker_905a660c36cf43178a9ceeebf1fbe6b0%20%3D%20L.marker%28%0A%20%20%20%20%20%20%20%20%20%20%20%20%20%20%20%20%5B32.6846619%2C%20-97.11274859999999%5D%2C%0A%20%20%20%20%20%20%20%20%20%20%20%20%20%20%20%20%7B%7D%0A%20%20%20%20%20%20%20%20%20%20%20%20%29.addTo%28map_a3a1577cd814474abd11aa3471b7e15c%29%3B%0A%20%20%20%20%20%20%20%20%0A%20%20%20%20%0A%20%20%20%20%20%20%20%20%20%20%20%20var%20marker_a4053ce2987742aea48982c93a43c540%20%3D%20L.marker%28%0A%20%20%20%20%20%20%20%20%20%20%20%20%20%20%20%20%5B33.023989%2C%20-96.831701%5D%2C%0A%20%20%20%20%20%20%20%20%20%20%20%20%20%20%20%20%7B%7D%0A%20%20%20%20%20%20%20%20%20%20%20%20%29.addTo%28map_a3a1577cd814474abd11aa3471b7e15c%29%3B%0A%20%20%20%20%20%20%20%20%0A%20%20%20%20%0A%20%20%20%20%20%20%20%20%20%20%20%20var%20marker_7d6a748d47644bab93e2e7c847ac101d%20%3D%20L.marker%28%0A%20%20%20%20%20%20%20%20%20%20%20%20%20%20%20%20%5B33.044137899999996%2C%20-96.699179%5D%2C%0A%20%20%20%20%20%20%20%20%20%20%20%20%20%20%20%20%7B%7D%0A%20%20%20%20%20%20%20%20%20%20%20%20%29.addTo%28map_a3a1577cd814474abd11aa3471b7e15c%29%3B%0A%20%20%20%20%20%20%20%20%0A%20%20%20%20%0A%20%20%20%20%20%20%20%20%20%20%20%20var%20marker_8c54bc747b89464cbb22e0722a3710aa%20%3D%20L.marker%28%0A%20%20%20%20%20%20%20%20%20%20%20%20%20%20%20%20%5B32.9952011%2C%20-96.9648545%5D%2C%0A%20%20%20%20%20%20%20%20%20%20%20%20%20%20%20%20%7B%7D%0A%20%20%20%20%20%20%20%20%20%20%20%20%29.addTo%28map_a3a1577cd814474abd11aa3471b7e15c%29%3B%0A%20%20%20%20%20%20%20%20%0A%20%20%20%20%0A%20%20%20%20%20%20%20%20%20%20%20%20var%20marker_ac6c5c5c0aee4beaae11efa42ddb87ac%20%3D%20L.marker%28%0A%20%20%20%20%20%20%20%20%20%20%20%20%20%20%20%20%5B31.783496999999997%2C%20-106.410297%5D%2C%0A%20%20%20%20%20%20%20%20%20%20%20%20%20%20%20%20%7B%7D%0A%20%20%20%20%20%20%20%20%20%20%20%20%29.addTo%28map_a3a1577cd814474abd11aa3471b7e15c%29%3B%0A%20%20%20%20%20%20%20%20%0A%20%20%20%20%0A%20%20%20%20%20%20%20%20%20%20%20%20var%20marker_f77979d021bf41c7b957df1e68af8c22%20%3D%20L.marker%28%0A%20%20%20%20%20%20%20%20%20%20%20%20%20%20%20%20%5B29.611904%2C%20-98.474805%5D%2C%0A%20%20%20%20%20%20%20%20%20%20%20%20%20%20%20%20%7B%7D%0A%20%20%20%20%20%20%20%20%20%20%20%20%29.addTo%28map_a3a1577cd814474abd11aa3471b7e15c%29%3B%0A%20%20%20%20%20%20%20%20%0A%20%20%20%20%0A%20%20%20%20%20%20%20%20%20%20%20%20var%20marker_82412993859d46beba2bcbd412287395%20%3D%20L.marker%28%0A%20%20%20%20%20%20%20%20%20%20%20%20%20%20%20%20%5B32.620946%2C%20-96.910279%5D%2C%0A%20%20%20%20%20%20%20%20%20%20%20%20%20%20%20%20%7B%7D%0A%20%20%20%20%20%20%20%20%20%20%20%20%29.addTo%28map_a3a1577cd814474abd11aa3471b7e15c%29%3B%0A%20%20%20%20%20%20%20%20%0A%20%20%20%20%0A%20%20%20%20%20%20%20%20%20%20%20%20var%20marker_2466bb98b25940d39a51034ecc804b57%20%3D%20L.marker%28%0A%20%20%20%20%20%20%20%20%20%20%20%20%20%20%20%20%5B32.9087304%2C%20-96.4454985%5D%2C%0A%20%20%20%20%20%20%20%20%20%20%20%20%20%20%20%20%7B%7D%0A%20%20%20%20%20%20%20%20%20%20%20%20%29.addTo%28map_a3a1577cd814474abd11aa3471b7e15c%29%3B%0A%20%20%20%20%20%20%20%20%0A%20%20%20%20%0A%20%20%20%20%20%20%20%20%20%20%20%20var%20marker_d052f52e840149df93d5a872a47f1c00%20%3D%20L.marker%28%0A%20%20%20%20%20%20%20%20%20%20%20%20%20%20%20%20%5B37.122515%2C%20-113.523381%5D%2C%0A%20%20%20%20%20%20%20%20%20%20%20%20%20%20%20%20%7B%7D%0A%20%20%20%20%20%20%20%20%20%20%20%20%29.addTo%28map_a3a1577cd814474abd11aa3471b7e15c%29%3B%0A%20%20%20%20%20%20%20%20%0A%20%20%20%20%0A%20%20%20%20%20%20%20%20%20%20%20%20var%20marker_61008f140f784bde902a83910167ec93%20%3D%20L.marker%28%0A%20%20%20%20%20%20%20%20%20%20%20%20%20%20%20%20%5B41.197413%2C%20-111.97937250000001%5D%2C%0A%20%20%20%20%20%20%20%20%20%20%20%20%20%20%20%20%7B%7D%0A%20%20%20%20%20%20%20%20%20%20%20%20%29.addTo%28map_a3a1577cd814474abd11aa3471b7e15c%29%3B%0A%20%20%20%20%20%20%20%20%0A%20%20%20%20%0A%20%20%20%20%20%20%20%20%20%20%20%20var%20marker_d1c6d72fa9984304afcc7b0f623ff4ce%20%3D%20L.marker%28%0A%20%20%20%20%20%20%20%20%20%20%20%20%20%20%20%20%5B40.6903769%2C%20-111.9541263%5D%2C%0A%20%20%20%20%20%20%20%20%20%20%20%20%20%20%20%20%7B%7D%0A%20%20%20%20%20%20%20%20%20%20%20%20%29.addTo%28map_a3a1577cd814474abd11aa3471b7e15c%29%3B%0A%20%20%20%20%20%20%20%20%0A%20%20%20%20%0A%20%20%20%20%20%20%20%20%20%20%20%20var%20marker_3bfd521141a24950aabaaa2ecaf6eb3d%20%3D%20L.marker%28%0A%20%20%20%20%20%20%20%20%20%20%20%20%20%20%20%20%5B40.730657%2C%20-111.90293999999999%5D%2C%0A%20%20%20%20%20%20%20%20%20%20%20%20%20%20%20%20%7B%7D%0A%20%20%20%20%20%20%20%20%20%20%20%20%29.addTo%28map_a3a1577cd814474abd11aa3471b7e15c%29%3B%0A%20%20%20%20%20%20%20%20%0A%20%20%20%20%0A%20%20%20%20%20%20%20%20%20%20%20%20var%20marker_d7d784d2a0ca4e74939f1c8aa270b22f%20%3D%20L.marker%28%0A%20%20%20%20%20%20%20%20%20%20%20%20%20%20%20%20%5B40.282244299999995%2C%20-111.6798494%5D%2C%0A%20%20%20%20%20%20%20%20%20%20%20%20%20%20%20%20%7B%7D%0A%20%20%20%20%20%20%20%20%20%20%20%20%29.addTo%28map_a3a1577cd814474abd11aa3471b7e15c%29%3B%0A%20%20%20%20%20%20%20%20%0A%20%20%20%20%0A%20%20%20%20%20%20%20%20%20%20%20%20var%20marker_62c11567cdb742ab8743a8385e655bba%20%3D%20L.marker%28%0A%20%20%20%20%20%20%20%20%20%20%20%20%20%20%20%20%5B40.550667499999996%2C%20-111.8934445%5D%2C%0A%20%20%20%20%20%20%20%20%20%20%20%20%20%20%20%20%7B%7D%0A%20%20%20%20%20%20%20%20%20%20%20%20%29.addTo%28map_a3a1577cd814474abd11aa3471b7e15c%29%3B%0A%20%20%20%20%20%20%20%20%0A%20%20%20%20%0A%20%20%20%20%20%20%20%20%20%20%20%20var%20marker_58e87f22aaeb4d13bc3c07fa12e57377%20%3D%20L.marker%28%0A%20%20%20%20%20%20%20%20%20%20%20%20%20%20%20%20%5B40.389719%2C%20-111.8229955%5D%2C%0A%20%20%20%20%20%20%20%20%20%20%20%20%20%20%20%20%7B%7D%0A%20%20%20%20%20%20%20%20%20%20%20%20%29.addTo%28map_a3a1577cd814474abd11aa3471b7e15c%29%3B%0A%20%20%20%20%20%20%20%20%0A%20%20%20%20%0A%20%20%20%20%20%20%20%20%20%20%20%20var%20marker_61ae0b787e11493e8c36882943a8ce8f%20%3D%20L.marker%28%0A%20%20%20%20%20%20%20%20%20%20%20%20%20%20%20%20%5B40.889379%2C%20-111.89510800000001%5D%2C%0A%20%20%20%20%20%20%20%20%20%20%20%20%20%20%20%20%7B%7D%0A%20%20%20%20%20%20%20%20%20%20%20%20%29.addTo%28map_a3a1577cd814474abd11aa3471b7e15c%29%3B%0A%20%20%20%20%20%20%20%20%0A%20%20%20%20%0A%20%20%20%20%20%20%20%20%20%20%20%20var%20marker_697f90f9f3d5406983f2fa4e20e998cc%20%3D%20L.marker%28%0A%20%20%20%20%20%20%20%20%20%20%20%20%20%20%20%20%5B40.6577119%2C%20-111.889873%5D%2C%0A%20%20%20%20%20%20%20%20%20%20%20%20%20%20%20%20%7B%7D%0A%20%20%20%20%20%20%20%20%20%20%20%20%29.addTo%28map_a3a1577cd814474abd11aa3471b7e15c%29%3B%0A%20%20%20%20%20%20%20%20%0A%20%20%20%20%0A%20%20%20%20%20%20%20%20%20%20%20%20var%20marker_3f202eb90be244e9b87a6c9c3345a277%20%3D%20L.marker%28%0A%20%20%20%20%20%20%20%20%20%20%20%20%20%20%20%20%5B44.5034%2C%20-73.173988%5D%2C%0A%20%20%20%20%20%20%20%20%20%20%20%20%20%20%20%20%7B%7D%0A%20%20%20%20%20%20%20%20%20%20%20%20%29.addTo%28map_a3a1577cd814474abd11aa3471b7e15c%29%3B%0A%20%20%20%20%20%20%20%20%0A%20%20%20%20%0A%20%20%20%20%20%20%20%20%20%20%20%20var%20marker_ec9d0a025eda454f85f91bb7d7c1723d%20%3D%20L.marker%28%0A%20%20%20%20%20%20%20%20%20%20%20%20%20%20%20%20%5B37.106044%2C%20-76.49655899999999%5D%2C%0A%20%20%20%20%20%20%20%20%20%20%20%20%20%20%20%20%7B%7D%0A%20%20%20%20%20%20%20%20%20%20%20%20%29.addTo%28map_a3a1577cd814474abd11aa3471b7e15c%29%3B%0A%20%20%20%20%20%20%20%20%0A%20%20%20%20%0A%20%20%20%20%20%20%20%20%20%20%20%20var%20marker_891b90d3fe2d46f09864183f4d5849d6%20%3D%20L.marker%28%0A%20%20%20%20%20%20%20%20%20%20%20%20%20%20%20%20%5B36.851561%2C%20-76.19968100000001%5D%2C%0A%20%20%20%20%20%20%20%20%20%20%20%20%20%20%20%20%7B%7D%0A%20%20%20%20%20%20%20%20%20%20%20%20%29.addTo%28map_a3a1577cd814474abd11aa3471b7e15c%29%3B%0A%20%20%20%20%20%20%20%20%0A%20%20%20%20%0A%20%20%20%20%20%20%20%20%20%20%20%20var%20marker_d362568e25c64224bacf85ec3f55e549%20%3D%20L.marker%28%0A%20%20%20%20%20%20%20%20%20%20%20%20%20%20%20%20%5B37.438778000000006%2C%20-77.587539%5D%2C%0A%20%20%20%20%20%20%20%20%20%20%20%20%20%20%20%20%7B%7D%0A%20%20%20%20%20%20%20%20%20%20%20%20%29.addTo%28map_a3a1577cd814474abd11aa3471b7e15c%29%3B%0A%20%20%20%20%20%20%20%20%0A%20%20%20%20%0A%20%20%20%20%20%20%20%20%20%20%20%20var%20marker_e82472e9fc7a47a68cae02d9b6ae92c0%20%3D%20L.marker%28%0A%20%20%20%20%20%20%20%20%20%20%20%20%20%20%20%20%5B37.642294%2C%20-77.561159%5D%2C%0A%20%20%20%20%20%20%20%20%20%20%20%20%20%20%20%20%7B%7D%0A%20%20%20%20%20%20%20%20%20%20%20%20%29.addTo%28map_a3a1577cd814474abd11aa3471b7e15c%29%3B%0A%20%20%20%20%20%20%20%20%0A%20%20%20%20%0A%20%20%20%20%20%20%20%20%20%20%20%20var%20marker_bb28e95294e5487d9e759965a33024dd%20%3D%20L.marker%28%0A%20%20%20%20%20%20%20%20%20%20%20%20%20%20%20%20%5B38.428596999999996%2C%20-78.85613000000001%5D%2C%0A%20%20%20%20%20%20%20%20%20%20%20%20%20%20%20%20%7B%7D%0A%20%20%20%20%20%20%20%20%20%20%20%20%29.addTo%28map_a3a1577cd814474abd11aa3471b7e15c%29%3B%0A%20%20%20%20%20%20%20%20%0A%20%20%20%20%0A%20%20%20%20%20%20%20%20%20%20%20%20var%20marker_a886df382c8342418d61c6621baabbf3%20%3D%20L.marker%28%0A%20%20%20%20%20%20%20%20%20%20%20%20%20%20%20%20%5B39.157827000000005%2C%20-78.15792900000001%5D%2C%0A%20%20%20%20%20%20%20%20%20%20%20%20%20%20%20%20%7B%7D%0A%20%20%20%20%20%20%20%20%20%20%20%20%29.addTo%28map_a3a1577cd814474abd11aa3471b7e15c%29%3B%0A%20%20%20%20%20%20%20%20%0A%20%20%20%20%0A%20%20%20%20%20%20%20%20%20%20%20%20var%20marker_46ad76b6841048dc9737aa7e5e992a17%20%3D%20L.marker%28%0A%20%20%20%20%20%20%20%20%20%20%20%20%20%20%20%20%5B38.8624735%2C%20-77.0567423%5D%2C%0A%20%20%20%20%20%20%20%20%20%20%20%20%20%20%20%20%7B%7D%0A%20%20%20%20%20%20%20%20%20%20%20%20%29.addTo%28map_a3a1577cd814474abd11aa3471b7e15c%29%3B%0A%20%20%20%20%20%20%20%20%0A%20%20%20%20%0A%20%20%20%20%20%20%20%20%20%20%20%20var%20marker_0f2bf648138741df823f1271f505d9ad%20%3D%20L.marker%28%0A%20%20%20%20%20%20%20%20%20%20%20%20%20%20%20%20%5B38.642245%2C%20-77.29444699999999%5D%2C%0A%20%20%20%20%20%20%20%20%20%20%20%20%20%20%20%20%7B%7D%0A%20%20%20%20%20%20%20%20%20%20%20%20%29.addTo%28map_a3a1577cd814474abd11aa3471b7e15c%29%3B%0A%20%20%20%20%20%20%20%20%0A%20%20%20%20%0A%20%20%20%20%20%20%20%20%20%20%20%20var%20marker_f5839761565e46afb83b71782533ee0a%20%3D%20L.marker%28%0A%20%20%20%20%20%20%20%20%20%20%20%20%20%20%20%20%5B38.739883%2C%20-77.197301%5D%2C%0A%20%20%20%20%20%20%20%20%20%20%20%20%20%20%20%20%7B%7D%0A%20%20%20%20%20%20%20%20%20%20%20%20%29.addTo%28map_a3a1577cd814474abd11aa3471b7e15c%29%3B%0A%20%20%20%20%20%20%20%20%0A%20%20%20%20%0A%20%20%20%20%20%20%20%20%20%20%20%20var%20marker_60fe8e5d28c041be8bd77a65b64d01ef%20%3D%20L.marker%28%0A%20%20%20%20%20%20%20%20%20%20%20%20%20%20%20%20%5B38.849315000000004%2C%20-77.37178399999999%5D%2C%0A%20%20%20%20%20%20%20%20%20%20%20%20%20%20%20%20%7B%7D%0A%20%20%20%20%20%20%20%20%20%20%20%20%29.addTo%28map_a3a1577cd814474abd11aa3471b7e15c%29%3B%0A%20%20%20%20%20%20%20%20%0A%20%20%20%20%0A%20%20%20%20%20%20%20%20%20%20%20%20var%20marker_19e9d58ad9fc48e99c04a5d275739448%20%3D%20L.marker%28%0A%20%20%20%20%20%20%20%20%20%20%20%20%20%20%20%20%5B39.115223%2C%20-77.533198%5D%2C%0A%20%20%20%20%20%20%20%20%20%20%20%20%20%20%20%20%7B%7D%0A%20%20%20%20%20%20%20%20%20%20%20%20%29.addTo%28map_a3a1577cd814474abd11aa3471b7e15c%29%3B%0A%20%20%20%20%20%20%20%20%0A%20%20%20%20%0A%20%20%20%20%20%20%20%20%20%20%20%20var%20marker_ca13dcfce27f4dc68d71dc952c8af145%20%3D%20L.marker%28%0A%20%20%20%20%20%20%20%20%20%20%20%20%20%20%20%20%5B39.023821000000005%2C%20-77.401854%5D%2C%0A%20%20%20%20%20%20%20%20%20%20%20%20%20%20%20%20%7B%7D%0A%20%20%20%20%20%20%20%20%20%20%20%20%29.addTo%28map_a3a1577cd814474abd11aa3471b7e15c%29%3B%0A%20%20%20%20%20%20%20%20%0A%20%20%20%20%0A%20%20%20%20%20%20%20%20%20%20%20%20var%20marker_8b3f36d2073940f78a533f7b2500fade%20%3D%20L.marker%28%0A%20%20%20%20%20%20%20%20%20%20%20%20%20%20%20%20%5B38.895106899999995%2C%20-77.44302090000001%5D%2C%0A%20%20%20%20%20%20%20%20%20%20%20%20%20%20%20%20%7B%7D%0A%20%20%20%20%20%20%20%20%20%20%20%20%29.addTo%28map_a3a1577cd814474abd11aa3471b7e15c%29%3B%0A%20%20%20%20%20%20%20%20%0A%20%20%20%20%0A%20%20%20%20%20%20%20%20%20%20%20%20var%20marker_1c2a7b0a8d9044b19bcd50d722b77bad%20%3D%20L.marker%28%0A%20%20%20%20%20%20%20%20%20%20%20%20%20%20%20%20%5B38.783572%2C%20-77.51642690000001%5D%2C%0A%20%20%20%20%20%20%20%20%20%20%20%20%20%20%20%20%7B%7D%0A%20%20%20%20%20%20%20%20%20%20%20%20%29.addTo%28map_a3a1577cd814474abd11aa3471b7e15c%29%3B%0A%20%20%20%20%20%20%20%20%0A%20%20%20%20%0A%20%20%20%20%20%20%20%20%20%20%20%20var%20marker_8934762090c34edaa892348ed57ed4ea%20%3D%20L.marker%28%0A%20%20%20%20%20%20%20%20%20%20%20%20%20%20%20%20%5B38.293479%2C%20-77.515701%5D%2C%0A%20%20%20%20%20%20%20%20%20%20%20%20%20%20%20%20%7B%7D%0A%20%20%20%20%20%20%20%20%20%20%20%20%29.addTo%28map_a3a1577cd814474abd11aa3471b7e15c%29%3B%0A%20%20%20%20%20%20%20%20%0A%20%20%20%20%0A%20%20%20%20%20%20%20%20%20%20%20%20var%20marker_8601e9473f464b308295364dd51e940d%20%3D%20L.marker%28%0A%20%20%20%20%20%20%20%20%20%20%20%20%20%20%20%20%5B47.681717%2C%20-122.18208600000001%5D%2C%0A%20%20%20%20%20%20%20%20%20%20%20%20%20%20%20%20%7B%7D%0A%20%20%20%20%20%20%20%20%20%20%20%20%29.addTo%28map_a3a1577cd814474abd11aa3471b7e15c%29%3B%0A%20%20%20%20%20%20%20%20%0A%20%20%20%20%0A%20%20%20%20%20%20%20%20%20%20%20%20var%20marker_a64ef95f5a964f2db27d0620356f142b%20%3D%20L.marker%28%0A%20%20%20%20%20%20%20%20%20%20%20%20%20%20%20%20%5B46.4229672%2C%20-117.04427220000001%5D%2C%0A%20%20%20%20%20%20%20%20%20%20%20%20%20%20%20%20%7B%7D%0A%20%20%20%20%20%20%20%20%20%20%20%20%29.addTo%28map_a3a1577cd814474abd11aa3471b7e15c%29%3B%0A%20%20%20%20%20%20%20%20%0A%20%20%20%20%0A%20%20%20%20%20%20%20%20%20%20%20%20var%20marker_0f414bf7bfdb4870998b4433ed69266a%20%3D%20L.marker%28%0A%20%20%20%20%20%20%20%20%20%20%20%20%20%20%20%20%5B46.225654%2C%20-119.23524599999999%5D%2C%0A%20%20%20%20%20%20%20%20%20%20%20%20%20%20%20%20%7B%7D%0A%20%20%20%20%20%20%20%20%20%20%20%20%29.addTo%28map_a3a1577cd814474abd11aa3471b7e15c%29%3B%0A%20%20%20%20%20%20%20%20%0A%20%20%20%20%0A%20%20%20%20%20%20%20%20%20%20%20%20var%20marker_c85827f4cc474aaeba1d37f5646d58ae%20%3D%20L.marker%28%0A%20%20%20%20%20%20%20%20%20%20%20%20%20%20%20%20%5B47.658358%2C%20-117.332852%5D%2C%0A%20%20%20%20%20%20%20%20%20%20%20%20%20%20%20%20%7B%7D%0A%20%20%20%20%20%20%20%20%20%20%20%20%29.addTo%28map_a3a1577cd814474abd11aa3471b7e15c%29%3B%0A%20%20%20%20%20%20%20%20%0A%20%20%20%20%0A%20%20%20%20%20%20%20%20%20%20%20%20var%20marker_0a3ccdd8984c4686bf4b9dad35b59a0a%20%3D%20L.marker%28%0A%20%20%20%20%20%20%20%20%20%20%20%20%20%20%20%20%5B47.724927%2C%20-117.41148899999999%5D%2C%0A%20%20%20%20%20%20%20%20%20%20%20%20%20%20%20%20%7B%7D%0A%20%20%20%20%20%20%20%20%20%20%20%20%29.addTo%28map_a3a1577cd814474abd11aa3471b7e15c%29%3B%0A%20%20%20%20%20%20%20%20%0A%20%20%20%20%0A%20%20%20%20%20%20%20%20%20%20%20%20var%20marker_eb98b7d93fff4fb8a889b6760498fb35%20%3D%20L.marker%28%0A%20%20%20%20%20%20%20%20%20%20%20%20%20%20%20%20%5B46.562354%2C%20-120.499306%5D%2C%0A%20%20%20%20%20%20%20%20%20%20%20%20%20%20%20%20%7B%7D%0A%20%20%20%20%20%20%20%20%20%20%20%20%29.addTo%28map_a3a1577cd814474abd11aa3471b7e15c%29%3B%0A%20%20%20%20%20%20%20%20%0A%20%20%20%20%0A%20%20%20%20%20%20%20%20%20%20%20%20var%20marker_7b9b644f890c4ec08b2435cb0767362a%20%3D%20L.marker%28%0A%20%20%20%20%20%20%20%20%20%20%20%20%20%20%20%20%5B47.401812%2C%20-120.28045900000001%5D%2C%0A%20%20%20%20%20%20%20%20%20%20%20%20%20%20%20%20%7B%7D%0A%20%20%20%20%20%20%20%20%20%20%20%20%29.addTo%28map_a3a1577cd814474abd11aa3471b7e15c%29%3B%0A%20%20%20%20%20%20%20%20%0A%20%20%20%20%0A%20%20%20%20%20%20%20%20%20%20%20%20var%20marker_9b27af726d0a4682a77e752d47b17790%20%3D%20L.marker%28%0A%20%20%20%20%20%20%20%20%20%20%20%20%20%20%20%20%5B45.684942%2C%20-122.60471799999999%5D%2C%0A%20%20%20%20%20%20%20%20%20%20%20%20%20%20%20%20%7B%7D%0A%20%20%20%20%20%20%20%20%20%20%20%20%29.addTo%28map_a3a1577cd814474abd11aa3471b7e15c%29%3B%0A%20%20%20%20%20%20%20%20%0A%20%20%20%20%0A%20%20%20%20%20%20%20%20%20%20%20%20var%20marker_973df4785cec49e4b2403335a94c7a32%20%3D%20L.marker%28%0A%20%20%20%20%20%20%20%20%20%20%20%20%20%20%20%20%5B47.05934%2C%20-122.760723%5D%2C%0A%20%20%20%20%20%20%20%20%20%20%20%20%20%20%20%20%7B%7D%0A%20%20%20%20%20%20%20%20%20%20%20%20%29.addTo%28map_a3a1577cd814474abd11aa3471b7e15c%29%3B%0A%20%20%20%20%20%20%20%20%0A%20%20%20%20%0A%20%20%20%20%20%20%20%20%20%20%20%20var%20marker_f2643f218b764eaf92fd3867a806fc6b%20%3D%20L.marker%28%0A%20%20%20%20%20%20%20%20%20%20%20%20%20%20%20%20%5B46.996336%2C%20-122.916699%5D%2C%0A%20%20%20%20%20%20%20%20%20%20%20%20%20%20%20%20%7B%7D%0A%20%20%20%20%20%20%20%20%20%20%20%20%29.addTo%28map_a3a1577cd814474abd11aa3471b7e15c%29%3B%0A%20%20%20%20%20%20%20%20%0A%20%20%20%20%0A%20%20%20%20%20%20%20%20%20%20%20%20var%20marker_3a5fd84991c04afd86ed0254eb1eb704%20%3D%20L.marker%28%0A%20%20%20%20%20%20%20%20%20%20%20%20%20%20%20%20%5B47.238296999999996%2C%20-122.37395500000001%5D%2C%0A%20%20%20%20%20%20%20%20%20%20%20%20%20%20%20%20%7B%7D%0A%20%20%20%20%20%20%20%20%20%20%20%20%29.addTo%28map_a3a1577cd814474abd11aa3471b7e15c%29%3B%0A%20%20%20%20%20%20%20%20%0A%20%20%20%20%0A%20%20%20%20%20%20%20%20%20%20%20%20var%20marker_1b9d4b43974046e0ab7a5ea008efa64d%20%3D%20L.marker%28%0A%20%20%20%20%20%20%20%20%20%20%20%20%20%20%20%20%5B47.224683%2C%20-122.469182%5D%2C%0A%20%20%20%20%20%20%20%20%20%20%20%20%20%20%20%20%7B%7D%0A%20%20%20%20%20%20%20%20%20%20%20%20%29.addTo%28map_a3a1577cd814474abd11aa3471b7e15c%29%3B%0A%20%20%20%20%20%20%20%20%0A%20%20%20%20%0A%20%20%20%20%20%20%20%20%20%20%20%20var%20marker_4c43bef13a3745d5998c748d28aa12b9%20%3D%20L.marker%28%0A%20%20%20%20%20%20%20%20%20%20%20%20%20%20%20%20%5B47.656571%2C%20-122.680673%5D%2C%0A%20%20%20%20%20%20%20%20%20%20%20%20%20%20%20%20%7B%7D%0A%20%20%20%20%20%20%20%20%20%20%20%20%29.addTo%28map_a3a1577cd814474abd11aa3471b7e15c%29%3B%0A%20%20%20%20%20%20%20%20%0A%20%20%20%20%0A%20%20%20%20%20%20%20%20%20%20%20%20var%20marker_6fbc19c8a3764be6a449d216899fa40b%20%3D%20L.marker%28%0A%20%20%20%20%20%20%20%20%20%20%20%20%20%20%20%20%5B48.077069200000004%2C%20-123.1254206%5D%2C%0A%20%20%20%20%20%20%20%20%20%20%20%20%20%20%20%20%7B%7D%0A%20%20%20%20%20%20%20%20%20%20%20%20%29.addTo%28map_a3a1577cd814474abd11aa3471b7e15c%29%3B%0A%20%20%20%20%20%20%20%20%0A%20%20%20%20%0A%20%20%20%20%20%20%20%20%20%20%20%20var%20marker_a1f12c1965ca4726aa84d8efd9d3a1f8%20%3D%20L.marker%28%0A%20%20%20%20%20%20%20%20%20%20%20%20%20%20%20%20%5B48.077069200000004%2C%20-123.1254206%5D%2C%0A%20%20%20%20%20%20%20%20%20%20%20%20%20%20%20%20%7B%7D%0A%20%20%20%20%20%20%20%20%20%20%20%20%29.addTo%28map_a3a1577cd814474abd11aa3471b7e15c%29%3B%0A%20%20%20%20%20%20%20%20%0A%20%20%20%20%0A%20%20%20%20%20%20%20%20%20%20%20%20var%20marker_b336f56e43284451bb0ab9db81d75d50%20%3D%20L.marker%28%0A%20%20%20%20%20%20%20%20%20%20%20%20%20%20%20%20%5B47.156471999999994%2C%20-122.308125%5D%2C%0A%20%20%20%20%20%20%20%20%20%20%20%20%20%20%20%20%7B%7D%0A%20%20%20%20%20%20%20%20%20%20%20%20%29.addTo%28map_a3a1577cd814474abd11aa3471b7e15c%29%3B%0A%20%20%20%20%20%20%20%20%0A%20%20%20%20%0A%20%20%20%20%20%20%20%20%20%20%20%20var%20marker_60250661017640ff930ad300b89fe3df%20%3D%20L.marker%28%0A%20%20%20%20%20%20%20%20%20%20%20%20%20%20%20%20%5B48.147560999999996%2C%20-122.19123700000002%5D%2C%0A%20%20%20%20%20%20%20%20%20%20%20%20%20%20%20%20%7B%7D%0A%20%20%20%20%20%20%20%20%20%20%20%20%29.addTo%28map_a3a1577cd814474abd11aa3471b7e15c%29%3B%0A%20%20%20%20%20%20%20%20%0A%20%20%20%20%0A%20%20%20%20%20%20%20%20%20%20%20%20var%20marker_9fff2160e5da4a06af564c3de67caefc%20%3D%20L.marker%28%0A%20%20%20%20%20%20%20%20%20%20%20%20%20%20%20%20%5B48.453882%2C%20-122.33803799999998%5D%2C%0A%20%20%20%20%20%20%20%20%20%20%20%20%20%20%20%20%7B%7D%0A%20%20%20%20%20%20%20%20%20%20%20%20%29.addTo%28map_a3a1577cd814474abd11aa3471b7e15c%29%3B%0A%20%20%20%20%20%20%20%20%0A%20%20%20%20%0A%20%20%20%20%20%20%20%20%20%20%20%20var%20marker_88db3b9c1264438a9872fa0dc4341813%20%3D%20L.marker%28%0A%20%20%20%20%20%20%20%20%20%20%20%20%20%20%20%20%5B48.797450700000006%2C%20-122.4882889%5D%2C%0A%20%20%20%20%20%20%20%20%20%20%20%20%20%20%20%20%7B%7D%0A%20%20%20%20%20%20%20%20%20%20%20%20%29.addTo%28map_a3a1577cd814474abd11aa3471b7e15c%29%3B%0A%20%20%20%20%20%20%20%20%0A%20%20%20%20%0A%20%20%20%20%20%20%20%20%20%20%20%20var%20marker_0d39e8c3436b4bb4b897970be31bb6c9%20%3D%20L.marker%28%0A%20%20%20%20%20%20%20%20%20%20%20%20%20%20%20%20%5B47.903556%2C%20-122.209275%5D%2C%0A%20%20%20%20%20%20%20%20%20%20%20%20%20%20%20%20%7B%7D%0A%20%20%20%20%20%20%20%20%20%20%20%20%29.addTo%28map_a3a1577cd814474abd11aa3471b7e15c%29%3B%0A%20%20%20%20%20%20%20%20%0A%20%20%20%20%0A%20%20%20%20%20%20%20%20%20%20%20%20var%20marker_0665890ec0164830a875ef30d0fe0b74%20%3D%20L.marker%28%0A%20%20%20%20%20%20%20%20%20%20%20%20%20%20%20%20%5B47.445595000000004%2C%20-122.24833999999998%5D%2C%0A%20%20%20%20%20%20%20%20%20%20%20%20%20%20%20%20%7B%7D%0A%20%20%20%20%20%20%20%20%20%20%20%20%29.addTo%28map_a3a1577cd814474abd11aa3471b7e15c%29%3B%0A%20%20%20%20%20%20%20%20%0A%20%20%20%20%0A%20%20%20%20%20%20%20%20%20%20%20%20var%20marker_1930f8cc9b5a4f66aa41f3782b5816cd%20%3D%20L.marker%28%0A%20%20%20%20%20%20%20%20%20%20%20%20%20%20%20%20%5B47.5649224%2C%20-122.3304533%5D%2C%0A%20%20%20%20%20%20%20%20%20%20%20%20%20%20%20%20%7B%7D%0A%20%20%20%20%20%20%20%20%20%20%20%20%29.addTo%28map_a3a1577cd814474abd11aa3471b7e15c%29%3B%0A%20%20%20%20%20%20%20%20%0A%20%20%20%20%0A%20%20%20%20%20%20%20%20%20%20%20%20var%20marker_0869a4d0393d4c6980c318ccf431bb20%20%3D%20L.marker%28%0A%20%20%20%20%20%20%20%20%20%20%20%20%20%20%20%20%5B47.77567%2C%20-122.344819%5D%2C%0A%20%20%20%20%20%20%20%20%20%20%20%20%20%20%20%20%7B%7D%0A%20%20%20%20%20%20%20%20%20%20%20%20%29.addTo%28map_a3a1577cd814474abd11aa3471b7e15c%29%3B%0A%20%20%20%20%20%20%20%20%0A%20%20%20%20%0A%20%20%20%20%20%20%20%20%20%20%20%20var%20marker_8a775cfbef6140f285588e0264ca4c55%20%3D%20L.marker%28%0A%20%20%20%20%20%20%20%20%20%20%20%20%20%20%20%20%5B47.779015%2C%20-122.1484548%5D%2C%0A%20%20%20%20%20%20%20%20%20%20%20%20%20%20%20%20%7B%7D%0A%20%20%20%20%20%20%20%20%20%20%20%20%29.addTo%28map_a3a1577cd814474abd11aa3471b7e15c%29%3B%0A%20%20%20%20%20%20%20%20%0A%20%20%20%20%0A%20%20%20%20%20%20%20%20%20%20%20%20var%20marker_c1d942645c4d43f8aa042fe52446be9e%20%3D%20L.marker%28%0A%20%20%20%20%20%20%20%20%20%20%20%20%20%20%20%20%5B47.82549%2C%20-122.30991499999999%5D%2C%0A%20%20%20%20%20%20%20%20%20%20%20%20%20%20%20%20%7B%7D%0A%20%20%20%20%20%20%20%20%20%20%20%20%29.addTo%28map_a3a1577cd814474abd11aa3471b7e15c%29%3B%0A%20%20%20%20%20%20%20%20%0A%20%20%20%20%0A%20%20%20%20%20%20%20%20%20%20%20%20var%20marker_f903f44b962147b2b19349372bfc4694%20%3D%20L.marker%28%0A%20%20%20%20%20%20%20%20%20%20%20%20%20%20%20%20%5B47.551216499999995%2C%20-122.0528913%5D%2C%0A%20%20%20%20%20%20%20%20%20%20%20%20%20%20%20%20%7B%7D%0A%20%20%20%20%20%20%20%20%20%20%20%20%29.addTo%28map_a3a1577cd814474abd11aa3471b7e15c%29%3B%0A%20%20%20%20%20%20%20%20%0A%20%20%20%20%0A%20%20%20%20%20%20%20%20%20%20%20%20var%20marker_2663b3964931454eb0059b8516c464c7%20%3D%20L.marker%28%0A%20%20%20%20%20%20%20%20%20%20%20%20%20%20%20%20%5B47.2869797%2C%20-122.31352009999999%5D%2C%0A%20%20%20%20%20%20%20%20%20%20%20%20%20%20%20%20%7B%7D%0A%20%20%20%20%20%20%20%20%20%20%20%20%29.addTo%28map_a3a1577cd814474abd11aa3471b7e15c%29%3B%0A%20%20%20%20%20%20%20%20%0A%20%20%20%20%0A%20%20%20%20%20%20%20%20%20%20%20%20var%20marker_4e73ccabc35c49c2ad12ca567312d462%20%3D%20L.marker%28%0A%20%20%20%20%20%20%20%20%20%20%20%20%20%20%20%20%5B45.6212994%2C%20-122.45913459999998%5D%2C%0A%20%20%20%20%20%20%20%20%20%20%20%20%20%20%20%20%7B%7D%0A%20%20%20%20%20%20%20%20%20%20%20%20%29.addTo%28map_a3a1577cd814474abd11aa3471b7e15c%29%3B%0A%20%20%20%20%20%20%20%20%0A%20%20%20%20%0A%20%20%20%20%20%20%20%20%20%20%20%20var%20marker_0b995801e66f4c74849fe859de3a9d2f%20%3D%20L.marker%28%0A%20%20%20%20%20%20%20%20%20%20%20%20%20%20%20%20%5B47.3577482%2C%20-122.6038876%5D%2C%0A%20%20%20%20%20%20%20%20%20%20%20%20%20%20%20%20%7B%7D%0A%20%20%20%20%20%20%20%20%20%20%20%20%29.addTo%28map_a3a1577cd814474abd11aa3471b7e15c%29%3B%0A%20%20%20%20%20%20%20%20%0A%20%20%20%20%0A%20%20%20%20%20%20%20%20%20%20%20%20var%20marker_2167d53d9afd4084ac1102ec44f4ee90%20%3D%20L.marker%28%0A%20%20%20%20%20%20%20%20%20%20%20%20%20%20%20%20%5B47.354838%2C%20-122.12118500000001%5D%2C%0A%20%20%20%20%20%20%20%20%20%20%20%20%20%20%20%20%7B%7D%0A%20%20%20%20%20%20%20%20%20%20%20%20%29.addTo%28map_a3a1577cd814474abd11aa3471b7e15c%29%3B%0A%20%20%20%20%20%20%20%20%0A%20%20%20%20%0A%20%20%20%20%20%20%20%20%20%20%20%20var%20marker_8309f0f4e09d44c5861a12268219fdb5%20%3D%20L.marker%28%0A%20%20%20%20%20%20%20%20%20%20%20%20%20%20%20%20%5B43.100195%2C%20-89.522751%5D%2C%0A%20%20%20%20%20%20%20%20%20%20%20%20%20%20%20%20%7B%7D%0A%20%20%20%20%20%20%20%20%20%20%20%20%29.addTo%28map_a3a1577cd814474abd11aa3471b7e15c%29%3B%0A%20%20%20%20%20%20%20%20%0A%20%20%20%20%0A%20%20%20%20%20%20%20%20%20%20%20%20var%20marker_1bc56d14c10b44098e37944f63aac46c%20%3D%20L.marker%28%0A%20%20%20%20%20%20%20%20%20%20%20%20%20%20%20%20%5B43.3246907%2C%20-87.9216153%5D%2C%0A%20%20%20%20%20%20%20%20%20%20%20%20%20%20%20%20%7B%7D%0A%20%20%20%20%20%20%20%20%20%20%20%20%29.addTo%28map_a3a1577cd814474abd11aa3471b7e15c%29%3B%0A%20%20%20%20%20%20%20%20%0A%3C/script%3E onload=\"this.contentDocument.open();this.contentDocument.write(    decodeURIComponent(this.getAttribute('data-html')));this.contentDocument.close();\" allowfullscreen webkitallowfullscreen mozallowfullscreen></iframe></div></div>"
      ],
      "text/plain": [
       "<folium.folium.Map at 0x7fcf318874f0>"
      ]
     },
     "execution_count": 46,
     "metadata": {},
     "output_type": "execute_result"
    }
   ],
   "source": [
    "## start with location for united states\n",
    "\n",
    "m = flm.Map(location = [40, -95],\n",
    "           zoom_start = 4)\n",
    "\n",
    "## iterate through the Costco Locations Dataframe and use Latitude and Logitude of each location to create Marker on the Map\n",
    "\n",
    "for idx, row in df2.iterrows():\n",
    "    flm.Marker([row.Latitude, row.Longitude]).add_to(m)\n",
    "## display map with Costco Locations\n",
    "\n",
    "m"
   ]
  },
  {
   "cell_type": "markdown",
   "metadata": {},
   "source": [
    "## Contour chart"
   ]
  },
  {
   "cell_type": "code",
   "execution_count": 43,
   "metadata": {},
   "outputs": [],
   "source": [
    "## plot Contour chart\n",
    "\n",
    "## create 2D array of data input\n",
    "[x, y] = np.meshgrid(df1['FTM'], df1['FTA'])\n",
    "\n",
    "##z = x**2 + y**2\n",
    "\n",
    "z = np.cos(x / 2) + np.sin(y / 4)\n",
    "\n",
    "\n",
    "## convert the numpy array to a list, so that it is compatible with plotly contour chart parameters\n",
    "\n",
    "z = z.tolist()"
   ]
  },
  {
   "cell_type": "code",
   "execution_count": 44,
   "metadata": {},
   "outputs": [
    {
     "data": {
      "application/vnd.plotly.v1+json": {
       "config": {
        "plotlyServerURL": "https://plot.ly"
       },
       "data": [
        {
         "contours": {
          "coloring": "heatmap"
         },
         "type": "contour",
         "z": [
          [
           -0.1827946552050571,
           -0.23575619554943428,
           -0.3439375008639505,
           -0.35222779446594177,
           -0.35222779446594177,
           -0.35804362240455756,
           0.4269689027037239,
           0.3621744553099907,
           -0.3331934630150869,
           -0.3044576385341544,
           -0.3563649739460426,
           -0.24381749374378225,
           0.1329185975346462,
           0.26758387078321677,
           -0.35804362240455756,
           0.3144751352710003,
           -0.25899371419964334,
           0.22161786558736124,
           -0.0996290134067418,
           0.41056260744141654,
           -0.19228883310071843,
           0.1329185975346462,
           -0.16337891341243005,
           0.22161786558736124,
           -0.3605300736602495,
           -0.3200225354185867,
           0.6085651798332148,
           -0.028511319145320346,
           -0.13246655191280388,
           -0.19228883310071843,
           0.8567713892275451,
           -0.0996290134067418,
           0.009591079411764625,
           0.658559529937596,
           0.5586438133277698,
           0.1329185975346462,
           -0.028511319145320346,
           -0.3405969764474305,
           0.7085019038022066,
           0.41056260744141654,
           0.5586438133277698,
           0.7085019038022066,
           0.6085651798332148,
           0.5586438133277698,
           0.905263530759091,
           0.1766920107577909,
           0.8077318450347446,
           -0.24381749374378225,
           -0.0996290134067418,
           0.508920207838979
          ],
          [
           -0.10908600454871642,
           -0.1620475448930936,
           -0.2702288502076098,
           -0.2785191438096011,
           -0.2785191438096011,
           -0.28433497174821687,
           0.5006775533600646,
           0.4358831059663314,
           -0.2594848123587462,
           -0.23074898787781373,
           -0.2826563232897019,
           -0.17010884308744156,
           0.20662724819098688,
           0.34129252143955746,
           -0.28433497174821687,
           0.388183785927341,
           -0.18528506354330265,
           0.29532651624370193,
           -0.025920362750401105,
           0.48427125809775723,
           -0.11858018244437774,
           0.20662724819098688,
           -0.08967026275608936,
           0.29532651624370193,
           -0.2868214230039088,
           -0.24631388476224603,
           0.6822738304895555,
           0.045197331511020344,
           -0.058757901256463185,
           -0.11858018244437774,
           0.9304800398838858,
           -0.025920362750401105,
           0.08329973006810532,
           0.7322681805939367,
           0.6323524639841105,
           0.20662724819098688,
           0.045197331511020344,
           -0.2668883257910898,
           0.7822105544585473,
           0.48427125809775723,
           0.6323524639841105,
           0.7822105544585473,
           0.6822738304895555,
           0.6323524639841105,
           0.9789721814154317,
           0.2504006614141316,
           0.8814404956910853,
           -0.17010884308744156,
           -0.025920362750401105,
           0.5826288584953196
          ],
          [
           0.16757479716434687,
           0.1146132568199697,
           0.006431951505453504,
           -0.0018583420965377906,
           -0.0018583420965377906,
           -0.007674170035153582,
           0.7773383550731279,
           0.7125439076793947,
           0.01717598935431708,
           0.04591181383524956,
           -0.005995521576638629,
           0.10655195862562172,
           0.48328804990405017,
           0.6179533231526207,
           -0.007674170035153582,
           0.6648445876404043,
           0.09137573816976063,
           0.5719873179567652,
           0.2507404389626622,
           0.7609320598108205,
           0.15808061926868555,
           0.48328804990405017,
           0.18699053895697393,
           0.5719873179567652,
           -0.010160621290845495,
           0.03034691695081726,
           0.9589346322026188,
           0.32185813322408363,
           0.2179029004566001,
           0.15808061926868555,
           1.2071408415969491,
           0.2507404389626622,
           0.3599605317811686,
           1.008928982307,
           0.9090132656971738,
           0.48328804990405017,
           0.32185813322408363,
           0.0097724759219735,
           1.0588713561716105,
           0.7609320598108205,
           0.9090132656971738,
           1.0588713561716105,
           0.9589346322026188,
           0.9090132656971738,
           1.255632983128495,
           0.5270614631271948,
           1.1581012974041487,
           0.10655195862562172,
           0.2507404389626622,
           0.859289660208383
          ],
          [
           0.1740163508350191,
           0.12105481049064193,
           0.012873505176125732,
           0.004583211574134438,
           0.004583211574134438,
           -0.0012326163644813537,
           0.7837799087438001,
           0.7189854613500669,
           0.023617543024989307,
           0.05235336750592179,
           0.00044603209403359934,
           0.11299351229629395,
           0.4897296035747224,
           0.624394876823293,
           -0.0012326163644813537,
           0.6712861413110764,
           0.09781729184043286,
           0.5784288716274375,
           0.2571819926333344,
           0.7673736134814928,
           0.16452217293935778,
           0.4897296035747224,
           0.19343209262764616,
           0.5784288716274375,
           -0.0037190676201732664,
           0.03678847062148949,
           0.965376185873291,
           0.32829968689475586,
           0.22434445412727233,
           0.16452217293935778,
           1.2135823952676215,
           0.2571819926333344,
           0.36640208545184083,
           1.0153705359776724,
           0.915454819367846,
           0.4897296035747224,
           0.32829968689475586,
           0.01621402959264573,
           1.0653129098422827,
           0.7673736134814928,
           0.915454819367846,
           1.0653129098422827,
           0.965376185873291,
           0.915454819367846,
           1.2620745367991673,
           0.5335030167978672,
           1.1645428510748208,
           0.11299351229629395,
           0.2571819926333344,
           0.8657312138790552
          ],
          [
           0.16757479716434687,
           0.1146132568199697,
           0.006431951505453504,
           -0.0018583420965377906,
           -0.0018583420965377906,
           -0.007674170035153582,
           0.7773383550731279,
           0.7125439076793947,
           0.01717598935431708,
           0.04591181383524956,
           -0.005995521576638629,
           0.10655195862562172,
           0.48328804990405017,
           0.6179533231526207,
           -0.007674170035153582,
           0.6648445876404043,
           0.09137573816976063,
           0.5719873179567652,
           0.2507404389626622,
           0.7609320598108205,
           0.15808061926868555,
           0.48328804990405017,
           0.18699053895697393,
           0.5719873179567652,
           -0.010160621290845495,
           0.03034691695081726,
           0.9589346322026188,
           0.32185813322408363,
           0.2179029004566001,
           0.15808061926868555,
           1.2071408415969491,
           0.2507404389626622,
           0.3599605317811686,
           1.008928982307,
           0.9090132656971738,
           0.48328804990405017,
           0.32185813322408363,
           0.0097724759219735,
           1.0588713561716105,
           0.7609320598108205,
           0.9090132656971738,
           1.0588713561716105,
           0.9589346322026188,
           0.9090132656971738,
           1.255632983128495,
           0.5270614631271948,
           1.1581012974041487,
           0.10655195862562172,
           0.2507404389626622,
           0.859289660208383
          ],
          [
           0.15866342271773448,
           0.10570188237335731,
           -0.002479422941158882,
           -0.010769716543150176,
           -0.010769716543150176,
           -0.016585544481765968,
           0.7684269806265155,
           0.7036325332327823,
           0.008264614907704693,
           0.037000439388637174,
           -0.014906896023251015,
           0.09764058417900934,
           0.4743766754574378,
           0.6090419487060084,
           -0.016585544481765968,
           0.6559332131937918,
           0.08246436372314825,
           0.5630759435101529,
           0.2418290645160498,
           0.7520206853642082,
           0.14916924482207317,
           0.4743766754574378,
           0.17807916451036154,
           0.5630759435101529,
           -0.01907199573745788,
           0.021435542504204874,
           0.9500232577560064,
           0.31294675877747125,
           0.20899152600998772,
           0.14916924482207317,
           1.1982294671503366,
           0.2418290645160498,
           0.3510491573345562,
           1.0000176078603877,
           0.9001018912505614,
           0.4743766754574378,
           0.31294675877747125,
           0.0008611014753611146,
           1.049959981724998,
           0.7520206853642082,
           0.9001018912505614,
           1.049959981724998,
           0.9500232577560064,
           0.9001018912505614,
           1.2467216086818826,
           0.5181500886805825,
           1.1491899229575362,
           0.09764058417900934,
           0.2418290645160498,
           0.8503782857617705
          ],
          [
           -0.28379908388381603,
           -0.3367606242281932,
           -0.4449419295427094,
           -0.4532322231447007,
           -0.4532322231447007,
           -0.4590480510833165,
           0.325964474024965,
           0.2611700266312318,
           -0.4341978916938458,
           -0.40546206721291334,
           -0.4573694026248015,
           -0.34482192242254117,
           0.03191416885588727,
           0.16657944210445785,
           -0.4590480510833165,
           0.21347070659224138,
           -0.35999814287840226,
           0.12061343690860232,
           -0.2006334420855007,
           0.3095581787626576,
           -0.29329326177947734,
           0.03191416885588727,
           -0.26438334209118897,
           0.12061343690860232,
           -0.4615345023390084,
           -0.42102696409734564,
           0.5075607511544559,
           -0.12951574782407926,
           -0.2334709805915628,
           -0.29329326177947734,
           0.7557669605487862,
           -0.2006334420855007,
           -0.09141334926699429,
           0.5575551012588371,
           0.4576393846490109,
           0.03191416885588727,
           -0.12951574782407926,
           -0.4416014051261894,
           0.6074974751234476,
           0.3095581787626576,
           0.4576393846490109,
           0.6074974751234476,
           0.5075607511544559,
           0.4576393846490109,
           0.804259102080332,
           0.07568758207903198,
           0.7067274163559858,
           -0.34482192242254117,
           -0.2006334420855007,
           0.4079157791602201
          ],
          [
           0.12842526201602544,
           0.07546372167164828,
           -0.03271758364286792,
           -0.041007877244859214,
           -0.041007877244859214,
           -0.046823705183475006,
           0.7381888199248064,
           0.6733943725310733,
           -0.021973545794004345,
           0.006762278686928136,
           -0.04514505672496005,
           0.0674024234773003,
           0.44413851475572874,
           0.5788037880042993,
           -0.046823705183475006,
           0.6256950524920828,
           0.05222620302143921,
           0.5328377828084438,
           0.21159090381434076,
           0.7217825246624991,
           0.11893108412036413,
           0.44413851475572874,
           0.1478410038086525,
           0.5328377828084438,
           -0.04931015643916692,
           -0.008802618197504164,
           0.9197850970542973,
           0.2827085980757622,
           0.17875336530827868,
           0.11893108412036413,
           1.1679913064486276,
           0.21159090381434076,
           0.3208109966328472,
           0.9697794471586786,
           0.8698637305488524,
           0.44413851475572874,
           0.2827085980757622,
           -0.029377059226347924,
           1.019721821023289,
           0.7217825246624991,
           0.8698637305488524,
           1.019721821023289,
           0.9197850970542973,
           0.8698637305488524,
           1.2164834479801736,
           0.48791192797887345,
           1.1189517622558272,
           0.0674024234773003,
           0.21159090381434076,
           0.8201401250600615
          ],
          [
           0.1740163508350191,
           0.12105481049064193,
           0.012873505176125732,
           0.004583211574134438,
           0.004583211574134438,
           -0.0012326163644813537,
           0.7837799087438001,
           0.7189854613500669,
           0.023617543024989307,
           0.05235336750592179,
           0.00044603209403359934,
           0.11299351229629395,
           0.4897296035747224,
           0.624394876823293,
           -0.0012326163644813537,
           0.6712861413110764,
           0.09781729184043286,
           0.5784288716274375,
           0.2571819926333344,
           0.7673736134814928,
           0.16452217293935778,
           0.4897296035747224,
           0.19343209262764616,
           0.5784288716274375,
           -0.0037190676201732664,
           0.03678847062148949,
           0.965376185873291,
           0.32829968689475586,
           0.22434445412727233,
           0.16452217293935778,
           1.2135823952676215,
           0.2571819926333344,
           0.36640208545184083,
           1.0153705359776724,
           0.915454819367846,
           0.4897296035747224,
           0.32829968689475586,
           0.01621402959264573,
           1.0653129098422827,
           0.7673736134814928,
           0.915454819367846,
           1.0653129098422827,
           0.965376185873291,
           0.915454819367846,
           1.2620745367991673,
           0.5335030167978672,
           1.1645428510748208,
           0.11299351229629395,
           0.2571819926333344,
           0.8657312138790552
          ],
          [
           0.15866342271773448,
           0.10570188237335731,
           -0.002479422941158882,
           -0.010769716543150176,
           -0.010769716543150176,
           -0.016585544481765968,
           0.7684269806265155,
           0.7036325332327823,
           0.008264614907704693,
           0.037000439388637174,
           -0.014906896023251015,
           0.09764058417900934,
           0.4743766754574378,
           0.6090419487060084,
           -0.016585544481765968,
           0.6559332131937918,
           0.08246436372314825,
           0.5630759435101529,
           0.2418290645160498,
           0.7520206853642082,
           0.14916924482207317,
           0.4743766754574378,
           0.17807916451036154,
           0.5630759435101529,
           -0.01907199573745788,
           0.021435542504204874,
           0.9500232577560064,
           0.31294675877747125,
           0.20899152600998772,
           0.14916924482207317,
           1.1982294671503366,
           0.2418290645160498,
           0.3510491573345562,
           1.0000176078603877,
           0.9001018912505614,
           0.4743766754574378,
           0.31294675877747125,
           0.0008611014753611146,
           1.049959981724998,
           0.7520206853642082,
           0.9001018912505614,
           1.049959981724998,
           0.9500232577560064,
           0.9001018912505614,
           1.2467216086818826,
           0.5181500886805825,
           1.1491899229575362,
           0.09764058417900934,
           0.2418290645160498,
           0.8503782857617705
          ],
          [
           0.08873806948612095,
           0.035776529141743785,
           -0.07240477617277241,
           -0.0806950697747637,
           -0.0806950697747637,
           -0.0865108977133795,
           0.698501627394902,
           0.6337071800011688,
           -0.06166073832390884,
           -0.032924913842976355,
           -0.08483224925486454,
           0.027715230947395808,
           0.40445132222582425,
           0.5391165954743948,
           -0.0865108977133795,
           0.5860078599621783,
           0.012539010491534719,
           0.4931505902785393,
           0.17190371128443627,
           0.6820953321325947,
           0.07924389159045964,
           0.40445132222582425,
           0.10815381127874801,
           0.4931505902785393,
           -0.08899734896907141,
           -0.048489810727408655,
           0.8800979045243928,
           0.24302140554585772,
           0.1390661727783742,
           0.07924389159045964,
           1.1283041139187233,
           0.17190371128443627,
           0.2811238041029427,
           0.9300922546287741,
           0.8301765380189479,
           0.40445132222582425,
           0.24302140554585772,
           -0.06906425175625241,
           0.9800346284933846,
           0.6820953321325947,
           0.8301765380189479,
           0.9800346284933846,
           0.8800979045243928,
           0.8301765380189479,
           1.1767962554502691,
           0.44822473544896896,
           1.0792645697259227,
           0.027715230947395808,
           0.17190371128443627,
           0.780452932530157
          ],
          [
           0.17797198320027086,
           0.1250104428558937,
           0.016829137541377492,
           0.008538843939386198,
           0.008538843939386198,
           0.0027230160007704063,
           0.7877355411090519,
           0.7229410937153187,
           0.027573175390241067,
           0.05630899987117355,
           0.004401664459285359,
           0.11694914466154571,
           0.49368523593997415,
           0.6283505091885447,
           0.0027230160007704063,
           0.6752417736763283,
           0.10177292420568462,
           0.5823845039926892,
           0.26113762499858617,
           0.7713292458467444,
           0.16847780530460954,
           0.49368523593997415,
           0.19738772499289792,
           0.5823845039926892,
           0.00023656474507849357,
           0.04074410298674125,
           0.9693318182385428,
           0.3322553192600076,
           0.2283000864925241,
           0.16847780530460954,
           1.217538027632873,
           0.26113762499858617,
           0.3703577178170926,
           1.019326168342924,
           0.9194104517330978,
           0.49368523593997415,
           0.3322553192600076,
           0.02016966195789749,
           1.0692685422075345,
           0.7713292458467444,
           0.9194104517330978,
           1.0692685422075345,
           0.9693318182385428,
           0.9194104517330978,
           1.266030169164419,
           0.5374586491631188,
           1.1684984834400727,
           0.11694914466154571,
           0.26113762499858617,
           0.869686846244307
          ],
          [
           0.16489037264889939,
           0.11192883230452222,
           0.0037475269900060226,
           -0.004542766611985272,
           -0.004542766611985272,
           -0.010358594550601063,
           0.7746539305576804,
           0.7098594831639472,
           0.014491564838869597,
           0.04322738931980208,
           -0.00867994609208611,
           0.10386753411017424,
           0.4806036253886027,
           0.6152688986371733,
           -0.010358594550601063,
           0.6621601631249567,
           0.08869131365431315,
           0.5693028934413178,
           0.2480560144472147,
           0.7582476352953731,
           0.15539619475323807,
           0.4806036253886027,
           0.18430611444152645,
           0.5693028934413178,
           -0.012845045806292976,
           0.02766249243536978,
           0.9562502076871713,
           0.31917370870863615,
           0.21521847594115262,
           0.15539619475323807,
           1.2044564170815018,
           0.2480560144472147,
           0.3572761072657211,
           1.0062445577915526,
           0.9063288411817263,
           0.4806036253886027,
           0.31917370870863615,
           0.007088051406526019,
           1.056186931656163,
           0.7582476352953731,
           0.9063288411817263,
           1.056186931656163,
           0.9562502076871713,
           0.9063288411817263,
           1.2529485586130475,
           0.5243770386117474,
           1.155416872888701,
           0.10386753411017424,
           0.2480560144472147,
           0.8566052356929355
          ],
          [
           0.12842526201602544,
           0.07546372167164828,
           -0.03271758364286792,
           -0.041007877244859214,
           -0.041007877244859214,
           -0.046823705183475006,
           0.7381888199248064,
           0.6733943725310733,
           -0.021973545794004345,
           0.006762278686928136,
           -0.04514505672496005,
           0.0674024234773003,
           0.44413851475572874,
           0.5788037880042993,
           -0.046823705183475006,
           0.6256950524920828,
           0.05222620302143921,
           0.5328377828084438,
           0.21159090381434076,
           0.7217825246624991,
           0.11893108412036413,
           0.44413851475572874,
           0.1478410038086525,
           0.5328377828084438,
           -0.04931015643916692,
           -0.008802618197504164,
           0.9197850970542973,
           0.2827085980757622,
           0.17875336530827868,
           0.11893108412036413,
           1.1679913064486276,
           0.21159090381434076,
           0.3208109966328472,
           0.9697794471586786,
           0.8698637305488524,
           0.44413851475572874,
           0.2827085980757622,
           -0.029377059226347924,
           1.019721821023289,
           0.7217825246624991,
           0.8698637305488524,
           1.019721821023289,
           0.9197850970542973,
           0.8698637305488524,
           1.2164834479801736,
           0.48791192797887345,
           1.1189517622558272,
           0.0674024234773003,
           0.21159090381434076,
           0.8201401250600615
          ],
          [
           0.14730450129034434,
           0.09434296094596717,
           -0.013838344368549027,
           -0.02212863797054032,
           -0.02212863797054032,
           -0.027944465909156113,
           0.7570680591991253,
           0.6922736118053922,
           -0.0030943065196854525,
           0.02564151796124703,
           -0.02626581745064116,
           0.08628166275161919,
           0.46301775403004763,
           0.5976830272786182,
           -0.027944465909156113,
           0.6445742917664017,
           0.0711054422957581,
           0.5517170220827627,
           0.23047014308865965,
           0.740661763936818,
           0.13781032339468302,
           0.46301775403004763,
           0.1667202430829714,
           0.5517170220827627,
           -0.030430917164848026,
           0.010076621076814729,
           0.9386643363286162,
           0.3015878373500811,
           0.19763260458259757,
           0.13781032339468302,
           1.1868705457229467,
           0.23047014308865965,
           0.33969023590716607,
           0.9886586864329975,
           0.8887429698231712,
           0.46301775403004763,
           0.3015878373500811,
           -0.01049781995202903,
           1.038601060297608,
           0.740661763936818,
           0.8887429698231712,
           1.038601060297608,
           0.9386643363286162,
           0.8887429698231712,
           1.2353626872544925,
           0.5067911672531924,
           1.137831001530146,
           0.08628166275161919,
           0.23047014308865965,
           0.8390193643343804
          ],
          [
           0.09220458292096023,
           0.039243042576583065,
           -0.06893826273793313,
           -0.07722855633992443,
           -0.07722855633992443,
           -0.08304438427854022,
           0.7019681408297412,
           0.637173693436008,
           -0.05819422488906956,
           -0.029458400408137075,
           -0.08136573582002526,
           0.031181744382235088,
           0.40791783566066353,
           0.5425831089092341,
           -0.08304438427854022,
           0.5894743733970176,
           0.016005523926374,
           0.4966171037133786,
           0.17537022471927555,
           0.6855618455674339,
           0.08271040502529892,
           0.40791783566066353,
           0.1116203247135873,
           0.4966171037133786,
           -0.08553083553423213,
           -0.045023297292569375,
           0.8835644179592321,
           0.246487918980697,
           0.14253268621321347,
           0.08271040502529892,
           1.1317706273535624,
           0.17537022471927555,
           0.28459031753778197,
           0.9335587680636134,
           0.8336430514537871,
           0.40791783566066353,
           0.246487918980697,
           -0.06559773832141313,
           0.9835011419282239,
           0.6855618455674339,
           0.8336430514537871,
           0.9835011419282239,
           0.8835644179592321,
           0.8336430514537871,
           1.1802627688851084,
           0.45169124888380824,
           1.082731083160762,
           0.031181744382235088,
           0.17537022471927555,
           0.7839194459649963
          ],
          [
           -0.012062953519970665,
           -0.06502449386434783,
           -0.17320579917886403,
           -0.18149609278085532,
           -0.18149609278085532,
           -0.18731192071947111,
           0.5977006043888103,
           0.5329061569950772,
           -0.16246176133000045,
           -0.13372593684906797,
           -0.18563327226095616,
           -0.07308579205869581,
           0.30365029921973263,
           0.4383155724683032,
           -0.18731192071947111,
           0.48520683695608674,
           -0.0882620125145569,
           0.3923495672724477,
           0.07110268827834465,
           0.581294309126503,
           -0.02155713141563198,
           0.30365029921973263,
           0.0073527882726563965,
           0.3923495672724477,
           -0.18979837197516303,
           -0.14929083373350027,
           0.7792968815183012,
           0.1422203825397661,
           0.03826514977228257,
           -0.02155713141563198,
           1.0275030909126315,
           0.07110268827834465,
           0.18032278109685107,
           0.8292912316226825,
           0.7293755150128562,
           0.30365029921973263,
           0.1422203825397661,
           -0.16986527476234403,
           0.879233605487293,
           0.581294309126503,
           0.7293755150128562,
           0.879233605487293,
           0.7792968815183012,
           0.7293755150128562,
           1.0759952324441775,
           0.34742371244287734,
           0.978463546719831,
           -0.07308579205869581,
           0.07110268827834465,
           0.6796519095240654
          ],
          [
           0.1202464818343113,
           0.06728494148993414,
           -0.04089636382458206,
           -0.049186657426573355,
           -0.049186657426573355,
           -0.05500248536518915,
           0.7300100397430923,
           0.6652155923493591,
           -0.030152325975718486,
           -0.0014165014947860044,
           -0.053323836906674194,
           0.05922364329558616,
           0.4359597345740146,
           0.5706250078225852,
           -0.05500248536518915,
           0.6175162723103687,
           0.04404742283972507,
           0.5246590026267297,
           0.20341212363262662,
           0.713603744480785,
           0.11075230393864999,
           0.4359597345740146,
           0.13966222362693836,
           0.5246590026267297,
           -0.05748893662088106,
           -0.016981398379218304,
           0.9116063168725832,
           0.27452981789404807,
           0.17057458512656454,
           0.11075230393864999,
           1.1598125262669137,
           0.20341212363262662,
           0.31263221645113304,
           0.9616006669769644,
           0.8616849503671382,
           0.4359597345740146,
           0.27452981789404807,
           -0.037555839408062064,
           1.0115430408415749,
           0.713603744480785,
           0.8616849503671382,
           1.0115430408415749,
           0.9116063168725832,
           0.8616849503671382,
           1.2083046677984595,
           0.4797331477971593,
           1.110772982074113,
           0.05922364329558616,
           0.20341212363262662,
           0.8119613448783474
          ],
          [
           0.1603336996835949,
           0.10737215933921773,
           -0.0008091459752984642,
           -0.009099439577289758,
           -0.009099439577289758,
           -0.01491526751590555,
           0.7700972575923759,
           0.7053028101986427,
           0.00993489187356511,
           0.03867071635449759,
           -0.013236619057390597,
           0.09931086114486976,
           0.4760469524232982,
           0.6107122256718688,
           -0.01491526751590555,
           0.6576034901596524,
           0.08413464068900867,
           0.5647462204760132,
           0.24349934148191021,
           0.7536909623300685,
           0.15083952178793358,
           0.4760469524232982,
           0.17974944147622196,
           0.5647462204760132,
           -0.017401718771597463,
           0.023105819470065292,
           0.9516935347218668,
           0.31461703574333166,
           0.21066180297584813,
           0.15083952178793358,
           1.1998997441161972,
           0.24349934148191021,
           0.35271943430041663,
           1.001687884826248,
           0.9017721682164218,
           0.4760469524232982,
           0.31461703574333166,
           0.0025313784412215323,
           1.0516302586908586,
           0.7536909623300685,
           0.9017721682164218,
           1.0516302586908586,
           0.9516935347218668,
           0.9017721682164218,
           1.248391885647743,
           0.5198203656464429,
           1.1508601999233967,
           0.09931086114486976,
           0.24349934148191021,
           0.8520485627276311
          ],
          [
           0.1202464818343113,
           0.06728494148993414,
           -0.04089636382458206,
           -0.049186657426573355,
           -0.049186657426573355,
           -0.05500248536518915,
           0.7300100397430923,
           0.6652155923493591,
           -0.030152325975718486,
           -0.0014165014947860044,
           -0.053323836906674194,
           0.05922364329558616,
           0.4359597345740146,
           0.5706250078225852,
           -0.05500248536518915,
           0.6175162723103687,
           0.04404742283972507,
           0.5246590026267297,
           0.20341212363262662,
           0.713603744480785,
           0.11075230393864999,
           0.4359597345740146,
           0.13966222362693836,
           0.5246590026267297,
           -0.05748893662088106,
           -0.016981398379218304,
           0.9116063168725832,
           0.27452981789404807,
           0.17057458512656454,
           0.11075230393864999,
           1.1598125262669137,
           0.20341212363262662,
           0.31263221645113304,
           0.9616006669769644,
           0.8616849503671382,
           0.4359597345740146,
           0.27452981789404807,
           -0.037555839408062064,
           1.0115430408415749,
           0.713603744480785,
           0.8616849503671382,
           1.0115430408415749,
           0.9116063168725832,
           0.8616849503671382,
           1.2083046677984595,
           0.4797331477971593,
           1.110772982074113,
           0.05922364329558616,
           0.20341212363262662,
           0.8119613448783474
          ],
          [
           0.1769356292644937,
           0.12397408892011652,
           0.015792783605600325,
           0.00750249000360903,
           0.00750249000360903,
           0.0016866620649932385,
           0.7866991871732747,
           0.7219047397795415,
           0.0265368214544639,
           0.05527264593539638,
           0.0033653105235081915,
           0.11591279072576854,
           0.492648882004197,
           0.6273141552527676,
           0.0016866620649932385,
           0.6742054197405511,
           0.10073657026990745,
           0.581348150056912,
           0.260101271062809,
           0.7702928919109673,
           0.16744145136883237,
           0.492648882004197,
           0.19635137105712075,
           0.581348150056912,
           -0.0007997891906986743,
           0.03970774905096408,
           0.9682954643027656,
           0.33121896532423045,
           0.22726373255674692,
           0.16744145136883237,
           1.216501673697096,
           0.260101271062809,
           0.3693213638813154,
           1.0182898144071468,
           0.9183740977973206,
           0.492648882004197,
           0.33121896532423045,
           0.01913330802212032,
           1.0682321882717574,
           0.7702928919109673,
           0.9183740977973206,
           1.0682321882717574,
           0.9682954643027656,
           0.9183740977973206,
           1.2649938152286417,
           0.5364222952273416,
           1.1674621295042955,
           0.11591279072576854,
           0.260101271062809,
           0.8686504923085299
          ],
          [
           0.13601095770142513,
           0.08304941735704796,
           -0.025131887957468235,
           -0.03342218155945953,
           -0.03342218155945953,
           -0.03923800949807532,
           0.7457745156102061,
           0.680980068216473,
           -0.01438785010860466,
           0.01434797437232782,
           -0.03755936103956037,
           0.07498811916269998,
           0.4517242104411284,
           0.586389483689699,
           -0.03923800949807532,
           0.6332807481774825,
           0.059811898706838895,
           0.5404234784938435,
           0.21917659949974044,
           0.7293682203478988,
           0.1265167798057638,
           0.4517242104411284,
           0.1554266994940522,
           0.5404234784938435,
           -0.041724460753767234,
           -0.001216922512104479,
           0.927370792739697,
           0.2902942937611619,
           0.18633906099367836,
           0.1265167798057638,
           1.1755770021340273,
           0.21917659949974044,
           0.32839669231824686,
           0.9773651428440783,
           0.877449426234252,
           0.4517242104411284,
           0.2902942937611619,
           -0.02179136354094824,
           1.0273075167086887,
           0.7293682203478988,
           0.877449426234252,
           1.0273075167086887,
           0.927370792739697,
           0.877449426234252,
           1.2240691436655733,
           0.49549762366427313,
           1.1265374579412268,
           0.07498811916269998,
           0.21917659949974044,
           0.8277258207454612
          ],
          [
           0.1769356292644937,
           0.12397408892011652,
           0.015792783605600325,
           0.00750249000360903,
           0.00750249000360903,
           0.0016866620649932385,
           0.7866991871732747,
           0.7219047397795415,
           0.0265368214544639,
           0.05527264593539638,
           0.0033653105235081915,
           0.11591279072576854,
           0.492648882004197,
           0.6273141552527676,
           0.0016866620649932385,
           0.6742054197405511,
           0.10073657026990745,
           0.581348150056912,
           0.260101271062809,
           0.7702928919109673,
           0.16744145136883237,
           0.492648882004197,
           0.19635137105712075,
           0.581348150056912,
           -0.0007997891906986743,
           0.03970774905096408,
           0.9682954643027656,
           0.33121896532423045,
           0.22726373255674692,
           0.16744145136883237,
           1.216501673697096,
           0.260101271062809,
           0.3693213638813154,
           1.0182898144071468,
           0.9183740977973206,
           0.492648882004197,
           0.33121896532423045,
           0.01913330802212032,
           1.0682321882717574,
           0.7702928919109673,
           0.9183740977973206,
           1.0682321882717574,
           0.9682954643027656,
           0.9183740977973206,
           1.2649938152286417,
           0.5364222952273416,
           1.1674621295042955,
           0.11591279072576854,
           0.260101271062809,
           0.8686504923085299
          ],
          [
           0.10213048133147229,
           0.04916894098709512,
           -0.059012364327421074,
           -0.06730265792941237,
           -0.06730265792941237,
           -0.07311848586802816,
           0.7118940392402533,
           0.6470995918465201,
           -0.0482683264785575,
           -0.019532501997625018,
           -0.07143983740951321,
           0.041107642792747145,
           0.4178437340711756,
           0.5525090073197462,
           -0.07311848586802816,
           0.5994002718075297,
           0.025931422336886056,
           0.5065430021238906,
           0.1852961231297876,
           0.6954877439779459,
           0.09263630343581097,
           0.4178437340711756,
           0.12154622312409935,
           0.5065430021238906,
           -0.07560493712372007,
           -0.03509739888205732,
           0.8934903163697442,
           0.25641381739120905,
           0.15245858462372552,
           0.09263630343581097,
           1.1416965257640745,
           0.1852961231297876,
           0.294516215948294,
           0.9434846664741254,
           0.8435689498642992,
           0.4178437340711756,
           0.25641381739120905,
           -0.05567183991090108,
           0.993427040338736,
           0.6954877439779459,
           0.8435689498642992,
           0.993427040338736,
           0.8934903163697442,
           0.8435689498642992,
           1.1901886672956203,
           0.4616171472943203,
           1.092656981571274,
           0.041107642792747145,
           0.1852961231297876,
           0.7938453443755085
          ],
          [
           -0.3707135770929334,
           -0.42367511743731057,
           -0.5318564227518268,
           -0.5401467163538181,
           -0.5401467163538181,
           -0.5459625442924338,
           0.23904998081584763,
           0.17425553342211442,
           -0.5211123849029632,
           -0.4923765604220307,
           -0.5442838958339189,
           -0.43173641563165854,
           -0.0550003243532301,
           0.07966494889534048,
           -0.5459625442924338,
           0.126556213383124,
           -0.44691263608751963,
           0.03369894369948495,
           -0.2875479352946181,
           0.22264368555354025,
           -0.3802077549885947,
           -0.0550003243532301,
           -0.35129783530030634,
           0.03369894369948495,
           -0.5484489955481258,
           -0.507941457306463,
           0.42064625794533855,
           -0.21643024103319664,
           -0.32038547380068017,
           -0.3802077549885947,
           0.6688524673396689,
           -0.2875479352946181,
           -0.17832784247611166,
           0.4706406080497198,
           0.3707248914398935,
           -0.0550003243532301,
           -0.21643024103319664,
           -0.5285158983353068,
           0.5205829819143303,
           0.22264368555354025,
           0.3707248914398935,
           0.5205829819143303,
           0.42064625794533855,
           0.3707248914398935,
           0.7173446088712148,
           -0.011226911130085393,
           0.6198129231468683,
           -0.43173641563165854,
           -0.2875479352946181,
           0.3210012859511027
          ],
          [
           0.1711054531129078,
           0.11814391276853065,
           0.00996260745401445,
           0.001672313852023155,
           0.001672313852023155,
           -0.004143514086592637,
           0.7808690110216888,
           0.7160745636279556,
           0.020706645302878024,
           0.049442469783810505,
           -0.0024648656280776837,
           0.11008261457418267,
           0.4868187058526111,
           0.6214839791011817,
           -0.004143514086592637,
           0.6683752435889652,
           0.09490639411832158,
           0.5755179739053262,
           0.25427109491122313,
           0.7644627157593815,
           0.1616112752172465,
           0.4868187058526111,
           0.19052119490553487,
           0.5755179739053262,
           -0.0066299653422845495,
           0.033877572899378205,
           0.9624652881511797,
           0.3253887891726446,
           0.22143355640516105,
           0.1616112752172465,
           1.2106714975455102,
           0.25427109491122313,
           0.36349118772972955,
           1.012459638255561,
           0.9125439216457347,
           0.4868187058526111,
           0.3253887891726446,
           0.013303131870534446,
           1.0624020121201714,
           0.7644627157593815,
           0.9125439216457347,
           1.0624020121201714,
           0.9624652881511797,
           0.9125439216457347,
           1.259163639077056,
           0.5305921190757559,
           1.1616319533527095,
           0.11008261457418267,
           0.25427109491122313,
           0.8628203161569439
          ],
          [
           0.020911627468335747,
           -0.03204991287604142,
           -0.14023121819055762,
           -0.1485215117925489,
           -0.1485215117925489,
           -0.1543373397311647,
           0.6306751853771168,
           0.5658807379833836,
           -0.12948718034169404,
           -0.10075135586076156,
           -0.15265869127264975,
           -0.040111211070389396,
           0.33662488020803905,
           0.47129015345660963,
           -0.1543373397311647,
           0.5181814179443931,
           -0.055287431526250486,
           0.4253241482607541,
           0.10407726926665106,
           0.6142688901148095,
           0.011417449572674432,
           0.33662488020803905,
           0.04032736926096281,
           0.4253241482607541,
           -0.15682379098685661,
           -0.11631625274519386,
           0.8122714625066076,
           0.1751949635280725,
           0.07123973076058898,
           0.011417449572674432,
           1.0604776719009381,
           0.10407726926665106,
           0.21329736208515748,
           0.8622658126109889,
           0.7623500960011627,
           0.33662488020803905,
           0.1751949635280725,
           -0.13689069377403762,
           0.9122081864755994,
           0.6142688901148095,
           0.7623500960011627,
           0.9122081864755994,
           0.8122714625066076,
           0.7623500960011627,
           1.108969813432484,
           0.38039829343118375,
           1.0114381277081375,
           -0.040111211070389396,
           0.10407726926665106,
           0.7126264905123718
          ],
          [
           0.14938450595312636,
           0.09642296560874919,
           -0.011758339705767007,
           -0.0200486333077583,
           -0.0200486333077583,
           -0.025864461246374093,
           0.7591480638619074,
           0.6943536164681742,
           -0.0010143018569034323,
           0.02772152262402905,
           -0.02418581278785914,
           0.08836166741440121,
           0.46509775869282965,
           0.5997630319414002,
           -0.025864461246374093,
           0.6466542964291837,
           0.07318544695854012,
           0.5537970267455448,
           0.23255014775144167,
           0.7427417685996001,
           0.13989032805746504,
           0.46509775869282965,
           0.16880024774575342,
           0.5537970267455448,
           -0.028350912502066006,
           0.01215662573959675,
           0.9407443409913983,
           0.3036678420128631,
           0.1997126092453796,
           0.13989032805746504,
           1.1889505503857287,
           0.23255014775144167,
           0.3417702405699481,
           0.9907386910957795,
           0.8908229744859533,
           0.46509775869282965,
           0.3036678420128631,
           -0.00841781528924701,
           1.04068106496039,
           0.7427417685996001,
           0.8908229744859533,
           1.04068106496039,
           0.9407443409913983,
           0.8908229744859533,
           1.2374426919172745,
           0.5088711719159744,
           1.139911006192928,
           0.08836166741440121,
           0.23255014775144167,
           0.8410993689971624
          ],
          [
           0.16883117161073458,
           0.11586963126635741,
           0.007688325951841213,
           -0.0006019676501500815,
           -0.0006019676501500815,
           -0.006417795588765873,
           0.7785947295195156,
           0.7138002821257824,
           0.018432363800704787,
           0.04716818828163727,
           -0.00473914713025092,
           0.10780833307200943,
           0.4845444243504379,
           0.6192096975990085,
           -0.006417795588765873,
           0.6661009620867919,
           0.09263211261614834,
           0.573243692403153,
           0.2519968134090499,
           0.7621884342572083,
           0.15933699371507326,
           0.4845444243504379,
           0.18824691340336164,
           0.573243692403153,
           -0.008904246844457786,
           0.03160329139720497,
           0.9601910066490065,
           0.32311450767047134,
           0.2191592749029878,
           0.15933699371507326,
           1.2083972160433367,
           0.2519968134090499,
           0.3612169062275563,
           1.0101853567533878,
           0.9102696401435615,
           0.4845444243504379,
           0.32311450767047134,
           0.01102885036836121,
           1.0601277306179981,
           0.7621884342572083,
           0.9102696401435615,
           1.0601277306179981,
           0.9601910066490065,
           0.9102696401435615,
           1.2568893575748827,
           0.5283178375735826,
           1.1593576718505363,
           0.10780833307200943,
           0.2519968134090499,
           0.8605460346547706
          ],
          [
           0.17943180723924235,
           0.12647026689486518,
           0.018288961580348984,
           0.00999866797835769,
           0.00999866797835769,
           0.0041828400397418974,
           0.7891953651480234,
           0.7244009177542902,
           0.029032999429212558,
           0.05776882391014504,
           0.0058614884982568505,
           0.1184089687005172,
           0.49514505997894565,
           0.6298103332275162,
           0.0041828400397418974,
           0.6767015977152997,
           0.10323274824465611,
           0.5838443280316608,
           0.26259744903755766,
           0.772789069885716,
           0.16993762934358103,
           0.49514505997894565,
           0.1988475490318694,
           0.5838443280316608,
           0.0016963887840499847,
           0.04220392702571274,
           0.9707916422775142,
           0.3337151432989791,
           0.22975991053149558,
           0.16993762934358103,
           1.2189978516718445,
           0.26259744903755766,
           0.3718175418560641,
           1.0207859923818956,
           0.9208702757720693,
           0.49514505997894565,
           0.3337151432989791,
           0.02162948599686898,
           1.070728366246506,
           0.772789069885716,
           0.9208702757720693,
           1.070728366246506,
           0.9707916422775142,
           0.9208702757720693,
           1.2674899932033905,
           0.5389184732020904,
           1.169958307479044,
           0.1184089687005172,
           0.26259744903755766,
           0.8711466702832784
          ],
          [
           -0.13892059731622652,
           -0.1918821376606037,
           -0.3000634429751199,
           -0.3083537365771112,
           -0.3083537365771112,
           -0.314169564515727,
           0.4708429605925545,
           0.4060485131988213,
           -0.2893194051262563,
           -0.26058358064532383,
           -0.312490916057212,
           -0.19994343585495167,
           0.17679265542347677,
           0.31145792867204736,
           -0.314169564515727,
           0.3583491931598309,
           -0.21511965631081276,
           0.2654919234761918,
           -0.05575495551791121,
           0.4544366653302471,
           -0.14841477521188784,
           0.17679265542347677,
           -0.11950485552359946,
           0.2654919234761918,
           -0.3166560157714189,
           -0.27614847752975613,
           0.6524392377220454,
           0.01536273874351024,
           -0.08859249402397329,
           -0.14841477521188784,
           0.9006454471163757,
           -0.05575495551791121,
           0.05346513730059521,
           0.7024335878264266,
           0.6025178712166004,
           0.17679265542347677,
           0.01536273874351024,
           -0.2967229185585999,
           0.7523759616910372,
           0.4544366653302471,
           0.6025178712166004,
           0.7523759616910372,
           0.6524392377220454,
           0.6025178712166004,
           0.9491375886479216,
           0.22056606864662148,
           0.8516059029235752,
           -0.19994343585495167,
           -0.05575495551791121,
           0.5527942657278095
          ],
          [
           0.16489037264889939,
           0.11192883230452222,
           0.0037475269900060226,
           -0.004542766611985272,
           -0.004542766611985272,
           -0.010358594550601063,
           0.7746539305576804,
           0.7098594831639472,
           0.014491564838869597,
           0.04322738931980208,
           -0.00867994609208611,
           0.10386753411017424,
           0.4806036253886027,
           0.6152688986371733,
           -0.010358594550601063,
           0.6621601631249567,
           0.08869131365431315,
           0.5693028934413178,
           0.2480560144472147,
           0.7582476352953731,
           0.15539619475323807,
           0.4806036253886027,
           0.18430611444152645,
           0.5693028934413178,
           -0.012845045806292976,
           0.02766249243536978,
           0.9562502076871713,
           0.31917370870863615,
           0.21521847594115262,
           0.15539619475323807,
           1.2044564170815018,
           0.2480560144472147,
           0.3572761072657211,
           1.0062445577915526,
           0.9063288411817263,
           0.4806036253886027,
           0.31917370870863615,
           0.007088051406526019,
           1.056186931656163,
           0.7582476352953731,
           0.9063288411817263,
           1.056186931656163,
           0.9562502076871713,
           0.9063288411817263,
           1.2529485586130475,
           0.5243770386117474,
           1.155416872888701,
           0.10386753411017424,
           0.2480560144472147,
           0.8566052356929355
          ],
          [
           0.17901424570194435,
           0.12605270535756719,
           0.01787140004305099,
           0.009581106441059695,
           0.009581106441059695,
           0.003765278502443903,
           0.7887778036107254,
           0.7239833562169922,
           0.028615437891914564,
           0.057351262372847045,
           0.005443926960958856,
           0.11799140716321921,
           0.49472749844164765,
           0.6293927716902182,
           0.003765278502443903,
           0.6762840361780018,
           0.10281518670735812,
           0.5834267664943626,
           0.26217988750025967,
           0.772371508348418,
           0.16952006780628304,
           0.49472749844164765,
           0.1984299874945714,
           0.5834267664943626,
           0.0012788272467519901,
           0.041786365488414745,
           0.9703740807402162,
           0.3332975817616811,
           0.2293423489941976,
           0.16952006780628304,
           1.2185802901345466,
           0.26217988750025967,
           0.3713999803187661,
           1.0203684308445975,
           0.9204527142347713,
           0.49472749844164765,
           0.3332975817616811,
           0.021211924459570985,
           1.070310804709208,
           0.772371508348418,
           0.9204527142347713,
           1.070310804709208,
           0.9703740807402162,
           0.9204527142347713,
           1.2670724316660924,
           0.5385009116647923,
           1.1695407459417462,
           0.11799140716321921,
           0.26217988750025967,
           0.8707291087459805
          ],
          [
           -0.007143852550187013,
           -0.06010539289456418,
           -0.16828669820908038,
           -0.17657699181107167,
           -0.17657699181107167,
           -0.18239281974968746,
           0.602619705358594,
           0.5378252579648608,
           -0.1575426603602168,
           -0.12880683587928432,
           -0.1807141712911725,
           -0.06816669108891216,
           0.3085694001895163,
           0.44323467343808687,
           -0.18239281974968746,
           0.4901259379258704,
           -0.08334291154477325,
           0.39726866824223134,
           0.0760217892481283,
           0.5862134100962866,
           -0.01663803044584833,
           0.3085694001895163,
           0.012271889242440048,
           0.39726866824223134,
           -0.18487927100537938,
           -0.14437173276371662,
           0.7842159824880849,
           0.14713948350954975,
           0.04318425074206622,
           -0.01663803044584833,
           1.0324221918824152,
           0.0760217892481283,
           0.18524188206663472,
           0.8342103325924661,
           0.7342946159826399,
           0.3085694001895163,
           0.14713948350954975,
           -0.16494617379256038,
           0.8841527064570767,
           0.5862134100962866,
           0.7342946159826399,
           0.8841527064570767,
           0.7842159824880849,
           0.7342946159826399,
           1.080914333413961,
           0.352342813412661,
           0.9833826476896148,
           -0.06816669108891216,
           0.0760217892481283,
           0.6845710104938492
          ],
          [
           0.07064800272187466,
           0.01768646237749749,
           -0.0904948429370187,
           -0.09878513653901,
           -0.09878513653901,
           -0.10460096447762579,
           0.6804115606306557,
           0.6156171132369225,
           -0.07975080508815513,
           -0.05101498060722265,
           -0.10292231601911084,
           0.009625164183149515,
           0.38636125546157796,
           0.5210265287101485,
           -0.10460096447762579,
           0.567917793197932,
           -0.005551056272711574,
           0.475060523514293,
           0.15381364452018997,
           0.6640052653683484,
           0.06115382482621334,
           0.38636125546157796,
           0.09006374451450172,
           0.475060523514293,
           -0.1070874157333177,
           -0.06657987749165495,
           0.8620078377601466,
           0.22493133878161142,
           0.1209761060141279,
           0.06115382482621334,
           1.1102140471544768,
           0.15381364452018997,
           0.2630337373386964,
           0.9120021878645278,
           0.8120864712547016,
           0.38636125546157796,
           0.22493133878161142,
           -0.08715431852049871,
           0.9619445617291383,
           0.6640052653683484,
           0.8120864712547016,
           0.9619445617291383,
           0.8620078377601466,
           0.8120864712547016,
           1.1587061886860228,
           0.43013466868472267,
           1.0611745029616764,
           0.009625164183149515,
           0.15381364452018997,
           0.7623628657659107
          ],
          [
           0.15516400048709833,
           0.10220246014272116,
           -0.005978845171795033,
           -0.014269138773786327,
           -0.014269138773786327,
           -0.02008496671240212,
           0.7649275583958793,
           0.7001331110021461,
           0.0047651926770685415,
           0.03350101715800102,
           -0.018406318253887166,
           0.09414116194837319,
           0.47087725322680163,
           0.6055425264753722,
           -0.02008496671240212,
           0.6524337909631557,
           0.0789649414925121,
           0.5595765212795167,
           0.23832964228541365,
           0.748521263133572,
           0.14566982259143701,
           0.47087725322680163,
           0.1745797422797254,
           0.5595765212795167,
           -0.022571417968094032,
           0.017936120273568723,
           0.9465238355253702,
           0.3094473365468351,
           0.20549210377935156,
           0.14566982259143701,
           1.1947300449197007,
           0.23832964228541365,
           0.34754973510392007,
           0.9965181856297515,
           0.8966024690199252,
           0.47087725322680163,
           0.3094473365468351,
           -0.0026383207552750365,
           1.046460559494362,
           0.748521263133572,
           0.8966024690199252,
           1.046460559494362,
           0.9465238355253702,
           0.8966024690199252,
           1.2432221864512465,
           0.5146506664499464,
           1.1456905007269,
           0.09414116194837319,
           0.23832964228541365,
           0.8468788635311344
          ],
          [
           0.17901424570194435,
           0.12605270535756719,
           0.01787140004305099,
           0.009581106441059695,
           0.009581106441059695,
           0.003765278502443903,
           0.7887778036107254,
           0.7239833562169922,
           0.028615437891914564,
           0.057351262372847045,
           0.005443926960958856,
           0.11799140716321921,
           0.49472749844164765,
           0.6293927716902182,
           0.003765278502443903,
           0.6762840361780018,
           0.10281518670735812,
           0.5834267664943626,
           0.26217988750025967,
           0.772371508348418,
           0.16952006780628304,
           0.49472749844164765,
           0.1984299874945714,
           0.5834267664943626,
           0.0012788272467519901,
           0.041786365488414745,
           0.9703740807402162,
           0.3332975817616811,
           0.2293423489941976,
           0.16952006780628304,
           1.2185802901345466,
           0.26217988750025967,
           0.3713999803187661,
           1.0203684308445975,
           0.9204527142347713,
           0.49472749844164765,
           0.3332975817616811,
           0.021211924459570985,
           1.070310804709208,
           0.772371508348418,
           0.9204527142347713,
           1.070310804709208,
           0.9703740807402162,
           0.9204527142347713,
           1.2670724316660924,
           0.5385009116647923,
           1.1695407459417462,
           0.11799140716321921,
           0.26217988750025967,
           0.8707291087459805
          ],
          [
           0.07805134160786842,
           0.02508980126349125,
           -0.08309150405102494,
           -0.09138179765301624,
           -0.09138179765301624,
           -0.09719762559163203,
           0.6878148995166494,
           0.6230204521229162,
           -0.07234746620216137,
           -0.04361164172122889,
           -0.09551897713311708,
           0.017028503069143275,
           0.3937645943475717,
           0.5284298675961423,
           -0.09719762559163203,
           0.5753211320839258,
           0.0018522826132821857,
           0.48246386240028677,
           0.16121698340618373,
           0.6714086042543421,
           0.0685571637122071,
           0.3937645943475717,
           0.09746708340049548,
           0.48246386240028677,
           -0.09968407684732394,
           -0.05917653860566119,
           0.8694111766461403,
           0.23233467766760518,
           0.12837944490012165,
           0.0685571637122071,
           1.1176173860404708,
           0.16121698340618373,
           0.27043707622469015,
           0.9194055267505216,
           0.8194898101406953,
           0.3937645943475717,
           0.23233467766760518,
           -0.07975097963450495,
           0.9693479006151321,
           0.6714086042543421,
           0.8194898101406953,
           0.9693479006151321,
           0.8694111766461403,
           0.8194898101406953,
           1.1661095275720166,
           0.4375380075707164,
           1.0685778418476701,
           0.017028503069143275,
           0.16121698340618373,
           0.7697662046519045
          ],
          [
           -0.06927895219926816,
           -0.12224049254364533,
           -0.23042179785816153,
           -0.23871209146015282,
           -0.23871209146015282,
           -0.2445279193987686,
           0.5404846057095128,
           0.47569015831577965,
           -0.21967776000929795,
           -0.19094193552836547,
           -0.24284927094025366,
           -0.1303017907379933,
           0.24643430054043514,
           0.3810995737890057,
           -0.2445279193987686,
           0.42799083827678924,
           -0.1454780111938544,
           0.3351335685931502,
           0.013886689599047153,
           0.5240783104472055,
           -0.07877313009492948,
           0.24643430054043514,
           -0.0498632104066411,
           0.3351335685931502,
           -0.24701437065446052,
           -0.20650683241279777,
           0.7220808828390037,
           0.0850043838604686,
           -0.018950848907014928,
           -0.07877313009492948,
           0.9702870922333341,
           0.013886689599047153,
           0.12310678241755357,
           0.772075232943385,
           0.6721595163335587,
           0.24643430054043514,
           0.0850043838604686,
           -0.22708127344164153,
           0.8220176068079955,
           0.5240783104472055,
           0.6721595163335587,
           0.8220176068079955,
           0.7220808828390037,
           0.6721595163335587,
           1.01877923376488,
           0.29020771376357984,
           0.9212475480405335,
           -0.1303017907379933,
           0.013886689599047153,
           0.6224359108447679
          ],
          [
           0.07064800272187466,
           0.01768646237749749,
           -0.0904948429370187,
           -0.09878513653901,
           -0.09878513653901,
           -0.10460096447762579,
           0.6804115606306557,
           0.6156171132369225,
           -0.07975080508815513,
           -0.05101498060722265,
           -0.10292231601911084,
           0.009625164183149515,
           0.38636125546157796,
           0.5210265287101485,
           -0.10460096447762579,
           0.567917793197932,
           -0.005551056272711574,
           0.475060523514293,
           0.15381364452018997,
           0.6640052653683484,
           0.06115382482621334,
           0.38636125546157796,
           0.09006374451450172,
           0.475060523514293,
           -0.1070874157333177,
           -0.06657987749165495,
           0.8620078377601466,
           0.22493133878161142,
           0.1209761060141279,
           0.06115382482621334,
           1.1102140471544768,
           0.15381364452018997,
           0.2630337373386964,
           0.9120021878645278,
           0.8120864712547016,
           0.38636125546157796,
           0.22493133878161142,
           -0.08715431852049871,
           0.9619445617291383,
           0.6640052653683484,
           0.8120864712547016,
           0.9619445617291383,
           0.8620078377601466,
           0.8120864712547016,
           1.1587061886860228,
           0.43013466868472267,
           1.0611745029616764,
           0.009625164183149515,
           0.15381364452018997,
           0.7623628657659107
          ],
          [
           0.00714253082769678,
           -0.04581900951668039,
           -0.15400031483119658,
           -0.16229060843318788,
           -0.16229060843318788,
           -0.16810643637180367,
           0.6169060887364778,
           0.5521116413427446,
           -0.143256276982333,
           -0.11452045250140053,
           -0.16642778791328872,
           -0.053880307711028363,
           0.3228557835674001,
           0.45752105681597066,
           -0.16810643637180367,
           0.5044123213037541,
           -0.06905652816688945,
           0.41155505162011513,
           0.0903081726260121,
           0.6004997934741705,
           -0.002351647067964535,
           0.3228557835674001,
           0.02655827262032384,
           0.41155505162011513,
           -0.17059288762749558,
           -0.13008534938583283,
           0.7985023658659687,
           0.16142586688743354,
           0.057470634119950015,
           -0.002351647067964535,
           1.0467085752602991,
           0.0903081726260121,
           0.19952826544451852,
           0.8484967159703499,
           0.7485809993605237,
           0.3228557835674001,
           0.16142586688743354,
           -0.1506597904146766,
           0.8984390898349605,
           0.6004997934741705,
           0.7485809993605237,
           0.8984390898349605,
           0.7985023658659687,
           0.7485809993605237,
           1.095200716791845,
           0.3666291967905448,
           0.9976690310674985,
           -0.053880307711028363,
           0.0903081726260121,
           0.6988573938717328
          ],
          [
           -0.10320326644003797,
           -0.15616480678441513,
           -0.26434611209893133,
           -0.2726364057009226,
           -0.2726364057009226,
           -0.2784522336395384,
           0.506560291468743,
           0.44176584407500985,
           -0.25360207425006775,
           -0.22486624976913527,
           -0.27677358518102346,
           -0.1642261049787631,
           0.21250998629966533,
           0.3471752595482359,
           -0.2784522336395384,
           0.39406652403601944,
           -0.1794023254346242,
           0.3012092543523804,
           -0.02003762464172265,
           0.4901539962064357,
           -0.11269744433569928,
           0.21250998629966533,
           -0.0837875246474109,
           0.3012092543523804,
           -0.28093868489523033,
           -0.24043114665356757,
           0.6881565685982339,
           0.0510800696196988,
           -0.05287516314778473,
           -0.11269744433569928,
           0.9363627779925643,
           -0.02003762464172265,
           0.08918246817678377,
           0.7381509187026152,
           0.638235202092789,
           0.21250998629966533,
           0.0510800696196988,
           -0.26100558768241133,
           0.7880932925672257,
           0.4901539962064357,
           0.638235202092789,
           0.7880932925672257,
           0.6881565685982339,
           0.638235202092789,
           0.9848549195241101,
           0.25628339952281004,
           0.8873232337997639,
           -0.1642261049787631,
           -0.02003762464172265,
           0.5885115966039982
          ],
          [
           0.03415483213453252,
           -0.018806708209844647,
           -0.12698801352436084,
           -0.13527830712635214,
           -0.13527830712635214,
           -0.14109413506496793,
           0.6439183900433135,
           0.5791239426495803,
           -0.11624397567549727,
           -0.08750815119456479,
           -0.13941548660645298,
           -0.026868006404192624,
           0.3498680848742358,
           0.4845333581228064,
           -0.14109413506496793,
           0.5314246226105899,
           -0.04204422686005371,
           0.43856735292695087,
           0.11732047393284784,
           0.6275120947810062,
           0.024660654238871205,
           0.3498680848742358,
           0.05357057392715958,
           0.43856735292695087,
           -0.14358058632065984,
           -0.10307304807899709,
           0.8255146671728044,
           0.18843816819426928,
           0.08448293542678575,
           0.024660654238871205,
           1.0737208765671347,
           0.11732047393284784,
           0.22654056675135426,
           0.8755090172771857,
           0.7755933006673594,
           0.3498680848742358,
           0.18843816819426928,
           -0.12364748910784085,
           0.9254513911417962,
           0.6275120947810062,
           0.7755933006673594,
           0.9254513911417962,
           0.8255146671728044,
           0.7755933006673594,
           1.1222130180986807,
           0.3936414980973805,
           1.0246813323743342,
           -0.026868006404192624,
           0.11732047393284784,
           0.7258696951785686
          ],
          [
           0.0468638682544561,
           -0.006097672089921069,
           -0.11427897740443727,
           -0.12256927100642856,
           -0.12256927100642856,
           -0.12838509894504435,
           0.6566274261632371,
           0.5918329787695039,
           -0.10353493955557369,
           -0.07479911507464121,
           -0.1267064504865294,
           -0.014158970284269046,
           0.3625771209941594,
           0.49724239424273,
           -0.12838509894504435,
           0.5441336587305134,
           -0.029335190740130135,
           0.45127638904687445,
           0.1300295100527714,
           0.6402211309009298,
           0.03736969035879478,
           0.3625771209941594,
           0.06627961004708316,
           0.45127638904687445,
           -0.13087155020073626,
           -0.09036401195907351,
           0.838223703292728,
           0.20114720431419286,
           0.09719197154670933,
           0.03736969035879478,
           1.0864299126870582,
           0.1300295100527714,
           0.23924960287127783,
           0.8882180533971092,
           0.788302336787283,
           0.3625771209941594,
           0.20114720431419286,
           -0.11093845298791727,
           0.9381604272617198,
           0.6402211309009298,
           0.788302336787283,
           0.9381604272617198,
           0.838223703292728,
           0.788302336787283,
           1.1349220542186043,
           0.4063505342173041,
           1.0373903684942578,
           -0.014158970284269046,
           0.1300295100527714,
           0.7385787312984922
          ],
          [
           -0.17634167010186974,
           -0.2293032104462469,
           -0.3374845157607631,
           -0.3457748093627544,
           -0.3457748093627544,
           -0.3515906373013702,
           0.43342188780691127,
           0.3686274404131781,
           -0.32674047791189953,
           -0.29800465343096705,
           -0.34991198884285524,
           -0.23736450864059488,
           0.13937158263783356,
           0.27403685588640414,
           -0.3515906373013702,
           0.32092812037418766,
           -0.252540729096456,
           0.2280708506905486,
           -0.09317602830355443,
           0.4170155925446039,
           -0.18583584799753106,
           0.13937158263783356,
           -0.15692592830924268,
           0.2280708506905486,
           -0.3540770885570621,
           -0.31356955031539935,
           0.6150181649364022,
           -0.022058334042132977,
           -0.1260135668096165,
           -0.18583584799753106,
           0.8632243743307325,
           -0.09317602830355443,
           0.016044064514951994,
           0.6650125150407834,
           0.5650967984309572,
           0.13937158263783356,
           -0.022058334042132977,
           -0.3341439913442431,
           0.7149548889053939,
           0.4170155925446039,
           0.5650967984309572,
           0.7149548889053939,
           0.6150181649364022,
           0.5650967984309572,
           0.9117165158622784,
           0.18314499586097827,
           0.814184830137932,
           -0.23736450864059488,
           -0.09317602830355443,
           0.5153731929421663
          ],
          [
           0.16757479716434687,
           0.1146132568199697,
           0.006431951505453504,
           -0.0018583420965377906,
           -0.0018583420965377906,
           -0.007674170035153582,
           0.7773383550731279,
           0.7125439076793947,
           0.01717598935431708,
           0.04591181383524956,
           -0.005995521576638629,
           0.10655195862562172,
           0.48328804990405017,
           0.6179533231526207,
           -0.007674170035153582,
           0.6648445876404043,
           0.09137573816976063,
           0.5719873179567652,
           0.2507404389626622,
           0.7609320598108205,
           0.15808061926868555,
           0.48328804990405017,
           0.18699053895697393,
           0.5719873179567652,
           -0.010160621290845495,
           0.03034691695081726,
           0.9589346322026188,
           0.32185813322408363,
           0.2179029004566001,
           0.15808061926868555,
           1.2071408415969491,
           0.2507404389626622,
           0.3599605317811686,
           1.008928982307,
           0.9090132656971738,
           0.48328804990405017,
           0.32185813322408363,
           0.0097724759219735,
           1.0588713561716105,
           0.7609320598108205,
           0.9090132656971738,
           1.0588713561716105,
           0.9589346322026188,
           0.9090132656971738,
           1.255632983128495,
           0.5270614631271948,
           1.1581012974041487,
           0.10655195862562172,
           0.2507404389626622,
           0.859289660208383
          ],
          [
           -0.06927895219926816,
           -0.12224049254364533,
           -0.23042179785816153,
           -0.23871209146015282,
           -0.23871209146015282,
           -0.2445279193987686,
           0.5404846057095128,
           0.47569015831577965,
           -0.21967776000929795,
           -0.19094193552836547,
           -0.24284927094025366,
           -0.1303017907379933,
           0.24643430054043514,
           0.3810995737890057,
           -0.2445279193987686,
           0.42799083827678924,
           -0.1454780111938544,
           0.3351335685931502,
           0.013886689599047153,
           0.5240783104472055,
           -0.07877313009492948,
           0.24643430054043514,
           -0.0498632104066411,
           0.3351335685931502,
           -0.24701437065446052,
           -0.20650683241279777,
           0.7220808828390037,
           0.0850043838604686,
           -0.018950848907014928,
           -0.07877313009492948,
           0.9702870922333341,
           0.013886689599047153,
           0.12310678241755357,
           0.772075232943385,
           0.6721595163335587,
           0.24643430054043514,
           0.0850043838604686,
           -0.22708127344164153,
           0.8220176068079955,
           0.5240783104472055,
           0.6721595163335587,
           0.8220176068079955,
           0.7220808828390037,
           0.6721595163335587,
           1.01877923376488,
           0.29020771376357984,
           0.9212475480405335,
           -0.1303017907379933,
           0.013886689599047153,
           0.6224359108447679
          ],
          [
           0.17215363369802772,
           0.11919209335365055,
           0.011010788039134356,
           0.0027204944371430617,
           0.0027204944371430617,
           -0.00309533350147273,
           0.7819171916068087,
           0.7171227442130755,
           0.02175482588799793,
           0.05049065036893041,
           -0.001416685042957777,
           0.11113079515930258,
           0.487866886437731,
           0.6225321596863016,
           -0.00309533350147273,
           0.6694234241740851,
           0.09595457470344149,
           0.5765661544904461,
           0.25531927549634303,
           0.7655108963445014,
           0.1626594558023664,
           0.487866886437731,
           0.19156937549065478,
           0.5765661544904461,
           -0.005581784757164643,
           0.03492575348449811,
           0.9635134687362996,
           0.3264369697577645,
           0.22248173699028095,
           0.1626594558023664,
           1.2117196781306299,
           0.25531927549634303,
           0.36453936831484945,
           1.013507818840681,
           0.9135921022308546,
           0.487866886437731,
           0.3264369697577645,
           0.014351312455654353,
           1.0634501927052913,
           0.7655108963445014,
           0.9135921022308546,
           1.0634501927052913,
           0.9635134687362996,
           0.9135921022308546,
           1.2602118196621759,
           0.5316402996608758,
           1.1626801339378294,
           0.11113079515930258,
           0.25531927549634303,
           0.8638684967420638
          ],
          [
           0.17839217415209807,
           0.1254306338077209,
           0.017249328493204708,
           0.008959034891213413,
           0.008959034891213413,
           0.0031432069525976214,
           0.7881557320608791,
           0.7233612846671459,
           0.027993366342068282,
           0.056729190823000764,
           0.004821855411112574,
           0.11736933561337293,
           0.49410542689180137,
           0.628770700140372,
           0.0031432069525976214,
           0.6756619646281554,
           0.10219311515751184,
           0.5828046949445165,
           0.2615578159504134,
           0.7717494367985718,
           0.16889799625643676,
           0.49410542689180137,
           0.19780791594472513,
           0.5828046949445165,
           0.0006567556969057087,
           0.041164293938568464,
           0.96975200919037,
           0.33267551021183484,
           0.2287202774443513,
           0.16889799625643676,
           1.2179582185847004,
           0.2615578159504134,
           0.3707779087689198,
           1.0197463592947513,
           0.919830642684925,
           0.49410542689180137,
           0.33267551021183484,
           0.020589852909724704,
           1.0696887331593616,
           0.7717494367985718,
           0.919830642684925,
           1.0696887331593616,
           0.96975200919037,
           0.919830642684925,
           1.2664503601162462,
           0.5378788401149461,
           1.1689186743918998,
           0.11736933561337293,
           0.2615578159504134,
           0.8701070371961341
          ],
          [
           0.020911627468335747,
           -0.03204991287604142,
           -0.14023121819055762,
           -0.1485215117925489,
           -0.1485215117925489,
           -0.1543373397311647,
           0.6306751853771168,
           0.5658807379833836,
           -0.12948718034169404,
           -0.10075135586076156,
           -0.15265869127264975,
           -0.040111211070389396,
           0.33662488020803905,
           0.47129015345660963,
           -0.1543373397311647,
           0.5181814179443931,
           -0.055287431526250486,
           0.4253241482607541,
           0.10407726926665106,
           0.6142688901148095,
           0.011417449572674432,
           0.33662488020803905,
           0.04032736926096281,
           0.4253241482607541,
           -0.15682379098685661,
           -0.11631625274519386,
           0.8122714625066076,
           0.1751949635280725,
           0.07123973076058898,
           0.011417449572674432,
           1.0604776719009381,
           0.10407726926665106,
           0.21329736208515748,
           0.8622658126109889,
           0.7623500960011627,
           0.33662488020803905,
           0.1751949635280725,
           -0.13689069377403762,
           0.9122081864755994,
           0.6142688901148095,
           0.7623500960011627,
           0.9122081864755994,
           0.8122714625066076,
           0.7623500960011627,
           1.108969813432484,
           0.38039829343118375,
           1.0114381277081375,
           -0.040111211070389396,
           0.10407726926665106,
           0.7126264905123718
          ]
         ]
        }
       ],
       "layout": {
        "template": {
         "data": {
          "bar": [
           {
            "error_x": {
             "color": "#2a3f5f"
            },
            "error_y": {
             "color": "#2a3f5f"
            },
            "marker": {
             "line": {
              "color": "#E5ECF6",
              "width": 0.5
             },
             "pattern": {
              "fillmode": "overlay",
              "size": 10,
              "solidity": 0.2
             }
            },
            "type": "bar"
           }
          ],
          "barpolar": [
           {
            "marker": {
             "line": {
              "color": "#E5ECF6",
              "width": 0.5
             },
             "pattern": {
              "fillmode": "overlay",
              "size": 10,
              "solidity": 0.2
             }
            },
            "type": "barpolar"
           }
          ],
          "carpet": [
           {
            "aaxis": {
             "endlinecolor": "#2a3f5f",
             "gridcolor": "white",
             "linecolor": "white",
             "minorgridcolor": "white",
             "startlinecolor": "#2a3f5f"
            },
            "baxis": {
             "endlinecolor": "#2a3f5f",
             "gridcolor": "white",
             "linecolor": "white",
             "minorgridcolor": "white",
             "startlinecolor": "#2a3f5f"
            },
            "type": "carpet"
           }
          ],
          "choropleth": [
           {
            "colorbar": {
             "outlinewidth": 0,
             "ticks": ""
            },
            "type": "choropleth"
           }
          ],
          "contour": [
           {
            "colorbar": {
             "outlinewidth": 0,
             "ticks": ""
            },
            "colorscale": [
             [
              0,
              "#0d0887"
             ],
             [
              0.1111111111111111,
              "#46039f"
             ],
             [
              0.2222222222222222,
              "#7201a8"
             ],
             [
              0.3333333333333333,
              "#9c179e"
             ],
             [
              0.4444444444444444,
              "#bd3786"
             ],
             [
              0.5555555555555556,
              "#d8576b"
             ],
             [
              0.6666666666666666,
              "#ed7953"
             ],
             [
              0.7777777777777778,
              "#fb9f3a"
             ],
             [
              0.8888888888888888,
              "#fdca26"
             ],
             [
              1,
              "#f0f921"
             ]
            ],
            "type": "contour"
           }
          ],
          "contourcarpet": [
           {
            "colorbar": {
             "outlinewidth": 0,
             "ticks": ""
            },
            "type": "contourcarpet"
           }
          ],
          "heatmap": [
           {
            "colorbar": {
             "outlinewidth": 0,
             "ticks": ""
            },
            "colorscale": [
             [
              0,
              "#0d0887"
             ],
             [
              0.1111111111111111,
              "#46039f"
             ],
             [
              0.2222222222222222,
              "#7201a8"
             ],
             [
              0.3333333333333333,
              "#9c179e"
             ],
             [
              0.4444444444444444,
              "#bd3786"
             ],
             [
              0.5555555555555556,
              "#d8576b"
             ],
             [
              0.6666666666666666,
              "#ed7953"
             ],
             [
              0.7777777777777778,
              "#fb9f3a"
             ],
             [
              0.8888888888888888,
              "#fdca26"
             ],
             [
              1,
              "#f0f921"
             ]
            ],
            "type": "heatmap"
           }
          ],
          "heatmapgl": [
           {
            "colorbar": {
             "outlinewidth": 0,
             "ticks": ""
            },
            "colorscale": [
             [
              0,
              "#0d0887"
             ],
             [
              0.1111111111111111,
              "#46039f"
             ],
             [
              0.2222222222222222,
              "#7201a8"
             ],
             [
              0.3333333333333333,
              "#9c179e"
             ],
             [
              0.4444444444444444,
              "#bd3786"
             ],
             [
              0.5555555555555556,
              "#d8576b"
             ],
             [
              0.6666666666666666,
              "#ed7953"
             ],
             [
              0.7777777777777778,
              "#fb9f3a"
             ],
             [
              0.8888888888888888,
              "#fdca26"
             ],
             [
              1,
              "#f0f921"
             ]
            ],
            "type": "heatmapgl"
           }
          ],
          "histogram": [
           {
            "marker": {
             "pattern": {
              "fillmode": "overlay",
              "size": 10,
              "solidity": 0.2
             }
            },
            "type": "histogram"
           }
          ],
          "histogram2d": [
           {
            "colorbar": {
             "outlinewidth": 0,
             "ticks": ""
            },
            "colorscale": [
             [
              0,
              "#0d0887"
             ],
             [
              0.1111111111111111,
              "#46039f"
             ],
             [
              0.2222222222222222,
              "#7201a8"
             ],
             [
              0.3333333333333333,
              "#9c179e"
             ],
             [
              0.4444444444444444,
              "#bd3786"
             ],
             [
              0.5555555555555556,
              "#d8576b"
             ],
             [
              0.6666666666666666,
              "#ed7953"
             ],
             [
              0.7777777777777778,
              "#fb9f3a"
             ],
             [
              0.8888888888888888,
              "#fdca26"
             ],
             [
              1,
              "#f0f921"
             ]
            ],
            "type": "histogram2d"
           }
          ],
          "histogram2dcontour": [
           {
            "colorbar": {
             "outlinewidth": 0,
             "ticks": ""
            },
            "colorscale": [
             [
              0,
              "#0d0887"
             ],
             [
              0.1111111111111111,
              "#46039f"
             ],
             [
              0.2222222222222222,
              "#7201a8"
             ],
             [
              0.3333333333333333,
              "#9c179e"
             ],
             [
              0.4444444444444444,
              "#bd3786"
             ],
             [
              0.5555555555555556,
              "#d8576b"
             ],
             [
              0.6666666666666666,
              "#ed7953"
             ],
             [
              0.7777777777777778,
              "#fb9f3a"
             ],
             [
              0.8888888888888888,
              "#fdca26"
             ],
             [
              1,
              "#f0f921"
             ]
            ],
            "type": "histogram2dcontour"
           }
          ],
          "mesh3d": [
           {
            "colorbar": {
             "outlinewidth": 0,
             "ticks": ""
            },
            "type": "mesh3d"
           }
          ],
          "parcoords": [
           {
            "line": {
             "colorbar": {
              "outlinewidth": 0,
              "ticks": ""
             }
            },
            "type": "parcoords"
           }
          ],
          "pie": [
           {
            "automargin": true,
            "type": "pie"
           }
          ],
          "scatter": [
           {
            "marker": {
             "colorbar": {
              "outlinewidth": 0,
              "ticks": ""
             }
            },
            "type": "scatter"
           }
          ],
          "scatter3d": [
           {
            "line": {
             "colorbar": {
              "outlinewidth": 0,
              "ticks": ""
             }
            },
            "marker": {
             "colorbar": {
              "outlinewidth": 0,
              "ticks": ""
             }
            },
            "type": "scatter3d"
           }
          ],
          "scattercarpet": [
           {
            "marker": {
             "colorbar": {
              "outlinewidth": 0,
              "ticks": ""
             }
            },
            "type": "scattercarpet"
           }
          ],
          "scattergeo": [
           {
            "marker": {
             "colorbar": {
              "outlinewidth": 0,
              "ticks": ""
             }
            },
            "type": "scattergeo"
           }
          ],
          "scattergl": [
           {
            "marker": {
             "colorbar": {
              "outlinewidth": 0,
              "ticks": ""
             }
            },
            "type": "scattergl"
           }
          ],
          "scattermapbox": [
           {
            "marker": {
             "colorbar": {
              "outlinewidth": 0,
              "ticks": ""
             }
            },
            "type": "scattermapbox"
           }
          ],
          "scatterpolar": [
           {
            "marker": {
             "colorbar": {
              "outlinewidth": 0,
              "ticks": ""
             }
            },
            "type": "scatterpolar"
           }
          ],
          "scatterpolargl": [
           {
            "marker": {
             "colorbar": {
              "outlinewidth": 0,
              "ticks": ""
             }
            },
            "type": "scatterpolargl"
           }
          ],
          "scatterternary": [
           {
            "marker": {
             "colorbar": {
              "outlinewidth": 0,
              "ticks": ""
             }
            },
            "type": "scatterternary"
           }
          ],
          "surface": [
           {
            "colorbar": {
             "outlinewidth": 0,
             "ticks": ""
            },
            "colorscale": [
             [
              0,
              "#0d0887"
             ],
             [
              0.1111111111111111,
              "#46039f"
             ],
             [
              0.2222222222222222,
              "#7201a8"
             ],
             [
              0.3333333333333333,
              "#9c179e"
             ],
             [
              0.4444444444444444,
              "#bd3786"
             ],
             [
              0.5555555555555556,
              "#d8576b"
             ],
             [
              0.6666666666666666,
              "#ed7953"
             ],
             [
              0.7777777777777778,
              "#fb9f3a"
             ],
             [
              0.8888888888888888,
              "#fdca26"
             ],
             [
              1,
              "#f0f921"
             ]
            ],
            "type": "surface"
           }
          ],
          "table": [
           {
            "cells": {
             "fill": {
              "color": "#EBF0F8"
             },
             "line": {
              "color": "white"
             }
            },
            "header": {
             "fill": {
              "color": "#C8D4E3"
             },
             "line": {
              "color": "white"
             }
            },
            "type": "table"
           }
          ]
         },
         "layout": {
          "annotationdefaults": {
           "arrowcolor": "#2a3f5f",
           "arrowhead": 0,
           "arrowwidth": 1
          },
          "autotypenumbers": "strict",
          "coloraxis": {
           "colorbar": {
            "outlinewidth": 0,
            "ticks": ""
           }
          },
          "colorscale": {
           "diverging": [
            [
             0,
             "#8e0152"
            ],
            [
             0.1,
             "#c51b7d"
            ],
            [
             0.2,
             "#de77ae"
            ],
            [
             0.3,
             "#f1b6da"
            ],
            [
             0.4,
             "#fde0ef"
            ],
            [
             0.5,
             "#f7f7f7"
            ],
            [
             0.6,
             "#e6f5d0"
            ],
            [
             0.7,
             "#b8e186"
            ],
            [
             0.8,
             "#7fbc41"
            ],
            [
             0.9,
             "#4d9221"
            ],
            [
             1,
             "#276419"
            ]
           ],
           "sequential": [
            [
             0,
             "#0d0887"
            ],
            [
             0.1111111111111111,
             "#46039f"
            ],
            [
             0.2222222222222222,
             "#7201a8"
            ],
            [
             0.3333333333333333,
             "#9c179e"
            ],
            [
             0.4444444444444444,
             "#bd3786"
            ],
            [
             0.5555555555555556,
             "#d8576b"
            ],
            [
             0.6666666666666666,
             "#ed7953"
            ],
            [
             0.7777777777777778,
             "#fb9f3a"
            ],
            [
             0.8888888888888888,
             "#fdca26"
            ],
            [
             1,
             "#f0f921"
            ]
           ],
           "sequentialminus": [
            [
             0,
             "#0d0887"
            ],
            [
             0.1111111111111111,
             "#46039f"
            ],
            [
             0.2222222222222222,
             "#7201a8"
            ],
            [
             0.3333333333333333,
             "#9c179e"
            ],
            [
             0.4444444444444444,
             "#bd3786"
            ],
            [
             0.5555555555555556,
             "#d8576b"
            ],
            [
             0.6666666666666666,
             "#ed7953"
            ],
            [
             0.7777777777777778,
             "#fb9f3a"
            ],
            [
             0.8888888888888888,
             "#fdca26"
            ],
            [
             1,
             "#f0f921"
            ]
           ]
          },
          "colorway": [
           "#636efa",
           "#EF553B",
           "#00cc96",
           "#ab63fa",
           "#FFA15A",
           "#19d3f3",
           "#FF6692",
           "#B6E880",
           "#FF97FF",
           "#FECB52"
          ],
          "font": {
           "color": "#2a3f5f"
          },
          "geo": {
           "bgcolor": "white",
           "lakecolor": "white",
           "landcolor": "#E5ECF6",
           "showlakes": true,
           "showland": true,
           "subunitcolor": "white"
          },
          "hoverlabel": {
           "align": "left"
          },
          "hovermode": "closest",
          "mapbox": {
           "style": "light"
          },
          "paper_bgcolor": "white",
          "plot_bgcolor": "#E5ECF6",
          "polar": {
           "angularaxis": {
            "gridcolor": "white",
            "linecolor": "white",
            "ticks": ""
           },
           "bgcolor": "#E5ECF6",
           "radialaxis": {
            "gridcolor": "white",
            "linecolor": "white",
            "ticks": ""
           }
          },
          "scene": {
           "xaxis": {
            "backgroundcolor": "#E5ECF6",
            "gridcolor": "white",
            "gridwidth": 2,
            "linecolor": "white",
            "showbackground": true,
            "ticks": "",
            "zerolinecolor": "white"
           },
           "yaxis": {
            "backgroundcolor": "#E5ECF6",
            "gridcolor": "white",
            "gridwidth": 2,
            "linecolor": "white",
            "showbackground": true,
            "ticks": "",
            "zerolinecolor": "white"
           },
           "zaxis": {
            "backgroundcolor": "#E5ECF6",
            "gridcolor": "white",
            "gridwidth": 2,
            "linecolor": "white",
            "showbackground": true,
            "ticks": "",
            "zerolinecolor": "white"
           }
          },
          "shapedefaults": {
           "line": {
            "color": "#2a3f5f"
           }
          },
          "ternary": {
           "aaxis": {
            "gridcolor": "white",
            "linecolor": "white",
            "ticks": ""
           },
           "baxis": {
            "gridcolor": "white",
            "linecolor": "white",
            "ticks": ""
           },
           "bgcolor": "#E5ECF6",
           "caxis": {
            "gridcolor": "white",
            "linecolor": "white",
            "ticks": ""
           }
          },
          "title": {
           "x": 0.05
          },
          "xaxis": {
           "automargin": true,
           "gridcolor": "white",
           "linecolor": "white",
           "ticks": "",
           "title": {
            "standoff": 15
           },
           "zerolinecolor": "white",
           "zerolinewidth": 2
          },
          "yaxis": {
           "automargin": true,
           "gridcolor": "white",
           "linecolor": "white",
           "ticks": "",
           "title": {
            "standoff": 15
           },
           "zerolinecolor": "white",
           "zerolinewidth": 2
          }
         }
        },
        "title": {
         "text": "Python Contour Plot"
        }
       }
      },
      "text/html": [
       "<div>                            <div id=\"c07e738d-3424-4cbe-b29c-c6eba4bb2c5c\" class=\"plotly-graph-div\" style=\"height:525px; width:100%;\"></div>            <script type=\"text/javascript\">                require([\"plotly\"], function(Plotly) {                    window.PLOTLYENV=window.PLOTLYENV || {};                                    if (document.getElementById(\"c07e738d-3424-4cbe-b29c-c6eba4bb2c5c\")) {                    Plotly.newPlot(                        \"c07e738d-3424-4cbe-b29c-c6eba4bb2c5c\",                        [{\"contours\":{\"coloring\":\"heatmap\"},\"z\":[[-0.1827946552050571,-0.23575619554943428,-0.3439375008639505,-0.35222779446594177,-0.35222779446594177,-0.35804362240455756,0.4269689027037239,0.3621744553099907,-0.3331934630150869,-0.3044576385341544,-0.3563649739460426,-0.24381749374378225,0.1329185975346462,0.26758387078321677,-0.35804362240455756,0.3144751352710003,-0.25899371419964334,0.22161786558736124,-0.0996290134067418,0.41056260744141654,-0.19228883310071843,0.1329185975346462,-0.16337891341243005,0.22161786558736124,-0.3605300736602495,-0.3200225354185867,0.6085651798332148,-0.028511319145320346,-0.13246655191280388,-0.19228883310071843,0.8567713892275451,-0.0996290134067418,0.009591079411764625,0.658559529937596,0.5586438133277698,0.1329185975346462,-0.028511319145320346,-0.3405969764474305,0.7085019038022066,0.41056260744141654,0.5586438133277698,0.7085019038022066,0.6085651798332148,0.5586438133277698,0.905263530759091,0.1766920107577909,0.8077318450347446,-0.24381749374378225,-0.0996290134067418,0.508920207838979],[-0.10908600454871642,-0.1620475448930936,-0.2702288502076098,-0.2785191438096011,-0.2785191438096011,-0.28433497174821687,0.5006775533600646,0.4358831059663314,-0.2594848123587462,-0.23074898787781373,-0.2826563232897019,-0.17010884308744156,0.20662724819098688,0.34129252143955746,-0.28433497174821687,0.388183785927341,-0.18528506354330265,0.29532651624370193,-0.025920362750401105,0.48427125809775723,-0.11858018244437774,0.20662724819098688,-0.08967026275608936,0.29532651624370193,-0.2868214230039088,-0.24631388476224603,0.6822738304895555,0.045197331511020344,-0.058757901256463185,-0.11858018244437774,0.9304800398838858,-0.025920362750401105,0.08329973006810532,0.7322681805939367,0.6323524639841105,0.20662724819098688,0.045197331511020344,-0.2668883257910898,0.7822105544585473,0.48427125809775723,0.6323524639841105,0.7822105544585473,0.6822738304895555,0.6323524639841105,0.9789721814154317,0.2504006614141316,0.8814404956910853,-0.17010884308744156,-0.025920362750401105,0.5826288584953196],[0.16757479716434687,0.1146132568199697,0.006431951505453504,-0.0018583420965377906,-0.0018583420965377906,-0.007674170035153582,0.7773383550731279,0.7125439076793947,0.01717598935431708,0.04591181383524956,-0.005995521576638629,0.10655195862562172,0.48328804990405017,0.6179533231526207,-0.007674170035153582,0.6648445876404043,0.09137573816976063,0.5719873179567652,0.2507404389626622,0.7609320598108205,0.15808061926868555,0.48328804990405017,0.18699053895697393,0.5719873179567652,-0.010160621290845495,0.03034691695081726,0.9589346322026188,0.32185813322408363,0.2179029004566001,0.15808061926868555,1.2071408415969491,0.2507404389626622,0.3599605317811686,1.008928982307,0.9090132656971738,0.48328804990405017,0.32185813322408363,0.0097724759219735,1.0588713561716105,0.7609320598108205,0.9090132656971738,1.0588713561716105,0.9589346322026188,0.9090132656971738,1.255632983128495,0.5270614631271948,1.1581012974041487,0.10655195862562172,0.2507404389626622,0.859289660208383],[0.1740163508350191,0.12105481049064193,0.012873505176125732,0.004583211574134438,0.004583211574134438,-0.0012326163644813537,0.7837799087438001,0.7189854613500669,0.023617543024989307,0.05235336750592179,0.00044603209403359934,0.11299351229629395,0.4897296035747224,0.624394876823293,-0.0012326163644813537,0.6712861413110764,0.09781729184043286,0.5784288716274375,0.2571819926333344,0.7673736134814928,0.16452217293935778,0.4897296035747224,0.19343209262764616,0.5784288716274375,-0.0037190676201732664,0.03678847062148949,0.965376185873291,0.32829968689475586,0.22434445412727233,0.16452217293935778,1.2135823952676215,0.2571819926333344,0.36640208545184083,1.0153705359776724,0.915454819367846,0.4897296035747224,0.32829968689475586,0.01621402959264573,1.0653129098422827,0.7673736134814928,0.915454819367846,1.0653129098422827,0.965376185873291,0.915454819367846,1.2620745367991673,0.5335030167978672,1.1645428510748208,0.11299351229629395,0.2571819926333344,0.8657312138790552],[0.16757479716434687,0.1146132568199697,0.006431951505453504,-0.0018583420965377906,-0.0018583420965377906,-0.007674170035153582,0.7773383550731279,0.7125439076793947,0.01717598935431708,0.04591181383524956,-0.005995521576638629,0.10655195862562172,0.48328804990405017,0.6179533231526207,-0.007674170035153582,0.6648445876404043,0.09137573816976063,0.5719873179567652,0.2507404389626622,0.7609320598108205,0.15808061926868555,0.48328804990405017,0.18699053895697393,0.5719873179567652,-0.010160621290845495,0.03034691695081726,0.9589346322026188,0.32185813322408363,0.2179029004566001,0.15808061926868555,1.2071408415969491,0.2507404389626622,0.3599605317811686,1.008928982307,0.9090132656971738,0.48328804990405017,0.32185813322408363,0.0097724759219735,1.0588713561716105,0.7609320598108205,0.9090132656971738,1.0588713561716105,0.9589346322026188,0.9090132656971738,1.255632983128495,0.5270614631271948,1.1581012974041487,0.10655195862562172,0.2507404389626622,0.859289660208383],[0.15866342271773448,0.10570188237335731,-0.002479422941158882,-0.010769716543150176,-0.010769716543150176,-0.016585544481765968,0.7684269806265155,0.7036325332327823,0.008264614907704693,0.037000439388637174,-0.014906896023251015,0.09764058417900934,0.4743766754574378,0.6090419487060084,-0.016585544481765968,0.6559332131937918,0.08246436372314825,0.5630759435101529,0.2418290645160498,0.7520206853642082,0.14916924482207317,0.4743766754574378,0.17807916451036154,0.5630759435101529,-0.01907199573745788,0.021435542504204874,0.9500232577560064,0.31294675877747125,0.20899152600998772,0.14916924482207317,1.1982294671503366,0.2418290645160498,0.3510491573345562,1.0000176078603877,0.9001018912505614,0.4743766754574378,0.31294675877747125,0.0008611014753611146,1.049959981724998,0.7520206853642082,0.9001018912505614,1.049959981724998,0.9500232577560064,0.9001018912505614,1.2467216086818826,0.5181500886805825,1.1491899229575362,0.09764058417900934,0.2418290645160498,0.8503782857617705],[-0.28379908388381603,-0.3367606242281932,-0.4449419295427094,-0.4532322231447007,-0.4532322231447007,-0.4590480510833165,0.325964474024965,0.2611700266312318,-0.4341978916938458,-0.40546206721291334,-0.4573694026248015,-0.34482192242254117,0.03191416885588727,0.16657944210445785,-0.4590480510833165,0.21347070659224138,-0.35999814287840226,0.12061343690860232,-0.2006334420855007,0.3095581787626576,-0.29329326177947734,0.03191416885588727,-0.26438334209118897,0.12061343690860232,-0.4615345023390084,-0.42102696409734564,0.5075607511544559,-0.12951574782407926,-0.2334709805915628,-0.29329326177947734,0.7557669605487862,-0.2006334420855007,-0.09141334926699429,0.5575551012588371,0.4576393846490109,0.03191416885588727,-0.12951574782407926,-0.4416014051261894,0.6074974751234476,0.3095581787626576,0.4576393846490109,0.6074974751234476,0.5075607511544559,0.4576393846490109,0.804259102080332,0.07568758207903198,0.7067274163559858,-0.34482192242254117,-0.2006334420855007,0.4079157791602201],[0.12842526201602544,0.07546372167164828,-0.03271758364286792,-0.041007877244859214,-0.041007877244859214,-0.046823705183475006,0.7381888199248064,0.6733943725310733,-0.021973545794004345,0.006762278686928136,-0.04514505672496005,0.0674024234773003,0.44413851475572874,0.5788037880042993,-0.046823705183475006,0.6256950524920828,0.05222620302143921,0.5328377828084438,0.21159090381434076,0.7217825246624991,0.11893108412036413,0.44413851475572874,0.1478410038086525,0.5328377828084438,-0.04931015643916692,-0.008802618197504164,0.9197850970542973,0.2827085980757622,0.17875336530827868,0.11893108412036413,1.1679913064486276,0.21159090381434076,0.3208109966328472,0.9697794471586786,0.8698637305488524,0.44413851475572874,0.2827085980757622,-0.029377059226347924,1.019721821023289,0.7217825246624991,0.8698637305488524,1.019721821023289,0.9197850970542973,0.8698637305488524,1.2164834479801736,0.48791192797887345,1.1189517622558272,0.0674024234773003,0.21159090381434076,0.8201401250600615],[0.1740163508350191,0.12105481049064193,0.012873505176125732,0.004583211574134438,0.004583211574134438,-0.0012326163644813537,0.7837799087438001,0.7189854613500669,0.023617543024989307,0.05235336750592179,0.00044603209403359934,0.11299351229629395,0.4897296035747224,0.624394876823293,-0.0012326163644813537,0.6712861413110764,0.09781729184043286,0.5784288716274375,0.2571819926333344,0.7673736134814928,0.16452217293935778,0.4897296035747224,0.19343209262764616,0.5784288716274375,-0.0037190676201732664,0.03678847062148949,0.965376185873291,0.32829968689475586,0.22434445412727233,0.16452217293935778,1.2135823952676215,0.2571819926333344,0.36640208545184083,1.0153705359776724,0.915454819367846,0.4897296035747224,0.32829968689475586,0.01621402959264573,1.0653129098422827,0.7673736134814928,0.915454819367846,1.0653129098422827,0.965376185873291,0.915454819367846,1.2620745367991673,0.5335030167978672,1.1645428510748208,0.11299351229629395,0.2571819926333344,0.8657312138790552],[0.15866342271773448,0.10570188237335731,-0.002479422941158882,-0.010769716543150176,-0.010769716543150176,-0.016585544481765968,0.7684269806265155,0.7036325332327823,0.008264614907704693,0.037000439388637174,-0.014906896023251015,0.09764058417900934,0.4743766754574378,0.6090419487060084,-0.016585544481765968,0.6559332131937918,0.08246436372314825,0.5630759435101529,0.2418290645160498,0.7520206853642082,0.14916924482207317,0.4743766754574378,0.17807916451036154,0.5630759435101529,-0.01907199573745788,0.021435542504204874,0.9500232577560064,0.31294675877747125,0.20899152600998772,0.14916924482207317,1.1982294671503366,0.2418290645160498,0.3510491573345562,1.0000176078603877,0.9001018912505614,0.4743766754574378,0.31294675877747125,0.0008611014753611146,1.049959981724998,0.7520206853642082,0.9001018912505614,1.049959981724998,0.9500232577560064,0.9001018912505614,1.2467216086818826,0.5181500886805825,1.1491899229575362,0.09764058417900934,0.2418290645160498,0.8503782857617705],[0.08873806948612095,0.035776529141743785,-0.07240477617277241,-0.0806950697747637,-0.0806950697747637,-0.0865108977133795,0.698501627394902,0.6337071800011688,-0.06166073832390884,-0.032924913842976355,-0.08483224925486454,0.027715230947395808,0.40445132222582425,0.5391165954743948,-0.0865108977133795,0.5860078599621783,0.012539010491534719,0.4931505902785393,0.17190371128443627,0.6820953321325947,0.07924389159045964,0.40445132222582425,0.10815381127874801,0.4931505902785393,-0.08899734896907141,-0.048489810727408655,0.8800979045243928,0.24302140554585772,0.1390661727783742,0.07924389159045964,1.1283041139187233,0.17190371128443627,0.2811238041029427,0.9300922546287741,0.8301765380189479,0.40445132222582425,0.24302140554585772,-0.06906425175625241,0.9800346284933846,0.6820953321325947,0.8301765380189479,0.9800346284933846,0.8800979045243928,0.8301765380189479,1.1767962554502691,0.44822473544896896,1.0792645697259227,0.027715230947395808,0.17190371128443627,0.780452932530157],[0.17797198320027086,0.1250104428558937,0.016829137541377492,0.008538843939386198,0.008538843939386198,0.0027230160007704063,0.7877355411090519,0.7229410937153187,0.027573175390241067,0.05630899987117355,0.004401664459285359,0.11694914466154571,0.49368523593997415,0.6283505091885447,0.0027230160007704063,0.6752417736763283,0.10177292420568462,0.5823845039926892,0.26113762499858617,0.7713292458467444,0.16847780530460954,0.49368523593997415,0.19738772499289792,0.5823845039926892,0.00023656474507849357,0.04074410298674125,0.9693318182385428,0.3322553192600076,0.2283000864925241,0.16847780530460954,1.217538027632873,0.26113762499858617,0.3703577178170926,1.019326168342924,0.9194104517330978,0.49368523593997415,0.3322553192600076,0.02016966195789749,1.0692685422075345,0.7713292458467444,0.9194104517330978,1.0692685422075345,0.9693318182385428,0.9194104517330978,1.266030169164419,0.5374586491631188,1.1684984834400727,0.11694914466154571,0.26113762499858617,0.869686846244307],[0.16489037264889939,0.11192883230452222,0.0037475269900060226,-0.004542766611985272,-0.004542766611985272,-0.010358594550601063,0.7746539305576804,0.7098594831639472,0.014491564838869597,0.04322738931980208,-0.00867994609208611,0.10386753411017424,0.4806036253886027,0.6152688986371733,-0.010358594550601063,0.6621601631249567,0.08869131365431315,0.5693028934413178,0.2480560144472147,0.7582476352953731,0.15539619475323807,0.4806036253886027,0.18430611444152645,0.5693028934413178,-0.012845045806292976,0.02766249243536978,0.9562502076871713,0.31917370870863615,0.21521847594115262,0.15539619475323807,1.2044564170815018,0.2480560144472147,0.3572761072657211,1.0062445577915526,0.9063288411817263,0.4806036253886027,0.31917370870863615,0.007088051406526019,1.056186931656163,0.7582476352953731,0.9063288411817263,1.056186931656163,0.9562502076871713,0.9063288411817263,1.2529485586130475,0.5243770386117474,1.155416872888701,0.10386753411017424,0.2480560144472147,0.8566052356929355],[0.12842526201602544,0.07546372167164828,-0.03271758364286792,-0.041007877244859214,-0.041007877244859214,-0.046823705183475006,0.7381888199248064,0.6733943725310733,-0.021973545794004345,0.006762278686928136,-0.04514505672496005,0.0674024234773003,0.44413851475572874,0.5788037880042993,-0.046823705183475006,0.6256950524920828,0.05222620302143921,0.5328377828084438,0.21159090381434076,0.7217825246624991,0.11893108412036413,0.44413851475572874,0.1478410038086525,0.5328377828084438,-0.04931015643916692,-0.008802618197504164,0.9197850970542973,0.2827085980757622,0.17875336530827868,0.11893108412036413,1.1679913064486276,0.21159090381434076,0.3208109966328472,0.9697794471586786,0.8698637305488524,0.44413851475572874,0.2827085980757622,-0.029377059226347924,1.019721821023289,0.7217825246624991,0.8698637305488524,1.019721821023289,0.9197850970542973,0.8698637305488524,1.2164834479801736,0.48791192797887345,1.1189517622558272,0.0674024234773003,0.21159090381434076,0.8201401250600615],[0.14730450129034434,0.09434296094596717,-0.013838344368549027,-0.02212863797054032,-0.02212863797054032,-0.027944465909156113,0.7570680591991253,0.6922736118053922,-0.0030943065196854525,0.02564151796124703,-0.02626581745064116,0.08628166275161919,0.46301775403004763,0.5976830272786182,-0.027944465909156113,0.6445742917664017,0.0711054422957581,0.5517170220827627,0.23047014308865965,0.740661763936818,0.13781032339468302,0.46301775403004763,0.1667202430829714,0.5517170220827627,-0.030430917164848026,0.010076621076814729,0.9386643363286162,0.3015878373500811,0.19763260458259757,0.13781032339468302,1.1868705457229467,0.23047014308865965,0.33969023590716607,0.9886586864329975,0.8887429698231712,0.46301775403004763,0.3015878373500811,-0.01049781995202903,1.038601060297608,0.740661763936818,0.8887429698231712,1.038601060297608,0.9386643363286162,0.8887429698231712,1.2353626872544925,0.5067911672531924,1.137831001530146,0.08628166275161919,0.23047014308865965,0.8390193643343804],[0.09220458292096023,0.039243042576583065,-0.06893826273793313,-0.07722855633992443,-0.07722855633992443,-0.08304438427854022,0.7019681408297412,0.637173693436008,-0.05819422488906956,-0.029458400408137075,-0.08136573582002526,0.031181744382235088,0.40791783566066353,0.5425831089092341,-0.08304438427854022,0.5894743733970176,0.016005523926374,0.4966171037133786,0.17537022471927555,0.6855618455674339,0.08271040502529892,0.40791783566066353,0.1116203247135873,0.4966171037133786,-0.08553083553423213,-0.045023297292569375,0.8835644179592321,0.246487918980697,0.14253268621321347,0.08271040502529892,1.1317706273535624,0.17537022471927555,0.28459031753778197,0.9335587680636134,0.8336430514537871,0.40791783566066353,0.246487918980697,-0.06559773832141313,0.9835011419282239,0.6855618455674339,0.8336430514537871,0.9835011419282239,0.8835644179592321,0.8336430514537871,1.1802627688851084,0.45169124888380824,1.082731083160762,0.031181744382235088,0.17537022471927555,0.7839194459649963],[-0.012062953519970665,-0.06502449386434783,-0.17320579917886403,-0.18149609278085532,-0.18149609278085532,-0.18731192071947111,0.5977006043888103,0.5329061569950772,-0.16246176133000045,-0.13372593684906797,-0.18563327226095616,-0.07308579205869581,0.30365029921973263,0.4383155724683032,-0.18731192071947111,0.48520683695608674,-0.0882620125145569,0.3923495672724477,0.07110268827834465,0.581294309126503,-0.02155713141563198,0.30365029921973263,0.0073527882726563965,0.3923495672724477,-0.18979837197516303,-0.14929083373350027,0.7792968815183012,0.1422203825397661,0.03826514977228257,-0.02155713141563198,1.0275030909126315,0.07110268827834465,0.18032278109685107,0.8292912316226825,0.7293755150128562,0.30365029921973263,0.1422203825397661,-0.16986527476234403,0.879233605487293,0.581294309126503,0.7293755150128562,0.879233605487293,0.7792968815183012,0.7293755150128562,1.0759952324441775,0.34742371244287734,0.978463546719831,-0.07308579205869581,0.07110268827834465,0.6796519095240654],[0.1202464818343113,0.06728494148993414,-0.04089636382458206,-0.049186657426573355,-0.049186657426573355,-0.05500248536518915,0.7300100397430923,0.6652155923493591,-0.030152325975718486,-0.0014165014947860044,-0.053323836906674194,0.05922364329558616,0.4359597345740146,0.5706250078225852,-0.05500248536518915,0.6175162723103687,0.04404742283972507,0.5246590026267297,0.20341212363262662,0.713603744480785,0.11075230393864999,0.4359597345740146,0.13966222362693836,0.5246590026267297,-0.05748893662088106,-0.016981398379218304,0.9116063168725832,0.27452981789404807,0.17057458512656454,0.11075230393864999,1.1598125262669137,0.20341212363262662,0.31263221645113304,0.9616006669769644,0.8616849503671382,0.4359597345740146,0.27452981789404807,-0.037555839408062064,1.0115430408415749,0.713603744480785,0.8616849503671382,1.0115430408415749,0.9116063168725832,0.8616849503671382,1.2083046677984595,0.4797331477971593,1.110772982074113,0.05922364329558616,0.20341212363262662,0.8119613448783474],[0.1603336996835949,0.10737215933921773,-0.0008091459752984642,-0.009099439577289758,-0.009099439577289758,-0.01491526751590555,0.7700972575923759,0.7053028101986427,0.00993489187356511,0.03867071635449759,-0.013236619057390597,0.09931086114486976,0.4760469524232982,0.6107122256718688,-0.01491526751590555,0.6576034901596524,0.08413464068900867,0.5647462204760132,0.24349934148191021,0.7536909623300685,0.15083952178793358,0.4760469524232982,0.17974944147622196,0.5647462204760132,-0.017401718771597463,0.023105819470065292,0.9516935347218668,0.31461703574333166,0.21066180297584813,0.15083952178793358,1.1998997441161972,0.24349934148191021,0.35271943430041663,1.001687884826248,0.9017721682164218,0.4760469524232982,0.31461703574333166,0.0025313784412215323,1.0516302586908586,0.7536909623300685,0.9017721682164218,1.0516302586908586,0.9516935347218668,0.9017721682164218,1.248391885647743,0.5198203656464429,1.1508601999233967,0.09931086114486976,0.24349934148191021,0.8520485627276311],[0.1202464818343113,0.06728494148993414,-0.04089636382458206,-0.049186657426573355,-0.049186657426573355,-0.05500248536518915,0.7300100397430923,0.6652155923493591,-0.030152325975718486,-0.0014165014947860044,-0.053323836906674194,0.05922364329558616,0.4359597345740146,0.5706250078225852,-0.05500248536518915,0.6175162723103687,0.04404742283972507,0.5246590026267297,0.20341212363262662,0.713603744480785,0.11075230393864999,0.4359597345740146,0.13966222362693836,0.5246590026267297,-0.05748893662088106,-0.016981398379218304,0.9116063168725832,0.27452981789404807,0.17057458512656454,0.11075230393864999,1.1598125262669137,0.20341212363262662,0.31263221645113304,0.9616006669769644,0.8616849503671382,0.4359597345740146,0.27452981789404807,-0.037555839408062064,1.0115430408415749,0.713603744480785,0.8616849503671382,1.0115430408415749,0.9116063168725832,0.8616849503671382,1.2083046677984595,0.4797331477971593,1.110772982074113,0.05922364329558616,0.20341212363262662,0.8119613448783474],[0.1769356292644937,0.12397408892011652,0.015792783605600325,0.00750249000360903,0.00750249000360903,0.0016866620649932385,0.7866991871732747,0.7219047397795415,0.0265368214544639,0.05527264593539638,0.0033653105235081915,0.11591279072576854,0.492648882004197,0.6273141552527676,0.0016866620649932385,0.6742054197405511,0.10073657026990745,0.581348150056912,0.260101271062809,0.7702928919109673,0.16744145136883237,0.492648882004197,0.19635137105712075,0.581348150056912,-0.0007997891906986743,0.03970774905096408,0.9682954643027656,0.33121896532423045,0.22726373255674692,0.16744145136883237,1.216501673697096,0.260101271062809,0.3693213638813154,1.0182898144071468,0.9183740977973206,0.492648882004197,0.33121896532423045,0.01913330802212032,1.0682321882717574,0.7702928919109673,0.9183740977973206,1.0682321882717574,0.9682954643027656,0.9183740977973206,1.2649938152286417,0.5364222952273416,1.1674621295042955,0.11591279072576854,0.260101271062809,0.8686504923085299],[0.13601095770142513,0.08304941735704796,-0.025131887957468235,-0.03342218155945953,-0.03342218155945953,-0.03923800949807532,0.7457745156102061,0.680980068216473,-0.01438785010860466,0.01434797437232782,-0.03755936103956037,0.07498811916269998,0.4517242104411284,0.586389483689699,-0.03923800949807532,0.6332807481774825,0.059811898706838895,0.5404234784938435,0.21917659949974044,0.7293682203478988,0.1265167798057638,0.4517242104411284,0.1554266994940522,0.5404234784938435,-0.041724460753767234,-0.001216922512104479,0.927370792739697,0.2902942937611619,0.18633906099367836,0.1265167798057638,1.1755770021340273,0.21917659949974044,0.32839669231824686,0.9773651428440783,0.877449426234252,0.4517242104411284,0.2902942937611619,-0.02179136354094824,1.0273075167086887,0.7293682203478988,0.877449426234252,1.0273075167086887,0.927370792739697,0.877449426234252,1.2240691436655733,0.49549762366427313,1.1265374579412268,0.07498811916269998,0.21917659949974044,0.8277258207454612],[0.1769356292644937,0.12397408892011652,0.015792783605600325,0.00750249000360903,0.00750249000360903,0.0016866620649932385,0.7866991871732747,0.7219047397795415,0.0265368214544639,0.05527264593539638,0.0033653105235081915,0.11591279072576854,0.492648882004197,0.6273141552527676,0.0016866620649932385,0.6742054197405511,0.10073657026990745,0.581348150056912,0.260101271062809,0.7702928919109673,0.16744145136883237,0.492648882004197,0.19635137105712075,0.581348150056912,-0.0007997891906986743,0.03970774905096408,0.9682954643027656,0.33121896532423045,0.22726373255674692,0.16744145136883237,1.216501673697096,0.260101271062809,0.3693213638813154,1.0182898144071468,0.9183740977973206,0.492648882004197,0.33121896532423045,0.01913330802212032,1.0682321882717574,0.7702928919109673,0.9183740977973206,1.0682321882717574,0.9682954643027656,0.9183740977973206,1.2649938152286417,0.5364222952273416,1.1674621295042955,0.11591279072576854,0.260101271062809,0.8686504923085299],[0.10213048133147229,0.04916894098709512,-0.059012364327421074,-0.06730265792941237,-0.06730265792941237,-0.07311848586802816,0.7118940392402533,0.6470995918465201,-0.0482683264785575,-0.019532501997625018,-0.07143983740951321,0.041107642792747145,0.4178437340711756,0.5525090073197462,-0.07311848586802816,0.5994002718075297,0.025931422336886056,0.5065430021238906,0.1852961231297876,0.6954877439779459,0.09263630343581097,0.4178437340711756,0.12154622312409935,0.5065430021238906,-0.07560493712372007,-0.03509739888205732,0.8934903163697442,0.25641381739120905,0.15245858462372552,0.09263630343581097,1.1416965257640745,0.1852961231297876,0.294516215948294,0.9434846664741254,0.8435689498642992,0.4178437340711756,0.25641381739120905,-0.05567183991090108,0.993427040338736,0.6954877439779459,0.8435689498642992,0.993427040338736,0.8934903163697442,0.8435689498642992,1.1901886672956203,0.4616171472943203,1.092656981571274,0.041107642792747145,0.1852961231297876,0.7938453443755085],[-0.3707135770929334,-0.42367511743731057,-0.5318564227518268,-0.5401467163538181,-0.5401467163538181,-0.5459625442924338,0.23904998081584763,0.17425553342211442,-0.5211123849029632,-0.4923765604220307,-0.5442838958339189,-0.43173641563165854,-0.0550003243532301,0.07966494889534048,-0.5459625442924338,0.126556213383124,-0.44691263608751963,0.03369894369948495,-0.2875479352946181,0.22264368555354025,-0.3802077549885947,-0.0550003243532301,-0.35129783530030634,0.03369894369948495,-0.5484489955481258,-0.507941457306463,0.42064625794533855,-0.21643024103319664,-0.32038547380068017,-0.3802077549885947,0.6688524673396689,-0.2875479352946181,-0.17832784247611166,0.4706406080497198,0.3707248914398935,-0.0550003243532301,-0.21643024103319664,-0.5285158983353068,0.5205829819143303,0.22264368555354025,0.3707248914398935,0.5205829819143303,0.42064625794533855,0.3707248914398935,0.7173446088712148,-0.011226911130085393,0.6198129231468683,-0.43173641563165854,-0.2875479352946181,0.3210012859511027],[0.1711054531129078,0.11814391276853065,0.00996260745401445,0.001672313852023155,0.001672313852023155,-0.004143514086592637,0.7808690110216888,0.7160745636279556,0.020706645302878024,0.049442469783810505,-0.0024648656280776837,0.11008261457418267,0.4868187058526111,0.6214839791011817,-0.004143514086592637,0.6683752435889652,0.09490639411832158,0.5755179739053262,0.25427109491122313,0.7644627157593815,0.1616112752172465,0.4868187058526111,0.19052119490553487,0.5755179739053262,-0.0066299653422845495,0.033877572899378205,0.9624652881511797,0.3253887891726446,0.22143355640516105,0.1616112752172465,1.2106714975455102,0.25427109491122313,0.36349118772972955,1.012459638255561,0.9125439216457347,0.4868187058526111,0.3253887891726446,0.013303131870534446,1.0624020121201714,0.7644627157593815,0.9125439216457347,1.0624020121201714,0.9624652881511797,0.9125439216457347,1.259163639077056,0.5305921190757559,1.1616319533527095,0.11008261457418267,0.25427109491122313,0.8628203161569439],[0.020911627468335747,-0.03204991287604142,-0.14023121819055762,-0.1485215117925489,-0.1485215117925489,-0.1543373397311647,0.6306751853771168,0.5658807379833836,-0.12948718034169404,-0.10075135586076156,-0.15265869127264975,-0.040111211070389396,0.33662488020803905,0.47129015345660963,-0.1543373397311647,0.5181814179443931,-0.055287431526250486,0.4253241482607541,0.10407726926665106,0.6142688901148095,0.011417449572674432,0.33662488020803905,0.04032736926096281,0.4253241482607541,-0.15682379098685661,-0.11631625274519386,0.8122714625066076,0.1751949635280725,0.07123973076058898,0.011417449572674432,1.0604776719009381,0.10407726926665106,0.21329736208515748,0.8622658126109889,0.7623500960011627,0.33662488020803905,0.1751949635280725,-0.13689069377403762,0.9122081864755994,0.6142688901148095,0.7623500960011627,0.9122081864755994,0.8122714625066076,0.7623500960011627,1.108969813432484,0.38039829343118375,1.0114381277081375,-0.040111211070389396,0.10407726926665106,0.7126264905123718],[0.14938450595312636,0.09642296560874919,-0.011758339705767007,-0.0200486333077583,-0.0200486333077583,-0.025864461246374093,0.7591480638619074,0.6943536164681742,-0.0010143018569034323,0.02772152262402905,-0.02418581278785914,0.08836166741440121,0.46509775869282965,0.5997630319414002,-0.025864461246374093,0.6466542964291837,0.07318544695854012,0.5537970267455448,0.23255014775144167,0.7427417685996001,0.13989032805746504,0.46509775869282965,0.16880024774575342,0.5537970267455448,-0.028350912502066006,0.01215662573959675,0.9407443409913983,0.3036678420128631,0.1997126092453796,0.13989032805746504,1.1889505503857287,0.23255014775144167,0.3417702405699481,0.9907386910957795,0.8908229744859533,0.46509775869282965,0.3036678420128631,-0.00841781528924701,1.04068106496039,0.7427417685996001,0.8908229744859533,1.04068106496039,0.9407443409913983,0.8908229744859533,1.2374426919172745,0.5088711719159744,1.139911006192928,0.08836166741440121,0.23255014775144167,0.8410993689971624],[0.16883117161073458,0.11586963126635741,0.007688325951841213,-0.0006019676501500815,-0.0006019676501500815,-0.006417795588765873,0.7785947295195156,0.7138002821257824,0.018432363800704787,0.04716818828163727,-0.00473914713025092,0.10780833307200943,0.4845444243504379,0.6192096975990085,-0.006417795588765873,0.6661009620867919,0.09263211261614834,0.573243692403153,0.2519968134090499,0.7621884342572083,0.15933699371507326,0.4845444243504379,0.18824691340336164,0.573243692403153,-0.008904246844457786,0.03160329139720497,0.9601910066490065,0.32311450767047134,0.2191592749029878,0.15933699371507326,1.2083972160433367,0.2519968134090499,0.3612169062275563,1.0101853567533878,0.9102696401435615,0.4845444243504379,0.32311450767047134,0.01102885036836121,1.0601277306179981,0.7621884342572083,0.9102696401435615,1.0601277306179981,0.9601910066490065,0.9102696401435615,1.2568893575748827,0.5283178375735826,1.1593576718505363,0.10780833307200943,0.2519968134090499,0.8605460346547706],[0.17943180723924235,0.12647026689486518,0.018288961580348984,0.00999866797835769,0.00999866797835769,0.0041828400397418974,0.7891953651480234,0.7244009177542902,0.029032999429212558,0.05776882391014504,0.0058614884982568505,0.1184089687005172,0.49514505997894565,0.6298103332275162,0.0041828400397418974,0.6767015977152997,0.10323274824465611,0.5838443280316608,0.26259744903755766,0.772789069885716,0.16993762934358103,0.49514505997894565,0.1988475490318694,0.5838443280316608,0.0016963887840499847,0.04220392702571274,0.9707916422775142,0.3337151432989791,0.22975991053149558,0.16993762934358103,1.2189978516718445,0.26259744903755766,0.3718175418560641,1.0207859923818956,0.9208702757720693,0.49514505997894565,0.3337151432989791,0.02162948599686898,1.070728366246506,0.772789069885716,0.9208702757720693,1.070728366246506,0.9707916422775142,0.9208702757720693,1.2674899932033905,0.5389184732020904,1.169958307479044,0.1184089687005172,0.26259744903755766,0.8711466702832784],[-0.13892059731622652,-0.1918821376606037,-0.3000634429751199,-0.3083537365771112,-0.3083537365771112,-0.314169564515727,0.4708429605925545,0.4060485131988213,-0.2893194051262563,-0.26058358064532383,-0.312490916057212,-0.19994343585495167,0.17679265542347677,0.31145792867204736,-0.314169564515727,0.3583491931598309,-0.21511965631081276,0.2654919234761918,-0.05575495551791121,0.4544366653302471,-0.14841477521188784,0.17679265542347677,-0.11950485552359946,0.2654919234761918,-0.3166560157714189,-0.27614847752975613,0.6524392377220454,0.01536273874351024,-0.08859249402397329,-0.14841477521188784,0.9006454471163757,-0.05575495551791121,0.05346513730059521,0.7024335878264266,0.6025178712166004,0.17679265542347677,0.01536273874351024,-0.2967229185585999,0.7523759616910372,0.4544366653302471,0.6025178712166004,0.7523759616910372,0.6524392377220454,0.6025178712166004,0.9491375886479216,0.22056606864662148,0.8516059029235752,-0.19994343585495167,-0.05575495551791121,0.5527942657278095],[0.16489037264889939,0.11192883230452222,0.0037475269900060226,-0.004542766611985272,-0.004542766611985272,-0.010358594550601063,0.7746539305576804,0.7098594831639472,0.014491564838869597,0.04322738931980208,-0.00867994609208611,0.10386753411017424,0.4806036253886027,0.6152688986371733,-0.010358594550601063,0.6621601631249567,0.08869131365431315,0.5693028934413178,0.2480560144472147,0.7582476352953731,0.15539619475323807,0.4806036253886027,0.18430611444152645,0.5693028934413178,-0.012845045806292976,0.02766249243536978,0.9562502076871713,0.31917370870863615,0.21521847594115262,0.15539619475323807,1.2044564170815018,0.2480560144472147,0.3572761072657211,1.0062445577915526,0.9063288411817263,0.4806036253886027,0.31917370870863615,0.007088051406526019,1.056186931656163,0.7582476352953731,0.9063288411817263,1.056186931656163,0.9562502076871713,0.9063288411817263,1.2529485586130475,0.5243770386117474,1.155416872888701,0.10386753411017424,0.2480560144472147,0.8566052356929355],[0.17901424570194435,0.12605270535756719,0.01787140004305099,0.009581106441059695,0.009581106441059695,0.003765278502443903,0.7887778036107254,0.7239833562169922,0.028615437891914564,0.057351262372847045,0.005443926960958856,0.11799140716321921,0.49472749844164765,0.6293927716902182,0.003765278502443903,0.6762840361780018,0.10281518670735812,0.5834267664943626,0.26217988750025967,0.772371508348418,0.16952006780628304,0.49472749844164765,0.1984299874945714,0.5834267664943626,0.0012788272467519901,0.041786365488414745,0.9703740807402162,0.3332975817616811,0.2293423489941976,0.16952006780628304,1.2185802901345466,0.26217988750025967,0.3713999803187661,1.0203684308445975,0.9204527142347713,0.49472749844164765,0.3332975817616811,0.021211924459570985,1.070310804709208,0.772371508348418,0.9204527142347713,1.070310804709208,0.9703740807402162,0.9204527142347713,1.2670724316660924,0.5385009116647923,1.1695407459417462,0.11799140716321921,0.26217988750025967,0.8707291087459805],[-0.007143852550187013,-0.06010539289456418,-0.16828669820908038,-0.17657699181107167,-0.17657699181107167,-0.18239281974968746,0.602619705358594,0.5378252579648608,-0.1575426603602168,-0.12880683587928432,-0.1807141712911725,-0.06816669108891216,0.3085694001895163,0.44323467343808687,-0.18239281974968746,0.4901259379258704,-0.08334291154477325,0.39726866824223134,0.0760217892481283,0.5862134100962866,-0.01663803044584833,0.3085694001895163,0.012271889242440048,0.39726866824223134,-0.18487927100537938,-0.14437173276371662,0.7842159824880849,0.14713948350954975,0.04318425074206622,-0.01663803044584833,1.0324221918824152,0.0760217892481283,0.18524188206663472,0.8342103325924661,0.7342946159826399,0.3085694001895163,0.14713948350954975,-0.16494617379256038,0.8841527064570767,0.5862134100962866,0.7342946159826399,0.8841527064570767,0.7842159824880849,0.7342946159826399,1.080914333413961,0.352342813412661,0.9833826476896148,-0.06816669108891216,0.0760217892481283,0.6845710104938492],[0.07064800272187466,0.01768646237749749,-0.0904948429370187,-0.09878513653901,-0.09878513653901,-0.10460096447762579,0.6804115606306557,0.6156171132369225,-0.07975080508815513,-0.05101498060722265,-0.10292231601911084,0.009625164183149515,0.38636125546157796,0.5210265287101485,-0.10460096447762579,0.567917793197932,-0.005551056272711574,0.475060523514293,0.15381364452018997,0.6640052653683484,0.06115382482621334,0.38636125546157796,0.09006374451450172,0.475060523514293,-0.1070874157333177,-0.06657987749165495,0.8620078377601466,0.22493133878161142,0.1209761060141279,0.06115382482621334,1.1102140471544768,0.15381364452018997,0.2630337373386964,0.9120021878645278,0.8120864712547016,0.38636125546157796,0.22493133878161142,-0.08715431852049871,0.9619445617291383,0.6640052653683484,0.8120864712547016,0.9619445617291383,0.8620078377601466,0.8120864712547016,1.1587061886860228,0.43013466868472267,1.0611745029616764,0.009625164183149515,0.15381364452018997,0.7623628657659107],[0.15516400048709833,0.10220246014272116,-0.005978845171795033,-0.014269138773786327,-0.014269138773786327,-0.02008496671240212,0.7649275583958793,0.7001331110021461,0.0047651926770685415,0.03350101715800102,-0.018406318253887166,0.09414116194837319,0.47087725322680163,0.6055425264753722,-0.02008496671240212,0.6524337909631557,0.0789649414925121,0.5595765212795167,0.23832964228541365,0.748521263133572,0.14566982259143701,0.47087725322680163,0.1745797422797254,0.5595765212795167,-0.022571417968094032,0.017936120273568723,0.9465238355253702,0.3094473365468351,0.20549210377935156,0.14566982259143701,1.1947300449197007,0.23832964228541365,0.34754973510392007,0.9965181856297515,0.8966024690199252,0.47087725322680163,0.3094473365468351,-0.0026383207552750365,1.046460559494362,0.748521263133572,0.8966024690199252,1.046460559494362,0.9465238355253702,0.8966024690199252,1.2432221864512465,0.5146506664499464,1.1456905007269,0.09414116194837319,0.23832964228541365,0.8468788635311344],[0.17901424570194435,0.12605270535756719,0.01787140004305099,0.009581106441059695,0.009581106441059695,0.003765278502443903,0.7887778036107254,0.7239833562169922,0.028615437891914564,0.057351262372847045,0.005443926960958856,0.11799140716321921,0.49472749844164765,0.6293927716902182,0.003765278502443903,0.6762840361780018,0.10281518670735812,0.5834267664943626,0.26217988750025967,0.772371508348418,0.16952006780628304,0.49472749844164765,0.1984299874945714,0.5834267664943626,0.0012788272467519901,0.041786365488414745,0.9703740807402162,0.3332975817616811,0.2293423489941976,0.16952006780628304,1.2185802901345466,0.26217988750025967,0.3713999803187661,1.0203684308445975,0.9204527142347713,0.49472749844164765,0.3332975817616811,0.021211924459570985,1.070310804709208,0.772371508348418,0.9204527142347713,1.070310804709208,0.9703740807402162,0.9204527142347713,1.2670724316660924,0.5385009116647923,1.1695407459417462,0.11799140716321921,0.26217988750025967,0.8707291087459805],[0.07805134160786842,0.02508980126349125,-0.08309150405102494,-0.09138179765301624,-0.09138179765301624,-0.09719762559163203,0.6878148995166494,0.6230204521229162,-0.07234746620216137,-0.04361164172122889,-0.09551897713311708,0.017028503069143275,0.3937645943475717,0.5284298675961423,-0.09719762559163203,0.5753211320839258,0.0018522826132821857,0.48246386240028677,0.16121698340618373,0.6714086042543421,0.0685571637122071,0.3937645943475717,0.09746708340049548,0.48246386240028677,-0.09968407684732394,-0.05917653860566119,0.8694111766461403,0.23233467766760518,0.12837944490012165,0.0685571637122071,1.1176173860404708,0.16121698340618373,0.27043707622469015,0.9194055267505216,0.8194898101406953,0.3937645943475717,0.23233467766760518,-0.07975097963450495,0.9693479006151321,0.6714086042543421,0.8194898101406953,0.9693479006151321,0.8694111766461403,0.8194898101406953,1.1661095275720166,0.4375380075707164,1.0685778418476701,0.017028503069143275,0.16121698340618373,0.7697662046519045],[-0.06927895219926816,-0.12224049254364533,-0.23042179785816153,-0.23871209146015282,-0.23871209146015282,-0.2445279193987686,0.5404846057095128,0.47569015831577965,-0.21967776000929795,-0.19094193552836547,-0.24284927094025366,-0.1303017907379933,0.24643430054043514,0.3810995737890057,-0.2445279193987686,0.42799083827678924,-0.1454780111938544,0.3351335685931502,0.013886689599047153,0.5240783104472055,-0.07877313009492948,0.24643430054043514,-0.0498632104066411,0.3351335685931502,-0.24701437065446052,-0.20650683241279777,0.7220808828390037,0.0850043838604686,-0.018950848907014928,-0.07877313009492948,0.9702870922333341,0.013886689599047153,0.12310678241755357,0.772075232943385,0.6721595163335587,0.24643430054043514,0.0850043838604686,-0.22708127344164153,0.8220176068079955,0.5240783104472055,0.6721595163335587,0.8220176068079955,0.7220808828390037,0.6721595163335587,1.01877923376488,0.29020771376357984,0.9212475480405335,-0.1303017907379933,0.013886689599047153,0.6224359108447679],[0.07064800272187466,0.01768646237749749,-0.0904948429370187,-0.09878513653901,-0.09878513653901,-0.10460096447762579,0.6804115606306557,0.6156171132369225,-0.07975080508815513,-0.05101498060722265,-0.10292231601911084,0.009625164183149515,0.38636125546157796,0.5210265287101485,-0.10460096447762579,0.567917793197932,-0.005551056272711574,0.475060523514293,0.15381364452018997,0.6640052653683484,0.06115382482621334,0.38636125546157796,0.09006374451450172,0.475060523514293,-0.1070874157333177,-0.06657987749165495,0.8620078377601466,0.22493133878161142,0.1209761060141279,0.06115382482621334,1.1102140471544768,0.15381364452018997,0.2630337373386964,0.9120021878645278,0.8120864712547016,0.38636125546157796,0.22493133878161142,-0.08715431852049871,0.9619445617291383,0.6640052653683484,0.8120864712547016,0.9619445617291383,0.8620078377601466,0.8120864712547016,1.1587061886860228,0.43013466868472267,1.0611745029616764,0.009625164183149515,0.15381364452018997,0.7623628657659107],[0.00714253082769678,-0.04581900951668039,-0.15400031483119658,-0.16229060843318788,-0.16229060843318788,-0.16810643637180367,0.6169060887364778,0.5521116413427446,-0.143256276982333,-0.11452045250140053,-0.16642778791328872,-0.053880307711028363,0.3228557835674001,0.45752105681597066,-0.16810643637180367,0.5044123213037541,-0.06905652816688945,0.41155505162011513,0.0903081726260121,0.6004997934741705,-0.002351647067964535,0.3228557835674001,0.02655827262032384,0.41155505162011513,-0.17059288762749558,-0.13008534938583283,0.7985023658659687,0.16142586688743354,0.057470634119950015,-0.002351647067964535,1.0467085752602991,0.0903081726260121,0.19952826544451852,0.8484967159703499,0.7485809993605237,0.3228557835674001,0.16142586688743354,-0.1506597904146766,0.8984390898349605,0.6004997934741705,0.7485809993605237,0.8984390898349605,0.7985023658659687,0.7485809993605237,1.095200716791845,0.3666291967905448,0.9976690310674985,-0.053880307711028363,0.0903081726260121,0.6988573938717328],[-0.10320326644003797,-0.15616480678441513,-0.26434611209893133,-0.2726364057009226,-0.2726364057009226,-0.2784522336395384,0.506560291468743,0.44176584407500985,-0.25360207425006775,-0.22486624976913527,-0.27677358518102346,-0.1642261049787631,0.21250998629966533,0.3471752595482359,-0.2784522336395384,0.39406652403601944,-0.1794023254346242,0.3012092543523804,-0.02003762464172265,0.4901539962064357,-0.11269744433569928,0.21250998629966533,-0.0837875246474109,0.3012092543523804,-0.28093868489523033,-0.24043114665356757,0.6881565685982339,0.0510800696196988,-0.05287516314778473,-0.11269744433569928,0.9363627779925643,-0.02003762464172265,0.08918246817678377,0.7381509187026152,0.638235202092789,0.21250998629966533,0.0510800696196988,-0.26100558768241133,0.7880932925672257,0.4901539962064357,0.638235202092789,0.7880932925672257,0.6881565685982339,0.638235202092789,0.9848549195241101,0.25628339952281004,0.8873232337997639,-0.1642261049787631,-0.02003762464172265,0.5885115966039982],[0.03415483213453252,-0.018806708209844647,-0.12698801352436084,-0.13527830712635214,-0.13527830712635214,-0.14109413506496793,0.6439183900433135,0.5791239426495803,-0.11624397567549727,-0.08750815119456479,-0.13941548660645298,-0.026868006404192624,0.3498680848742358,0.4845333581228064,-0.14109413506496793,0.5314246226105899,-0.04204422686005371,0.43856735292695087,0.11732047393284784,0.6275120947810062,0.024660654238871205,0.3498680848742358,0.05357057392715958,0.43856735292695087,-0.14358058632065984,-0.10307304807899709,0.8255146671728044,0.18843816819426928,0.08448293542678575,0.024660654238871205,1.0737208765671347,0.11732047393284784,0.22654056675135426,0.8755090172771857,0.7755933006673594,0.3498680848742358,0.18843816819426928,-0.12364748910784085,0.9254513911417962,0.6275120947810062,0.7755933006673594,0.9254513911417962,0.8255146671728044,0.7755933006673594,1.1222130180986807,0.3936414980973805,1.0246813323743342,-0.026868006404192624,0.11732047393284784,0.7258696951785686],[0.0468638682544561,-0.006097672089921069,-0.11427897740443727,-0.12256927100642856,-0.12256927100642856,-0.12838509894504435,0.6566274261632371,0.5918329787695039,-0.10353493955557369,-0.07479911507464121,-0.1267064504865294,-0.014158970284269046,0.3625771209941594,0.49724239424273,-0.12838509894504435,0.5441336587305134,-0.029335190740130135,0.45127638904687445,0.1300295100527714,0.6402211309009298,0.03736969035879478,0.3625771209941594,0.06627961004708316,0.45127638904687445,-0.13087155020073626,-0.09036401195907351,0.838223703292728,0.20114720431419286,0.09719197154670933,0.03736969035879478,1.0864299126870582,0.1300295100527714,0.23924960287127783,0.8882180533971092,0.788302336787283,0.3625771209941594,0.20114720431419286,-0.11093845298791727,0.9381604272617198,0.6402211309009298,0.788302336787283,0.9381604272617198,0.838223703292728,0.788302336787283,1.1349220542186043,0.4063505342173041,1.0373903684942578,-0.014158970284269046,0.1300295100527714,0.7385787312984922],[-0.17634167010186974,-0.2293032104462469,-0.3374845157607631,-0.3457748093627544,-0.3457748093627544,-0.3515906373013702,0.43342188780691127,0.3686274404131781,-0.32674047791189953,-0.29800465343096705,-0.34991198884285524,-0.23736450864059488,0.13937158263783356,0.27403685588640414,-0.3515906373013702,0.32092812037418766,-0.252540729096456,0.2280708506905486,-0.09317602830355443,0.4170155925446039,-0.18583584799753106,0.13937158263783356,-0.15692592830924268,0.2280708506905486,-0.3540770885570621,-0.31356955031539935,0.6150181649364022,-0.022058334042132977,-0.1260135668096165,-0.18583584799753106,0.8632243743307325,-0.09317602830355443,0.016044064514951994,0.6650125150407834,0.5650967984309572,0.13937158263783356,-0.022058334042132977,-0.3341439913442431,0.7149548889053939,0.4170155925446039,0.5650967984309572,0.7149548889053939,0.6150181649364022,0.5650967984309572,0.9117165158622784,0.18314499586097827,0.814184830137932,-0.23736450864059488,-0.09317602830355443,0.5153731929421663],[0.16757479716434687,0.1146132568199697,0.006431951505453504,-0.0018583420965377906,-0.0018583420965377906,-0.007674170035153582,0.7773383550731279,0.7125439076793947,0.01717598935431708,0.04591181383524956,-0.005995521576638629,0.10655195862562172,0.48328804990405017,0.6179533231526207,-0.007674170035153582,0.6648445876404043,0.09137573816976063,0.5719873179567652,0.2507404389626622,0.7609320598108205,0.15808061926868555,0.48328804990405017,0.18699053895697393,0.5719873179567652,-0.010160621290845495,0.03034691695081726,0.9589346322026188,0.32185813322408363,0.2179029004566001,0.15808061926868555,1.2071408415969491,0.2507404389626622,0.3599605317811686,1.008928982307,0.9090132656971738,0.48328804990405017,0.32185813322408363,0.0097724759219735,1.0588713561716105,0.7609320598108205,0.9090132656971738,1.0588713561716105,0.9589346322026188,0.9090132656971738,1.255632983128495,0.5270614631271948,1.1581012974041487,0.10655195862562172,0.2507404389626622,0.859289660208383],[-0.06927895219926816,-0.12224049254364533,-0.23042179785816153,-0.23871209146015282,-0.23871209146015282,-0.2445279193987686,0.5404846057095128,0.47569015831577965,-0.21967776000929795,-0.19094193552836547,-0.24284927094025366,-0.1303017907379933,0.24643430054043514,0.3810995737890057,-0.2445279193987686,0.42799083827678924,-0.1454780111938544,0.3351335685931502,0.013886689599047153,0.5240783104472055,-0.07877313009492948,0.24643430054043514,-0.0498632104066411,0.3351335685931502,-0.24701437065446052,-0.20650683241279777,0.7220808828390037,0.0850043838604686,-0.018950848907014928,-0.07877313009492948,0.9702870922333341,0.013886689599047153,0.12310678241755357,0.772075232943385,0.6721595163335587,0.24643430054043514,0.0850043838604686,-0.22708127344164153,0.8220176068079955,0.5240783104472055,0.6721595163335587,0.8220176068079955,0.7220808828390037,0.6721595163335587,1.01877923376488,0.29020771376357984,0.9212475480405335,-0.1303017907379933,0.013886689599047153,0.6224359108447679],[0.17215363369802772,0.11919209335365055,0.011010788039134356,0.0027204944371430617,0.0027204944371430617,-0.00309533350147273,0.7819171916068087,0.7171227442130755,0.02175482588799793,0.05049065036893041,-0.001416685042957777,0.11113079515930258,0.487866886437731,0.6225321596863016,-0.00309533350147273,0.6694234241740851,0.09595457470344149,0.5765661544904461,0.25531927549634303,0.7655108963445014,0.1626594558023664,0.487866886437731,0.19156937549065478,0.5765661544904461,-0.005581784757164643,0.03492575348449811,0.9635134687362996,0.3264369697577645,0.22248173699028095,0.1626594558023664,1.2117196781306299,0.25531927549634303,0.36453936831484945,1.013507818840681,0.9135921022308546,0.487866886437731,0.3264369697577645,0.014351312455654353,1.0634501927052913,0.7655108963445014,0.9135921022308546,1.0634501927052913,0.9635134687362996,0.9135921022308546,1.2602118196621759,0.5316402996608758,1.1626801339378294,0.11113079515930258,0.25531927549634303,0.8638684967420638],[0.17839217415209807,0.1254306338077209,0.017249328493204708,0.008959034891213413,0.008959034891213413,0.0031432069525976214,0.7881557320608791,0.7233612846671459,0.027993366342068282,0.056729190823000764,0.004821855411112574,0.11736933561337293,0.49410542689180137,0.628770700140372,0.0031432069525976214,0.6756619646281554,0.10219311515751184,0.5828046949445165,0.2615578159504134,0.7717494367985718,0.16889799625643676,0.49410542689180137,0.19780791594472513,0.5828046949445165,0.0006567556969057087,0.041164293938568464,0.96975200919037,0.33267551021183484,0.2287202774443513,0.16889799625643676,1.2179582185847004,0.2615578159504134,0.3707779087689198,1.0197463592947513,0.919830642684925,0.49410542689180137,0.33267551021183484,0.020589852909724704,1.0696887331593616,0.7717494367985718,0.919830642684925,1.0696887331593616,0.96975200919037,0.919830642684925,1.2664503601162462,0.5378788401149461,1.1689186743918998,0.11736933561337293,0.2615578159504134,0.8701070371961341],[0.020911627468335747,-0.03204991287604142,-0.14023121819055762,-0.1485215117925489,-0.1485215117925489,-0.1543373397311647,0.6306751853771168,0.5658807379833836,-0.12948718034169404,-0.10075135586076156,-0.15265869127264975,-0.040111211070389396,0.33662488020803905,0.47129015345660963,-0.1543373397311647,0.5181814179443931,-0.055287431526250486,0.4253241482607541,0.10407726926665106,0.6142688901148095,0.011417449572674432,0.33662488020803905,0.04032736926096281,0.4253241482607541,-0.15682379098685661,-0.11631625274519386,0.8122714625066076,0.1751949635280725,0.07123973076058898,0.011417449572674432,1.0604776719009381,0.10407726926665106,0.21329736208515748,0.8622658126109889,0.7623500960011627,0.33662488020803905,0.1751949635280725,-0.13689069377403762,0.9122081864755994,0.6142688901148095,0.7623500960011627,0.9122081864755994,0.8122714625066076,0.7623500960011627,1.108969813432484,0.38039829343118375,1.0114381277081375,-0.040111211070389396,0.10407726926665106,0.7126264905123718]],\"type\":\"contour\"}],                        {\"template\":{\"data\":{\"bar\":[{\"error_x\":{\"color\":\"#2a3f5f\"},\"error_y\":{\"color\":\"#2a3f5f\"},\"marker\":{\"line\":{\"color\":\"#E5ECF6\",\"width\":0.5},\"pattern\":{\"fillmode\":\"overlay\",\"size\":10,\"solidity\":0.2}},\"type\":\"bar\"}],\"barpolar\":[{\"marker\":{\"line\":{\"color\":\"#E5ECF6\",\"width\":0.5},\"pattern\":{\"fillmode\":\"overlay\",\"size\":10,\"solidity\":0.2}},\"type\":\"barpolar\"}],\"carpet\":[{\"aaxis\":{\"endlinecolor\":\"#2a3f5f\",\"gridcolor\":\"white\",\"linecolor\":\"white\",\"minorgridcolor\":\"white\",\"startlinecolor\":\"#2a3f5f\"},\"baxis\":{\"endlinecolor\":\"#2a3f5f\",\"gridcolor\":\"white\",\"linecolor\":\"white\",\"minorgridcolor\":\"white\",\"startlinecolor\":\"#2a3f5f\"},\"type\":\"carpet\"}],\"choropleth\":[{\"colorbar\":{\"outlinewidth\":0,\"ticks\":\"\"},\"type\":\"choropleth\"}],\"contour\":[{\"colorbar\":{\"outlinewidth\":0,\"ticks\":\"\"},\"colorscale\":[[0.0,\"#0d0887\"],[0.1111111111111111,\"#46039f\"],[0.2222222222222222,\"#7201a8\"],[0.3333333333333333,\"#9c179e\"],[0.4444444444444444,\"#bd3786\"],[0.5555555555555556,\"#d8576b\"],[0.6666666666666666,\"#ed7953\"],[0.7777777777777778,\"#fb9f3a\"],[0.8888888888888888,\"#fdca26\"],[1.0,\"#f0f921\"]],\"type\":\"contour\"}],\"contourcarpet\":[{\"colorbar\":{\"outlinewidth\":0,\"ticks\":\"\"},\"type\":\"contourcarpet\"}],\"heatmap\":[{\"colorbar\":{\"outlinewidth\":0,\"ticks\":\"\"},\"colorscale\":[[0.0,\"#0d0887\"],[0.1111111111111111,\"#46039f\"],[0.2222222222222222,\"#7201a8\"],[0.3333333333333333,\"#9c179e\"],[0.4444444444444444,\"#bd3786\"],[0.5555555555555556,\"#d8576b\"],[0.6666666666666666,\"#ed7953\"],[0.7777777777777778,\"#fb9f3a\"],[0.8888888888888888,\"#fdca26\"],[1.0,\"#f0f921\"]],\"type\":\"heatmap\"}],\"heatmapgl\":[{\"colorbar\":{\"outlinewidth\":0,\"ticks\":\"\"},\"colorscale\":[[0.0,\"#0d0887\"],[0.1111111111111111,\"#46039f\"],[0.2222222222222222,\"#7201a8\"],[0.3333333333333333,\"#9c179e\"],[0.4444444444444444,\"#bd3786\"],[0.5555555555555556,\"#d8576b\"],[0.6666666666666666,\"#ed7953\"],[0.7777777777777778,\"#fb9f3a\"],[0.8888888888888888,\"#fdca26\"],[1.0,\"#f0f921\"]],\"type\":\"heatmapgl\"}],\"histogram\":[{\"marker\":{\"pattern\":{\"fillmode\":\"overlay\",\"size\":10,\"solidity\":0.2}},\"type\":\"histogram\"}],\"histogram2d\":[{\"colorbar\":{\"outlinewidth\":0,\"ticks\":\"\"},\"colorscale\":[[0.0,\"#0d0887\"],[0.1111111111111111,\"#46039f\"],[0.2222222222222222,\"#7201a8\"],[0.3333333333333333,\"#9c179e\"],[0.4444444444444444,\"#bd3786\"],[0.5555555555555556,\"#d8576b\"],[0.6666666666666666,\"#ed7953\"],[0.7777777777777778,\"#fb9f3a\"],[0.8888888888888888,\"#fdca26\"],[1.0,\"#f0f921\"]],\"type\":\"histogram2d\"}],\"histogram2dcontour\":[{\"colorbar\":{\"outlinewidth\":0,\"ticks\":\"\"},\"colorscale\":[[0.0,\"#0d0887\"],[0.1111111111111111,\"#46039f\"],[0.2222222222222222,\"#7201a8\"],[0.3333333333333333,\"#9c179e\"],[0.4444444444444444,\"#bd3786\"],[0.5555555555555556,\"#d8576b\"],[0.6666666666666666,\"#ed7953\"],[0.7777777777777778,\"#fb9f3a\"],[0.8888888888888888,\"#fdca26\"],[1.0,\"#f0f921\"]],\"type\":\"histogram2dcontour\"}],\"mesh3d\":[{\"colorbar\":{\"outlinewidth\":0,\"ticks\":\"\"},\"type\":\"mesh3d\"}],\"parcoords\":[{\"line\":{\"colorbar\":{\"outlinewidth\":0,\"ticks\":\"\"}},\"type\":\"parcoords\"}],\"pie\":[{\"automargin\":true,\"type\":\"pie\"}],\"scatter\":[{\"marker\":{\"colorbar\":{\"outlinewidth\":0,\"ticks\":\"\"}},\"type\":\"scatter\"}],\"scatter3d\":[{\"line\":{\"colorbar\":{\"outlinewidth\":0,\"ticks\":\"\"}},\"marker\":{\"colorbar\":{\"outlinewidth\":0,\"ticks\":\"\"}},\"type\":\"scatter3d\"}],\"scattercarpet\":[{\"marker\":{\"colorbar\":{\"outlinewidth\":0,\"ticks\":\"\"}},\"type\":\"scattercarpet\"}],\"scattergeo\":[{\"marker\":{\"colorbar\":{\"outlinewidth\":0,\"ticks\":\"\"}},\"type\":\"scattergeo\"}],\"scattergl\":[{\"marker\":{\"colorbar\":{\"outlinewidth\":0,\"ticks\":\"\"}},\"type\":\"scattergl\"}],\"scattermapbox\":[{\"marker\":{\"colorbar\":{\"outlinewidth\":0,\"ticks\":\"\"}},\"type\":\"scattermapbox\"}],\"scatterpolar\":[{\"marker\":{\"colorbar\":{\"outlinewidth\":0,\"ticks\":\"\"}},\"type\":\"scatterpolar\"}],\"scatterpolargl\":[{\"marker\":{\"colorbar\":{\"outlinewidth\":0,\"ticks\":\"\"}},\"type\":\"scatterpolargl\"}],\"scatterternary\":[{\"marker\":{\"colorbar\":{\"outlinewidth\":0,\"ticks\":\"\"}},\"type\":\"scatterternary\"}],\"surface\":[{\"colorbar\":{\"outlinewidth\":0,\"ticks\":\"\"},\"colorscale\":[[0.0,\"#0d0887\"],[0.1111111111111111,\"#46039f\"],[0.2222222222222222,\"#7201a8\"],[0.3333333333333333,\"#9c179e\"],[0.4444444444444444,\"#bd3786\"],[0.5555555555555556,\"#d8576b\"],[0.6666666666666666,\"#ed7953\"],[0.7777777777777778,\"#fb9f3a\"],[0.8888888888888888,\"#fdca26\"],[1.0,\"#f0f921\"]],\"type\":\"surface\"}],\"table\":[{\"cells\":{\"fill\":{\"color\":\"#EBF0F8\"},\"line\":{\"color\":\"white\"}},\"header\":{\"fill\":{\"color\":\"#C8D4E3\"},\"line\":{\"color\":\"white\"}},\"type\":\"table\"}]},\"layout\":{\"annotationdefaults\":{\"arrowcolor\":\"#2a3f5f\",\"arrowhead\":0,\"arrowwidth\":1},\"autotypenumbers\":\"strict\",\"coloraxis\":{\"colorbar\":{\"outlinewidth\":0,\"ticks\":\"\"}},\"colorscale\":{\"diverging\":[[0,\"#8e0152\"],[0.1,\"#c51b7d\"],[0.2,\"#de77ae\"],[0.3,\"#f1b6da\"],[0.4,\"#fde0ef\"],[0.5,\"#f7f7f7\"],[0.6,\"#e6f5d0\"],[0.7,\"#b8e186\"],[0.8,\"#7fbc41\"],[0.9,\"#4d9221\"],[1,\"#276419\"]],\"sequential\":[[0.0,\"#0d0887\"],[0.1111111111111111,\"#46039f\"],[0.2222222222222222,\"#7201a8\"],[0.3333333333333333,\"#9c179e\"],[0.4444444444444444,\"#bd3786\"],[0.5555555555555556,\"#d8576b\"],[0.6666666666666666,\"#ed7953\"],[0.7777777777777778,\"#fb9f3a\"],[0.8888888888888888,\"#fdca26\"],[1.0,\"#f0f921\"]],\"sequentialminus\":[[0.0,\"#0d0887\"],[0.1111111111111111,\"#46039f\"],[0.2222222222222222,\"#7201a8\"],[0.3333333333333333,\"#9c179e\"],[0.4444444444444444,\"#bd3786\"],[0.5555555555555556,\"#d8576b\"],[0.6666666666666666,\"#ed7953\"],[0.7777777777777778,\"#fb9f3a\"],[0.8888888888888888,\"#fdca26\"],[1.0,\"#f0f921\"]]},\"colorway\":[\"#636efa\",\"#EF553B\",\"#00cc96\",\"#ab63fa\",\"#FFA15A\",\"#19d3f3\",\"#FF6692\",\"#B6E880\",\"#FF97FF\",\"#FECB52\"],\"font\":{\"color\":\"#2a3f5f\"},\"geo\":{\"bgcolor\":\"white\",\"lakecolor\":\"white\",\"landcolor\":\"#E5ECF6\",\"showlakes\":true,\"showland\":true,\"subunitcolor\":\"white\"},\"hoverlabel\":{\"align\":\"left\"},\"hovermode\":\"closest\",\"mapbox\":{\"style\":\"light\"},\"paper_bgcolor\":\"white\",\"plot_bgcolor\":\"#E5ECF6\",\"polar\":{\"angularaxis\":{\"gridcolor\":\"white\",\"linecolor\":\"white\",\"ticks\":\"\"},\"bgcolor\":\"#E5ECF6\",\"radialaxis\":{\"gridcolor\":\"white\",\"linecolor\":\"white\",\"ticks\":\"\"}},\"scene\":{\"xaxis\":{\"backgroundcolor\":\"#E5ECF6\",\"gridcolor\":\"white\",\"gridwidth\":2,\"linecolor\":\"white\",\"showbackground\":true,\"ticks\":\"\",\"zerolinecolor\":\"white\"},\"yaxis\":{\"backgroundcolor\":\"#E5ECF6\",\"gridcolor\":\"white\",\"gridwidth\":2,\"linecolor\":\"white\",\"showbackground\":true,\"ticks\":\"\",\"zerolinecolor\":\"white\"},\"zaxis\":{\"backgroundcolor\":\"#E5ECF6\",\"gridcolor\":\"white\",\"gridwidth\":2,\"linecolor\":\"white\",\"showbackground\":true,\"ticks\":\"\",\"zerolinecolor\":\"white\"}},\"shapedefaults\":{\"line\":{\"color\":\"#2a3f5f\"}},\"ternary\":{\"aaxis\":{\"gridcolor\":\"white\",\"linecolor\":\"white\",\"ticks\":\"\"},\"baxis\":{\"gridcolor\":\"white\",\"linecolor\":\"white\",\"ticks\":\"\"},\"bgcolor\":\"#E5ECF6\",\"caxis\":{\"gridcolor\":\"white\",\"linecolor\":\"white\",\"ticks\":\"\"}},\"title\":{\"x\":0.05},\"xaxis\":{\"automargin\":true,\"gridcolor\":\"white\",\"linecolor\":\"white\",\"ticks\":\"\",\"title\":{\"standoff\":15},\"zerolinecolor\":\"white\",\"zerolinewidth\":2},\"yaxis\":{\"automargin\":true,\"gridcolor\":\"white\",\"linecolor\":\"white\",\"ticks\":\"\",\"title\":{\"standoff\":15},\"zerolinecolor\":\"white\",\"zerolinewidth\":2}}},\"title\":{\"text\":\"Python Contour Plot\"}},                        {\"responsive\": true}                    ).then(function(){\n",
       "                            \n",
       "var gd = document.getElementById('c07e738d-3424-4cbe-b29c-c6eba4bb2c5c');\n",
       "var x = new MutationObserver(function (mutations, observer) {{\n",
       "        var display = window.getComputedStyle(gd).display;\n",
       "        if (!display || display === 'none') {{\n",
       "            console.log([gd, 'removed!']);\n",
       "            Plotly.purge(gd);\n",
       "            observer.disconnect();\n",
       "        }}\n",
       "}});\n",
       "\n",
       "// Listen for the removal of the full notebook cells\n",
       "var notebookContainer = gd.closest('#notebook-container');\n",
       "if (notebookContainer) {{\n",
       "    x.observe(notebookContainer, {childList: true});\n",
       "}}\n",
       "\n",
       "// Listen for the clearing of the current output cell\n",
       "var outputEl = gd.closest('.output');\n",
       "if (outputEl) {{\n",
       "    x.observe(outputEl, {childList: true});\n",
       "}}\n",
       "\n",
       "                        })                };                });            </script>        </div>"
      ]
     },
     "metadata": {},
     "output_type": "display_data"
    }
   ],
   "source": [
    "#import plotly.graph_objects as go\n",
    "\n",
    "fig = go.Figure(data= go.Contour(\n",
    "    z = z,\n",
    "        # heatmap gradient coloring is applied between each contour level\n",
    "        contours_coloring = 'heatmap' # can also be 'lines', or 'none\n",
    "    )\n",
    ")\n",
    "\n",
    "fig.update_layout(\n",
    "    title=\"Python Contour Plot\"\n",
    ")\n",
    "\n",
    "fig.show()"
   ]
  },
  {
   "cell_type": "code",
   "execution_count": null,
   "metadata": {},
   "outputs": [],
   "source": []
  }
 ],
 "metadata": {
  "kernelspec": {
   "display_name": "Python 3",
   "language": "python",
   "name": "python3"
  },
  "language_info": {
   "codemirror_mode": {
    "name": "ipython",
    "version": 3
   },
   "file_extension": ".py",
   "mimetype": "text/x-python",
   "name": "python",
   "nbconvert_exporter": "python",
   "pygments_lexer": "ipython3",
   "version": "3.8.5"
  }
 },
 "nbformat": 4,
 "nbformat_minor": 4
}
